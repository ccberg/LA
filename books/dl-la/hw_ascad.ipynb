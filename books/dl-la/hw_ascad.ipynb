{
 "cells": [
  {
   "cell_type": "code",
   "execution_count": 16,
   "metadata": {
    "collapsed": true
   },
   "outputs": [],
   "source": [
    "import matplotlib.pyplot as plt\n",
    "import numpy as np\n",
    "import pandas as pd\n",
    "import seaborn as sns\n",
    "from scipy import stats\n",
    "from tensorflow.keras.layers import *\n",
    "from tensorflow.keras.models import *\n",
    "from tensorflow.python.keras.optimizer_v2.adam import Adam\n",
    "from tensorflow.python.keras.utils.np_utils import to_categorical\n",
    "from tqdm.keras import TqdmCallback\n",
    "\n",
    "from src.data.traceloader import AscadRandomKey\n",
    "\n",
    "sns.set_style('whitegrid')"
   ]
  },
  {
   "cell_type": "code",
   "execution_count": 17,
   "outputs": [],
   "source": [
    "# 9 classes for a HW of [0..8]\n",
    "NUM_CLASSES = 9"
   ],
   "metadata": {
    "collapsed": false,
    "pycharm": {
     "name": "#%%\n"
    }
   }
  },
  {
   "cell_type": "code",
   "execution_count": 18,
   "metadata": {
    "pycharm": {
     "name": "#%%\n"
    }
   },
   "outputs": [],
   "source": [
    "ascad = AscadRandomKey()\n",
    "profile = ascad.default.profile.traces, ascad.default.profile.hw_labels()\n",
    "attack = ascad.default.attack.traces, ascad.default.attack.hw_labels()"
   ]
  },
  {
   "cell_type": "code",
   "execution_count": 19,
   "outputs": [
    {
     "data": {
      "text/plain": "394"
     },
     "execution_count": 19,
     "metadata": {},
     "output_type": "execute_result"
    }
   ],
   "source": [
    "sum(profile[1][:100])"
   ],
   "metadata": {
    "collapsed": false,
    "pycharm": {
     "name": "#%%\n"
    }
   }
  },
  {
   "cell_type": "markdown",
   "source": [
    "### Normalize traces"
   ],
   "metadata": {
    "collapsed": false,
    "pycharm": {
     "name": "#%% md\n"
    }
   }
  },
  {
   "cell_type": "code",
   "execution_count": 20,
   "outputs": [],
   "source": [
    "prof_mean, prof_std = profile[0].mean(axis=0), profile[0].std(axis=0)\n",
    "x_prof = (profile[0] - prof_mean) / prof_std\n",
    "x_att = (attack[0] - prof_mean) / prof_std"
   ],
   "metadata": {
    "collapsed": false,
    "pycharm": {
     "name": "#%%\n"
    }
   }
  },
  {
   "cell_type": "markdown",
   "source": [
    "### Encode labels\n",
    "\n",
    "One-hot encode the hamming weight labels."
   ],
   "metadata": {
    "collapsed": false,
    "pycharm": {
     "name": "#%% md\n"
    }
   }
  },
  {
   "cell_type": "code",
   "execution_count": 21,
   "outputs": [],
   "source": [
    "y_prof = to_categorical(profile[1], num_classes=NUM_CLASSES)\n",
    "y_att = to_categorical(attack[1], num_classes=NUM_CLASSES)"
   ],
   "metadata": {
    "collapsed": false,
    "pycharm": {
     "name": "#%%\n"
    }
   }
  },
  {
   "cell_type": "markdown",
   "source": [
    "### Model creation\n",
    "\n",
    "With model hyperparameters to be optimized."
   ],
   "metadata": {
    "collapsed": false,
    "pycharm": {
     "name": "#%% md\n"
    }
   }
  },
  {
   "cell_type": "code",
   "execution_count": 22,
   "outputs": [],
   "source": [
    "model_parameters = {\n",
    "    'activation': ['relu'],\n",
    "    'optimizer': [Adam(lr=0.001)],\n",
    "    'losses': ['categorical_crossentropy'],\n",
    "    'batch_size': list(np.linspace(100, 300, 5).astype(int)),\n",
    "    'epochs': list(np.linspace(5, 20, 4).astype(int))\n",
    "}\n",
    "\n",
    "def make_mlp(x, y, x_attack, y_attack, params, verbose=False):\n",
    "    mdl = Sequential()\n",
    "    mdl.add(Dense(100, activation=params['activation'], input_shape=(1400,)))\n",
    "    mdl.add(Dense(100, activation=params['activation']))\n",
    "    mdl.add(Dense(100, activation=params['activation']))\n",
    "    mdl.add(Dense(100, activation=params['activation']))\n",
    "    mdl.add(Dense(NUM_CLASSES, activation='softmax'))\n",
    "\n",
    "    mdl.compile(optimizer=params['optimizer'], loss=params['losses'], metrics=['accuracy'])\n",
    "\n",
    "    out = mdl.fit(x, y, shuffle=True, validation_data=(x_attack, y_attack), batch_size=params['batch_size'],\n",
    "                  epochs=params['epochs'], verbose=False, callbacks=[TqdmCallback(verbose=0)])\n",
    "\n",
    "    return out, mdl"
   ],
   "metadata": {
    "collapsed": false,
    "pycharm": {
     "name": "#%%\n"
    }
   }
  },
  {
   "cell_type": "markdown",
   "source": [
    "### Brute-force Hyper parameter optimization\n",
    "\n",
    "Talos brute-force scan for optimal hyperparameters"
   ],
   "metadata": {
    "collapsed": false,
    "pycharm": {
     "name": "#%% md\n"
    }
   }
  },
  {
   "cell_type": "code",
   "execution_count": 23,
   "outputs": [],
   "source": [
    "# import talos\n",
    "#\n",
    "# scan_obj = talos.Scan(x=x_prof,    y=y_prof,    x_val=x_att,    y_val=y_att,    model=make_mlp,    params=model_parameters,    experiment_name=\"talos\", print_params=True)"
   ],
   "metadata": {
    "collapsed": false,
    "pycharm": {
     "name": "#%%\n"
    }
   }
  },
  {
   "cell_type": "markdown",
   "metadata": {
    "pycharm": {
     "name": "#%% md\n"
    }
   },
   "source": [
    "### Fit model based on the optimal model found by Talos."
   ]
  },
  {
   "cell_type": "code",
   "execution_count": 24,
   "outputs": [
    {
     "data": {
      "text/plain": "HBox(children=(HTML(value=''), FloatProgress(value=1.0, bar_style='info', layout=Layout(width='20px'), max=1.0…",
      "application/vnd.jupyter.widget-view+json": {
       "version_major": 2,
       "version_minor": 0,
       "model_id": "a5b1dd76538b4bd588416084f5f17e18"
      }
     },
     "metadata": {},
     "output_type": "display_data"
    },
    {
     "name": "stdout",
     "output_type": "stream",
     "text": [
      "\n"
     ]
    }
   ],
   "source": [
    "best_model = make_mlp(x_prof, y_prof, x_att, y_att, {\n",
    "    'activation':'relu',\n",
    "    'optimizer': Adam(lr=0.001),\n",
    "    'losses': 'categorical_crossentropy',\n",
    "    'batch_size': 150,\n",
    "    'epochs': 5\n",
    "}, True)[1]"
   ],
   "metadata": {
    "collapsed": false,
    "pycharm": {
     "name": "#%%\n"
    }
   }
  },
  {
   "cell_type": "markdown",
   "metadata": {
    "pycharm": {
     "name": "#%% md\n"
    }
   },
   "source": [
    "### HW Prediction\n",
    "\n",
    "Predict the hamming weight by taking the weighted mean for the predicted probabilities for each class."
   ]
  },
  {
   "cell_type": "markdown",
   "source": [
    "#### Example: Some prediction\n",
    "\n",
    "Probabilities for each class:"
   ],
   "metadata": {
    "collapsed": false,
    "pycharm": {
     "name": "#%% md\n"
    }
   }
  },
  {
   "cell_type": "code",
   "source": [
    "best_model.predict(x_att[:1])[0]"
   ],
   "metadata": {
    "collapsed": false,
    "pycharm": {
     "name": "#%%\n"
    }
   },
   "execution_count": 25,
   "outputs": [
    {
     "data": {
      "text/plain": "array([0.00251021, 0.0325679 , 0.11213744, 0.22989422, 0.28685433,\n       0.22081874, 0.0974118 , 0.01660134, 0.00120405], dtype=float32)"
     },
     "execution_count": 25,
     "metadata": {},
     "output_type": "execute_result"
    }
   ]
  },
  {
   "cell_type": "markdown",
   "source": [
    "**Predicted hamming weight label**, calculated by taking the weighted mean using the predicted probabilities."
   ],
   "metadata": {
    "collapsed": false,
    "pycharm": {
     "name": "#%% md\n"
    }
   }
  },
  {
   "cell_type": "code",
   "execution_count": 26,
   "outputs": [
    {
     "data": {
      "text/plain": "3.908349107950926"
     },
     "execution_count": 26,
     "metadata": {},
     "output_type": "execute_result"
    }
   ],
   "source": [
    "np.sum(best_model.predict(x_att[:1])[0] * range(8 + 1))"
   ],
   "metadata": {
    "collapsed": false,
    "pycharm": {
     "name": "#%%\n"
    }
   }
  },
  {
   "cell_type": "code",
   "execution_count": 27,
   "outputs": [],
   "source": [
    "def hamming_weight_prediction(mdl: Model, x, num_rows=None):\n",
    "    pred = mdl.predict(x)[:num_rows]\n",
    "    return np.sum(pred * range(9), axis=1)"
   ],
   "metadata": {
    "collapsed": false,
    "pycharm": {
     "name": "#%%\n"
    }
   }
  },
  {
   "cell_type": "code",
   "execution_count": 28,
   "outputs": [],
   "source": [
    "def split_by_hw(x_attack, y_attack):\n",
    "    \"\"\"\n",
    "    Split traces in two classes.\n",
    "    Class A: the hamming weight label is below 4, and class B: above 4.\n",
    "\n",
    "    Returns traces for classes A and B\n",
    "    \"\"\"\n",
    "    hws = np.argmax(y_attack, axis=1)\n",
    "\n",
    "    l4 = x_attack[np.where(hws < 4)]\n",
    "    g4 = x_attack[np.where(hws > 4)]\n",
    "\n",
    "    return l4, g4"
   ],
   "metadata": {
    "collapsed": false,
    "pycharm": {
     "name": "#%%\n"
    }
   }
  },
  {
   "cell_type": "markdown",
   "source": [
    "### Plot prediction distribution for all traces."
   ],
   "metadata": {
    "collapsed": false,
    "pycharm": {
     "name": "#%% md\n"
    }
   }
  },
  {
   "cell_type": "code",
   "execution_count": 29,
   "outputs": [
    {
     "data": {
      "text/plain": "[Text(0.5, 0, 'Predicted hamming weight, bin size = 0.1'),\n Text(0.5, 1.0, 'Attack trace predictions for 72727 sample traces.')]"
     },
     "execution_count": 29,
     "metadata": {},
     "output_type": "execute_result"
    },
    {
     "data": {
      "text/plain": "<Figure size 648x432 with 1 Axes>",
      "image/png": "[encoded data removed]"
     },
     "metadata": {},
     "output_type": "display_data"
    }
   ],
   "source": [
    "less_4, greater_4 = split_by_hw(x_att, y_att)\n",
    "\n",
    "num_all = len(less_4) + len(greater_4)\n",
    "\n",
    "plt.figure(figsize=(9, 6))\n",
    "\n",
    "graph1 = sns.histplot(data={\n",
    "    \"HW < 4\": hamming_weight_prediction(best_model, less_4),\n",
    "    \"HW > 4\": hamming_weight_prediction(best_model, greater_4)\n",
    "}, bins=80, binrange=(0,8))\n",
    "graph1.set(xlabel=\"Predicted hamming weight, bin size = 0.1\",\n",
    "           title=f\"Attack trace predictions for {num_all} sample traces.\")"
   ],
   "metadata": {
    "collapsed": false,
    "pycharm": {
     "name": "#%%\n"
    }
   }
  },
  {
   "cell_type": "code",
   "execution_count": 30,
   "outputs": [],
   "source": [
    "def p_gradient_dl_la(mdl: Model, x_attack, y_attack, max_traces):\n",
    "    \"\"\"\n",
    "    Creates a gradient of the p-value that predictions for A and B follow the same distribution.\n",
    "    Class A consists of traces which are labelled with a hamming weight below 4 and class B above 4.\n",
    "\n",
    "    Calculates 100 steps between 2 traces and a provided maximum number of traces.\n",
    "    \"\"\"\n",
    "    l4, g4 = split_by_hw(x_attack, y_attack)\n",
    "    nr = min(len(l4), len(g4), max_traces)\n",
    "\n",
    "    pred_l4 = hamming_weight_prediction(mdl, l4, nr)\n",
    "    pred_g4 = hamming_weight_prediction(mdl, g4, nr)\n",
    "    pred_l4_inner = pred_l4.copy()\n",
    "\n",
    "    np.random.shuffle(pred_l4)\n",
    "    np.random.shuffle(pred_g4)\n",
    "\n",
    "    ixs = np.linspace(2, nr, 100).astype(int)\n",
    "    gradient, inner_gradient = [], []\n",
    "    for i in ixs:\n",
    "        p_val = stats.ttest_ind(pred_l4[:i], pred_g4[:i], equal_var=False)[1]\n",
    "        p_val_inner = stats.ttest_ind(pred_l4[:i], pred_l4_inner[:i], equal_var=False)[1]\n",
    "\n",
    "        gradient.append(p_val)\n",
    "        inner_gradient.append(p_val_inner)\n",
    "\n",
    "    df = pd.DataFrame({\"A vs. B\": gradient, \"A vs. A\": inner_gradient})\n",
    "    df = df.set_index(ixs, drop=True)\n",
    "\n",
    "    return df"
   ],
   "metadata": {
    "collapsed": false,
    "pycharm": {
     "name": "#%%\n"
    }
   }
  },
  {
   "cell_type": "markdown",
   "source": [
    "### Plot p-gradient."
   ],
   "metadata": {
    "collapsed": false
   }
  },
  {
   "cell_type": "code",
   "execution_count": 31,
   "outputs": [
    {
     "data": {
      "text/plain": "<matplotlib.lines.Line2D at 0x7f69ca641f10>"
     },
     "execution_count": 31,
     "metadata": {},
     "output_type": "execute_result"
    },
    {
     "data": {
      "text/plain": "<Figure size 648x432 with 1 Axes>",
      "image/png": "[encoded data removed]"
     },
     "metadata": {},
     "output_type": "display_data"
    }
   ],
   "source": [
    "plt.figure(figsize=(9, 6))\n",
    "\n",
    "graph2 = sns.lineplot(data=p_gradient_dl_la(best_model, x_att, y_att, 500))\n",
    "graph2.set(yscale=\"log\", xlabel=\"Samples\", ylabel=\"$p$-value\",\n",
    "           title=\"Attack trace predictions, $p$-gradient.\\n A: $HW < 4$. B: $HW > 4$\")\n",
    "graph2.invert_yaxis()\n",
    "graph2.axhline(10 ** -5, ls='--', color=\"red\")\n"
   ],
   "metadata": {
    "collapsed": false,
    "pycharm": {
     "name": "#%%\n"
    }
   }
  }
 ],
 "metadata": {
  "kernelspec": {
   "display_name": "Python 3",
   "language": "python",
   "name": "python3"
  },
  "language_info": {
   "codemirror_mode": {
    "name": "ipython",
    "version": 3
   },
   "file_extension": ".py",
   "mimetype": "text/x-python",
   "name": "python",
   "nbconvert_exporter": "python",
   "pygments_lexer": "ipython3",
   "version": "3.8.5"
  }
 },
 "nbformat": 4,
 "nbformat_minor": 1
}