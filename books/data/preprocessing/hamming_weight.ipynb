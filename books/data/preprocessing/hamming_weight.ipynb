{
 "cells": [
  {
   "cell_type": "markdown",
   "metadata": {
    "collapsed": true,
    "pycharm": {
     "name": "#%% md\n"
    }
   },
   "source": [
    "# Hamming weight extractor\n",
    "\n",
    "## Hamming weight of the state after the SBox in the first round (first state byte).\n",
    "\n",
    "### Append a hamming weight column to the ASCAD file."
   ]
  },
  {
   "cell_type": "code",
   "execution_count": 1,
   "outputs": [
    {
     "name": "stderr",
     "output_type": "stream",
     "text": [
      "100%|██████████| 50000/50000 [00:13<00:00, 3788.60it/s]\n",
      "100%|██████████| 10000/10000 [00:02<00:00, 3786.04it/s]\n"
     ]
    }
   ],
   "source": [
    "import h5py\n",
    "from src.aes.main import AES\n",
    "from src.data.loaders.ascad import ASCADData, ASCAD_DATA, ASCAD_DATA_VAR, ASCADDataType, ASCAD_DATA_FIX\n",
    "from tqdm import tqdm\n",
    "import numpy as np\n",
    "\n",
    "ascad = ASCADData.fixed_key()\n",
    "plaintext_ix = 0\n",
    "full_key_ix = 1\n",
    "\n",
    "pm = ascad[\"Profiling_traces\"][\"metadata\"]\n",
    "am = ascad[\"Attack_traces\"][\"metadata\"]\n",
    "\n",
    "def get_acc(metadata):\n",
    "    return np.zeros((len(metadata), 16), dtype=np.uint8)\n",
    "\n",
    "profile_key, profile_plain = get_acc(pm), get_acc(pm)\n",
    "attack_key, attack_plain = get_acc(am), get_acc(am)\n",
    "\n",
    "for ix in tqdm(range(len(pm))):\n",
    "    profile_key[ix] = pm[ix][full_key_ix]\n",
    "    profile_plain[ix] = pm[ix][plaintext_ix]\n",
    "\n",
    "for ix in tqdm(range(len(am))):\n",
    "    attack_key[ix] = am[ix][full_key_ix]\n",
    "    attack_plain[ix] = pm[ix][plaintext_ix]\n",
    "\n",
    "ascad.close()"
   ],
   "metadata": {
    "collapsed": false,
    "pycharm": {
     "name": "#%%\n"
    }
   }
  },
  {
   "cell_type": "code",
   "execution_count": 2,
   "outputs": [
    {
     "name": "stderr",
     "output_type": "stream",
     "text": [
      "100%|██████████| 50000/50000 [00:17<00:00, 2903.96it/s]\n",
      "100%|██████████| 10000/10000 [00:03<00:00, 2886.09it/s]\n"
     ]
    }
   ],
   "source": [
    "from src.aes.hw_sbox import hw_sbox_round1\n",
    "\n",
    "def gen_hws(plaintext, key):\n",
    "    \"\"\"\n",
    "    Extracts the hamming weight of the first state byte, after the SBox of the first round of AES.\n",
    "    \"\"\"\n",
    "    hws = np.zeros((len(plaintext), 10, 16), dtype=np.uint8)\n",
    "\n",
    "    # noinspection PyShadowingNames\n",
    "    for ix in tqdm(range(len(plaintext))):\n",
    "        aes = AES(key[ix])\n",
    "        aes.encrypt(plaintext[ix])\n",
    "\n",
    "        hws[ix] = aes.hw_after_round\n",
    "\n",
    "    return hws\n",
    "\n",
    "profile_hw = gen_hws(profile_plain, profile_key)\n",
    "attack_hw = gen_hws(attack_plain, attack_key)"
   ],
   "metadata": {
    "collapsed": false,
    "pycharm": {
     "name": "#%%\n"
    }
   }
  },
  {
   "cell_type": "code",
   "execution_count": 3,
   "outputs": [
    {
     "data": {
      "text/plain": "(4.000020875, 4.000711875)"
     },
     "execution_count": 3,
     "metadata": {},
     "output_type": "execute_result"
    }
   ],
   "source": [
    "np.mean(profile_hw), np.mean(attack_hw)"
   ],
   "metadata": {
    "collapsed": false,
    "pycharm": {
     "name": "#%%\n"
    }
   }
  },
  {
   "cell_type": "code",
   "execution_count": 4,
   "outputs": [
    {
     "name": "stdout",
     "output_type": "stream",
     "text": [
      "['hamming_weights', 'labels', 'metadata', 'traces']\n",
      "['hamming_weights', 'labels', 'metadata', 'traces']\n"
     ]
    }
   ],
   "source": [
    "wrt = h5py.File(f\"{ASCAD_DATA}{ASCAD_DATA_FIX}/{ASCADDataType.default}.h5\", 'r+')\n",
    "\n",
    "for grp_name, grp_data in [(\"Profiling_traces\", profile_hw), (\"Attack_traces\", attack_hw)]:\n",
    "    grp = wrt[grp_name]\n",
    "\n",
    "    if \"hamming_weights\" in grp:\n",
    "        del grp[\"hamming_weights\"]\n",
    "    grp[\"hamming_weights\"] = grp_data\n",
    "\n",
    "wrt.close()\n",
    "\n",
    "chk = h5py.File(f\"{ASCAD_DATA}{ASCAD_DATA_FIX}/{ASCADDataType.default}.h5\", 'r')\n",
    "print(list(chk[\"Profiling_traces\"]))\n",
    "print(list(chk[\"Attack_traces\"]))\n",
    "chk.close()"
   ],
   "metadata": {
    "collapsed": false,
    "pycharm": {
     "name": "#%%\n"
    }
   }
  },
  {
   "cell_type": "code",
   "execution_count": 5,
   "outputs": [
    {
     "data": {
      "text/plain": "array([[5, 5, 3, 6, 7, 2, 6, 6, 3, 1, 5, 5, 3, 5, 3, 5],\n       [4, 5, 3, 5, 3, 5, 6, 6, 4, 3, 5, 4, 4, 4, 4, 2],\n       [5, 3, 4, 4, 5, 2, 5, 5, 6, 7, 4, 4, 4, 3, 4, 4],\n       [4, 4, 2, 3, 4, 5, 3, 2, 5, 6, 5, 7, 5, 4, 5, 2],\n       [4, 6, 3, 5, 3, 6, 3, 4, 5, 6, 6, 4, 2, 5, 4, 1],\n       [5, 3, 4, 5, 6, 3, 5, 3, 5, 2, 6, 1, 5, 4, 3, 6],\n       [6, 3, 4, 4, 4, 5, 5, 2, 5, 5, 4, 4, 3, 6, 4, 3],\n       [3, 4, 3, 4, 3, 4, 6, 5, 3, 4, 3, 7, 2, 4, 6, 2],\n       [4, 6, 2, 4, 2, 3, 6, 5, 2, 5, 6, 4, 5, 0, 7, 4],\n       [4, 4, 4, 3, 4, 5, 3, 5, 4, 1, 5, 5, 2, 5, 4, 4]], dtype=uint8)"
     },
     "execution_count": 5,
     "metadata": {},
     "output_type": "execute_result"
    }
   ],
   "source": [
    "ascad = ASCADData.fixed_key()\n",
    "ascad[\"Profiling_traces\"][\"hamming_weights\"][0]"
   ],
   "metadata": {
    "collapsed": false,
    "pycharm": {
     "name": "#%%\n"
    }
   }
  }
 ],
 "metadata": {
  "kernelspec": {
   "display_name": "Python 3",
   "language": "python",
   "name": "python3"
  },
  "language_info": {
   "codemirror_mode": {
    "name": "ipython",
    "version": 2
   },
   "file_extension": ".py",
   "mimetype": "text/x-python",
   "name": "python",
   "nbconvert_exporter": "python",
   "pygments_lexer": "ipython2",
   "version": "2.7.6"
  }
 },
 "nbformat": 4,
 "nbformat_minor": 0
}