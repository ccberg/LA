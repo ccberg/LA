{
 "cells": [
  {
   "cell_type": "markdown",
   "metadata": {
    "collapsed": true,
    "pycharm": {
     "name": "#%% md\n"
    }
   },
   "source": [
    "# Test Vector Leakage Assessment\n",
    "\n",
    "An example."
   ]
  },
  {
   "cell_type": "markdown",
   "source": [
    "### 1. Generating examples\n",
    "\n",
    "In this example, there are two keys $k_a$ and $k_b$. For each of these 2 keys, there are $1000$ power traces (samples)\n",
    "available, each with a length of $10$ sample points."
   ],
   "metadata": {
    "collapsed": false,
    "pycharm": {
     "name": "#%% md\n"
    }
   }
  },
  {
   "cell_type": "code",
   "execution_count": 491,
   "outputs": [],
   "source": [
    "samples = 1000\n",
    "sample_pts = 10"
   ],
   "metadata": {
    "collapsed": false,
    "pycharm": {
     "name": "#%%\n"
    }
   }
  },
  {
   "cell_type": "markdown",
   "source": [
    "The samples for these imaginary traces will be simplified into normal distributions with mean $\\mu$.\n",
    "\n",
    "A first-order \"leakage\" will be simulated by taking $\\mu_a$ (for key $k_a$) slightly bigger than $\\mu_b$."
   ],
   "metadata": {
    "collapsed": false,
    "pycharm": {
     "name": "#%% md\n"
    }
   }
  },
  {
   "cell_type": "code",
   "source": [
    "mu_a = 42.2\n",
    "mu_b = 42"
   ],
   "metadata": {
    "collapsed": false,
    "pycharm": {
     "name": "#%%\n"
    }
   },
   "execution_count": 492,
   "outputs": []
  },
  {
   "cell_type": "code",
   "execution_count": 493,
   "outputs": [],
   "source": [
    "import numpy as np\n",
    "\n",
    "# Refer to section statistical properties of ASCAD in books/data/ascad_normality.\n",
    "sigma = .2\n",
    "\n",
    "traces_key_a = np.array([np.random.normal(size=samples, scale=sigma) + mu_a for _ in range(sample_pts)], dtype=int)\n",
    "traces_key_b = np.array([np.random.normal(size=samples, scale=sigma) + mu_b for _ in range(sample_pts)], dtype=int)"
   ],
   "metadata": {
    "collapsed": false,
    "pycharm": {
     "name": "#%%\n"
    }
   }
  },
  {
   "cell_type": "markdown",
   "source": [
    "### 2. Slicing the input\n",
    "\n",
    "The first step in TVLA is to split these samples into four disjoint slices, each with a length of $250$.\n",
    "\n",
    "The $n$-th slice for key $k_a$ will be denoted as $A_n$."
   ],
   "metadata": {
    "collapsed": false,
    "pycharm": {
     "name": "#%% md\n"
    }
   }
  },
  {
   "cell_type": "code",
   "execution_count": 494,
   "outputs": [],
   "source": [
    "def make_slice(traces: np.array):\n",
    "    select = np.array(range(traces.shape[1]))\n",
    "    np.random.shuffle(select)\n",
    "\n",
    "    return np.array([traces[:, s] for s in np.array_split(select, 4)])\n",
    "\n",
    "A = make_slice(traces_key_a)\n",
    "B = make_slice(traces_key_b)"
   ],
   "metadata": {
    "collapsed": false,
    "pycharm": {
     "name": "#%%\n"
    }
   }
  },
  {
   "cell_type": "code",
   "execution_count": 495,
   "outputs": [
    {
     "data": {
      "text/plain": "(4, 10, 250)"
     },
     "execution_count": 495,
     "metadata": {},
     "output_type": "execute_result"
    }
   ],
   "source": [
    "A.shape"
   ],
   "metadata": {
    "collapsed": false,
    "pycharm": {
     "name": "#%%\n"
    }
   }
  },
  {
   "cell_type": "markdown",
   "source": [
    "### 3. Preparing the data\n",
    "\n",
    "In this example, the t-test is used when performing TVLA. The t-test takes the sample mean, sample variance and some\n",
    "value for $p$. It tests the null hypothesis that 2 independent samples have identical average (expected) values, and\n",
    "returns whether the null hypotheses should be accepted.\n",
    "\n",
    "Therefore, $A$ and $B$ need to be transformed to fit the input parameters of the t-test."
   ],
   "metadata": {
    "collapsed": false,
    "pycharm": {
     "name": "#%% md\n"
    }
   }
  },
  {
   "cell_type": "code",
   "execution_count": 496,
   "outputs": [
    {
     "data": {
      "text/plain": "(4, 10, 2)"
     },
     "execution_count": 496,
     "metadata": {},
     "output_type": "execute_result"
    }
   ],
   "source": [
    "A_mv = np.moveaxis(np.array((A.mean(axis=2), A.var(axis=2))), 0, -1)\n",
    "B_mv = np.moveaxis(np.array((B.mean(axis=2), B.var(axis=2))), 0, -1)\n",
    "\n",
    "A_mv.shape"
   ],
   "metadata": {
    "collapsed": false,
    "pycharm": {
     "name": "#%%\n"
    }
   }
  },
  {
   "cell_type": "markdown",
   "source": [
    "### 4. Applying TVLA"
   ],
   "metadata": {
    "collapsed": false,
    "pycharm": {
     "name": "#%% md\n"
    }
   }
  },
  {
   "cell_type": "code",
   "execution_count": 497,
   "outputs": [
    {
     "name": "stdout",
     "output_type": "stream",
     "text": [
      "[(array([41.796   ,  0.162384]), array([41.816   ,  0.150144])), (array([41.848   ,  0.128896]), array([41.86  ,  0.1204])), (array([41.824   ,  0.145024]), array([41.832   ,  0.139776])), (array([41.808   ,  0.155136]), array([41.84  ,  0.1344])), (array([41.864   ,  0.117504]), array([41.86  ,  0.1204])), (array([41.868   ,  0.114576]), array([41.856   ,  0.123264])), (array([41.84  ,  0.1344]), array([41.844   ,  0.131664])), (array([41.848   ,  0.128896]), array([41.852   ,  0.126096])), (array([41.88  ,  0.1056]), array([41.836   ,  0.145104])), (array([41.82  ,  0.1476]), array([41.832   ,  0.139776]))]\n",
      "[(array([41.836   ,  0.137104]), array([41.828   ,  0.142416])), (array([41.82  ,  0.1476]), array([41.86  ,  0.1204])), (array([41.824   ,  0.145024]), array([41.852   ,  0.126096])), (array([41.844   ,  0.131664]), array([41.844   ,  0.131664])), (array([41.868   ,  0.114576]), array([41.88  ,  0.1056])), (array([41.876   ,  0.108624]), array([41.84  ,  0.1344])), (array([41.888   ,  0.099456]), array([41.848   ,  0.128896])), (array([41.852   ,  0.126096]), array([41.804   ,  0.157584])), (array([41.876   ,  0.108624]), array([41.872   ,  0.111616])), (array([41.844   ,  0.131664]), array([41.84  ,  0.1344]))]\n",
      "[(array([41.796   ,  0.162384]), array([41.504   ,  0.249984])), (array([41.848   ,  0.128896]), array([41.476   ,  0.249424])), (array([41.824   ,  0.145024]), array([41.468   ,  0.248976])), (array([41.808   ,  0.155136]), array([41.52  ,  0.2496])), (array([41.864   ,  0.117504]), array([41.536   ,  0.248704])), (array([41.868   ,  0.114576]), array([41.552   ,  0.247296])), (array([41.84  ,  0.1344]), array([41.512   ,  0.249856])), (array([41.848   ,  0.128896]), array([41.472   ,  0.249216])), (array([41.88  ,  0.1056]), array([41.552   ,  0.247296])), (array([41.82  ,  0.1476]), array([41.48  ,  0.2496]))]\n",
      "[(array([41.836   ,  0.137104]), array([41.46  ,  0.2484])), (array([41.82  ,  0.1476]), array([41.528   ,  0.249216])), (array([41.824   ,  0.145024]), array([41.58  ,  0.2436])), (array([41.844   ,  0.131664]), array([41.488   ,  0.249856])), (array([41.868   ,  0.114576]), array([41.476   ,  0.249424])), (array([41.876   ,  0.108624]), array([41.492   ,  0.249936])), (array([41.888   ,  0.099456]), array([41.524   ,  0.249424])), (array([41.852   ,  0.126096]), array([41.516   ,  0.249744])), (array([41.876   ,  0.108624]), array([41.54  ,  0.2484])), (array([41.844   ,  0.131664]), array([41.504   ,  0.249984]))]\n"
     ]
    },
    {
     "data": {
      "text/plain": "(True, False)"
     },
     "execution_count": 497,
     "metadata": {},
     "output_type": "execute_result"
    }
   ],
   "source": [
    "from scipy.stats import stats\n",
    "\n",
    "def make_t_test(n):\n",
    "    def test(a, b):\n",
    "        ma, sa = a\n",
    "        mb, sb = b\n",
    "\n",
    "        s = np.sqrt((sa + sb) / 2)\n",
    "        t = (ma - mb) / (s * np.sqrt(2 / n))\n",
    "\n",
    "        return np.abs(t).astype(np.float64)\n",
    "\n",
    "    return test\n",
    "\n",
    "num_observations = A.shape[2]\n",
    "t_test = make_t_test(num_observations)\n",
    "\n",
    "def test_spt(test, left, right):\n",
    "    print([(l, r) for l, r in zip(left, right)])\n",
    "\n",
    "    return np.array([test(l, r) for l, r in zip(left, right)])\n",
    "\n",
    "def device_fails(left, right, t):\n",
    "    return np.array((left < t, right < t), dtype=int).any()\n",
    "\n",
    "def tvla(test, left, right, p=1, debug=False):\n",
    "    \"\"\"\n",
    "    Applies some given statistical test against the given samples.\n",
    "\n",
    "    @param test: statistical test function that takes two samples and returns test values.\n",
    "    @param left: Four sample sets containing s samples representing a power trace of length t.\n",
    "    @param right: Two sample sets containing s samples representing a power trace of length t.\n",
    "    @param p: Decide whether a device fails using (100 * p)%-confidence interval.\n",
    "    @param debug: Set to True if this function should throw Exceptions upon improperly structured input.\n",
    "    @return: Whether the device fails on (A against A, A against B).\n",
    "    \"\"\"\n",
    "    if debug:\n",
    "        assert len(left) == 4\n",
    "        assert len(right) == 2\n",
    "\n",
    "    # Four different samples from distribution A.\n",
    "    a, b, c, d = left\n",
    "    # Two different samples from distribution B. x and y are compared to a and b, respectively.\n",
    "    _, _, x, y = right\n",
    "\n",
    "    # Test A against A.\n",
    "    aa1 = test_spt(test, a, c)\n",
    "    aa2 = test_spt(test, b, d)\n",
    "\n",
    "    # Test A against B.\n",
    "    ab1 = test_spt(test, a, x)\n",
    "    ab2 = test_spt(test, b, y)\n",
    "\n",
    "    t = np.percentile([aa1, aa2, ab1, ab2], p)\n",
    "\n",
    "    # This value for t lets p% of the devices fail.\n",
    "    return device_fails(aa1, aa2, t), device_fails(ab1, ab2, t)\n",
    "\n",
    "tvla(test=t_test, left=A_mv, right=B_mv, p=5)"
   ],
   "metadata": {
    "collapsed": false,
    "pycharm": {
     "name": "#%%\n"
    }
   }
  }
 ],
 "metadata": {
  "kernelspec": {
   "display_name": "Python 3",
   "language": "python",
   "name": "python3"
  },
  "language_info": {
   "codemirror_mode": {
    "name": "ipython",
    "version": 2
   },
   "file_extension": ".py",
   "mimetype": "text/x-python",
   "name": "python",
   "nbconvert_exporter": "python",
   "pygments_lexer": "ipython2",
   "version": "2.7.6"
  }
 },
 "nbformat": 4,
 "nbformat_minor": 0
}