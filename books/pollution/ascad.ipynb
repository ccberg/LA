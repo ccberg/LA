{
 "cells": [
  {
   "cell_type": "code",
   "execution_count": 1,
   "outputs": [],
   "source": [
    "import os\n",
    "\n",
    "import numpy as np\n",
    "from keras import Sequential, Model\n",
    "from keras.layers import Dense\n",
    "from keras.optimizer_v2.adam import Adam\n",
    "\n",
    "from src.dlla.hw import encode, dlla_hw\n",
    "from src.dlla.wegener import make_mlp_wegener, binomial_test\n",
    "from src.pollution.clock_jitter import clock_jitter\n",
    "from src.pollution.gaussian_noise import gaussian_noise\n",
    "from src.trace_set.database import Database\n",
    "from src.trace_set.pollution import Pollution, PollutionType\n",
    "from src.trace_set.set_hw import TraceSetHW\n",
    "from src.trace_set.transform import reduce_fixed_fixed, fixed_fixed\n",
    "from src.tvla.cri import tvla_cri\n",
    "from src.tvla.tvla import Group"
   ],
   "metadata": {
    "collapsed": false,
    "pycharm": {
     "name": "#%%\n"
    }
   }
  },
  {
   "cell_type": "code",
   "execution_count": 2,
   "outputs": [],
   "source": [
    "DB = Database.ascad\n",
    "TRACE_SET = TraceSetHW(DB)"
   ],
   "metadata": {
    "collapsed": false,
    "pycharm": {
     "name": "#%%\n"
    }
   }
  },
  {
   "cell_type": "code",
   "execution_count": 3,
   "outputs": [],
   "source": [
    "(X, Y), (X_ATT, Y_ATT) = TRACE_SET.profile(), TRACE_SET.attack()"
   ],
   "metadata": {
    "collapsed": false,
    "pycharm": {
     "name": "#%%\n"
    }
   }
  },
  {
   "cell_type": "code",
   "execution_count": 23,
   "outputs": [],
   "source": [
    "GAUSS_PARAMS = np.arange(0, 32, 2)\n",
    "\n",
    "def apply_gauss(params):\n",
    "    for param in params:\n",
    "        pollution = Pollution(PollutionType.gauss, param)\n",
    "        out = TraceSetHW(DB, pollution)\n",
    "\n",
    "        if not os.path.exists(out.path):\n",
    "            x = gaussian_noise(X, param)\n",
    "            x_att = gaussian_noise(X_ATT, param)\n",
    "\n",
    "            out.create(x, Y, x_att, Y_ATT)\n",
    "\n",
    "            x2, y2 = fixed_fixed(x, Y)\n",
    "            a, b = x2[~y2], x2[y2]\n",
    "            order = 2\n",
    "            _, tvla_p = Group(a, order, True).t_test(Group(b, order, True), order)\n",
    "            print(f\"Gaussian noise ({param}): min-p: ({min(tvla_p)}).\")\n",
    "\n",
    "apply_gauss(GAUSS_PARAMS)"
   ],
   "metadata": {
    "collapsed": false,
    "pycharm": {
     "name": "#%%\n"
    }
   }
  },
  {
   "cell_type": "markdown",
   "source": [
    "### TVLA vs. DL-LA"
   ],
   "metadata": {
    "collapsed": false,
    "pycharm": {
     "name": "#%% md\n"
    }
   }
  },
  {
   "cell_type": "code",
   "execution_count": 5,
   "outputs": [],
   "source": [
    "ORDER = 2\n",
    "\n",
    "def store_results(database: Database, method: str, pollution: Pollution, p):\n",
    "    file_name = f\"results_{database.name}.csv\"\n",
    "    with open(file_name, 'a') as f:\n",
    "        f.write(f\"{method};{pollution.type.name};{pollution.parameter};{p}\\n\")"
   ],
   "metadata": {
    "collapsed": false,
    "pycharm": {
     "name": "#%%\n"
    }
   }
  },
  {
   "cell_type": "code",
   "execution_count": 20,
   "outputs": [
    {
     "name": "stdout",
     "output_type": "stream",
     "text": [
      "Prepare traces (1/2)\r"
     ]
    },
    {
     "ename": "KeyboardInterrupt",
     "evalue": "",
     "output_type": "error",
     "traceback": [
      "\u001B[0;31m---------------------------------------------------------------------------\u001B[0m",
      "\u001B[0;31mKeyboardInterrupt\u001B[0m                         Traceback (most recent call last)",
      "\u001B[0;32m<ipython-input-20-312627537658>\u001B[0m in \u001B[0;36m<module>\u001B[0;34m\u001B[0m\n\u001B[1;32m     81\u001B[0m \u001B[0;34m\u001B[0m\u001B[0m\n\u001B[1;32m     82\u001B[0m \u001B[0;32mwhile\u001B[0m \u001B[0;32mTrue\u001B[0m\u001B[0;34m:\u001B[0m\u001B[0;34m\u001B[0m\u001B[0;34m\u001B[0m\u001B[0m\n\u001B[0;32m---> 83\u001B[0;31m     \u001B[0mla_gauss\u001B[0m\u001B[0;34m(\u001B[0m\u001B[0mDatabase\u001B[0m\u001B[0;34m.\u001B[0m\u001B[0mascad\u001B[0m\u001B[0;34m,\u001B[0m \u001B[0mGAUSS_PARAMS\u001B[0m\u001B[0;34m)\u001B[0m\u001B[0;34m\u001B[0m\u001B[0;34m\u001B[0m\u001B[0m\n\u001B[0m\u001B[1;32m     84\u001B[0m \u001B[0;34m\u001B[0m\u001B[0m\n\u001B[1;32m     85\u001B[0m \u001B[0;34m\u001B[0m\u001B[0m\n",
      "\u001B[0;32m<ipython-input-20-312627537658>\u001B[0m in \u001B[0;36mla_gauss\u001B[0;34m(db, params)\u001B[0m\n\u001B[1;32m     53\u001B[0m         \u001B[0;32mif\u001B[0m \u001B[0mos\u001B[0m\u001B[0;34m.\u001B[0m\u001B[0mpath\u001B[0m\u001B[0;34m.\u001B[0m\u001B[0mexists\u001B[0m\u001B[0;34m(\u001B[0m\u001B[0mtrace_set\u001B[0m\u001B[0;34m.\u001B[0m\u001B[0mpath\u001B[0m\u001B[0;34m)\u001B[0m\u001B[0;34m:\u001B[0m\u001B[0;34m\u001B[0m\u001B[0;34m\u001B[0m\u001B[0m\n\u001B[1;32m     54\u001B[0m             \u001B[0mprint\u001B[0m\u001B[0;34m(\u001B[0m\u001B[0;34m\"Prepare traces (1/2)\"\u001B[0m\u001B[0;34m,\u001B[0m \u001B[0mend\u001B[0m\u001B[0;34m=\u001B[0m\u001B[0;34m\"\\r\"\u001B[0m\u001B[0;34m)\u001B[0m\u001B[0;34m\u001B[0m\u001B[0;34m\u001B[0m\u001B[0m\n\u001B[0;32m---> 55\u001B[0;31m             \u001B[0mx9\u001B[0m\u001B[0;34m,\u001B[0m \u001B[0my9\u001B[0m\u001B[0;34m,\u001B[0m \u001B[0mx9_att\u001B[0m\u001B[0;34m,\u001B[0m \u001B[0my9_att\u001B[0m \u001B[0;34m=\u001B[0m \u001B[0mprepare_traces_dl\u001B[0m\u001B[0;34m(\u001B[0m\u001B[0;34m*\u001B[0m\u001B[0mtrace_set\u001B[0m\u001B[0;34m.\u001B[0m\u001B[0mprofile\u001B[0m\u001B[0;34m(\u001B[0m\u001B[0;34m)\u001B[0m\u001B[0;34m,\u001B[0m \u001B[0;34m*\u001B[0m\u001B[0mtrace_set\u001B[0m\u001B[0;34m.\u001B[0m\u001B[0mattack\u001B[0m\u001B[0;34m(\u001B[0m\u001B[0;34m)\u001B[0m\u001B[0;34m)\u001B[0m\u001B[0;34m\u001B[0m\u001B[0;34m\u001B[0m\u001B[0m\n\u001B[0m\u001B[1;32m     56\u001B[0m             \u001B[0mprint\u001B[0m\u001B[0;34m(\u001B[0m\u001B[0;34m\"Prepare traces (2/2)\"\u001B[0m\u001B[0;34m,\u001B[0m \u001B[0mend\u001B[0m\u001B[0;34m=\u001B[0m\u001B[0;34m\"\\r\"\u001B[0m\u001B[0;34m)\u001B[0m\u001B[0;34m\u001B[0m\u001B[0;34m\u001B[0m\u001B[0m\n\u001B[1;32m     57\u001B[0m             \u001B[0;34m(\u001B[0m\u001B[0mx2\u001B[0m\u001B[0;34m,\u001B[0m \u001B[0my2\u001B[0m\u001B[0;34m)\u001B[0m\u001B[0;34m,\u001B[0m \u001B[0;34m(\u001B[0m\u001B[0mx2_att\u001B[0m\u001B[0;34m,\u001B[0m \u001B[0my2_att\u001B[0m\u001B[0;34m)\u001B[0m \u001B[0;34m=\u001B[0m \u001B[0mreduce_fixed_fixed\u001B[0m\u001B[0;34m(\u001B[0m\u001B[0mx9\u001B[0m\u001B[0;34m,\u001B[0m \u001B[0my9\u001B[0m\u001B[0;34m)\u001B[0m\u001B[0;34m,\u001B[0m \u001B[0mreduce_fixed_fixed\u001B[0m\u001B[0;34m(\u001B[0m\u001B[0mx9_att\u001B[0m\u001B[0;34m,\u001B[0m \u001B[0my9_att\u001B[0m\u001B[0;34m)\u001B[0m\u001B[0;34m\u001B[0m\u001B[0;34m\u001B[0m\u001B[0m\n",
      "\u001B[0;32m~/Documents/Afstudeer/LA/src/trace_set/set_hw.py\u001B[0m in \u001B[0;36mprofile\u001B[0;34m(self)\u001B[0m\n\u001B[1;32m     42\u001B[0m \u001B[0;34m\u001B[0m\u001B[0m\n\u001B[1;32m     43\u001B[0m     \u001B[0;32mdef\u001B[0m \u001B[0mprofile\u001B[0m\u001B[0;34m(\u001B[0m\u001B[0mself\u001B[0m\u001B[0;34m)\u001B[0m\u001B[0;34m:\u001B[0m\u001B[0;34m\u001B[0m\u001B[0;34m\u001B[0m\u001B[0m\n\u001B[0;32m---> 44\u001B[0;31m         \u001B[0;32mreturn\u001B[0m \u001B[0mself\u001B[0m\u001B[0;34m.\u001B[0m\u001B[0m__fetch\u001B[0m\u001B[0;34m(\u001B[0m\u001B[0;34m'profile'\u001B[0m\u001B[0;34m)\u001B[0m\u001B[0;34m\u001B[0m\u001B[0;34m\u001B[0m\u001B[0m\n\u001B[0m\u001B[1;32m     45\u001B[0m \u001B[0;34m\u001B[0m\u001B[0m\n\u001B[1;32m     46\u001B[0m     \u001B[0;32mdef\u001B[0m \u001B[0mattack\u001B[0m\u001B[0;34m(\u001B[0m\u001B[0mself\u001B[0m\u001B[0;34m)\u001B[0m\u001B[0;34m:\u001B[0m\u001B[0;34m\u001B[0m\u001B[0;34m\u001B[0m\u001B[0m\n",
      "\u001B[0;32m~/Documents/Afstudeer/LA/src/trace_set/set_hw.py\u001B[0m in \u001B[0;36m__fetch\u001B[0;34m(self, group_name)\u001B[0m\n\u001B[1;32m     35\u001B[0m \u001B[0;34m\u001B[0m\u001B[0m\n\u001B[1;32m     36\u001B[0m         \u001B[0mgrp\u001B[0m \u001B[0;34m=\u001B[0m \u001B[0mf\u001B[0m\u001B[0;34m[\u001B[0m\u001B[0mgroup_name\u001B[0m\u001B[0;34m]\u001B[0m\u001B[0;34m\u001B[0m\u001B[0;34m\u001B[0m\u001B[0m\n\u001B[0;32m---> 37\u001B[0;31m         \u001B[0mres\u001B[0m \u001B[0;34m=\u001B[0m \u001B[0mnp\u001B[0m\u001B[0;34m.\u001B[0m\u001B[0marray\u001B[0m\u001B[0;34m(\u001B[0m\u001B[0mgrp\u001B[0m\u001B[0;34m[\u001B[0m\u001B[0;34m'traces'\u001B[0m\u001B[0;34m]\u001B[0m\u001B[0;34m)\u001B[0m\u001B[0;34m,\u001B[0m \u001B[0mnp\u001B[0m\u001B[0;34m.\u001B[0m\u001B[0marray\u001B[0m\u001B[0;34m(\u001B[0m\u001B[0mgrp\u001B[0m\u001B[0;34m[\u001B[0m\u001B[0;34m'hw'\u001B[0m\u001B[0;34m]\u001B[0m\u001B[0;34m)\u001B[0m\u001B[0;34m\u001B[0m\u001B[0;34m\u001B[0m\u001B[0m\n\u001B[0m\u001B[1;32m     38\u001B[0m \u001B[0;34m\u001B[0m\u001B[0m\n\u001B[1;32m     39\u001B[0m         \u001B[0mself\u001B[0m\u001B[0;34m.\u001B[0m\u001B[0mclose\u001B[0m\u001B[0;34m(\u001B[0m\u001B[0;34m)\u001B[0m\u001B[0;34m\u001B[0m\u001B[0;34m\u001B[0m\u001B[0m\n",
      "\u001B[0;32mh5py/_objects.pyx\u001B[0m in \u001B[0;36mh5py._objects.with_phil.wrapper\u001B[0;34m()\u001B[0m\n",
      "\u001B[0;32mh5py/_objects.pyx\u001B[0m in \u001B[0;36mh5py._objects.with_phil.wrapper\u001B[0;34m()\u001B[0m\n",
      "\u001B[0;32m~/anaconda3/envs/LA/lib/python3.9/site-packages/h5py/_hl/dataset.py\u001B[0m in \u001B[0;36m__array__\u001B[0;34m(self, dtype)\u001B[0m\n\u001B[1;32m   1007\u001B[0m             \u001B[0;32mreturn\u001B[0m \u001B[0marr\u001B[0m\u001B[0;34m\u001B[0m\u001B[0;34m\u001B[0m\u001B[0m\n\u001B[1;32m   1008\u001B[0m \u001B[0;34m\u001B[0m\u001B[0m\n\u001B[0;32m-> 1009\u001B[0;31m         \u001B[0mself\u001B[0m\u001B[0;34m.\u001B[0m\u001B[0mread_direct\u001B[0m\u001B[0;34m(\u001B[0m\u001B[0marr\u001B[0m\u001B[0;34m)\u001B[0m\u001B[0;34m\u001B[0m\u001B[0;34m\u001B[0m\u001B[0m\n\u001B[0m\u001B[1;32m   1010\u001B[0m         \u001B[0;32mreturn\u001B[0m \u001B[0marr\u001B[0m\u001B[0;34m\u001B[0m\u001B[0;34m\u001B[0m\u001B[0m\n\u001B[1;32m   1011\u001B[0m \u001B[0;34m\u001B[0m\u001B[0m\n",
      "\u001B[0;32m~/anaconda3/envs/LA/lib/python3.9/site-packages/h5py/_hl/dataset.py\u001B[0m in \u001B[0;36mread_direct\u001B[0;34m(self, dest, source_sel, dest_sel)\u001B[0m\n\u001B[1;32m    968\u001B[0m \u001B[0;34m\u001B[0m\u001B[0m\n\u001B[1;32m    969\u001B[0m             \u001B[0;32mfor\u001B[0m \u001B[0mmspace\u001B[0m \u001B[0;32min\u001B[0m \u001B[0mdest_sel\u001B[0m\u001B[0;34m.\u001B[0m\u001B[0mbroadcast\u001B[0m\u001B[0;34m(\u001B[0m\u001B[0msource_sel\u001B[0m\u001B[0;34m.\u001B[0m\u001B[0mmshape\u001B[0m\u001B[0;34m)\u001B[0m\u001B[0;34m:\u001B[0m\u001B[0;34m\u001B[0m\u001B[0;34m\u001B[0m\u001B[0m\n\u001B[0;32m--> 970\u001B[0;31m                 \u001B[0mself\u001B[0m\u001B[0;34m.\u001B[0m\u001B[0mid\u001B[0m\u001B[0;34m.\u001B[0m\u001B[0mread\u001B[0m\u001B[0;34m(\u001B[0m\u001B[0mmspace\u001B[0m\u001B[0;34m,\u001B[0m \u001B[0mfspace\u001B[0m\u001B[0;34m,\u001B[0m \u001B[0mdest\u001B[0m\u001B[0;34m,\u001B[0m \u001B[0mdxpl\u001B[0m\u001B[0;34m=\u001B[0m\u001B[0mself\u001B[0m\u001B[0;34m.\u001B[0m\u001B[0m_dxpl\u001B[0m\u001B[0;34m)\u001B[0m\u001B[0;34m\u001B[0m\u001B[0;34m\u001B[0m\u001B[0m\n\u001B[0m\u001B[1;32m    971\u001B[0m \u001B[0;34m\u001B[0m\u001B[0m\n\u001B[1;32m    972\u001B[0m     \u001B[0;32mdef\u001B[0m \u001B[0mwrite_direct\u001B[0m\u001B[0;34m(\u001B[0m\u001B[0mself\u001B[0m\u001B[0;34m,\u001B[0m \u001B[0msource\u001B[0m\u001B[0;34m,\u001B[0m \u001B[0msource_sel\u001B[0m\u001B[0;34m=\u001B[0m\u001B[0;32mNone\u001B[0m\u001B[0;34m,\u001B[0m \u001B[0mdest_sel\u001B[0m\u001B[0;34m=\u001B[0m\u001B[0;32mNone\u001B[0m\u001B[0;34m)\u001B[0m\u001B[0;34m:\u001B[0m\u001B[0;34m\u001B[0m\u001B[0;34m\u001B[0m\u001B[0m\n",
      "\u001B[0;31mKeyboardInterrupt\u001B[0m: "
     ]
    }
   ],
   "source": [
    "def prepare_traces_dl(x, y, x_att, y_att):\n",
    "    \"\"\"\n",
    "    Normalizes the traces, one-hot encodes the labels.\n",
    "    Returns profiling traces, labels and attack traces, labels.\n",
    "    \"\"\"\n",
    "    prof_mean, prof_std = x.mean(axis=0), x.std(axis=0)\n",
    "    norm_x = (x - prof_mean) / prof_std\n",
    "    norm_x_att = (x_att - prof_mean) / prof_std\n",
    "\n",
    "    return norm_x, encode(y), norm_x_att, encode(y_att)\n",
    "\n",
    "\n",
    "def build_mlp(x, y, params):\n",
    "    mdl = Sequential()\n",
    "    mdl.add(Dense(100, activation=params['activation'], input_shape=(x.shape[1],)))\n",
    "    mdl.add(Dense(100, activation=params['activation']))\n",
    "    mdl.add(Dense(100, activation=params['activation']))\n",
    "    mdl.add(Dense(100, activation=params['activation']))\n",
    "    mdl.add(Dense(9, activation='softmax'))\n",
    "\n",
    "    mdl.compile(optimizer=params['optimizer'], loss=params['losses'], metrics=['accuracy'])\n",
    "\n",
    "    out = mdl.fit(x, y, shuffle=True, batch_size=params['batch_size'], epochs=params['epochs'], verbose=False)\n",
    "\n",
    "    return out, mdl\n",
    "\n",
    "\n",
    "def make_mlp(x, y):\n",
    "    return build_mlp(x, y, {\n",
    "        'activation': 'relu',\n",
    "        'optimizer': Adam(learning_rate=0.001),\n",
    "        'losses': 'categorical_crossentropy',\n",
    "        'batch_size': 150,\n",
    "        'epochs': 5\n",
    "    })[1]\n",
    "\n",
    "def wegener_p(mdl: Model, x_att: np.ndarray, y_att: np.ndarray):\n",
    "    predictions = mdl.predict(x_att).argmax(axis=1)\n",
    "    labels = y_att.argmax(axis=1)\n",
    "\n",
    "    correct = np.sum(predictions == labels)\n",
    "    total = len(predictions)\n",
    "    # print(total, correct)\n",
    "\n",
    "    return binomial_test(total, correct)\n",
    "\n",
    "def la_gauss(db: Database, params):\n",
    "    for param in params:\n",
    "        pollution = Pollution(PollutionType.gauss, param)\n",
    "        print(\"Load traces         \", end=\"\\r\")\n",
    "        trace_set = TraceSetHW(db, pollution)\n",
    "\n",
    "        if os.path.exists(trace_set.path):\n",
    "            print(\"Prepare traces (1/2)\", end=\"\\r\")\n",
    "            x9, y9, x9_att, y9_att = prepare_traces_dl(*trace_set.profile(), *trace_set.attack())\n",
    "            print(\"Prepare traces (2/2)\", end=\"\\r\")\n",
    "            (x2, y2), (x2_att, y2_att) = reduce_fixed_fixed(x9, y9), reduce_fixed_fixed(x9_att, y9_att)\n",
    "\n",
    "            print(\"Make model (1/2)    \", end=\"\\r\")\n",
    "            mdl9 = make_mlp(x9, y9)\n",
    "            print(\"Make model (2/2)    \", end=\"\\r\")\n",
    "            mdl2 = make_mlp_wegener(x2, y2, False)\n",
    "\n",
    "            print(\"TVLA                \", end=\"\\r\")\n",
    "            tvla_ps = np.min(tvla_cri(trace_set, ORDER), axis=1)\n",
    "\n",
    "            print(\"Predict             \", end=\"\\r\")\n",
    "            dlla9_p, _ = dlla_hw(mdl9, x9_att, y9_att)\n",
    "            dlla2_p = wegener_p(mdl2, x2_att, y2_att)\n",
    "\n",
    "            print(f\"Gaussian noise ({param}). TVLA ({tvla_ps}). DLLA9 ({dlla9_p}). DLLA2 ({dlla2_p})\", end=\"\\r\")\n",
    "\n",
    "            for order, p in enumerate(tvla_ps):\n",
    "                if order > 0:\n",
    "                    store_results(db, f\"cri_tvla_{order}\", pollution, p)\n",
    "\n",
    "            store_results(db, \"dlla9\", pollution, dlla9_p)\n",
    "            store_results(db, \"dlla2\", pollution, dlla2_p)\n",
    "\n",
    "        print()\n",
    "\n",
    "while True:\n",
    "    la_gauss(Database.ascad, GAUSS_PARAMS)\n"
   ],
   "metadata": {
    "collapsed": false,
    "pycharm": {
     "name": "#%%\n"
    }
   }
  },
  {
   "cell_type": "code",
   "execution_count": 21,
   "outputs": [
    {
     "name": "stdout",
     "output_type": "stream",
     "text": [
      "Gaussian noise (40). TVLA ([1.00000000e+00 3.38213661e-04 1.53395620e-03]). DLLA9 (0.007780415462434079). DLLA2 (0.41190148733329396)\r\n"
     ]
    }
   ],
   "source": [],
   "metadata": {
    "collapsed": false,
    "pycharm": {
     "name": "#%%\n"
    }
   }
  }
 ],
 "metadata": {
  "kernelspec": {
   "display_name": "Python 3",
   "language": "python",
   "name": "python3"
  },
  "language_info": {
   "codemirror_mode": {
    "name": "ipython",
    "version": 2
   },
   "file_extension": ".py",
   "mimetype": "text/x-python",
   "name": "python",
   "nbconvert_exporter": "python",
   "pygments_lexer": "ipython2",
   "version": "2.7.6"
  }
 },
 "nbformat": 4,
 "nbformat_minor": 0
}