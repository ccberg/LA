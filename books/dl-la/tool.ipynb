{
 "cells": [
  {
   "cell_type": "markdown",
   "metadata": {
    "collapsed": true,
    "pycharm": {
     "name": "#%% md\n"
    }
   },
   "source": [
    "# DL-LA Tool"
   ]
  },
  {
   "cell_type": "code",
   "execution_count": 2,
   "outputs": [],
   "source": [
    "import numpy as np\n",
    "\n",
    "from src.tools.plotter import plot_p_gradient"
   ],
   "metadata": {
    "collapsed": false,
    "pycharm": {
     "name": "#%%\n"
    }
   }
  },
  {
   "cell_type": "code",
   "execution_count": 5,
   "outputs": [],
   "source": [
    "class LAMethod:\n",
    "    __p_gradient = None\n",
    "    __p_gradient_random = None\n",
    "\n",
    "    def min_p_value(self):\n",
    "        return self.__p_gradient[-1]\n",
    "\n",
    "    def plot_p_gradient(self):\n",
    "        plot_p_gradient({\"A vs. B\": self.__p_gradient, \"Random\": self.__p_gradient_random})\n",
    "\n",
    "\n",
    "class Traces:\n",
    "    def __init__(self, x, y, x_attack=None, y_attack=None, num_classes=None):\n",
    "        if num_classes < 1:\n",
    "            self.num_classes = np.argmax(y)\n",
    "            raise Warning(f\"Number of classes not specified, inferred number of classes: ({self.num_classes})\")\n",
    "\n",
    "        self.x, self.y, self.x_attack, self.y_attack = x, y, x_attack, y_attack\n",
    "\n",
    "    \n",
    "\n",
    "class DLLA(LAMethod):\n",
    "    def __init__(self, traces: Traces):\n",
    "        self.traces = traces\n",
    "\n",
    "class Wegener(LAMethod):\n",
    "    def __init__(self, traces: Traces):\n",
    "        super(traces)\n"
   ],
   "metadata": {
    "collapsed": false,
    "pycharm": {
     "name": "#%%\n"
    }
   }
  }
 ],
 "metadata": {
  "kernelspec": {
   "display_name": "Python 3",
   "language": "python",
   "name": "python3"
  },
  "language_info": {
   "codemirror_mode": {
    "name": "ipython",
    "version": 2
   },
   "file_extension": ".py",
   "mimetype": "text/x-python",
   "name": "python",
   "nbconvert_exporter": "python",
   "pygments_lexer": "ipython2",
   "version": "2.7.6"
  }
 },
 "nbformat": 4,
 "nbformat_minor": 0
}