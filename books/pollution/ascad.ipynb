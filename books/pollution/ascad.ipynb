{
 "cells": [
  {
   "cell_type": "code",
   "execution_count": 2,
   "outputs": [],
   "source": [
    "import os\n",
    "\n",
    "import numpy as np\n",
    "from keras import Sequential, Model\n",
    "from keras.layers import Dense\n",
    "from tensorflow.python.keras.optimizer_v2.adam import Adam\n",
    "\n",
    "from src.aes.sbox import s_box\n",
    "from src.data.loaders.ascad import ASCADData\n",
    "from src.dlla.hw import encode, dlla_hw\n",
    "from src.dlla.wegener import make_mlp_wegener, binomial_test\n",
    "from src.pollution.clock_jitter import clock_jitter\n",
    "from src.pollution.gaussian_noise import gaussian_noise\n",
    "from src.pollution.random_delay import random_delay\n",
    "from src.trace_set.database import Database\n",
    "from src.trace_set.pollution import Pollution, PollutionType\n",
    "from src.trace_set.set_hw import TraceSetHW\n",
    "from src.trace_set.transform import reduce_fixed_fixed, fixed_fixed\n",
    "from src.trace_set.window import get_windows, extract_traces\n",
    "from src.tvla.cri import tvla_cri\n",
    "from src.tvla.tvla import Group"
   ],
   "metadata": {
    "collapsed": false,
    "pycharm": {
     "name": "#%%\n"
    }
   }
  },
  {
   "cell_type": "code",
   "execution_count": 3,
   "outputs": [],
   "source": [
    "DB = Database.ascad\n",
    "RAW_DATA = ASCADData.raw()\n",
    "\n",
    "LIMIT_PROF = None\n",
    "LIMIT_ATT = None\n",
    "\n",
    "TARGET_ROUND = 0\n",
    "TARGET_BYTE = 2 # ASCAD: 0 for unprotected, 2 for masked byte."
   ],
   "metadata": {
    "collapsed": false,
    "pycharm": {
     "name": "#%%\n"
    }
   }
  },
  {
   "cell_type": "code",
   "execution_count": 4,
   "outputs": [],
   "source": [
    "RAW_TRACES = RAW_DATA['traces']\n",
    "TRACE_SET = TraceSetHW(DB)\n",
    "\n",
    "SAMPLE_TRACE = TRACE_SET.profile()[0][0]\n",
    "WINDOW, WINDOW_CXT = get_windows(RAW_TRACES, SAMPLE_TRACE)\n",
    "\n",
    "WINDOW = WINDOW[0] + 1150, WINDOW[0] + 1450"
   ],
   "metadata": {
    "collapsed": false,
    "pycharm": {
     "name": "#%%\n"
    }
   }
  },
  {
   "cell_type": "code",
   "execution_count": 5,
   "outputs": [],
   "source": [
    "# X_CXT = extract_traces(RAW_TRACES, WINDOW_CXT)[:-1]"
   ],
   "metadata": {
    "collapsed": false,
    "pycharm": {
     "name": "#%%\n"
    }
   }
  },
  {
   "cell_type": "code",
   "execution_count": 6,
   "outputs": [],
   "source": [
    "# PROFILING_MASK = np.ones(len(X_CXT), dtype=bool)\n",
    "# PROFILING_MASK[2::3] = 0\n",
    "#\n",
    "# PROF_PLAIN, PROF_KEY = TRACE_SET.profile_meta()\n",
    "# ATT_PLAIN, ATT_KEY = TRACE_SET.attack_meta()"
   ],
   "metadata": {
    "collapsed": false,
    "pycharm": {
     "name": "#%%\n"
    }
   }
  },
  {
   "cell_type": "code",
   "execution_count": 7,
   "outputs": [],
   "source": [
    "def state_byte_round_0(plain, key):\n",
    "    return s_box[plain ^ key]\n",
    "\n",
    "# Y_PROF = state_byte_round_0(PROF_PLAIN, PROF_KEY)\n",
    "# Y_ATT = state_byte_round_0(ATT_PLAIN, ATT_KEY)\n",
    "#\n",
    "# X_PROF_CXT = X_CXT[PROFILING_MASK]\n",
    "# X_ATT_CXT = X_CXT[~PROFILING_MASK]\n",
    "#\n",
    "# X_PROF, _ = TRACE_SET.profile()\n",
    "# X_ATT, _ = TRACE_SET.attack()\n",
    "\n",
    "# X_PROF_CXT.shape, PROF_KEY.shape"
   ],
   "metadata": {
    "collapsed": false,
    "pycharm": {
     "name": "#%%\n"
    }
   }
  },
  {
   "cell_type": "code",
   "execution_count": 8,
   "outputs": [],
   "source": [
    "JITTER_PARAMS = np.arange(0, .02, .01)\n",
    "\n",
    "# def apply_jitter(params):\n",
    "#     for param in params:\n",
    "#         pollution = Pollution(PollutionType.jitter, param)\n",
    "#         out = TraceSetHW(DB, pollution)\n",
    "#\n",
    "#         if not os.path.exists(out.path):\n",
    "#             x = clock_jitter(X_PROF_CXT, WINDOW, param)\n",
    "#             x_att = clock_jitter(X_ATT_CXT, WINDOW, param)\n",
    "#\n",
    "#             out.create(x, Y_PROF, x_att, Y_ATT)\n",
    "#\n",
    "#             x2, y2 = fixed_fixed(x, Y_PROF)\n",
    "#             a, b = x2[~y2], x2[y2]\n",
    "#             order = 2\n",
    "#             _, tvla_p = Group(a, order, True).t_test(Group(b, order, True), order)\n",
    "#             print(f\"Clock jitter ({param}): min-p: ({min(tvla_p)}).\")\n",
    "\n",
    "# apply_jitter(JITTER_PARAMS)"
   ],
   "metadata": {
    "collapsed": false,
    "pycharm": {
     "name": "#%%\n"
    }
   }
  },
  {
   "cell_type": "code",
   "execution_count": 9,
   "outputs": [],
   "source": [
    "DELAY_PARAMS = np.arange(0, .02, .01)\n",
    "A = 5\n",
    "B = 3\n",
    "DELAY_AMP = 10\n",
    "\n",
    "# def apply_delay(params):\n",
    "#     for param in params:\n",
    "#         pollution = Pollution(PollutionType.delay, param)\n",
    "#         out = TraceSetHW(DB, pollution)\n",
    "#\n",
    "#         if not os.path.exists(out.path):\n",
    "#             x = random_delay(X_PROF, A, B, DELAY_AMP, param)\n",
    "#             x_att = random_delay(X_ATT, A, B, DELAY_AMP, param)\n",
    "#\n",
    "#             out.create(x, Y_PROF, x_att, Y_ATT)\n",
    "#\n",
    "#             x2, y2 = fixed_fixed(x, Y_PROF)\n",
    "#             a, b = x2[~y2], x2[y2]\n",
    "#             order = 2\n",
    "#             _, tvla_p = Group(a, order, True).t_test(Group(b, order, True), order)\n",
    "#             print(f\"Random delay ({param}): min-p: ({min(tvla_p)}).\")\n",
    "\n",
    "# apply_delay(DELAY_PARAMS)"
   ],
   "metadata": {
    "collapsed": false,
    "pycharm": {
     "name": "#%%\n"
    }
   }
  },
  {
   "cell_type": "code",
   "execution_count": 10,
   "outputs": [],
   "source": [
    "GAUSS_PARAMS = np.arange(0, 22, 1)"
   ],
   "metadata": {
    "collapsed": false,
    "pycharm": {
     "name": "#%%\n"
    }
   }
  },
  {
   "cell_type": "markdown",
   "source": [
    "### TVLA vs. DL-LA"
   ],
   "metadata": {
    "collapsed": false,
    "pycharm": {
     "name": "#%% md\n"
    }
   }
  },
  {
   "cell_type": "code",
   "execution_count": 11,
   "outputs": [],
   "source": [
    "ORDER = 2\n",
    "\n",
    "def store_results(database: Database, method: str, pollution: Pollution, p):\n",
    "    file_name = f\"results_{database.name}.csv\"\n",
    "    with open(file_name, 'a') as f:\n",
    "        f.write(f\"{method};{pollution.type.name};{pollution.parameter};{p}\\n\")"
   ],
   "metadata": {
    "collapsed": false,
    "pycharm": {
     "name": "#%%\n"
    }
   }
  },
  {
   "cell_type": "code",
   "execution_count": 13,
   "outputs": [
    {
     "name": "stdout",
     "output_type": "stream",
     "text": [
      "PollutionType.gauss (0). TVLA ([1.00000000e+00 4.67799139e-03 7.24705065e-11]). DLLA9 (0.0). DLLA2 (0.0)\r\n",
      "PollutionType.gauss (1). TVLA ([1.00000000e+00 3.67444633e-02 7.86931526e-12]). DLLA9 (0.0). DLLA2 (0.0)\r\n",
      "Prepare traces (1/2)\r"
     ]
    },
    {
     "ename": "KeyboardInterrupt",
     "evalue": "",
     "output_type": "error",
     "traceback": [
      "\u001B[0;31m---------------------------------------------------------------------------\u001B[0m",
      "\u001B[0;31mKeyboardInterrupt\u001B[0m                         Traceback (most recent call last)",
      "\u001B[0;32m<ipython-input-13-3255ffb770c5>\u001B[0m in \u001B[0;36m<module>\u001B[0;34m\u001B[0m\n\u001B[1;32m     84\u001B[0m     \u001B[0;31m# la_benchmark(DB, PollutionType.jitter, JITTER_PARAMS)\u001B[0m\u001B[0;34m\u001B[0m\u001B[0;34m\u001B[0m\u001B[0;34m\u001B[0m\u001B[0m\n\u001B[1;32m     85\u001B[0m     \u001B[0;31m# la_benchmark(DB, PollutionType.delay, DELAY_PARAMS)\u001B[0m\u001B[0;34m\u001B[0m\u001B[0;34m\u001B[0m\u001B[0;34m\u001B[0m\u001B[0m\n\u001B[0;32m---> 86\u001B[0;31m     \u001B[0mla_benchmark\u001B[0m\u001B[0;34m(\u001B[0m\u001B[0mDB\u001B[0m\u001B[0;34m,\u001B[0m \u001B[0mPollutionType\u001B[0m\u001B[0;34m.\u001B[0m\u001B[0mgauss\u001B[0m\u001B[0;34m,\u001B[0m \u001B[0mGAUSS_PARAMS\u001B[0m\u001B[0;34m)\u001B[0m\u001B[0;34m\u001B[0m\u001B[0;34m\u001B[0m\u001B[0m\n\u001B[0m\u001B[1;32m     87\u001B[0m \u001B[0;34m\u001B[0m\u001B[0m\n\u001B[1;32m     88\u001B[0m \u001B[0;34m\u001B[0m\u001B[0m\n",
      "\u001B[0;32m<ipython-input-13-3255ffb770c5>\u001B[0m in \u001B[0;36mla_benchmark\u001B[0;34m(db, pollution_type, params)\u001B[0m\n\u001B[1;32m     53\u001B[0m         \u001B[0;32mif\u001B[0m \u001B[0mos\u001B[0m\u001B[0;34m.\u001B[0m\u001B[0mpath\u001B[0m\u001B[0;34m.\u001B[0m\u001B[0mexists\u001B[0m\u001B[0;34m(\u001B[0m\u001B[0mtrace_set\u001B[0m\u001B[0;34m.\u001B[0m\u001B[0mpath\u001B[0m\u001B[0;34m)\u001B[0m\u001B[0;34m:\u001B[0m\u001B[0;34m\u001B[0m\u001B[0;34m\u001B[0m\u001B[0m\n\u001B[1;32m     54\u001B[0m             \u001B[0mprint\u001B[0m\u001B[0;34m(\u001B[0m\u001B[0;34m\"Prepare traces (1/2)\"\u001B[0m\u001B[0;34m,\u001B[0m \u001B[0mend\u001B[0m\u001B[0;34m=\u001B[0m\u001B[0;34m\"\\r\"\u001B[0m\u001B[0;34m)\u001B[0m\u001B[0;34m\u001B[0m\u001B[0;34m\u001B[0m\u001B[0m\n\u001B[0;32m---> 55\u001B[0;31m             \u001B[0mx9\u001B[0m\u001B[0;34m,\u001B[0m \u001B[0my9\u001B[0m\u001B[0;34m,\u001B[0m \u001B[0mx9_att\u001B[0m\u001B[0;34m,\u001B[0m \u001B[0my9_att\u001B[0m \u001B[0;34m=\u001B[0m \u001B[0mprepare_traces_dl\u001B[0m\u001B[0;34m(\u001B[0m\u001B[0;34m*\u001B[0m\u001B[0mtrace_set\u001B[0m\u001B[0;34m.\u001B[0m\u001B[0mprofile\u001B[0m\u001B[0;34m(\u001B[0m\u001B[0;34m)\u001B[0m\u001B[0;34m,\u001B[0m \u001B[0;34m*\u001B[0m\u001B[0mtrace_set\u001B[0m\u001B[0;34m.\u001B[0m\u001B[0mattack\u001B[0m\u001B[0;34m(\u001B[0m\u001B[0;34m)\u001B[0m\u001B[0;34m)\u001B[0m\u001B[0;34m\u001B[0m\u001B[0;34m\u001B[0m\u001B[0m\n\u001B[0m\u001B[1;32m     56\u001B[0m             \u001B[0mprint\u001B[0m\u001B[0;34m(\u001B[0m\u001B[0;34m\"Prepare traces (2/2)\"\u001B[0m\u001B[0;34m,\u001B[0m \u001B[0mend\u001B[0m\u001B[0;34m=\u001B[0m\u001B[0;34m\"\\r\"\u001B[0m\u001B[0;34m)\u001B[0m\u001B[0;34m\u001B[0m\u001B[0;34m\u001B[0m\u001B[0m\n\u001B[1;32m     57\u001B[0m             \u001B[0;34m(\u001B[0m\u001B[0mx2\u001B[0m\u001B[0;34m,\u001B[0m \u001B[0my2\u001B[0m\u001B[0;34m)\u001B[0m\u001B[0;34m,\u001B[0m \u001B[0;34m(\u001B[0m\u001B[0mx2_att\u001B[0m\u001B[0;34m,\u001B[0m \u001B[0my2_att\u001B[0m\u001B[0;34m)\u001B[0m \u001B[0;34m=\u001B[0m \u001B[0mreduce_fixed_fixed\u001B[0m\u001B[0;34m(\u001B[0m\u001B[0mx9\u001B[0m\u001B[0;34m,\u001B[0m \u001B[0my9\u001B[0m\u001B[0;34m)\u001B[0m\u001B[0;34m,\u001B[0m \u001B[0mreduce_fixed_fixed\u001B[0m\u001B[0;34m(\u001B[0m\u001B[0mx9_att\u001B[0m\u001B[0;34m,\u001B[0m \u001B[0my9_att\u001B[0m\u001B[0;34m)\u001B[0m\u001B[0;34m\u001B[0m\u001B[0;34m\u001B[0m\u001B[0m\n",
      "\u001B[0;32m<ipython-input-13-3255ffb770c5>\u001B[0m in \u001B[0;36mprepare_traces_dl\u001B[0;34m(x, y, x_att, y_att)\u001B[0m\n\u001B[1;32m      4\u001B[0m     \u001B[0mReturns\u001B[0m \u001B[0mprofiling\u001B[0m \u001B[0mtraces\u001B[0m\u001B[0;34m,\u001B[0m \u001B[0mlabels\u001B[0m \u001B[0;32mand\u001B[0m \u001B[0mattack\u001B[0m \u001B[0mtraces\u001B[0m\u001B[0;34m,\u001B[0m \u001B[0mlabels\u001B[0m\u001B[0;34m.\u001B[0m\u001B[0;34m\u001B[0m\u001B[0;34m\u001B[0m\u001B[0m\n\u001B[1;32m      5\u001B[0m     \"\"\"\n\u001B[0;32m----> 6\u001B[0;31m     \u001B[0mprof_mean\u001B[0m\u001B[0;34m,\u001B[0m \u001B[0mprof_std\u001B[0m \u001B[0;34m=\u001B[0m \u001B[0mx\u001B[0m\u001B[0;34m.\u001B[0m\u001B[0mmean\u001B[0m\u001B[0;34m(\u001B[0m\u001B[0maxis\u001B[0m\u001B[0;34m=\u001B[0m\u001B[0;36m0\u001B[0m\u001B[0;34m)\u001B[0m\u001B[0;34m,\u001B[0m \u001B[0mx\u001B[0m\u001B[0;34m.\u001B[0m\u001B[0mstd\u001B[0m\u001B[0;34m(\u001B[0m\u001B[0maxis\u001B[0m\u001B[0;34m=\u001B[0m\u001B[0;36m0\u001B[0m\u001B[0;34m)\u001B[0m\u001B[0;34m\u001B[0m\u001B[0;34m\u001B[0m\u001B[0m\n\u001B[0m\u001B[1;32m      7\u001B[0m     \u001B[0mnorm_x\u001B[0m \u001B[0;34m=\u001B[0m \u001B[0;34m(\u001B[0m\u001B[0mx\u001B[0m \u001B[0;34m-\u001B[0m \u001B[0mprof_mean\u001B[0m\u001B[0;34m)\u001B[0m \u001B[0;34m/\u001B[0m \u001B[0mprof_std\u001B[0m\u001B[0;34m\u001B[0m\u001B[0;34m\u001B[0m\u001B[0m\n\u001B[1;32m      8\u001B[0m     \u001B[0mnorm_x_att\u001B[0m \u001B[0;34m=\u001B[0m \u001B[0;34m(\u001B[0m\u001B[0mx_att\u001B[0m \u001B[0;34m-\u001B[0m \u001B[0mprof_mean\u001B[0m\u001B[0;34m)\u001B[0m \u001B[0;34m/\u001B[0m \u001B[0mprof_std\u001B[0m\u001B[0;34m\u001B[0m\u001B[0;34m\u001B[0m\u001B[0m\n",
      "\u001B[0;32m~/anaconda3/envs/LA/lib/python3.9/site-packages/numpy/core/_methods.py\u001B[0m in \u001B[0;36m_std\u001B[0;34m(a, axis, dtype, out, ddof, keepdims)\u001B[0m\n\u001B[1;32m    231\u001B[0m \u001B[0;34m\u001B[0m\u001B[0m\n\u001B[1;32m    232\u001B[0m \u001B[0;32mdef\u001B[0m \u001B[0m_std\u001B[0m\u001B[0;34m(\u001B[0m\u001B[0ma\u001B[0m\u001B[0;34m,\u001B[0m \u001B[0maxis\u001B[0m\u001B[0;34m=\u001B[0m\u001B[0;32mNone\u001B[0m\u001B[0;34m,\u001B[0m \u001B[0mdtype\u001B[0m\u001B[0;34m=\u001B[0m\u001B[0;32mNone\u001B[0m\u001B[0;34m,\u001B[0m \u001B[0mout\u001B[0m\u001B[0;34m=\u001B[0m\u001B[0;32mNone\u001B[0m\u001B[0;34m,\u001B[0m \u001B[0mddof\u001B[0m\u001B[0;34m=\u001B[0m\u001B[0;36m0\u001B[0m\u001B[0;34m,\u001B[0m \u001B[0mkeepdims\u001B[0m\u001B[0;34m=\u001B[0m\u001B[0;32mFalse\u001B[0m\u001B[0;34m)\u001B[0m\u001B[0;34m:\u001B[0m\u001B[0;34m\u001B[0m\u001B[0;34m\u001B[0m\u001B[0m\n\u001B[0;32m--> 233\u001B[0;31m     ret = _var(a, axis=axis, dtype=dtype, out=out, ddof=ddof,\n\u001B[0m\u001B[1;32m    234\u001B[0m                keepdims=keepdims)\n\u001B[1;32m    235\u001B[0m \u001B[0;34m\u001B[0m\u001B[0m\n",
      "\u001B[0;32m~/anaconda3/envs/LA/lib/python3.9/site-packages/numpy/core/_methods.py\u001B[0m in \u001B[0;36m_var\u001B[0;34m(a, axis, dtype, out, ddof, keepdims)\u001B[0m\n\u001B[1;32m    203\u001B[0m \u001B[0;34m\u001B[0m\u001B[0m\n\u001B[1;32m    204\u001B[0m     \u001B[0;32mif\u001B[0m \u001B[0missubclass\u001B[0m\u001B[0;34m(\u001B[0m\u001B[0marr\u001B[0m\u001B[0;34m.\u001B[0m\u001B[0mdtype\u001B[0m\u001B[0;34m.\u001B[0m\u001B[0mtype\u001B[0m\u001B[0;34m,\u001B[0m \u001B[0;34m(\u001B[0m\u001B[0mnt\u001B[0m\u001B[0;34m.\u001B[0m\u001B[0mfloating\u001B[0m\u001B[0;34m,\u001B[0m \u001B[0mnt\u001B[0m\u001B[0;34m.\u001B[0m\u001B[0minteger\u001B[0m\u001B[0;34m)\u001B[0m\u001B[0;34m)\u001B[0m\u001B[0;34m:\u001B[0m\u001B[0;34m\u001B[0m\u001B[0;34m\u001B[0m\u001B[0m\n\u001B[0;32m--> 205\u001B[0;31m         \u001B[0mx\u001B[0m \u001B[0;34m=\u001B[0m \u001B[0mum\u001B[0m\u001B[0;34m.\u001B[0m\u001B[0mmultiply\u001B[0m\u001B[0;34m(\u001B[0m\u001B[0mx\u001B[0m\u001B[0;34m,\u001B[0m \u001B[0mx\u001B[0m\u001B[0;34m,\u001B[0m \u001B[0mout\u001B[0m\u001B[0;34m=\u001B[0m\u001B[0mx\u001B[0m\u001B[0;34m)\u001B[0m\u001B[0;34m\u001B[0m\u001B[0;34m\u001B[0m\u001B[0m\n\u001B[0m\u001B[1;32m    206\u001B[0m     \u001B[0;31m# Fast-paths for built-in complex types\u001B[0m\u001B[0;34m\u001B[0m\u001B[0;34m\u001B[0m\u001B[0;34m\u001B[0m\u001B[0m\n\u001B[1;32m    207\u001B[0m     \u001B[0;32melif\u001B[0m \u001B[0mx\u001B[0m\u001B[0;34m.\u001B[0m\u001B[0mdtype\u001B[0m \u001B[0;32min\u001B[0m \u001B[0m_complex_to_float\u001B[0m\u001B[0;34m:\u001B[0m\u001B[0;34m\u001B[0m\u001B[0;34m\u001B[0m\u001B[0m\n",
      "\u001B[0;31mKeyboardInterrupt\u001B[0m: "
     ]
    }
   ],
   "source": [
    "def prepare_traces_dl(x, y, x_att, y_att):\n",
    "    \"\"\"\n",
    "    Normalizes the traces, one-hot encodes the labels.\n",
    "    Returns profiling traces, labels and attack traces, labels.\n",
    "    \"\"\"\n",
    "    prof_mean, prof_std = x.mean(axis=0), x.std(axis=0)\n",
    "    norm_x = (x - prof_mean) / prof_std\n",
    "    norm_x_att = (x_att - prof_mean) / prof_std\n",
    "\n",
    "    return norm_x, encode(y), norm_x_att, encode(y_att)\n",
    "\n",
    "\n",
    "def build_mlp(x, y, params):\n",
    "    mdl = Sequential()\n",
    "    mdl.add(Dense(100, activation=params['activation'], input_shape=(x.shape[1],)))\n",
    "    mdl.add(Dense(100, activation=params['activation']))\n",
    "    mdl.add(Dense(100, activation=params['activation']))\n",
    "    mdl.add(Dense(100, activation=params['activation']))\n",
    "    mdl.add(Dense(9, activation='softmax'))\n",
    "\n",
    "    mdl.compile(optimizer=params['optimizer'], loss=params['losses'], metrics=['accuracy'])\n",
    "\n",
    "    out = mdl.fit(x, y, shuffle=True, batch_size=params['batch_size'], epochs=params['epochs'], verbose=False)\n",
    "\n",
    "    return out, mdl\n",
    "\n",
    "\n",
    "def make_mlp(x, y):\n",
    "    return build_mlp(x, y, {\n",
    "        'activation': 'relu',\n",
    "        'optimizer': Adam(learning_rate=0.001),\n",
    "        'losses': 'categorical_crossentropy',\n",
    "        'batch_size': 150,\n",
    "        'epochs': 5\n",
    "    })[1]\n",
    "\n",
    "def wegener_p(mdl: Model, x_att: np.ndarray, y_att: np.ndarray):\n",
    "    predictions = mdl.predict(x_att).argmax(axis=1)\n",
    "    labels = y_att.argmax(axis=1)\n",
    "\n",
    "    correct = np.sum(predictions == labels)\n",
    "    total = len(predictions)\n",
    "    # print(total, correct)\n",
    "\n",
    "    return binomial_test(total, correct)\n",
    "\n",
    "def la_benchmark(db: Database, pollution_type: PollutionType, params):\n",
    "    for param in params:\n",
    "        pollution = Pollution(pollution_type, param)\n",
    "        print(\"Load traces         \", end=\"\\r\")\n",
    "        trace_set = TraceSetHW(db, pollution, (LIMIT_PROF, LIMIT_ATT))\n",
    "\n",
    "        if os.path.exists(trace_set.path):\n",
    "            print(\"Prepare traces (1/2)\", end=\"\\r\")\n",
    "            x9, y9, x9_att, y9_att = prepare_traces_dl(*trace_set.profile(), *trace_set.attack())\n",
    "            print(\"Prepare traces (2/2)\", end=\"\\r\")\n",
    "            (x2, y2), (x2_att, y2_att) = reduce_fixed_fixed(x9, y9), reduce_fixed_fixed(x9_att, y9_att)\n",
    "\n",
    "            print(\"Make model (1/2)    \", end=\"\\r\")\n",
    "            mdl9 = make_mlp(x9, y9)\n",
    "            print(\"Make model (2/2)    \", end=\"\\r\")\n",
    "            mdl2 = make_mlp_wegener(x2, y2, False)\n",
    "\n",
    "            print(\"TVLA                \", end=\"\\r\")\n",
    "            tvla_ps = np.min(tvla_cri(*fixed_fixed(*trace_set.profile()), ORDER), axis=1)\n",
    "\n",
    "            print(\"Predict             \", end=\"\\r\")\n",
    "            dlla9_p = dlla_hw(mdl9, x9_att, y9_att)\n",
    "            dlla2_p = wegener_p(mdl2, x2_att, y2_att)\n",
    "\n",
    "            print(f\"{pollution_type} ({param}). TVLA ({tvla_ps}). DLLA9 ({dlla9_p}). DLLA2 ({dlla2_p})\", end=\"\\r\")\n",
    "            # print(f\"{pollution_type} ({param}). TVLA ({tvla_ps})\", end=\"\\r\")\n",
    "\n",
    "            for order, p in enumerate(tvla_ps):\n",
    "                if order > 0:\n",
    "                    store_results(db, f\"cri_tvla_{order}\", pollution, p)\n",
    "\n",
    "            store_results(db, \"dlla9\", pollution, dlla9_p)\n",
    "            store_results(db, \"dlla2\", pollution, dlla2_p)\n",
    "\n",
    "        print()\n",
    "\n",
    "while True:\n",
    "    # la_benchmark(DB, PollutionType.jitter, JITTER_PARAMS)\n",
    "    # la_benchmark(DB, PollutionType.delay, DELAY_PARAMS)\n",
    "    la_benchmark(DB, PollutionType.gauss, GAUSS_PARAMS)\n"
   ],
   "metadata": {
    "collapsed": false,
    "pycharm": {
     "name": "#%%\n"
    }
   }
  },
  {
   "cell_type": "code",
   "execution_count": 14,
   "outputs": [
    {
     "name": "stdout",
     "output_type": "stream",
     "text": [
      "PollutionType.gauss (40). TVLA ([1.         0.03040189 0.03010203]). DLLA9 (0.024706569401522823). DLLA2 (0.5706876276054733)\r\n"
     ]
    }
   ],
   "source": [
    "la_benchmark(DB, PollutionType.gauss, [40])"
   ],
   "metadata": {
    "collapsed": false,
    "pycharm": {
     "name": "#%%\n"
    }
   }
  }
 ],
 "metadata": {
  "kernelspec": {
   "display_name": "Python 3",
   "language": "python",
   "name": "python3"
  },
  "language_info": {
   "codemirror_mode": {
    "name": "ipython",
    "version": 2
   },
   "file_extension": ".py",
   "mimetype": "text/x-python",
   "name": "python",
   "nbconvert_exporter": "python",
   "pygments_lexer": "ipython2",
   "version": "2.7.6"
  }
 },
 "nbformat": 4,
 "nbformat_minor": 0
}