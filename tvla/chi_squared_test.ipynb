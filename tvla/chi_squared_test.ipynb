{
 "cells": [
  {
   "cell_type": "markdown",
   "metadata": {
    "collapsed": true,
    "pycharm": {
     "name": "#%% md\n"
    }
   },
   "source": [
    "Based on Section 2.3 from the paper of Moradi et al. (2018), page 4-6"
   ]
  },
  {
   "cell_type": "code",
   "execution_count": 4,
   "outputs": [
    {
     "data": {
      "text/plain": "[[[0.9, 0.9], [1.8, 1.8]]]"
     },
     "execution_count": 4,
     "metadata": {},
     "output_type": "execute_result"
    }
   ],
   "source": [
    "lst = [[[1,1], [2,2]]]\n",
    "\n",
    "sensl = lambda ls, x: [[[left + left * x, right + right * x] for left, right in ls_nest] for ls_nest in ls]\n",
    "\n",
    "def sens(ls, x):\n",
    "    return [[[left + left * x, right + right * x] for left, right in ls_nest] for ls_nest in ls]\n",
    "\n",
    "sens(lst, -.1)"
   ],
   "metadata": {
    "collapsed": false,
    "pycharm": {
     "name": "#%%\n"
    }
   }
  }
 ],
 "metadata": {
  "kernelspec": {
   "display_name": "Python 3",
   "language": "python",
   "name": "python3"
  },
  "language_info": {
   "codemirror_mode": {
    "name": "ipython",
    "version": 2
   },
   "file_extension": ".py",
   "mimetype": "text/x-python",
   "name": "python",
   "nbconvert_exporter": "python",
   "pygments_lexer": "ipython2",
   "version": "2.7.6"
  }
 },
 "nbformat": 4,
 "nbformat_minor": 0
}