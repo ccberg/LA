{
 "cells": [
  {
   "cell_type": "code",
   "execution_count": 6,
   "metadata": {
    "collapsed": true
   },
   "outputs": [],
   "source": [
    "import numpy as np\n",
    "from sklearn import datasets\n",
    "from scipy.stats import f\n",
    "\n",
    "from src.trace_set.database import Database\n",
    "from src.trace_set.set_hw import TraceSetHW\n",
    "from src.trace_set.transform import fixed_fixed\n",
    "from src.tvla.tvla import prepare_tvla"
   ]
  },
  {
   "cell_type": "code",
   "execution_count": null,
   "outputs": [],
   "source": [
    "def two_sample_t2_test(x, y):\n",
    "    nx, p = x.shape\n",
    "    ny, _ = y.shape\n",
    "\n",
    "    delta = np.mean(x, axis=0) - np.mean(y, axis=0)\n",
    "\n",
    "    sx = np.cov(x, rowvar=False)\n",
    "    sy = np.cov(y, rowvar=False)\n",
    "\n",
    "    s_pooled = ((nx - 1) * sx + (ny - 1) * sy) / (nx + ny - 2)\n",
    "    t_squared = (nx * ny) / (nx + ny) * np.matmul(np.matmul(delta.transpose(), np.linalg.inv(s_pooled)), delta)\n",
    "\n",
    "    statistic = t_squared * (nx + ny - p - 1) / (p * (nx + ny - 2))\n",
    "\n",
    "    f_value = f(p, nx + ny - p - 1)\n",
    "    p_value = 1 - f_value.cdf(statistic)\n",
    "\n",
    "    print(f\"Test statistic: {statistic}\\nDegrees of freedom: {p} and {nx + ny - p - 1}\\np-value: {p_value}\")\n",
    "\n",
    "    return statistic, p_value\n",
    "\n",
    "iris = datasets.load_iris()\n",
    "versicolor = iris.data[iris.target == 1, :2]\n",
    "virginica = iris.data[iris.target == 2, :2]\n",
    "two_sample_t2_test(versicolor, virginica)\n",
    "\n",
    "## Test statistic: 15.82660099191812\n",
    "## Degrees of freedom: 2 and 97\n",
    "## p-value: 1.1259783253558808e-06"
   ],
   "metadata": {
    "collapsed": false,
    "pycharm": {
     "name": "#%%\n"
    }
   }
  },
  {
   "cell_type": "code",
   "execution_count": 23,
   "outputs": [
    {
     "name": "stdout",
     "output_type": "stream",
     "text": [
      "Test statistic: 285.22198236337806\n",
      "Degrees of freedom: 1977 and 143026\n",
      "p-value: 1.1102230246251565e-16\n",
      "Test statistic: 1.0009020559617412\n",
      "Degrees of freedom: 1977 and 143026\n",
      "p-value: 0.4846278378517652\n"
     ]
    },
    {
     "data": {
      "text/plain": "(1.0009020559617412, 0.4846278378517652)"
     },
     "execution_count": 23,
     "metadata": {},
     "output_type": "execute_result"
    }
   ],
   "source": [
    "TRACE_SET = TraceSetHW(Database.ascad_none)\n",
    "X, Y = prepare_tvla(*TRACE_SET.profile())\n",
    "\n",
    "X_LIM = X\n",
    "Y_RANDOM = Y.copy()\n",
    "np.random.shuffle(Y_RANDOM)\n",
    "\n",
    "A, B = X_LIM[~Y], X_LIM[Y]\n",
    "A_RAND, B_RAND = X_LIM[~Y_RANDOM], X_LIM[Y_RANDOM]\n",
    "\n",
    "two_sample_t2_test(A, B)\n",
    "two_sample_t2_test(A_RAND, B_RAND)"
   ],
   "metadata": {
    "collapsed": false,
    "pycharm": {
     "name": "#%%\n"
    }
   }
  },
  {
   "cell_type": "code",
   "execution_count": null,
   "outputs": [],
   "source": [],
   "metadata": {
    "collapsed": false,
    "pycharm": {
     "name": "#%%\n"
    }
   }
  }
 ],
 "metadata": {
  "kernelspec": {
   "display_name": "Python 3",
   "language": "python",
   "name": "python3"
  },
  "language_info": {
   "codemirror_mode": {
    "name": "ipython",
    "version": 2
   },
   "file_extension": ".py",
   "mimetype": "text/x-python",
   "name": "python",
   "nbconvert_exporter": "python",
   "pygments_lexer": "ipython2",
   "version": "2.7.6"
  }
 },
 "nbformat": 4,
 "nbformat_minor": 0
}