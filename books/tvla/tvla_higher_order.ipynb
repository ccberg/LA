{
 "cells": [
  {
   "cell_type": "code",
   "execution_count": 2,
   "metadata": {
    "collapsed": true
   },
   "outputs": [],
   "source": [
    "from math import comb\n",
    "\n",
    "import numpy as np\n",
    "from numpy.testing import assert_almost_equal, assert_equal\n",
    "from scipy.stats import t as stats_t, moment\n",
    "from scipy.stats import ttest_ind\n",
    "\n",
    "from tqdm import tqdm"
   ]
  },
  {
   "cell_type": "code",
   "execution_count": 3,
   "outputs": [],
   "source": [
    "from src.tvla.tvla import Tvla, order_test\n",
    "\n",
    "TRACE_LEN = 1\n",
    "\n",
    "def make_t_test(n: int):\n",
    "    \"\"\"\n",
    "    Returns a t-test that takes the sample mean and variance for a list of sample points from A, and a list of sample\n",
    "    points for B.\n",
    "    \"\"\"\n",
    "    def welch_t_test(ma: np.array, va: np.array, mb: np.array, vb: np.array):\n",
    "        m = ma - mb\n",
    "\n",
    "        sa = va / n\n",
    "        sb = vb / n\n",
    "\n",
    "        sab = sa + sb\n",
    "        t = m / np.sqrt(sab)\n",
    "\n",
    "        dof = sab ** 2 / ((sa ** 2 + sb ** 2) / (n - 1))\n",
    "\n",
    "        p = 2 * stats_t(df=dof).cdf(-np.abs(t))\n",
    "\n",
    "        return t, p\n",
    "\n",
    "    return welch_t_test\n",
    "\n",
    "\n",
    "def gen_example(mean, trace_num, trace_len=TRACE_LEN):\n",
    "    return np.random.normal(mean, 2.2, size=(trace_num, trace_len)).astype(int)\n",
    "\n",
    "\n",
    "def get_mv(x: np.array):\n",
    "    return np.array((x.mean(axis=0, dtype=np.float64), x.var(axis=0, dtype=np.float64)))\n",
    "\n",
    "\n",
    "num_traces = 1000000\n",
    "\n",
    "ex_a = gen_example(2, num_traces)\n",
    "ex_b = gen_example(2, num_traces)\n",
    "\n",
    "res_sp = ttest_ind(ex_a, ex_b, axis=0, equal_var=False)[1]\n",
    "\n",
    "test = make_t_test(num_traces)\n",
    "\n",
    "res_custom = test(*get_mv(ex_a), *get_mv(ex_b))[1]\n",
    "\n",
    "assert_almost_equal(res_custom, res_sp, decimal=3)\n"
   ],
   "metadata": {
    "collapsed": false,
    "pycharm": {
     "name": "#%%\n"
    }
   }
  },
  {
   "cell_type": "code",
   "execution_count": 5,
   "outputs": [],
   "source": [
    "for M in range(1, 10):\n",
    "    assert_almost_equal(central_moment(ex_a, M), moment(ex_a, M, axis=0))"
   ],
   "metadata": {
    "collapsed": false,
    "pycharm": {
     "name": "#%%\n"
    }
   }
  },
  {
   "cell_type": "code",
   "execution_count": 6,
   "outputs": [],
   "source": [
    "test_1 = order_test(num_traces, 1)\n",
    "\n",
    "assert_almost_equal(test_1(ex_a, ex_b)[0], ttest_ind(ex_a, ex_b, axis=0)[0], 2)"
   ],
   "metadata": {
    "collapsed": false,
    "pycharm": {
     "name": "#%%\n"
    }
   }
  },
  {
   "cell_type": "markdown",
   "source": [
    "$(\\frac{n - 1}{n} \\Delta) ^ d = 0$ for $n = 1$."
   ],
   "metadata": {
    "collapsed": false
   }
  },
  {
   "cell_type": "code",
   "execution_count": 7,
   "outputs": [
    {
     "data": {
      "text/plain": "(0.0, 0)"
     },
     "execution_count": 7,
     "metadata": {},
     "output_type": "execute_result"
    }
   ],
   "source": [
    "def cm1(m1, y, n):\n",
    "    delta = y - m1\n",
    "    return m1 + delta / n\n",
    "\n",
    "cm1(np.zeros(1), ex_a[0], 1)[0], ex_a[0][0]"
   ],
   "metadata": {
    "collapsed": false,
    "pycharm": {
     "name": "#%%\n"
    }
   }
  },
  {
   "cell_type": "code",
   "execution_count": 8,
   "outputs": [
    {
     "name": "stderr",
     "output_type": "stream",
     "text": [
      "100%|██████████| 1/1 [00:00<00:00, 5262.61it/s]\n"
     ]
    },
    {
     "data": {
      "text/plain": "(array([-0.777195]), array([-0.828]))"
     },
     "execution_count": 8,
     "metadata": {},
     "output_type": "execute_result"
    }
   ],
   "source": [
    "class GroupAccu:\n",
    "    \"\"\"\n",
    "    Based on the incremental calculation from the paper.\n",
    "    \"\"\"\n",
    "    def __init__(self, trace_len, max_order=1):\n",
    "        self.trace_len = trace_len\n",
    "        self.max_order = max_order + 1\n",
    "        self.max_computed_order = 2 * max_order + 1\n",
    "\n",
    "        self.n = 0\n",
    "\n",
    "        shape = (self.max_computed_order, trace_len)\n",
    "        self.cs, self.cm = np.zeros(shape), np.zeros(shape)\n",
    "        self.mean = np.zeros(trace_len)\n",
    "\n",
    "    def __add_order(self, x, d):\n",
    "        delta = x - self.mean\n",
    "\n",
    "        if d == 1:\n",
    "            self.mean += delta / self.n\n",
    "        if d >= 2:\n",
    "            acc = self.cs[d]\n",
    "\n",
    "            for k in range(1, d - 1):\n",
    "                acc += comb(d, k) * self.cs[d-k] * (- delta / self.n) ** k\n",
    "\n",
    "            if self.n > 1:\n",
    "                acc += ((((self.n-1)/self.n)*delta) ** d) * (1 - (-1/(self.n-1)) ** (d - 1))\n",
    "\n",
    "            self.cs[d] = acc\n",
    "\n",
    "\n",
    "    def sm(self, d):\n",
    "        \"\"\"\n",
    "        Estimated Standardized Moment of a given order.\n",
    "        \"\"\"\n",
    "        if d > 2:\n",
    "            return self.cm[d] / (self.cm[d] ** (d / 2))\n",
    "        if d == 2:\n",
    "            return self.cm[d]\n",
    "        if d == 1:\n",
    "            return self.cm[d]\n",
    "\n",
    "    def s2(self, d):\n",
    "        \"\"\"\n",
    "        Estimated Variance of a given order.\n",
    "        \"\"\"\n",
    "        if d == 1:\n",
    "            return self.cm[2]\n",
    "        if d == 2:\n",
    "            return self.cm[4] - (self.cm[2] ** 2)\n",
    "        if d > 2:\n",
    "            return (self.cm[d * 2] - (self.cm[d] ** 2)) / (self.cm[2] ** d)\n",
    "\n",
    "    def __add(self, x):\n",
    "        self.n += 1\n",
    "\n",
    "        for d in range(1, self.max_computed_order):\n",
    "            self.__add_order(x, d)\n",
    "            self.cm[2:] = self.cs[2:] / self.n\n",
    "\n",
    "    def add(self, traces):\n",
    "        skip_first = len(traces) - 1\n",
    "\n",
    "        if self.n == 0:\n",
    "            for d in range(2, self.max_computed_order):\n",
    "                self.mean = traces[:skip_first].mean(axis=0)\n",
    "                self.cs[d] = central_sum(traces[:skip_first], d)\n",
    "                self.cm[d] = self.cs[d] / skip_first\n",
    "\n",
    "            self.n = skip_first\n",
    "            traces = traces[skip_first:]\n",
    "\n",
    "        # Function can be reduced to this\n",
    "        for x in tqdm(traces):\n",
    "            self.__add(x)\n",
    "\n",
    "GRP = GroupAccu(1, 3)\n",
    "NUM = 10\n",
    "GRP.add(ex_a[:NUM])\n",
    "\n",
    "assert_almost_equal(GRP.mean, ex_a[:NUM].mean(axis=0))\n",
    "\n",
    "# TODO it starts to deviate immediately.\n",
    "GRP.cm[3], moment(ex_a[:NUM], 3)\n",
    "# And then it converges back to the correct moment."
   ],
   "metadata": {
    "collapsed": false,
    "pycharm": {
     "name": "#%%\n"
    }
   }
  },
  {
   "cell_type": "code",
   "execution_count": 17,
   "outputs": [
    {
     "name": "stderr",
     "output_type": "stream",
     "text": [
      "100%|██████████| 1000/1000 [00:02<00:00, 477.68it/s]\n"
     ]
    },
    {
     "data": {
      "text/plain": "[1.0, 0.028561138245263542, 1.0344900418610505e-16, 0.4037516238140457]"
     },
     "execution_count": 17,
     "metadata": {},
     "output_type": "execute_result"
    }
   ],
   "source": [
    "NUM = 1000\n",
    "tvla = Tvla(1)\n",
    "\n",
    "def gen_example_var(variance=2.2, trace_num=1000, trace_len=TRACE_LEN):\n",
    "    return np.random.normal(2, variance, size=(trace_num, trace_len)).astype(int)\n",
    "\n",
    "tvla.add(ex_a[:NUM], gen_example_var(3, NUM))\n",
    "\n",
    "tvla.min_p_order()"
   ],
   "metadata": {
    "collapsed": false,
    "pycharm": {
     "name": "#%%\n"
    }
   }
  },
  {
   "cell_type": "code",
   "execution_count": 19,
   "outputs": [
    {
     "data": {
      "text/plain": "1.0344900418610505e-16"
     },
     "execution_count": 19,
     "metadata": {},
     "output_type": "execute_result"
    }
   ],
   "source": [
    "tvla.p_gradient(2)[-1]"
   ],
   "metadata": {
    "collapsed": false,
    "pycharm": {
     "name": "#%%\n"
    }
   }
  }
 ],
 "metadata": {
  "kernelspec": {
   "display_name": "Python 3",
   "language": "python",
   "name": "python3"
  },
  "language_info": {
   "codemirror_mode": {
    "name": "ipython",
    "version": 2
   },
   "file_extension": ".py",
   "mimetype": "text/x-python",
   "name": "python",
   "nbconvert_exporter": "python",
   "pygments_lexer": "ipython2",
   "version": "2.7.6"
  }
 },
 "nbformat": 4,
 "nbformat_minor": 0
}