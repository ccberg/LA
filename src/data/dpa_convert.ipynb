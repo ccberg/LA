{
 "cells": [
  {
   "cell_type": "markdown",
   "source": [
    "# DPA conversion to standard trace format."
   ],
   "metadata": {
    "collapsed": false,
    "pycharm": {
     "name": "#%% md\n"
    }
   }
  },
  {
   "cell_type": "code",
   "execution_count": 16,
   "outputs": [],
   "source": [
    "import bz2\n",
    "import math\n",
    "import zipfile\n",
    "import numpy as np\n",
    "import tempfile\n",
    "from tqdm import tqdm\n",
    "\n",
    "from settings.dpa import DPA4"
   ],
   "metadata": {
    "collapsed": false,
    "pycharm": {
     "name": "#%%\n"
    }
   }
  },
  {
   "cell_type": "code",
   "execution_count": 10,
   "outputs": [
    {
     "name": "stderr",
     "output_type": "stream",
     "text": [
      "\n",
      "  0%|          | 0/16 [00:21<?, ?it/s][A\n",
      "\n",
      " 20%|██        | 1/5 [00:29<01:56, 29.12s/it]\u001B[A\n",
      " 40%|████      | 2/5 [00:58<01:27, 29.32s/it]\u001B[A\n",
      " 60%|██████    | 3/5 [01:28<00:58, 29.37s/it]\u001B[A\n",
      " 80%|████████  | 4/5 [01:57<00:29, 29.38s/it]\u001B[A\n",
      "100%|██████████| 5/5 [02:28<00:00, 29.64s/it]\u001B[A\n"
     ]
    },
    {
     "data": {
      "text/plain": "'/tmp/tmp_gumwdzq'"
     },
     "execution_count": 10,
     "metadata": {},
     "output_type": "execute_result"
    }
   ],
   "source": [
    "TMP_DIR = tempfile.mkdtemp()\n",
    "\n",
    "for fname in tqdm(list(DPA4.TRACE_URLS.keys())):\n",
    "    with zipfile.ZipFile(f\"{DPA4.ROOT_RAW}/{fname}\",\"r\") as zip_ref:\n",
    "        zip_ref.extractall(TMP_DIR)\n",
    "\n",
    "TMP_DIR"
   ],
   "metadata": {
    "collapsed": false,
    "pycharm": {
     "name": "#%%\n"
    }
   }
  },
  {
   "cell_type": "code",
   "execution_count": 13,
   "outputs": [
    {
     "data": {
      "text/plain": "358"
     },
     "execution_count": 13,
     "metadata": {},
     "output_type": "execute_result"
    }
   ],
   "source": [
    "with bz2.open(f\"{TMP_DIR}/DPA_contestv4_2/k00/DPACV42_000000.trc.bz2\", 'rb') as file:\n",
    "    EXAMPLE_TRACE = bytearray(file.read())\n",
    "\n",
    "TRACE_SIZE = 1704402\n",
    "HEADER_SIZE = 357\n",
    "len(EXAMPLE_TRACE) - TRACE_SIZE\n"
   ],
   "metadata": {
    "collapsed": false,
    "pycharm": {
     "name": "#%%\n"
    }
   }
  },
  {
   "cell_type": "markdown",
   "source": [
    "### Header offsets\n",
    "\n",
    "Acquired from [the DPA contest website](http://www.dpacontest.org/v4/42_traces.php) on 2020-11-26."
   ],
   "metadata": {
    "collapsed": false
   }
  },
  {
   "cell_type": "code",
   "execution_count": null,
   "metadata": {
    "collapsed": true
   },
   "outputs": [],
   "source": [
    "HEADER_FIELDS = {\n",
    "    0: (\"Descriptor Name\", str),\n",
    "    16: (\"Template Name\", str),\n",
    "    32: (\"Comm Type\", int),\n",
    "    34: (\"Comm Order\", int),\n",
    "    36: (\"Wave Descriptor\", int),\n",
    "    40: (\"User Text\", int),\n",
    "    44: (\"Res Desc1\", int),\n",
    "    48: (\"TrigTime Array\", int),\n",
    "    52: (\"Ris Time Array\", int),\n",
    "    56: (\"Res Array 1\", int),\n",
    "    60: (\"Wave Array 1\", int),\n",
    "    64: (\"Wave Array 2\", int),\n",
    "    76: (\"Instrument Name\", str),\n",
    "    116: (\"Wave Array Count\", int),\n",
    "    (116 + 4): (\"END\", None),\n",
    "    124: (\"First Valid Point\", int),\n",
    "    128: (\"Last Valid Point\", int),\n",
    "    (128 + 4): (\"END\", None),\n",
    "    156: (\"Vertical gain\", float),\n",
    "    160: (\"Vertical offset\", float),\n",
    "    172: (\"Nominal Bits\", int),\n",
    "    (172 + 2): (\"END\", None),\n",
    "}"
   ]
  },
  {
   "cell_type": "code",
   "execution_count": 21,
   "outputs": [],
   "source": [
    "START = 11"
   ],
   "metadata": {
    "collapsed": false,
    "pycharm": {
     "name": "#%%\n"
    }
   }
  },
  {
   "cell_type": "code",
   "execution_count": 22,
   "outputs": [
    {
     "ename": "NameError",
     "evalue": "name 'HEADER_FIELDS' is not defined",
     "output_type": "error",
     "traceback": [
      "\u001B[0;31m---------------------------------------------------------------------------\u001B[0m",
      "\u001B[0;31mNameError\u001B[0m                                 Traceback (most recent call last)",
      "\u001B[0;32m<ipython-input-22-75e3d805fa88>\u001B[0m in \u001B[0;36m<module>\u001B[0;34m\u001B[0m\n\u001B[1;32m     12\u001B[0m         \u001B[0moffset\u001B[0m \u001B[0;34m=\u001B[0m \u001B[0mnext_offset\u001B[0m\u001B[0;34m\u001B[0m\u001B[0;34m\u001B[0m\u001B[0m\n\u001B[1;32m     13\u001B[0m \u001B[0;34m\u001B[0m\u001B[0m\n\u001B[0;32m---> 14\u001B[0;31m \u001B[0mparse_header\u001B[0m\u001B[0;34m(\u001B[0m\u001B[0mEXAMPLE_TRACE\u001B[0m\u001B[0;34m)\u001B[0m\u001B[0;34m\u001B[0m\u001B[0;34m\u001B[0m\u001B[0m\n\u001B[0m\u001B[1;32m     15\u001B[0m \u001B[0;34m\u001B[0m\u001B[0m\n",
      "\u001B[0;32m<ipython-input-22-75e3d805fa88>\u001B[0m in \u001B[0;36mparse_header\u001B[0;34m(trace, start)\u001B[0m\n\u001B[1;32m      1\u001B[0m \u001B[0;32mdef\u001B[0m \u001B[0mparse_header\u001B[0m\u001B[0;34m(\u001B[0m\u001B[0mtrace\u001B[0m\u001B[0;34m,\u001B[0m \u001B[0mstart\u001B[0m\u001B[0;34m=\u001B[0m\u001B[0mSTART\u001B[0m\u001B[0;34m)\u001B[0m\u001B[0;34m:\u001B[0m\u001B[0;34m\u001B[0m\u001B[0;34m\u001B[0m\u001B[0m\n\u001B[1;32m      2\u001B[0m     \u001B[0moffset\u001B[0m \u001B[0;34m=\u001B[0m \u001B[0;36m0\u001B[0m\u001B[0;34m\u001B[0m\u001B[0;34m\u001B[0m\u001B[0m\n\u001B[0;32m----> 3\u001B[0;31m     \u001B[0;32mfor\u001B[0m \u001B[0mnext_offset\u001B[0m \u001B[0;32min\u001B[0m \u001B[0mlist\u001B[0m\u001B[0;34m(\u001B[0m\u001B[0mHEADER_FIELDS\u001B[0m\u001B[0;34m.\u001B[0m\u001B[0mkeys\u001B[0m\u001B[0;34m(\u001B[0m\u001B[0;34m)\u001B[0m\u001B[0;34m)\u001B[0m\u001B[0;34m[\u001B[0m\u001B[0;36m1\u001B[0m\u001B[0;34m:\u001B[0m\u001B[0;34m]\u001B[0m\u001B[0;34m:\u001B[0m\u001B[0;34m\u001B[0m\u001B[0;34m\u001B[0m\u001B[0m\n\u001B[0m\u001B[1;32m      4\u001B[0m         \u001B[0mf_name\u001B[0m\u001B[0;34m,\u001B[0m \u001B[0mf_type\u001B[0m \u001B[0;34m=\u001B[0m \u001B[0mHEADER_FIELDS\u001B[0m\u001B[0;34m[\u001B[0m\u001B[0moffset\u001B[0m\u001B[0;34m]\u001B[0m\u001B[0;34m\u001B[0m\u001B[0;34m\u001B[0m\u001B[0m\n\u001B[1;32m      5\u001B[0m         \u001B[0mheader_part\u001B[0m \u001B[0;34m=\u001B[0m \u001B[0mtrace\u001B[0m\u001B[0;34m[\u001B[0m \u001B[0moffset\u001B[0m\u001B[0;34m+\u001B[0m\u001B[0mstart\u001B[0m\u001B[0;34m:\u001B[0m\u001B[0mnext_offset\u001B[0m\u001B[0;34m+\u001B[0m\u001B[0mstart\u001B[0m \u001B[0;34m]\u001B[0m\u001B[0;34m\u001B[0m\u001B[0;34m\u001B[0m\u001B[0m\n",
      "\u001B[0;31mNameError\u001B[0m: name 'HEADER_FIELDS' is not defined"
     ]
    }
   ],
   "source": [
    "def parse_header(trace, start=START):\n",
    "    offset = 0\n",
    "    for next_offset in list(HEADER_FIELDS.keys())[1:]:\n",
    "        f_name, f_type = HEADER_FIELDS[offset]\n",
    "        header_part = trace[ offset+start:next_offset+start ]\n",
    "\n",
    "        if f_type == str:\n",
    "            print(f_name, \":\\t\", header_part.decode('ascii').rstrip('\\x00'))\n",
    "        elif f_type == int:\n",
    "            print(f_name, \":\\t\", int.from_bytes(header_part, \"little\", signed=True))\n",
    "\n",
    "        offset = next_offset\n",
    "\n",
    "parse_header(EXAMPLE_TRACE)"
   ],
   "metadata": {
    "collapsed": false,
    "pycharm": {
     "name": "#%%\n"
    }
   }
  },
  {
   "cell_type": "code",
   "execution_count": 19,
   "outputs": [
    {
     "data": {
      "text/plain": "'/tmp/tmp_gumwdzq/DPA_contestv4_2/k00/DPACV42_004999.trc.bz2'"
     },
     "execution_count": 19,
     "metadata": {},
     "output_type": "execute_result"
    }
   ],
   "source": [
    "SPLIT = 5000\n",
    "def get_filename(ix):\n",
    "    return f\"{TMP_DIR}/DPA_contestv4_2/k{str(math.floor(ix / SPLIT)).zfill(2)}/DPACV42_{str(ix).zfill(6)}.trc.bz2\"\n",
    "\n",
    "def get_trace_from_bz2(ix):\n",
    "    with bz2.open(get_filename(ix), 'rb') as file:\n",
    "        res = bytearray(file.read())\n",
    "\n",
    "    return res"
   ],
   "metadata": {
    "collapsed": false,
    "pycharm": {
     "name": "#%%\n"
    }
   }
  },
  {
   "cell_type": "code",
   "execution_count": 23,
   "outputs": [
    {
     "data": {
      "text/plain": "array([  6,   8,   6, ..., 250, 246, 243])"
     },
     "execution_count": 23,
     "metadata": {},
     "output_type": "execute_result"
    }
   ],
   "source": [
    "def get_trace(trace, start=START):\n",
    "    # Check that the trace has the expected start offset.\n",
    "    assert trace[start:start + 16].decode('ascii').rstrip('\\x00') == \"WAVEDESC\"\n",
    "\n",
    "    p_first = int.from_bytes(trace[124+start:128+start], \"little\", signed=True)\n",
    "    p_last = int.from_bytes(trace[128+start:132+start], \"little\", signed=True)\n",
    "\n",
    "    # Check that the trace has expected size.\n",
    "    assert p_last - p_first == TRACE_SIZE - 1\n",
    "    # Check that the trace ends with expected junk bytes.\n",
    "    assert trace[-2:] == b'\\xee\\xee'\n",
    "\n",
    "    return trace[-(p_last + 2):-2]\n",
    "\n",
    "np.array([int(b) for b in get_trace(EXAMPLE_TRACE)])"
   ],
   "metadata": {
    "collapsed": false,
    "pycharm": {
     "name": "#%%\n"
    }
   }
  },
  {
   "cell_type": "code",
   "execution_count": 29,
   "outputs": [
    {
     "data": {
      "text/plain": "<AxesSubplot:>"
     },
     "execution_count": 29,
     "metadata": {},
     "output_type": "execute_result"
    },
    {
     "data": {
      "text/plain": "<Figure size 432x288 with 1 Axes>",
      "image/png": "[encoded data removed]"
     },
     "metadata": {
      "needs_background": "light"
     },
     "output_type": "display_data"
    }
   ],
   "source": [
    "import seaborn as sns\n",
    "\n",
    "sns.lineplot(data=np.array([int(b) for b in get_trace(EXAMPLE_TRACE)])[:1000])"
   ],
   "metadata": {
    "collapsed": false,
    "pycharm": {
     "name": "#%%\n"
    }
   }
  }
 ],
 "metadata": {
  "kernelspec": {
   "display_name": "Python 3",
   "language": "python",
   "name": "python3"
  },
  "language_info": {
   "codemirror_mode": {
    "name": "ipython",
    "version": 2
   },
   "file_extension": ".py",
   "mimetype": "text/x-python",
   "name": "python",
   "nbconvert_exporter": "python",
   "pygments_lexer": "ipython2",
   "version": "2.7.6"
  }
 },
 "nbformat": 4,
 "nbformat_minor": 0
}