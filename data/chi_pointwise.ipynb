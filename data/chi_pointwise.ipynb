{
 "cells": [
  {
   "cell_type": "markdown",
   "metadata": {},
   "source": [
    "### Application of $\\chi^2$ on ASCAD\n",
    "\n",
    "On a per-sample-point basis."
   ]
  },
  {
   "cell_type": "code",
   "execution_count": 100,
   "metadata": {
    "pycharm": {
     "name": "#%%\n"
    }
   },
   "outputs": [],
   "source": [
    "import math\n",
    "from random import choices\n",
    "\n",
    "import numpy as np\n",
    "import seaborn as sns\n",
    "from tqdm import tqdm\n",
    "\n",
    "from tools.cache import cache_np\n",
    "from tools.nbloader import NotebookLoader\n",
    "from tools.plotter import shadow_plot, line_plot_poi\n",
    "from tools.poi import select_poi\n",
    "from tools.traceloader import ASCAD, TraceGroup\n",
    "from IPython.display import Markdown as md\n",
    "\n",
    "sns.set_style(\"whitegrid\")"
   ]
  },
  {
   "cell_type": "code",
   "execution_count": 101,
   "metadata": {
    "pycharm": {
     "name": "#%%\n"
    }
   },
   "outputs": [
    {
     "data": {
      "text/plain": "(200000, 1400)"
     },
     "execution_count": 101,
     "metadata": {},
     "output_type": "execute_result"
    }
   ],
   "source": [
    "TABLE_SIZE = 64\n",
    "\n",
    "ascad = ASCAD()\n",
    "ascad.default.profile.traces.shape"
   ]
  },
  {
   "cell_type": "code",
   "execution_count": 102,
   "metadata": {
    "pycharm": {
     "name": "#%%\n"
    }
   },
   "outputs": [
    {
     "name": "stdout",
     "output_type": "stream",
     "text": [
      "importing Jupyter notebook from ../tvla/chi2.ipynb\n"
     ]
    },
    {
     "data": {
      "text/plain": "<Figure size 432x288 with 1 Axes>",
      "image/png": "[encoded data removed]"
     },
     "metadata": {},
     "output_type": "display_data"
    }
   ],
   "source": [
    "chi_squared = NotebookLoader([\"../tvla\"]).load_module(\"chi2\").chi_squared_balanced"
   ]
  },
  {
   "cell_type": "code",
   "execution_count": 103,
   "metadata": {
    "pycharm": {
     "name": "#%%\n"
    }
   },
   "outputs": [],
   "source": [
    "def count_sample_point(traces: np.array):\n",
    "    \"\"\"\n",
    "    Simple contingency table creation function that counts occurrences of a power trace value ([0..256] for ASCAD)\n",
    "    per sample point.\n",
    "\n",
    "    Used as a reference function, as count(..., window_size = 1) yields the same result.\n",
    "    \"\"\"\n",
    "    return np.array([np.bincount(t, minlength=ASCAD.key_size) for t in np.moveaxis(traces, 0, -1) + (-ASCAD.offset)],\n",
    "                    dtype=np.uint32)\n",
    "\n",
    "def reduce_ctable(bin_count: np.array, size_from: int, size_to: int):\n",
    "    \"\"\"\n",
    "    Reduces the size of a given contingency table.\n",
    "    \"\"\"\n",
    "    res = np.zeros(size_to, dtype=np.uint32)\n",
    "    step = round(size_from / size_to) # Should be divisible\n",
    "\n",
    "    for ix in range(size_to):\n",
    "        res[ix] = np.sum(bin_count[ix * step:(ix + 1) * step])\n",
    "\n",
    "    return res\n",
    "\n",
    "def count(traces: np.array, window_size, table_size=TABLE_SIZE):\n",
    "    \"\"\"\n",
    "    Creates a contingency table counting the occurrences of a power trace value ([0..256] for ASCAD) per sliding\n",
    "    window step.\n",
    "\n",
    "    @param traces: Array of traces.\n",
    "    @param window_size: The sliding window size. The window step is fixed to 1.\n",
    "    @param table_size: The size of the resulting contingency table.\n",
    "    \"\"\"\n",
    "    traces_norm = np.moveaxis(traces, 0, -1) + (-ASCAD.offset)\n",
    "    trace_size = traces_norm.shape[0]\n",
    "\n",
    "    max_win_ix = trace_size - window_size + 1\n",
    "    res = np.array([np.zeros(table_size)] * max_win_ix, dtype=np.uint32)\n",
    "\n",
    "    for ix in range(max_win_ix):\n",
    "        # Count using the original contingency table.\n",
    "        orig_table = np.zeros(ASCAD.key_size)\n",
    "        for t in traces_norm[ix:ix + window_size]:\n",
    "            orig_table += np.array(np.bincount(t, minlength=ASCAD.key_size), dtype=np.uint32)\n",
    "\n",
    "        # Reduce the size of the contingency table, so chi^2 will be able to handle it.\n",
    "        res[ix] = reduce_ctable(orig_table, ASCAD.key_size, table_size)\n",
    "\n",
    "    return res\n",
    "\n",
    "\n",
    "# The sum of bin counts with window = 1 should be equal to the sample-point bin count.\n",
    "assert count(ascad.default.profile.filter_traces(0), 1).sum() - \\\n",
    "       count_sample_point(ascad.default.profile.filter_traces(0)).sum() == 0"
   ]
  },
  {
   "cell_type": "code",
   "execution_count": 109,
   "metadata": {
    "pycharm": {
     "name": "#%%\n"
    }
   },
   "outputs": [
    {
     "name": "stderr",
     "output_type": "stream",
     "text": [
      "Creating contingency tables   :   0%|          | 0/27 [00:00<?, ?it/s]\n"
     ]
    },
    {
     "name": "stdout",
     "output_type": "stream",
     "text": [
      "10 0\n",
      "0 0\n",
      "5285800 5285800\n"
     ]
    },
    {
     "ename": "Exception",
     "evalue": "",
     "output_type": "error",
     "traceback": [
      "\u001B[0;31m---------------------------------------------------------------------------\u001B[0m",
      "\u001B[0;31mException\u001B[0m                                 Traceback (most recent call last)",
      "\u001B[0;32m<ipython-input-109-56c76c64dab3>\u001B[0m in \u001B[0;36m<module>\u001B[0;34m\u001B[0m\n\u001B[1;32m     75\u001B[0m \u001B[0;31m# C2_K1_SP = cache_chi2(ascad.default, 1, 1)\u001B[0m\u001B[0;34m\u001B[0m\u001B[0;34m\u001B[0m\u001B[0;34m\u001B[0m\u001B[0m\n\u001B[1;32m     76\u001B[0m \u001B[0;34m\u001B[0m\u001B[0m\n\u001B[0;32m---> 77\u001B[0;31m \u001B[0mC2_K1_SW\u001B[0m \u001B[0;34m=\u001B[0m \u001B[0mcache_chi2\u001B[0m\u001B[0;34m(\u001B[0m\u001B[0mascad\u001B[0m\u001B[0;34m.\u001B[0m\u001B[0mdefault\u001B[0m\u001B[0;34m,\u001B[0m \u001B[0;36m1\u001B[0m\u001B[0;34m,\u001B[0m \u001B[0mSLIDING_WINDOW_SIZE\u001B[0m\u001B[0;34m)\u001B[0m\u001B[0;34m\u001B[0m\u001B[0;34m\u001B[0m\u001B[0m\n\u001B[0m\u001B[1;32m     78\u001B[0m \u001B[0mC2_K3_SW\u001B[0m \u001B[0;34m=\u001B[0m \u001B[0mcache_chi2\u001B[0m\u001B[0;34m(\u001B[0m\u001B[0mascad\u001B[0m\u001B[0;34m.\u001B[0m\u001B[0mmasked\u001B[0m\u001B[0;34m,\u001B[0m \u001B[0;36m3\u001B[0m\u001B[0;34m,\u001B[0m \u001B[0mSLIDING_WINDOW_SIZE\u001B[0m\u001B[0;34m)\u001B[0m\u001B[0;34m\u001B[0m\u001B[0;34m\u001B[0m\u001B[0m\n\u001B[1;32m     79\u001B[0m \u001B[0;34m\u001B[0m\u001B[0m\n",
      "\u001B[0;32m<ipython-input-109-56c76c64dab3>\u001B[0m in \u001B[0;36m<lambda>\u001B[0;34m(tg, kb, win_size)\u001B[0m\n\u001B[1;32m     71\u001B[0m \u001B[0mSLIDING_WINDOW_SIZE\u001B[0m \u001B[0;34m=\u001B[0m \u001B[0;36m10\u001B[0m\u001B[0;34m\u001B[0m\u001B[0;34m\u001B[0m\u001B[0m\n\u001B[1;32m     72\u001B[0m \u001B[0;34m\u001B[0m\u001B[0m\n\u001B[0;32m---> 73\u001B[0;31m cache_chi2 = lambda tg, kb, win_size: cache_np(f\"chi2_k{kb}_w{win_size}_ks{NUM_KEYS}\",\n\u001B[0m\u001B[1;32m     74\u001B[0m                                              chi2, tg, NUM_KEYS, win_size)\n\u001B[1;32m     75\u001B[0m \u001B[0;31m# C2_K1_SP = cache_chi2(ascad.default, 1, 1)\u001B[0m\u001B[0;34m\u001B[0m\u001B[0;34m\u001B[0m\u001B[0;34m\u001B[0m\u001B[0m\n",
      "\u001B[0;32m~/Documents/Afstudeer/LA/tools/cache.py\u001B[0m in \u001B[0;36mcache_np\u001B[0;34m(name, f, v, replace, *args)\u001B[0m\n\u001B[1;32m     14\u001B[0m         \u001B[0;31m# Only try to store the results of f(*args) if f is supplied.\u001B[0m\u001B[0;34m\u001B[0m\u001B[0;34m\u001B[0m\u001B[0;34m\u001B[0m\u001B[0m\n\u001B[1;32m     15\u001B[0m         \u001B[0;32mif\u001B[0m \u001B[0mreplace\u001B[0m \u001B[0;32mor\u001B[0m \u001B[0;32mnot\u001B[0m \u001B[0mos\u001B[0m\u001B[0;34m.\u001B[0m\u001B[0mpath\u001B[0m\u001B[0;34m.\u001B[0m\u001B[0mexists\u001B[0m\u001B[0;34m(\u001B[0m\u001B[0mf_name\u001B[0m\u001B[0;34m)\u001B[0m\u001B[0;34m:\u001B[0m\u001B[0;34m\u001B[0m\u001B[0;34m\u001B[0m\u001B[0m\n\u001B[0;32m---> 16\u001B[0;31m             \u001B[0mnp\u001B[0m\u001B[0;34m.\u001B[0m\u001B[0msavez_compressed\u001B[0m\u001B[0;34m(\u001B[0m\u001B[0mf_name\u001B[0m\u001B[0;34m,\u001B[0m \u001B[0mdata\u001B[0m\u001B[0;34m=\u001B[0m\u001B[0mf\u001B[0m\u001B[0;34m(\u001B[0m\u001B[0;34m*\u001B[0m\u001B[0margs\u001B[0m\u001B[0;34m)\u001B[0m\u001B[0;34m)\u001B[0m\u001B[0;34m\u001B[0m\u001B[0;34m\u001B[0m\u001B[0m\n\u001B[0m\u001B[1;32m     17\u001B[0m \u001B[0;34m\u001B[0m\u001B[0m\n\u001B[1;32m     18\u001B[0m     \u001B[0;32mwith\u001B[0m \u001B[0mnp\u001B[0m\u001B[0;34m.\u001B[0m\u001B[0mload\u001B[0m\u001B[0;34m(\u001B[0m\u001B[0mf_name\u001B[0m\u001B[0;34m,\u001B[0m \u001B[0mallow_pickle\u001B[0m\u001B[0;34m=\u001B[0m\u001B[0;32mTrue\u001B[0m\u001B[0;34m)\u001B[0m \u001B[0;32mas\u001B[0m \u001B[0mfile\u001B[0m\u001B[0;34m:\u001B[0m\u001B[0;34m\u001B[0m\u001B[0;34m\u001B[0m\u001B[0m\n",
      "\u001B[0;32m<ipython-input-109-56c76c64dab3>\u001B[0m in \u001B[0;36mchi2\u001B[0;34m(tg, ks, sw_size)\u001B[0m\n\u001B[1;32m     49\u001B[0m         \u001B[0mc_left\u001B[0m\u001B[0;34m[\u001B[0m\u001B[0mk\u001B[0m\u001B[0;34m]\u001B[0m\u001B[0;34m,\u001B[0m \u001B[0mc_right\u001B[0m\u001B[0;34m[\u001B[0m\u001B[0mk\u001B[0m\u001B[0;34m]\u001B[0m \u001B[0;34m=\u001B[0m \u001B[0mbalance_count\u001B[0m\u001B[0;34m(\u001B[0m\u001B[0mtg\u001B[0m\u001B[0;34m.\u001B[0m\u001B[0mprofile\u001B[0m\u001B[0;34m.\u001B[0m\u001B[0mfilter_traces\u001B[0m\u001B[0;34m(\u001B[0m\u001B[0mk\u001B[0m\u001B[0;34m)\u001B[0m\u001B[0;34m,\u001B[0m \u001B[0msw_size\u001B[0m\u001B[0;34m,\u001B[0m \u001B[0mmax_traces\u001B[0m\u001B[0;34m)\u001B[0m\u001B[0;34m\u001B[0m\u001B[0;34m\u001B[0m\u001B[0m\n\u001B[1;32m     50\u001B[0m         \u001B[0mprint\u001B[0m\u001B[0;34m(\u001B[0m\u001B[0mc_left\u001B[0m\u001B[0;34m[\u001B[0m\u001B[0mk\u001B[0m\u001B[0;34m]\u001B[0m\u001B[0;34m.\u001B[0m\u001B[0msum\u001B[0m\u001B[0;34m(\u001B[0m\u001B[0;34m)\u001B[0m\u001B[0;34m,\u001B[0m \u001B[0mc_right\u001B[0m\u001B[0;34m[\u001B[0m\u001B[0mk\u001B[0m\u001B[0;34m]\u001B[0m\u001B[0;34m.\u001B[0m\u001B[0msum\u001B[0m\u001B[0;34m(\u001B[0m\u001B[0;34m)\u001B[0m\u001B[0;34m)\u001B[0m\u001B[0;34m\u001B[0m\u001B[0;34m\u001B[0m\u001B[0m\n\u001B[0;32m---> 51\u001B[0;31m         \u001B[0;32mraise\u001B[0m \u001B[0mException\u001B[0m\u001B[0;34m(\u001B[0m\u001B[0;34m)\u001B[0m\u001B[0;34m\u001B[0m\u001B[0;34m\u001B[0m\u001B[0m\n\u001B[0m\u001B[1;32m     52\u001B[0m \u001B[0;34m\u001B[0m\u001B[0m\n\u001B[1;32m     53\u001B[0m     \u001B[0moffset\u001B[0m \u001B[0;34m=\u001B[0m \u001B[0mround\u001B[0m\u001B[0;34m(\u001B[0m\u001B[0msw_size\u001B[0m \u001B[0;34m/\u001B[0m \u001B[0;36m2\u001B[0m\u001B[0;34m)\u001B[0m\u001B[0;34m\u001B[0m\u001B[0;34m\u001B[0m\u001B[0m\n",
      "\u001B[0;31mException\u001B[0m: "
     ]
    }
   ],
   "source": [
    "def balance_count(traces, sw_size, max_len=None):\n",
    "    \"\"\"\n",
    "    Balances the sum of trace contingency tables by randomly incrementing counters using the existing distribution from\n",
    "    each underrepresented table.\n",
    "\n",
    "    Useful when dealing with trace sets that are not of the same size.\n",
    "    \"\"\"\n",
    "    num_traces, _ = traces.shape\n",
    "\n",
    "    split = fill = round(num_traces / 2)\n",
    "    if max_len is None:\n",
    "        # If the trace length to be matched is given.\n",
    "        fill = math.ceil(num_traces / 2)\n",
    "\n",
    "    cnt = lambda a: count(a, sw_size)\n",
    "    left, right = cnt(traces[split:]), cnt(traces[:split])\n",
    "\n",
    "    num_wins, num_bins = left.shape\n",
    "    cs = lambda w, k: choices(list(range(num_bins)), weights=w, k=k)\n",
    "\n",
    "    # Get the number of draws per sliding window index.\n",
    "    draw_left = (fill - (num_traces - split)) * sw_size\n",
    "    draw_right = (fill - split) * sw_size\n",
    "\n",
    "    print(draw_left, draw_right)\n",
    "\n",
    "    for sw_ix in range(num_wins):\n",
    "        # Pull from existing distribution...\n",
    "        c_left = cs(left[sw_ix], draw_left)\n",
    "        c_right = cs(right[sw_ix], draw_right)\n",
    "\n",
    "        # and add the pulled indexes to the trace counts.\n",
    "        np.add.at(left[sw_ix], c_left, 1)\n",
    "        np.add.at(right[sw_ix], c_right, 1)\n",
    "\n",
    "    return left, right\n",
    "\n",
    "TMP = [i.sum() for i in balance_count(ascad.default.profile.filter_traces(3), 10)]\n",
    "\n",
    "# Left and right should be balanced.\n",
    "assert TMP[1] - TMP[0] == 0\n",
    "\n",
    "def chi2(tg: TraceGroup, ks, sw_size):\n",
    "    max_traces = max([len(tg.profile.filter_traces(i)) for i in range(ks)])\n",
    "    max_window = ASCAD.trace_len - sw_size + 1\n",
    "\n",
    "    c_left, c_right = [np.zeros(max_window)] * ks, [np.zeros(max_window)] * ks\n",
    "    for k in tqdm(range(ks), desc=\"Creating contingency tables   \"):\n",
    "        c_left[k], c_right[k] = balance_count(tg.profile.filter_traces(k), sw_size, max_traces)\n",
    "        print(c_left[k].sum(), c_right[k].sum())\n",
    "        raise Exception()\n",
    "\n",
    "    offset = round(sw_size / 2)\n",
    "\n",
    "    csp = np.array([[[np.nan] * ASCAD.trace_len] * ks] * ks)\n",
    "    progress = tqdm(total=(ks ** 2), desc=f\"Calculating p-values for keys \")\n",
    "    for k1 in range(ks):\n",
    "        for k2 in range(ks):\n",
    "            for sp in range(max_window):\n",
    "                try:\n",
    "                    csp[k1][k2][sp + offset] = chi_squared(c_left[k1][sp], c_right[k2][sp])\n",
    "                except ValueError as _:\n",
    "                    csp[k1][k2][sp + offset] = 1\n",
    "\n",
    "            progress.update(1)\n",
    "\n",
    "    progress.close()\n",
    "    return csp\n",
    "\n",
    "NUM_KEYS = 27\n",
    "SLIDING_WINDOW_SIZE = 10\n",
    "\n",
    "cache_chi2 = lambda tg, kb, win_size: cache_np(f\"chi2_k{kb}_w{win_size}_ks{NUM_KEYS}\",\n",
    "                                             chi2, tg, NUM_KEYS, win_size)\n",
    "# C2_K1_SP = cache_chi2(ascad.default, 1, 1)\n",
    "\n",
    "C2_K1_SW = cache_chi2(ascad.default, 1, SLIDING_WINDOW_SIZE)\n",
    "C2_K3_SW = cache_chi2(ascad.masked, 3, SLIDING_WINDOW_SIZE)"
   ]
  },
  {
   "cell_type": "code",
   "execution_count": null,
   "metadata": {
    "pycharm": {
     "name": "#%%\n"
    }
   },
   "outputs": [],
   "source": [
    "sns.lineplot(data=C2_K1_SW[0][0])"
   ]
  },
  {
   "cell_type": "code",
   "execution_count": null,
   "metadata": {
    "pycharm": {
     "name": "#%%\n"
    }
   },
   "outputs": [],
   "source": [
    "def p_value_mean(ps):\n",
    "    keys = range(len(ps))\n",
    "    ps_equal_key = np.array([ps[i][i] for i in keys]).mean(axis=0)\n",
    "    ps_different_key = np.array([ps[i][j] for i in keys for j in keys if i != j]).mean(axis=0)\n",
    "\n",
    "    return ps_equal_key, ps_different_key"
   ]
  },
  {
   "cell_type": "code",
   "execution_count": null,
   "outputs": [],
   "source": [
    "def pv_plot(chi2_results, mdiff):\n",
    "    pv_mean = p_value_mean(chi2_results)\n",
    "\n",
    "    shadow_plot({\n",
    "        \"Average p-value for equal keys\": pv_mean[0],\n",
    "        \"Average p-value for different keys\": pv_mean[1]\n",
    "    }, title=\"$p$-value for equal keys vs. $p$-value for different keys.\\n\")\n",
    "\n",
    "    line_plot_poi({\n",
    "        \"$p$-value mean difference\": np.array(pv_mean[0] - pv_mean[1]), # Equal keys - Different keys\n",
    "        \"Sample point mean difference\": mdiff[1] # 1st order moment difference\n",
    "    }, select_poi(mdiff[1]), poi_alpha=.1,\n",
    "        title=\"$p$-value difference vs. sample point difference.\\n\"\n",
    "              \"Points of Interest are highlighted.\\n\", xlim=(0, 700))\n",
    "\n",
    "    line_plot_poi({\n",
    "        \"$p$-value mean difference\": np.array(pv_mean[0] - pv_mean[1]), # Equal keys - Different keys\n",
    "        \"Sample point mean difference\": mdiff[1] # 1st order moment difference\n",
    "    }, select_poi(mdiff[1]), poi_alpha=.1,\n",
    "        title=\"$p$-value difference vs. sample point difference.\\n\"\n",
    "              \"Points of Interest are highlighted.\\n\", xlim=(30, 100))"
   ],
   "metadata": {
    "collapsed": false,
    "pycharm": {
     "name": "#%%\n"
    }
   }
  },
  {
   "cell_type": "markdown",
   "source": [
    "# $\\chi^2$-test $p$-value difference\n",
    "\n",
    "If there is a leakage, traces with equal keys should show dependence and\n",
    "traces that have different keys should show independence.\n",
    "\n",
    "Small $p$ values give evidence to reject the null hypothesis and conclude that the observations are not independent.\n",
    "\n",
    "### $p$-value difference per sample point"
   ],
   "metadata": {
    "collapsed": false,
    "pycharm": {
     "name": "#%% md\n"
    }
   }
  },
  {
   "cell_type": "code",
   "execution_count": null,
   "outputs": [],
   "source": [
    "pv_plot(C2_K1_SP, cache_np(\"mdiff_prof\", v=1))"
   ],
   "metadata": {
    "collapsed": false,
    "pycharm": {
     "name": "#%%\n"
    }
   }
  },
  {
   "cell_type": "code",
   "execution_count": null,
   "outputs": [],
   "source": [
    "cache_np(\"mdiff_prof\", v=1)[1].shape"
   ],
   "metadata": {
    "collapsed": false,
    "pycharm": {
     "name": "#%%\n"
    }
   }
  },
  {
   "cell_type": "markdown",
   "source": [
    "### $p$-value difference per sliding window"
   ],
   "metadata": {
    "collapsed": false,
    "pycharm": {
     "name": "#%% md\n"
    }
   }
  },
  {
   "cell_type": "code",
   "execution_count": null,
   "outputs": [],
   "source": [
    "md(f\"Sliding window size: ({SLIDING_WINDOW_SIZE}), Sliding window step: (1).\")"
   ],
   "metadata": {
    "collapsed": false,
    "pycharm": {
     "name": "#%%\n"
    }
   }
  },
  {
   "cell_type": "code",
   "execution_count": null,
   "outputs": [],
   "source": [
    "pv_plot(C2_K1_SW, cache_np(\"mdiff_prof\", v=1))"
   ],
   "metadata": {
    "collapsed": false,
    "pycharm": {
     "name": "#%%\n"
    }
   }
  },
  {
   "cell_type": "code",
   "execution_count": null,
   "outputs": [],
   "source": [
    "pv_plot(C2_K3_SW, cache_np(\"mdiff_mask\", v=1))"
   ],
   "metadata": {
    "collapsed": false,
    "pycharm": {
     "name": "#%%\n"
    }
   }
  },
  {
   "cell_type": "code",
   "execution_count": null,
   "outputs": [],
   "source": [
    "PVM = np.array(p_value_mean(C2_K3_SW))\n",
    "MDIFF = cache_np(\"mdiff_prof\", v=1)\n",
    "line_plot_poi({\n",
    "        \"$p$-value mean difference\": np.array(PVM[0] - PVM[1]), # Equal keys - Different keys\n",
    "        \"Sample point mean difference\": MDIFF[1] # 1st order moment difference\n",
    "    }, select_poi(MDIFF[1]), poi_alpha=.1,\n",
    "        title=\"$p$-value difference from 3rd key byte vs. sample point difference from 1st key byte.\\n\"\n",
    "              \"Points of Interest from 1st key byte are highlighted.\\n\", xlim=(30, 100))"
   ],
   "metadata": {
    "collapsed": false,
    "pycharm": {
     "name": "#%%\n"
    }
   }
  }
 ],
 "metadata": {
  "kernelspec": {
   "display_name": "Python 3",
   "language": "python",
   "name": "python3"
  },
  "language_info": {
   "codemirror_mode": {
    "name": "ipython",
    "version": 3
   },
   "file_extension": ".py",
   "mimetype": "text/x-python",
   "name": "python",
   "nbconvert_exporter": "python",
   "pygments_lexer": "ipython3",
   "version": "3.8.5"
  }
 },
 "nbformat": 4,
 "nbformat_minor": 1
}