{
 "cells": [
  {
   "cell_type": "code",
   "execution_count": null,
   "metadata": {
    "collapsed": true
   },
   "outputs": [],
   "source": [
    "import numpy as np\n",
    "from tqdm import tqdm\n",
    "from src.data.loaders.ascad import ASCADData"
   ]
  },
  {
   "cell_type": "code",
   "execution_count": null,
   "outputs": [],
   "source": [
    "ascad = ASCADData.random_key()\n",
    "plaintext_ix = 0\n",
    "full_key_ix = 1\n",
    "\n",
    "pm = ascad[\"Profiling_traces\"][\"metadata\"]\n",
    "am = ascad[\"Attack_traces\"][\"metadata\"]\n",
    "\n",
    "def get_accumulator(metadata):\n",
    "    return np.zeros((len(metadata), 16), dtype=np.uint8)\n",
    "\n",
    "profile_key, profile_plain = get_accumulator(pm), get_accumulator(pm)\n",
    "attack_key, attack_plain = get_accumulator(am), get_accumulator(am)\n",
    "\n",
    "for ix in tqdm(range(len(pm))):\n",
    "    profile_key[ix] = pm[ix][full_key_ix]\n",
    "    profile_plain[ix] = pm[ix][plaintext_ix]\n",
    "\n",
    "for ix in tqdm(range(len(am))):\n",
    "    attack_key[ix] = am[ix][full_key_ix]\n",
    "    attack_plain[ix] = am[ix][plaintext_ix]\n",
    "\n",
    "ascad.close()"
   ],
   "metadata": {
    "collapsed": false,
    "pycharm": {
     "name": "#%%\n"
    }
   }
  },
  {
   "cell_type": "code",
   "execution_count": null,
   "outputs": [],
   "source": [],
   "metadata": {
    "collapsed": false,
    "pycharm": {
     "name": "#%%\n"
    }
   }
  }
 ],
 "metadata": {
  "kernelspec": {
   "display_name": "Python 3",
   "language": "python",
   "name": "python3"
  },
  "language_info": {
   "codemirror_mode": {
    "name": "ipython",
    "version": 2
   },
   "file_extension": ".py",
   "mimetype": "text/x-python",
   "name": "python",
   "nbconvert_exporter": "python",
   "pygments_lexer": "ipython2",
   "version": "2.7.6"
  }
 },
 "nbformat": 4,
 "nbformat_minor": 0
}