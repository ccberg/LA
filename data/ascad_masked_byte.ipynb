{
 "cells": [
  {
   "cell_type": "markdown",
   "metadata": {
    "collapsed": true,
    "pycharm": {
     "name": "#%% md\n"
    }
   },
   "source": [
    "### Append a masked key byte column to the ASCAD file."
   ]
  },
  {
   "cell_type": "code",
   "execution_count": 8,
   "outputs": [
    {
     "name": "stderr",
     "output_type": "stream",
     "text": [
      "100%|██████████| 200000/200000 [00:25<00:00, 7743.00it/s]\n"
     ]
    }
   ],
   "source": [
    "import h5py\n",
    "from data.loader.ascad import ASCADData, ASCAD_DATA, ASCAD_DATA_VAR, ASCADDataType\n",
    "from tqdm import tqdm\n",
    "import numpy as np\n",
    "\n",
    "ascad = ASCADData.random_key()\n",
    "masked_byte_ix = 2\n",
    "full_key_ix = 1\n",
    "\n",
    "metadata = ascad[\"Profiling_traces\"][\"metadata\"]\n",
    "num_traces = len(metadata)\n",
    "\n",
    "masked_label = np.zeros(num_traces, dtype=np.uint8)\n",
    "for ix in tqdm(range(num_traces)):\n",
    "    masked_label[ix] = metadata[ix][full_key_ix][masked_byte_ix]\n",
    "\n",
    "ascad.close()"
   ],
   "metadata": {
    "collapsed": false,
    "pycharm": {
     "name": "#%%\n"
    }
   }
  },
  {
   "cell_type": "code",
   "execution_count": 9,
   "outputs": [
    {
     "data": {
      "text/plain": "array([173,  17, 199, ..., 205, 146, 189], dtype=uint8)"
     },
     "execution_count": 9,
     "metadata": {},
     "output_type": "execute_result"
    }
   ],
   "source": [
    "masked_label"
   ],
   "metadata": {
    "collapsed": false,
    "pycharm": {
     "name": "#%%\n"
    }
   }
  },
  {
   "cell_type": "code",
   "execution_count": 10,
   "outputs": [
    {
     "name": "stdout",
     "output_type": "stream",
     "text": [
      "['labels', 'labels_mask', 'metadata', 'traces']\n"
     ]
    }
   ],
   "source": [
    "wrt = h5py.File(f\"{ASCAD_DATA}{ASCAD_DATA_VAR}/{ASCADDataType.default}.h5\", 'r+')\n",
    "\n",
    "metadata = wrt[\"Profiling_traces\"][\"metadata\"]\n",
    "grp = wrt[\"Profiling_traces\"]\n",
    "\n",
    "if \"labels_mask\" in grp:\n",
    "    del grp[\"labels_mask\"]\n",
    "grp[\"labels_mask\"] = masked_label\n",
    "\n",
    "wrt.close()\n",
    "\n",
    "chk = h5py.File(f\"{ASCAD_DATA}{ASCAD_DATA_VAR}/{ASCADDataType.default}.h5\", 'r')\n",
    "print(list(chk[\"Profiling_traces\"]))\n",
    "chk.close()"
   ],
   "metadata": {
    "collapsed": false,
    "pycharm": {
     "name": "#%%\n"
    }
   }
  },
  {
   "cell_type": "code",
   "execution_count": 11,
   "outputs": [
    {
     "data": {
      "text/plain": "173"
     },
     "execution_count": 11,
     "metadata": {},
     "output_type": "execute_result"
    }
   ],
   "source": [
    "ascad = ASCADData.random_key()\n",
    "ascad[\"Profiling_traces\"][\"labels_mask\"][0]\n"
   ],
   "metadata": {
    "collapsed": false,
    "pycharm": {
     "name": "#%%\n"
    }
   }
  }
 ],
 "metadata": {
  "kernelspec": {
   "display_name": "Python 3",
   "language": "python",
   "name": "python3"
  },
  "language_info": {
   "codemirror_mode": {
    "name": "ipython",
    "version": 2
   },
   "file_extension": ".py",
   "mimetype": "text/x-python",
   "name": "python",
   "nbconvert_exporter": "python",
   "pygments_lexer": "ipython2",
   "version": "2.7.6"
  }
 },
 "nbformat": 4,
 "nbformat_minor": 0
}