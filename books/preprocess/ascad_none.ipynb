{
 "cells": [
  {
   "cell_type": "markdown",
   "metadata": {
    "collapsed": true,
    "pycharm": {
     "name": "#%% md\n"
    }
   },
   "source": [
    "# PoI finding on ASCAD"
   ]
  },
  {
   "cell_type": "code",
   "execution_count": 12,
   "metadata": {
    "pycharm": {
     "name": "#%%\n"
    }
   },
   "outputs": [],
   "source": [
    "import h5py\n",
    "import numpy as np\n",
    "import psutil\n",
    "import seaborn as sns\n",
    "from scipy.stats import beta\n",
    "from tqdm import tqdm\n",
    "\n",
    "from src.data.loaders.ascad import ASCADData\n",
    "from src.data.preprocess.hw import hamming_weights\n",
    "from src.tools.cache import cache_np\n",
    "from src.tools.plotter import init_plots, store_sns\n",
    "from src.trace_set.database import Database\n",
    "from src.trace_set.set_hw import TraceSetHW\n",
    "\n",
    "init_plots()"
   ]
  },
  {
   "cell_type": "code",
   "execution_count": 2,
   "metadata": {
    "pycharm": {
     "name": "#%%\n"
    }
   },
   "outputs": [],
   "source": [
    "RAW_DATA = ASCADData.raw()\n",
    "RAW_TRACES = RAW_DATA['traces']"
   ]
  },
  {
   "cell_type": "markdown",
   "source": [
    "Pre-processed in `./ascad.ipynb`"
   ],
   "metadata": {
    "collapsed": false
   }
  },
  {
   "cell_type": "code",
   "execution_count": 23,
   "outputs": [],
   "source": [
    "STATES_PROF = cache_np(\"full_states_ascad_profile\")[:, 0, 0]\n",
    "STATES_ATT = cache_np(\"full_states_ascad_attack\")[:, 0, 0]\n",
    "\n",
    "HW_PROF_NONE = hamming_weights(STATES_PROF)"
   ],
   "metadata": {
    "collapsed": false,
    "pycharm": {
     "name": "#%%\n"
    }
   }
  },
  {
   "cell_type": "code",
   "execution_count": 4,
   "metadata": {
    "pycharm": {
     "name": "#%%\n"
    }
   },
   "outputs": [],
   "source": [
    "PROFILING_MASK = np.ones(len(RAW_TRACES) - 1, dtype=bool)\n",
    "PROFILING_MASK[2::3] = 0\n",
    "NUM_TRACES = np.sum(PROFILING_MASK)"
   ]
  },
  {
   "cell_type": "code",
   "execution_count": 5,
   "metadata": {
    "pycharm": {
     "name": "#%%\n"
    }
   },
   "outputs": [],
   "source": [
    "TRANSPOSE_PATH = './.cache/ASCAD_raw_T.h5'\n",
    "OVERWRITE = False"
   ]
  },
  {
   "cell_type": "code",
   "execution_count": 6,
   "metadata": {
    "pycharm": {
     "name": "#%%\n"
    }
   },
   "outputs": [],
   "source": [
    "def fetch_chunk(raw_traces, profiling_mask, start_sp, end_sp):\n",
    "    res = np.ones((end_sp - start_sp, profiling_mask.sum()), dtype=np.int8)\n",
    "    for ix, ix_raw in tqdm(enumerate(np.where(profiling_mask)[0]), total=np.sum(profiling_mask),\n",
    "                           desc=f\"Fetching chunk ({start_sp}:{end_sp})\"):\n",
    "        res[:, ix] = raw_traces[ix_raw, start_sp:end_sp]\n",
    "\n",
    "    return res\n",
    "\n",
    "# fetch_chunk(RAW_TRACES, PROFILING_MASK, 0, 1000)[0].shape"
   ]
  },
  {
   "cell_type": "code",
   "execution_count": 7,
   "metadata": {
    "pycharm": {
     "name": "#%%\n"
    }
   },
   "outputs": [
    {
     "data": {
      "text/plain": "[(0, 66000), (66000, 132000), (132000, 198000), (198000, 200000)]"
     },
     "execution_count": 7,
     "metadata": {},
     "output_type": "execute_result"
    }
   ],
   "source": [
    "def get_chunks(profiling_mask, max_size):\n",
    "    num_traces = np.sum(profiling_mask)\n",
    "\n",
    "    chunk_starts = np.arange(0, num_traces, max_size)\n",
    "    chunks = [(i, min(num_traces, i + max_size)) for i in chunk_starts]\n",
    "\n",
    "    return chunks\n",
    "\n",
    "get_chunks(PROFILING_MASK, 66000)"
   ]
  },
  {
   "cell_type": "code",
   "execution_count": 8,
   "metadata": {
    "pycharm": {
     "name": "#%%\n"
    }
   },
   "outputs": [
    {
     "name": "stdout",
     "output_type": "stream",
     "text": [
      "Max sample points per chunk (126098).\n"
     ]
    }
   ],
   "source": [
    "print(f\"Max sample points per chunk ({round((psutil.virtual_memory().total / np.sum(PROFILING_MASK)) * .75)}).\")\n",
    "\n",
    "MAX_CHUNK_SIZE = 100000"
   ]
  },
  {
   "cell_type": "code",
   "execution_count": 14,
   "metadata": {
    "pycharm": {
     "name": "#%%\n"
    }
   },
   "outputs": [],
   "source": [
    "def create_transpose(file_path, raw_traces, profiling_mask, step=1000):\n",
    "    num_traces = np.sum(profiling_mask)\n",
    "    trace_len = raw_traces.shape[1]\n",
    "    \n",
    "    with h5py.File(file_path, 'w') as f:\n",
    "        f.require_dataset(\"traces\", (trace_len, num_traces), dtype=np.int8)\n",
    "\n",
    "        chunks = get_chunks(profiling_mask, MAX_CHUNK_SIZE)\n",
    "\n",
    "        for start, end in chunks:\n",
    "            chunk = fetch_chunk(raw_traces, profiling_mask, start, end)\n",
    "\n",
    "            for ix, row in tqdm(enumerate(chunk), total=len(chunk), desc=\"Storing chunk\"):\n",
    "                f[\"traces\"][start + ix] = chunk[ix]\n",
    "\n",
    "if OVERWRITE:\n",
    "    create_transpose(TRANSPOSE_PATH, RAW_TRACES, PROFILING_MASK)"
   ]
  },
  {
   "cell_type": "code",
   "execution_count": null,
   "outputs": [
    {
     "name": "stderr",
     "output_type": "stream",
     "text": [
      " 39%|███▊      | 96552/250000 [03:45<08:27, 302.10it/s]"
     ]
    }
   ],
   "source": [
    "def get_corr(transpose_path, labels_01):\n",
    "    with h5py.File(transpose_path, 'r') as hf:\n",
    "        sample_points = hf['traces']\n",
    "        num_sample_points = len(sample_points)\n",
    "\n",
    "        res_01 = np.zeros(num_sample_points, dtype=np.float64)\n",
    "        for ix in tqdm(range(num_sample_points)):\n",
    "            res_01[ix] = np.corrcoef(sample_points[ix], labels_01)[0, 1]\n",
    "\n",
    "    return np.array(res_01)\n",
    "\n",
    "CORR = cache_np(\"corr_coefficient\", get_corr, TRANSPOSE_PATH, HW_PROF_NONE)"
   ],
   "metadata": {
    "collapsed": false,
    "pycharm": {
     "name": "#%%\n",
     "is_executing": true
    }
   }
  },
  {
   "cell_type": "code",
   "execution_count": null,
   "metadata": {
    "pycharm": {
     "name": "#%%\n",
     "is_executing": true
    }
   },
   "outputs": [],
   "source": [
    "DIST = beta(NUM_TRACES/2 - 1, NUM_TRACES/2 - 1, loc=-1, scale=2)\n",
    "CORR_P = 2 * DIST.cdf(-np.abs(CORR[0]))"
   ]
  },
  {
   "cell_type": "code",
   "execution_count": null,
   "outputs": [],
   "source": [
    "G = sns.lineplot(data={\"1st byte\": CORR_P})\n",
    "G.set(title=\"ASCAD, correlation analysis\", xlabel=\"Sample point index\", ylabel=\"$p$-value\", yscale=\"log\", ylim=(10 ** -64, 1))\n",
    "G.invert_yaxis()\n",
    "store_sns(G, \"correlation-p-ascad\")"
   ],
   "metadata": {
    "collapsed": false,
    "pycharm": {
     "name": "#%%\n",
     "is_executing": true
    }
   }
  },
  {
   "cell_type": "code",
   "execution_count": null,
   "outputs": [],
   "source": [
    "def get_poi(p_values, window_size = 500, margin = 100, threshold = 10 ** -5):\n",
    "    res = []\n",
    "    poi_ixs = np.where(p_values < threshold)[0]\n",
    "    start = poi_ixs[0]\n",
    "    prev = start\n",
    "    for ix in poi_ixs:\n",
    "        if ix - prev > window_size:\n",
    "            res.append((start, prev))\n",
    "            start = ix\n",
    "\n",
    "        prev = ix\n",
    "\n",
    "    do_capture = np.array([b - a for a, b in res]) > window_size\n",
    "    poi = np.array(res)[do_capture]\n",
    "\n",
    "    return np.array([(max(0, a - margin), min(b + margin, len(p_values))) for a, b in poi])\n",
    "\n",
    "POI = get_poi(CORR_P, threshold = 10 ** -50)\n",
    "\n",
    "print(\"PoI\", POI)\n",
    "\n",
    "SELECTED_POI = POI[0]"
   ],
   "metadata": {
    "collapsed": false,
    "pycharm": {
     "name": "#%%\n",
     "is_executing": true
    }
   }
  },
  {
   "cell_type": "code",
   "execution_count": null,
   "outputs": [],
   "source": [
    "G = sns.lineplot(data={\"1st byte\": CORR_P})\n",
    "G.set(title=\"ASCAD, correlation analysis\", xlabel=\"Sample point index\", ylabel=\"Correlation coefficient\", yscale=\"log\", xlim=SELECTED_POI, ylim=(10 ** -64, 1))\n",
    "G.invert_yaxis()\n",
    "store_sns(G, \"correlation-p-ascad-poi-1\")"
   ],
   "metadata": {
    "collapsed": false,
    "pycharm": {
     "name": "#%%\n",
     "is_executing": true
    }
   }
  },
  {
   "cell_type": "code",
   "execution_count": 38,
   "outputs": [],
   "source": [
    "def get_chunk_ixs(num_traces, chunk_size):\n",
    "    return [(a, min(a + chunk_size, num_traces + 1)) for a in np.arange(0, num_traces, chunk_size)]"
   ],
   "metadata": {
    "collapsed": false,
    "pycharm": {
     "name": "#%%\n"
    }
   }
  },
  {
   "cell_type": "code",
   "execution_count": 39,
   "outputs": [
    {
     "name": "stderr",
     "output_type": "stream",
     "text": [
      " 17%|█▋        | 10/60 [01:16<06:22,  7.64s/it]\n"
     ]
    },
    {
     "ename": "KeyboardInterrupt",
     "evalue": "",
     "output_type": "error",
     "traceback": [
      "\u001B[0;31m---------------------------------------------------------------------------\u001B[0m",
      "\u001B[0;31mKeyboardInterrupt\u001B[0m                         Traceback (most recent call last)",
      "\u001B[0;32m<ipython-input-39-3097d3f26e05>\u001B[0m in \u001B[0;36m<module>\u001B[0;34m\u001B[0m\n\u001B[1;32m     13\u001B[0m     \u001B[0mts\u001B[0m\u001B[0;34m.\u001B[0m\u001B[0mcreate\u001B[0m\u001B[0;34m(\u001B[0m\u001B[0mprofile\u001B[0m\u001B[0;34m,\u001B[0m \u001B[0mhw\u001B[0m\u001B[0;34m[\u001B[0m\u001B[0mprofiling_mask\u001B[0m\u001B[0;34m]\u001B[0m\u001B[0;34m,\u001B[0m \u001B[0mattack\u001B[0m\u001B[0;34m,\u001B[0m \u001B[0mhw\u001B[0m\u001B[0;34m[\u001B[0m\u001B[0;34m~\u001B[0m\u001B[0mprofiling_mask\u001B[0m\u001B[0;34m]\u001B[0m\u001B[0;34m)\u001B[0m\u001B[0;34m\u001B[0m\u001B[0;34m\u001B[0m\u001B[0m\n\u001B[1;32m     14\u001B[0m \u001B[0;34m\u001B[0m\u001B[0m\n\u001B[0;32m---> 15\u001B[0;31m \u001B[0mcreate_hw00\u001B[0m\u001B[0;34m(\u001B[0m\u001B[0mRAW_TRACES\u001B[0m\u001B[0;34m,\u001B[0m \u001B[0mY_NONE\u001B[0m\u001B[0;34m,\u001B[0m \u001B[0mPROFILING_MASK\u001B[0m\u001B[0;34m,\u001B[0m \u001B[0mSELECTED_POI\u001B[0m\u001B[0;34m)\u001B[0m\u001B[0;34m\u001B[0m\u001B[0;34m\u001B[0m\u001B[0m\n\u001B[0m",
      "\u001B[0;32m<ipython-input-39-3097d3f26e05>\u001B[0m in \u001B[0;36mcreate_hw00\u001B[0;34m(raw_traces, hw, profiling_mask, poi)\u001B[0m\n\u001B[1;32m      5\u001B[0m \u001B[0;34m\u001B[0m\u001B[0m\n\u001B[1;32m      6\u001B[0m     \u001B[0;32mfor\u001B[0m \u001B[0ma\u001B[0m\u001B[0;34m,\u001B[0m \u001B[0mb\u001B[0m \u001B[0;32min\u001B[0m \u001B[0mtqdm\u001B[0m\u001B[0;34m(\u001B[0m\u001B[0mget_chunk_ixs\u001B[0m\u001B[0;34m(\u001B[0m\u001B[0mnum_traces\u001B[0m\u001B[0;34m,\u001B[0m \u001B[0;36m5000\u001B[0m\u001B[0;34m)\u001B[0m\u001B[0;34m)\u001B[0m\u001B[0;34m:\u001B[0m\u001B[0;34m\u001B[0m\u001B[0;34m\u001B[0m\u001B[0m\n\u001B[0;32m----> 7\u001B[0;31m         \u001B[0mtraces\u001B[0m\u001B[0;34m[\u001B[0m\u001B[0ma\u001B[0m\u001B[0;34m:\u001B[0m\u001B[0mb\u001B[0m\u001B[0;34m]\u001B[0m \u001B[0;34m=\u001B[0m \u001B[0mRAW_TRACES\u001B[0m\u001B[0;34m[\u001B[0m\u001B[0ma\u001B[0m\u001B[0;34m:\u001B[0m\u001B[0mb\u001B[0m\u001B[0;34m,\u001B[0m \u001B[0mpoi\u001B[0m\u001B[0;34m[\u001B[0m\u001B[0;36m0\u001B[0m\u001B[0;34m]\u001B[0m\u001B[0;34m:\u001B[0m\u001B[0mpoi\u001B[0m\u001B[0;34m[\u001B[0m\u001B[0;36m1\u001B[0m\u001B[0;34m]\u001B[0m\u001B[0;34m]\u001B[0m\u001B[0;34m\u001B[0m\u001B[0;34m\u001B[0m\u001B[0m\n\u001B[0m\u001B[1;32m      8\u001B[0m \u001B[0;34m\u001B[0m\u001B[0m\n\u001B[1;32m      9\u001B[0m     \u001B[0mprofile\u001B[0m \u001B[0;34m=\u001B[0m \u001B[0mtraces\u001B[0m\u001B[0;34m[\u001B[0m\u001B[0mprofiling_mask\u001B[0m\u001B[0;34m]\u001B[0m\u001B[0;34m\u001B[0m\u001B[0;34m\u001B[0m\u001B[0m\n",
      "\u001B[0;32mh5py/_objects.pyx\u001B[0m in \u001B[0;36mh5py._objects.with_phil.wrapper\u001B[0;34m()\u001B[0m\n",
      "\u001B[0;32mh5py/_objects.pyx\u001B[0m in \u001B[0;36mh5py._objects.with_phil.wrapper\u001B[0;34m()\u001B[0m\n",
      "\u001B[0;32m~/anaconda3/envs/LA/lib/python3.9/site-packages/h5py/_hl/dataset.py\u001B[0m in \u001B[0;36m__getitem__\u001B[0;34m(self, args, new_dtype)\u001B[0m\n\u001B[1;32m    785\u001B[0m         \u001B[0mmspace\u001B[0m \u001B[0;34m=\u001B[0m \u001B[0mh5s\u001B[0m\u001B[0;34m.\u001B[0m\u001B[0mcreate_simple\u001B[0m\u001B[0;34m(\u001B[0m\u001B[0mselection\u001B[0m\u001B[0;34m.\u001B[0m\u001B[0mmshape\u001B[0m\u001B[0;34m)\u001B[0m\u001B[0;34m\u001B[0m\u001B[0;34m\u001B[0m\u001B[0m\n\u001B[1;32m    786\u001B[0m         \u001B[0mfspace\u001B[0m \u001B[0;34m=\u001B[0m \u001B[0mselection\u001B[0m\u001B[0;34m.\u001B[0m\u001B[0mid\u001B[0m\u001B[0;34m\u001B[0m\u001B[0;34m\u001B[0m\u001B[0m\n\u001B[0;32m--> 787\u001B[0;31m         \u001B[0mself\u001B[0m\u001B[0;34m.\u001B[0m\u001B[0mid\u001B[0m\u001B[0;34m.\u001B[0m\u001B[0mread\u001B[0m\u001B[0;34m(\u001B[0m\u001B[0mmspace\u001B[0m\u001B[0;34m,\u001B[0m \u001B[0mfspace\u001B[0m\u001B[0;34m,\u001B[0m \u001B[0marr\u001B[0m\u001B[0;34m,\u001B[0m \u001B[0mmtype\u001B[0m\u001B[0;34m,\u001B[0m \u001B[0mdxpl\u001B[0m\u001B[0;34m=\u001B[0m\u001B[0mself\u001B[0m\u001B[0;34m.\u001B[0m\u001B[0m_dxpl\u001B[0m\u001B[0;34m)\u001B[0m\u001B[0;34m\u001B[0m\u001B[0;34m\u001B[0m\u001B[0m\n\u001B[0m\u001B[1;32m    788\u001B[0m \u001B[0;34m\u001B[0m\u001B[0m\n\u001B[1;32m    789\u001B[0m         \u001B[0;31m# Patch up the output for NumPy\u001B[0m\u001B[0;34m\u001B[0m\u001B[0;34m\u001B[0m\u001B[0;34m\u001B[0m\u001B[0m\n",
      "\u001B[0;31mKeyboardInterrupt\u001B[0m: "
     ]
    }
   ],
   "source": [
    "def create_hw00(raw_traces: np.ndarray, hw: np.ndarray, profiling_mask: np.ndarray, poi: (int, int)):\n",
    "    num_traces = len(raw_traces) - 1\n",
    "    len_poi = poi[1] - poi[0]\n",
    "    traces = np.zeros((num_traces, len_poi), dtype=raw_traces.dtype)\n",
    "\n",
    "    for a, b in tqdm(get_chunk_ixs(num_traces, 5000)):\n",
    "        traces[a:b] = RAW_TRACES[a:b, poi[0]:poi[1]]\n",
    "\n",
    "    profile = traces[profiling_mask]\n",
    "    attack = traces[~profiling_mask]\n",
    "\n",
    "    ts = TraceSetHW(Database.ascad_none)\n",
    "    ts.create(profile, hw[profiling_mask], attack, hw[~profiling_mask])\n",
    "\n",
    "create_hw00(RAW_TRACES, Y_NONE, PROFILING_MASK, SELECTED_POI)"
   ],
   "metadata": {
    "collapsed": false,
    "pycharm": {
     "name": "#%%\n"
    }
   }
  }
 ],
 "metadata": {
  "kernelspec": {
   "display_name": "Python 3",
   "language": "python",
   "name": "python3"
  },
  "language_info": {
   "codemirror_mode": {
    "name": "ipython",
    "version": 3
   },
   "file_extension": ".py",
   "mimetype": "text/x-python",
   "name": "python",
   "nbconvert_exporter": "python",
   "pygments_lexer": "ipython3",
   "version": "3.9.5"
  }
 },
 "nbformat": 4,
 "nbformat_minor": 1
}