{
 "cells": [
  {
   "cell_type": "markdown",
   "source": [
    "Non-functional example. TODO remove"
   ],
   "metadata": {
    "collapsed": false,
    "pycharm": {
     "name": "#%% md\n"
    }
   }
  },
  {
   "cell_type": "code",
   "execution_count": null,
   "outputs": [],
   "source": [
    "import numpy as np\n",
    "from scipy.stats import t as stats_t\n",
    "from scipy.stats import ttest_ind\n",
    "\n",
    "import seaborn as sns\n",
    "\n",
    "def make_t_test(trace_length: int):\n",
    "    \"\"\"\n",
    "    Returns a t-test that takes the sample mean and variance for a list of sample points from A, and a list of sample\n",
    "    points for B.\n",
    "    \"\"\"\n",
    "    sqrt_n = np.sqrt(trace_length)\n",
    "    n_min = trace_length - 1\n",
    "\n",
    "    def welch_t_test(a: np.array, b: np.array):\n",
    "        mean_a, var_a = a\n",
    "        mean_b, var_b = b\n",
    "\n",
    "        m = mean_a - mean_b\n",
    "        s = np.sqrt(var_a + var_b) / sqrt_n\n",
    "\n",
    "        t = m / s\n",
    "\n",
    "        dof = (var_a + var_b) ** 2 / ((var_a ** 2 + var_b ** 2) / n_min)\n",
    "\n",
    "        p = 2 * stats_t(df=dof).cdf(-np.abs(t))\n",
    "\n",
    "        return t, p\n",
    "\n",
    "    return welch_t_test"
   ],
   "metadata": {
    "collapsed": false,
    "pycharm": {
     "name": "#%%\n"
    }
   }
  },
  {
   "cell_type": "code",
   "execution_count": 30,
   "outputs": [],
   "source": [
    "class StatTest:\n",
    "    test: (np.array, np.array)\n",
    "\n",
    "class StatsT(StatTest):\n",
    "    test = lambda x, y: ttest_ind(x, y, axis=0, equal_var=False)\n",
    "\n",
    "class TVLA:\n",
    "    def __init__(self, core: StatTest):\n",
    "        self.test = core\n",
    "        self.var = np.astype(0, np.complex256)\n",
    "        self.mean = np.astype(0, np.complex256)\n",
    "        self.max_t = 0"
   ],
   "metadata": {
    "collapsed": false,
    "pycharm": {
     "name": "#%%\n"
    }
   }
  },
  {
   "cell_type": "code",
   "execution_count": 31,
   "outputs": [],
   "source": [
    "def gen_example(mean, trace_num, trace_len=1400):\n",
    "    return np.array([[np.random.normal(mean, 2.2) for _ in range(trace_len)] for _ in range(trace_num)])\n",
    "\n",
    "def get_mv(x: np.array):\n",
    "    return x.mean(), x.var()\n",
    "\n",
    "num_traces = 100\n",
    "ex_a = gen_example(2, num_traces)\n",
    "ex_b = gen_example(2, num_traces)"
   ],
   "metadata": {
    "collapsed": false,
    "pycharm": {
     "name": "#%%\n"
    }
   }
  },
  {
   "cell_type": "code",
   "execution_count": 32,
   "outputs": [
    {
     "data": {
      "text/plain": "array([[2.10119656, 5.08785009],\n       [2.02973399, 4.98953972],\n       [1.97236127, 5.01588706],\n       [1.97390802, 4.99368482],\n       [1.98142038, 4.96227005]])"
     },
     "execution_count": 32,
     "metadata": {},
     "output_type": "execute_result"
    }
   ],
   "source": [
    "def accumulate(traces):\n",
    "    ixs = range(1, len(ex_a) + 1)\n",
    "\n",
    "    m, v = traces.mean(axis=1, dtype=np.float128), traces.var(axis=1, dtype=np.float128)\n",
    "    res = np.array(list(zip(np.cumsum(m) / ixs, np.cumsum(v) / ixs)))\n",
    "\n",
    "    return res.astype(np.float64)\n",
    "\n",
    "accumulate(ex_a)[0:5]"
   ],
   "metadata": {
    "collapsed": false,
    "pycharm": {
     "name": "#%%\n"
    }
   }
  },
  {
   "cell_type": "code",
   "execution_count": 33,
   "outputs": [
    {
     "data": {
      "text/plain": "array([0., 0., 0., 0., 0., 0., 0., 0., 0., 0., 0., 0., 0., 0., 0., 0., 0.,\n       0., 0., 0., 0., 0., 0., 0., 0., 0., 0., 0., 0., 0., 0., 0., 0., 0.,\n       0., 0., 0., 0., 0., 0., 0., 0., 0., 0., 0., 0., 0., 0., 0., 0., 0.,\n       0., 0., 0., 0., 0., 0., 0., 0., 0., 0., 0., 0., 0., 0., 0., 0., 0.,\n       0., 0., 0., 0., 0., 0., 0., 0., 0., 0., 0., 0., 0., 0., 0., 0., 0.,\n       0., 0., 0., 0., 0., 0., 0., 0., 0., 0., 0., 0., 0., 0.])"
     },
     "execution_count": 33,
     "metadata": {},
     "output_type": "execute_result"
    }
   ],
   "source": [
    "test = make_t_test(1400)\n",
    "acc = accumulate(ex_a)\n",
    "\n",
    "ps = np.array([test(get_mv(ex_a[i + 1]), acc[i])[1] for i in range(num_traces - 1)])\n",
    "def get_gradient(values: np.array):\n",
    "    x_acc = np.zeros(values.shape)\n",
    "    x_min = 0\n",
    "    for ix, x in enumerate(values):\n",
    "        x_max = min(x, x_min)\n",
    "        x_acc[ix] = x_min\n",
    "\n",
    "    return x_acc\n",
    "\n",
    "get_gradient(ps)"
   ],
   "metadata": {
    "collapsed": false,
    "pycharm": {
     "name": "#%%\n"
    }
   }
  },
  {
   "cell_type": "code",
   "execution_count": 34,
   "outputs": [
    {
     "data": {
      "text/plain": "<AxesSubplot:>"
     },
     "execution_count": 34,
     "metadata": {},
     "output_type": "execute_result"
    },
    {
     "data": {
      "text/plain": "<Figure size 432x288 with 1 Axes>",
      "image/png": "[encoded data removed]"
     },
     "metadata": {},
     "output_type": "display_data"
    }
   ],
   "source": [
    "sns.set_style('whitegrid')\n",
    "sns.lineplot(data=get_gradient(ps))"
   ],
   "metadata": {
    "collapsed": false,
    "pycharm": {
     "name": "#%%\n"
    }
   }
  },
  {
   "cell_type": "code",
   "execution_count": 35,
   "outputs": [
    {
     "ename": "AttributeError",
     "evalue": "'tuple' object has no attribute 'shape'",
     "output_type": "error",
     "traceback": [
      "\u001B[0;31m---------------------------------------------------------------------------\u001B[0m",
      "\u001B[0;31mAttributeError\u001B[0m                            Traceback (most recent call last)",
      "\u001B[0;32m<ipython-input-35-36e1b6eb67aa>\u001B[0m in \u001B[0;36m<module>\u001B[0;34m\u001B[0m\n\u001B[0;32m----> 1\u001B[0;31m \u001B[0mex_a_s\u001B[0m \u001B[0;34m=\u001B[0m \u001B[0mget_mv\u001B[0m\u001B[0;34m(\u001B[0m\u001B[0mex_a\u001B[0m\u001B[0;34m)\u001B[0m\u001B[0;34m.\u001B[0m\u001B[0mshape\u001B[0m\u001B[0;34m\u001B[0m\u001B[0;34m\u001B[0m\u001B[0m\n\u001B[0m\u001B[1;32m      2\u001B[0m \u001B[0;34m\u001B[0m\u001B[0m\n\u001B[1;32m      3\u001B[0m \u001B[0mres_sp\u001B[0m \u001B[0;34m=\u001B[0m \u001B[0mttest_ind\u001B[0m\u001B[0;34m(\u001B[0m\u001B[0mex_a\u001B[0m\u001B[0;34m,\u001B[0m \u001B[0mex_b\u001B[0m\u001B[0;34m,\u001B[0m \u001B[0maxis\u001B[0m\u001B[0;34m=\u001B[0m\u001B[0;36m1\u001B[0m\u001B[0;34m,\u001B[0m \u001B[0mequal_var\u001B[0m\u001B[0;34m=\u001B[0m\u001B[0;32mFalse\u001B[0m\u001B[0;34m)\u001B[0m\u001B[0;34m\u001B[0m\u001B[0;34m\u001B[0m\u001B[0m\n\u001B[1;32m      4\u001B[0m \u001B[0;34m\u001B[0m\u001B[0m\n\u001B[1;32m      5\u001B[0m \u001B[0mres_custom\u001B[0m \u001B[0;34m=\u001B[0m \u001B[0mtest\u001B[0m\u001B[0;34m(\u001B[0m\u001B[0mget_mv\u001B[0m\u001B[0;34m(\u001B[0m\u001B[0mex_a\u001B[0m\u001B[0;34m)\u001B[0m\u001B[0;34m,\u001B[0m \u001B[0mget_mv\u001B[0m\u001B[0;34m(\u001B[0m\u001B[0mex_b\u001B[0m\u001B[0;34m)\u001B[0m\u001B[0;34m)\u001B[0m\u001B[0;34m\u001B[0m\u001B[0;34m\u001B[0m\u001B[0m\n",
      "\u001B[0;31mAttributeError\u001B[0m: 'tuple' object has no attribute 'shape'"
     ]
    }
   ],
   "source": [
    "ex_a_s = get_mv(ex_a).shape\n",
    "\n",
    "res_sp = ttest_ind(ex_a, ex_b, axis=1, equal_var=False)\n",
    "\n",
    "res_custom = test(get_mv(ex_a), get_mv(ex_b))\n",
    "\n",
    "print(res_custom[1])\n",
    "print(res_sp[1])"
   ],
   "metadata": {
    "collapsed": false,
    "pycharm": {
     "name": "#%%\n"
    }
   }
  }
 ],
 "metadata": {
  "kernelspec": {
   "display_name": "Python 3",
   "language": "python",
   "name": "python3"
  },
  "language_info": {
   "codemirror_mode": {
    "name": "ipython",
    "version": 2
   },
   "file_extension": ".py",
   "mimetype": "text/x-python",
   "name": "python",
   "nbconvert_exporter": "python",
   "pygments_lexer": "ipython2",
   "version": "2.7.6"
  }
 },
 "nbformat": 4,
 "nbformat_minor": 0
}