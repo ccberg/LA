{
 "cells": [
  {
   "cell_type": "code",
   "execution_count": 37,
   "metadata": {
    "collapsed": true
   },
   "outputs": [],
   "source": [
    "import os\n",
    "\n",
    "import numpy as np\n",
    "\n",
    "from src.data.preprocess.cxt_window import window_cxt\n",
    "from src.pollution.clock_jitter import clock_jitter\n",
    "from src.pollution.random_delay import random_delay\n",
    "from src.trace_set.database import Database\n",
    "from src.trace_set.pollution import Pollution, PollutionType\n",
    "from src.trace_set.set_hw import TraceSetHW\n",
    "from src.tvla.tvla import Group"
   ]
  },
  {
   "cell_type": "code",
   "execution_count": 24,
   "outputs": [],
   "source": [
    "DB_CXT = Database.aisy_raw\n",
    "DB = Database.aisy\n",
    "\n",
    "TRACE_SET_CXT = TraceSetHW(DB_CXT)\n",
    "TRACE_SET = TraceSetHW(DB)"
   ],
   "metadata": {
    "collapsed": false,
    "pycharm": {
     "name": "#%%\n"
    }
   }
  },
  {
   "cell_type": "code",
   "execution_count": 26,
   "outputs": [],
   "source": [
    "(X_CXT, Y), (X_ATT_CXT, Y_ATT) = TRACE_SET_CXT.profile(), TRACE_SET_CXT.attack()"
   ],
   "metadata": {
    "collapsed": false,
    "pycharm": {
     "name": "#%%\n"
    }
   }
  },
  {
   "cell_type": "code",
   "execution_count": 30,
   "outputs": [],
   "source": [
    "SAMPLE_TRACE = TRACE_SET.profile()[0][0]\n",
    "WINDOW, _ = window_cxt(X_CXT, SAMPLE_TRACE)"
   ],
   "metadata": {
    "collapsed": false,
    "pycharm": {
     "name": "#%%\n"
    }
   }
  },
  {
   "cell_type": "code",
   "execution_count": 31,
   "outputs": [],
   "source": [
    "X = X_CXT[:, WINDOW[0]:WINDOW[1]]\n",
    "X_ATT = X_ATT_CXT[:, WINDOW[0]:WINDOW[1]]"
   ],
   "metadata": {
    "collapsed": false,
    "pycharm": {
     "name": "#%%\n"
    }
   }
  },
  {
   "cell_type": "code",
   "execution_count": 33,
   "outputs": [],
   "source": [
    "def fixed_fixed(x:np.ndarray, hw: np.ndarray):\n",
    "    leakage_bit = hw > 4\n",
    "    drop_mask = hw != 4\n",
    "\n",
    "    return x[drop_mask], leakage_bit[drop_mask]"
   ],
   "metadata": {
    "collapsed": false,
    "pycharm": {
     "name": "#%%\n"
    }
   }
  },
  {
   "cell_type": "code",
   "execution_count": 47,
   "outputs": [
    {
     "name": "stderr",
     "output_type": "stream",
     "text": [
      "Computing Central Moments: 100%|██████████| 4/4 [00:01<00:00,  3.81it/s]\n",
      "Computing Central Moments: 100%|██████████| 4/4 [00:00<00:00, 19.71it/s]"
     ]
    },
    {
     "name": "stdout",
     "output_type": "stream",
     "text": [
      "Jitter (1000): min-p: (2.739175242053216e-44).\n"
     ]
    },
    {
     "name": "stderr",
     "output_type": "stream",
     "text": [
      "\n"
     ]
    }
   ],
   "source": [
    "JITTER_PARAMS = np.arange(0, 2.25, .125)\n",
    "\n",
    "def apply_jitter(params):\n",
    "    for param in params:\n",
    "        pollution = Pollution(PollutionType.jitter, param)\n",
    "        out = TraceSetHW(DB, pollution)\n",
    "\n",
    "        if not os.path.exists(out.path):\n",
    "            x = clock_jitter(X_CXT, WINDOW, param)\n",
    "            x_att = clock_jitter(X_ATT_CXT, WINDOW, param)\n",
    "\n",
    "            out.create(x, Y, x_att, Y_ATT)\n",
    "        else:\n",
    "            x, _ = out.profile()\n",
    "\n",
    "        x2, y2 = fixed_fixed(x, Y)\n",
    "        a, b = x2[~y2], x2[y2]\n",
    "        order = 2\n",
    "        _, tvla_p = Group(a, order, True).t_test(Group(b, order, True), order)\n",
    "        print(f\"Jitter ({param}): min-p: ({min(tvla_p)}).\")\n",
    "\n",
    "apply_jitter([1000])"
   ],
   "metadata": {
    "collapsed": false,
    "pycharm": {
     "name": "#%%\n"
    }
   }
  },
  {
   "cell_type": "code",
   "execution_count": null,
   "outputs": [],
   "source": [
    "DELAY_PARAMS = np.arange(0, .75 + .125, .125)\n",
    "A = 5\n",
    "B = 3\n",
    "DELAY_AMP = 10\n",
    "\n",
    "def apply_delay(params):\n",
    "    for param in params:\n",
    "        pollution = Pollution(PollutionType.delay, param)\n",
    "        out = TraceSetHW(DB, pollution)\n",
    "\n",
    "        if not os.path.exists(out.path):\n",
    "            profile_jitter = random_delay(X, A, B, DELAY_AMP, param)\n",
    "            attack_jitter = random_delay(X_ATT,A, B, DELAY_AMP, param)\n",
    "\n",
    "            out.create(profile_jitter, Y, attack_jitter, Y_ATT)"
   ],
   "metadata": {
    "collapsed": false,
    "pycharm": {
     "name": "#%%\n"
    }
   }
  }
 ],
 "metadata": {
  "kernelspec": {
   "display_name": "Python 3",
   "language": "python",
   "name": "python3"
  },
  "language_info": {
   "codemirror_mode": {
    "name": "ipython",
    "version": 2
   },
   "file_extension": ".py",
   "mimetype": "text/x-python",
   "name": "python",
   "nbconvert_exporter": "python",
   "pygments_lexer": "ipython2",
   "version": "2.7.6"
  }
 },
 "nbformat": 4,
 "nbformat_minor": 0
}