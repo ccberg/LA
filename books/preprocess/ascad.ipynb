{
 "cells": [
  {
   "cell_type": "markdown",
   "metadata": {
    "collapsed": true,
    "pycharm": {
     "name": "#%% md\n"
    }
   },
   "source": [
    "# Hamming weight extractor\n",
    "\n",
    "- Extracts the Hamming weight of the state after the SBox in the first round.\n",
    "- Appends a hamming weight column to the ASCAD file."
   ]
  },
  {
   "cell_type": "code",
   "execution_count": 1,
   "outputs": [],
   "source": [
    "import os\n",
    "\n",
    "import numpy as np\n",
    "import seaborn as sns\n",
    "\n",
    "from src.data.loaders.ascad import ASCADData\n",
    "from src.data.preprocess.hw import full_states\n",
    "from src.pollution.jitter import jitter\n",
    "from src.tools.plotter import init_plots\n",
    "from src.trace_set.ascad import TraceSet, Database, Pollution, PollutionType\n",
    "\n",
    "init_plots()"
   ],
   "metadata": {
    "collapsed": false,
    "pycharm": {
     "name": "#%%\n"
    }
   }
  },
  {
   "cell_type": "code",
   "execution_count": 2,
   "outputs": [],
   "source": [
    "ascad = ASCADData.random_key()\n",
    "plaintext_ix = 0\n",
    "full_key_ix = 1\n",
    "\n",
    "profile_metadata = np.array(ascad[\"Profiling_traces\"][\"metadata\"])\n",
    "profile_traces = np.array(ascad[\"Profiling_traces\"][\"traces\"])\n",
    "\n",
    "attack_metadata = np.array(ascad[\"Attack_traces\"][\"metadata\"])\n",
    "attack_traces = np.array(ascad[\"Attack_traces\"][\"traces\"])\n",
    "\n",
    "def get_acc(metadata):\n",
    "    return np.zeros((len(metadata), 16), dtype=np.uint8)\n",
    "\n",
    "profile_key, profile_plain = get_acc(profile_metadata), get_acc(profile_metadata)\n",
    "attack_key, attack_plain = get_acc(attack_metadata), get_acc(attack_metadata)\n",
    "\n",
    "for ix in range(len(profile_metadata)):\n",
    "    profile_key[ix] = profile_metadata[ix][full_key_ix]\n",
    "    profile_plain[ix] = profile_metadata[ix][plaintext_ix]\n",
    "\n",
    "for ix in range(len(attack_metadata)):\n",
    "    attack_key[ix] = attack_metadata[ix][full_key_ix]\n",
    "    attack_plain[ix] = attack_metadata[ix][plaintext_ix]\n",
    "\n",
    "ascad.close()"
   ],
   "metadata": {
    "collapsed": false,
    "pycharm": {
     "name": "#%%\n"
    }
   }
  },
  {
   "cell_type": "markdown",
   "source": [
    "### Calculate full intermediate states from AES\n",
    "\n",
    "Based on plaintext and key metadata."
   ],
   "metadata": {
    "collapsed": false
   }
  },
  {
   "cell_type": "code",
   "execution_count": null,
   "outputs": [
    {
     "name": "stderr",
     "output_type": "stream",
     "text": [
      " 74%|███████▍  | 148028/200000 [00:44<00:15, 3338.74it/s]"
     ]
    }
   ],
   "source": [
    "profile_hw = full_states(profile_plain, profile_key)\n",
    "attack_hw = full_states(attack_plain, attack_key)"
   ],
   "metadata": {
    "collapsed": false,
    "pycharm": {
     "name": "#%%\n",
     "is_executing": true
    }
   }
  },
  {
   "cell_type": "markdown",
   "source": [
    "### Hamming Weights of the first byte of the first state."
   ],
   "metadata": {
    "collapsed": false,
    "pycharm": {
     "name": "#%% md\n"
    }
   }
  },
  {
   "cell_type": "code",
   "execution_count": null,
   "outputs": [],
   "source": [
    "profile_hw_00 = profile_hw[:, 0, 0]\n",
    "attack_hw_00 = attack_hw[:, 0, 0]"
   ],
   "metadata": {
    "collapsed": false,
    "pycharm": {
     "name": "#%%\n",
     "is_executing": true
    }
   }
  },
  {
   "cell_type": "code",
   "execution_count": null,
   "outputs": [],
   "source": [
    "sns.lineplot(data={\n",
    "    \"Profile hw distribution\": np.bincount(profile_hw_00),\n",
    "    \"Attack hw distribution\": np.bincount(attack_hw_00),\n",
    "})"
   ],
   "metadata": {
    "collapsed": false,
    "pycharm": {
     "name": "#%%\n",
     "is_executing": true
    }
   }
  },
  {
   "cell_type": "code",
   "execution_count": null,
   "outputs": [],
   "source": [
    "OUT = TraceSet(Database.ascad)\n",
    "\n",
    "if not os.path.exists(os.path.dirname(OUT.path)):\n",
    "    os.makedirs(os.path.dirname(OUT.path))\n",
    "\n",
    "OUT.open(\"w\")\n",
    "\n",
    "OUT.add({\n",
    "    \"profile\": {\n",
    "        \"traces\": profile_traces,\n",
    "        \"hw\": profile_hw_00\n",
    "    },\n",
    "    \"attack\": {\n",
    "        \"traces\": attack_traces,\n",
    "        \"hw\": attack_hw_00\n",
    "    }\n",
    "})\n",
    "\n",
    "OUT.close()\n"
   ],
   "metadata": {
    "collapsed": false,
    "pycharm": {
     "name": "#%%\n",
     "is_executing": true
    }
   }
  },
  {
   "cell_type": "code",
   "execution_count": null,
   "outputs": [],
   "source": [
    "JITTER_PARAMS = np.arange(.75, 10.25, .25)\n",
    "\n",
    "for param in JITTER_PARAMS:\n",
    "    pollution = Pollution(PollutionType.jitter, param)\n",
    "    out = TraceSet(Database.ascad, pollution)\n",
    "\n",
    "    if not os.path.exists(out.path):\n",
    "        profile_jitter = jitter(profile_traces, param)\n",
    "        attack_jitter = jitter(attack_traces, param)\n",
    "\n",
    "        out.open(\"w\")\n",
    "\n",
    "        out.add({\n",
    "            \"profile\": {\n",
    "                \"traces\": profile_jitter,\n",
    "                \"hw\": profile_hw_00\n",
    "            },\n",
    "            \"attack\": {\n",
    "                \"traces\": attack_jitter,\n",
    "                \"hw\": attack_hw_00\n",
    "            }\n",
    "        })\n",
    "\n",
    "        out.close()"
   ],
   "metadata": {
    "collapsed": false,
    "pycharm": {
     "name": "#%%\n",
     "is_executing": true
    }
   }
  },
  {
   "cell_type": "code",
   "execution_count": null,
   "outputs": [],
   "source": [
    "EXAMPLE = TraceSet(Database.ascad, Pollution(PollutionType.jitter, 1))\n",
    "f = EXAMPLE.open('r')\n",
    "\n",
    "sns.lineplot(data={\n",
    "    \"no jitter\": profile_traces[0, :100],\n",
    "    \"jitter 0.5\": np.array(f[\"profile\"][\"traces\"])[0, :100],\n",
    "    \"Trace 2\": np.array(f[\"profile\"][\"traces\"])[1, :100],\n",
    "})\n",
    "\n",
    "EXAMPLE.close()"
   ],
   "metadata": {
    "collapsed": false,
    "pycharm": {
     "name": "#%%\n",
     "is_executing": true
    }
   }
  }
 ],
 "metadata": {
  "kernelspec": {
   "display_name": "Python 3",
   "language": "python",
   "name": "python3"
  },
  "language_info": {
   "codemirror_mode": {
    "name": "ipython",
    "version": 2
   },
   "file_extension": ".py",
   "mimetype": "text/x-python",
   "name": "python",
   "nbconvert_exporter": "python",
   "pygments_lexer": "ipython2",
   "version": "2.7.6"
  }
 },
 "nbformat": 4,
 "nbformat_minor": 0
}