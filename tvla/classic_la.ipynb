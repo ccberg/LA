{
 "cells": [
  {
   "cell_type": "markdown",
   "source": [
    "# Classical LA methods\n",
    "## $t$-test method"
   ],
   "metadata": {
    "collapsed": false
   }
  },
  {
   "cell_type": "code",
   "execution_count": 1,
   "outputs": [],
   "source": [
    "def nonzero_bins(bins):\n",
    "    \"\"\"\n",
    "    Retrieves all bins for which at least one category has a non-zero value.\n",
    "\n",
    "    :param bins: a set of categories with bins corresponding to that category.\n",
    "    :return: the indexes of non-zero bins.\n",
    "    \"\"\"\n",
    "    nz_bins = []\n",
    "    for ix, a, b in zip(range(len(bins[0])), *bins):\n",
    "        if a == 0 and b == 0:\n",
    "            continue\n",
    "\n",
    "        nz_bins.append(ix)\n",
    "\n",
    "    return nz_bins\n"
   ],
   "metadata": {
    "collapsed": false,
    "pycharm": {
     "name": "#%%\n"
    }
   }
  },
  {
   "cell_type": "code",
   "execution_count": 2,
   "outputs": [],
   "source": [
    "import scipy.stats as stats\n",
    "import numpy as np\n",
    "import math\n",
    "\n",
    "def calc_t(ctable):\n",
    "    mean = [0, 0]\n",
    "    var = [0, 0]\n",
    "    n = [0, 0]\n",
    "\n",
    "    rg = [abs(a - b) for a, b in zip(*ctable)]\n",
    "\n",
    "    for ix_cat in range(2):\n",
    "        for ix_bin in range(len(ctable[ix_cat])):\n",
    "            mean[ix_cat] += ctable[ix_cat][ix_bin] * rg[ix_bin]\n",
    "            n[ix_cat] += ctable[ix_cat][ix_bin]\n",
    "\n",
    "        mean[ix_cat] /= n[ix_cat]\n",
    "\n",
    "        for ix_bin in range(len(ctable[ix_cat])):\n",
    "            tmp = (rg[ix_bin] - mean[ix_cat])\n",
    "            var[ix_cat] += tmp ** 2 + ctable[ix_cat][ix_bin]\n",
    "\n",
    "        var[ix_cat] /= n[ix_cat]\n",
    "\n",
    "    # t-value\n",
    "    mean_diff = mean[0] - mean[1]\n",
    "    var_sum = (var[0] / n[0]) + (var[1] / n[1])\n",
    "    t_ret = mean_diff / math.sqrt(var_sum)\n",
    "\n",
    "    # degree of freedom\n",
    "    denom = ((var[0] / n[0]) * (var[0] / n[0])) / (n[0] - 1) + ((var[1] / n[1]) * (var[1] / n[1])) / (n[1] - 1)\n",
    "    t_dof_ret = var_sum ** 2 / denom\n",
    "\n",
    "    # cdf\n",
    "    t_p_ret = 2 * stats.t(t_dof_ret).cdf(-abs(t_ret))\n",
    "\n",
    "    return t_ret, t_dof_ret, t_p_ret"
   ],
   "metadata": {
    "collapsed": false,
    "pycharm": {
     "name": "#%%\n"
    }
   }
  },
  {
   "cell_type": "markdown",
   "source": [
    "## $\\chi^2$ method"
   ],
   "metadata": {
    "collapsed": false
   }
  },
  {
   "cell_type": "code",
   "execution_count": 3,
   "outputs": [],
   "source": [
    "def calc_chi(ctable):\n",
    "    \"\"\"\n",
    "    Calculates the p value for rejecting H0, among others.\n",
    "    Small p values give evidence to reject the null hypothesis and conclude that for the\n",
    "    scenarios presented in ctable the occurrences of the observations are not independent.\n",
    "\n",
    "    :param ctable: contingency table for different categories of traces.\n",
    "    :return: A 3-tuple containing: The value for chi, the degrees of freedom,\n",
    "        the p value for rejecting H0.\n",
    "    \"\"\"\n",
    "    num_cats = len(ctable)\n",
    "    num_bins = len(ctable[0])\n",
    "\n",
    "    # chi**2 value\n",
    "    sum_rows = [0] * num_cats\n",
    "    sum_cols = [0] * num_bins\n",
    "    N = 0.0\n",
    "\n",
    "    # Only check non-zero bins\n",
    "    nz_bins = nonzero_bins(ctable)\n",
    "\n",
    "    for ix_bin in nz_bins:\n",
    "        for ix_cat in range(num_cats):\n",
    "            # Bin from the contingency table\n",
    "            c_bin = ctable[ix_cat][ix_bin]\n",
    "\n",
    "            sum_rows[ix_cat] += c_bin\n",
    "            sum_cols[ix_bin] += c_bin\n",
    "            N += c_bin\n",
    "\n",
    "    chi = 0.0\n",
    "    for ix_bin in nz_bins:\n",
    "        for ix_cat in range(num_cats):\n",
    "            E = (sum_rows[ix_cat] * sum_cols[ix_bin]) / N\n",
    "            tmp = (ctable[ix_cat][ix_bin] - E)\n",
    "\n",
    "            chi += tmp ** 2 / E\n",
    "\n",
    "    # Degrees of freedom\n",
    "    dof = (num_bins - 1) * (num_cats - 1)\n",
    "    # p-value for rejecting H0\n",
    "    p = stats.chi2(dof).cdf(chi)\n",
    "\n",
    "    return chi, dof, p"
   ],
   "metadata": {
    "collapsed": false,
    "pycharm": {
     "name": "#%%\n"
    }
   }
  },
  {
   "cell_type": "code",
   "execution_count": 13,
   "outputs": [],
   "source": [
    "from collections import Counter\n",
    "import pandas as pd\n",
    "\n",
    "def contingency_table(traces, trace_range):\n",
    "        \"\"\"\n",
    "        Builds a contingency table from traces from the dataset for a given label.\n",
    "\n",
    "        :param traces: the traces from which the contingency table should be build.\n",
    "        :param trace_range: the range of values which the traces can take.\n",
    "        :return: the contingency table as a numpy array.\n",
    "        \"\"\"\n",
    "        df = pd.DataFrame([Counter(bins) for bins in traces])\n",
    "        res = df.sum().sort_index().reindex(trace_range, fill_value=0).values\n",
    "        return np.array(res, dtype=int)\n"
   ],
   "metadata": {
    "collapsed": false,
    "pycharm": {
     "name": "#%%\n"
    }
   }
  }
 ],
 "metadata": {
  "kernelspec": {
   "display_name": "Python 3",
   "language": "python",
   "name": "python3"
  },
  "language_info": {
   "codemirror_mode": {
    "name": "ipython",
    "version": 2
   },
   "file_extension": ".py",
   "mimetype": "text/x-python",
   "name": "python",
   "nbconvert_exporter": "python",
   "pygments_lexer": "ipython2",
   "version": "2.7.6"
  }
 },
 "nbformat": 4,
 "nbformat_minor": 0
}