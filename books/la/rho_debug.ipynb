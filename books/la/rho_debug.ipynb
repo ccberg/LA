{
 "cells": [
  {
   "cell_type": "code",
   "execution_count": 1,
   "metadata": {
    "collapsed": true
   },
   "outputs": [
    {
     "name": "stderr",
     "output_type": "stream",
     "text": [
      "Computing Correlation Coefficients: 100%|██████████| 2000/2000 [00:00<00:00, 6869.25it/s]\n"
     ]
    }
   ],
   "source": [
    "import numpy as np\n",
    "from tqdm import tqdm\n",
    "from scipy.stats import norm\n",
    "\n",
    "from src.trace_set.database import Database\n",
    "from src.trace_set.set_hw import TraceSetHW\n",
    "from src.tvla.cri import get_xy, ab_mask"
   ]
  },
  {
   "cell_type": "code",
   "execution_count": 20,
   "outputs": [
    {
     "name": "stderr",
     "output_type": "stream",
     "text": [
      "Computing Correlation Coefficients: 100%|██████████| 2000/2000 [00:00<00:00, 11469.09it/s]\n"
     ]
    },
    {
     "data": {
      "text/plain": "1.1801194928568905e-29"
     },
     "execution_count": 20,
     "metadata": {},
     "output_type": "execute_result"
    }
   ],
   "source": [
    "X, Y = TraceSetHW(Database.aisy).profile()\n",
    "x, y = get_xy(X[:1000], Y[:1000])\n",
    "m = ab_mask(x)\n",
    "\n",
    "x1, y1 = x[~m], y[~m]\n",
    "x2, y2 = x[m], y[m]\n",
    "\n",
    "STANDARD_NORM = norm(loc=0, scale=1)\n",
    "\n",
    "num_traces, num_sample_points = x1.shape\n",
    "\n",
    "sp_indexes = range(num_sample_points)\n",
    "sp_indexes = tqdm(sp_indexes, \"Computing Correlation Coefficients\")\n",
    "\n",
    "# Correlation coefficient\n",
    "rho = np.zeros(num_sample_points, dtype=np.float128)\n",
    "for ix in sp_indexes:\n",
    "    rho[ix] = np.corrcoef(x1[:, ix], y1)[0, 1]\n",
    "\n",
    "# np.log stands for the natural log (ln).\n",
    "test_statistic = .5 * np.log((1 + rho) / (1 - rho)) * np.sqrt(num_traces)\n",
    "p = 2 * STANDARD_NORM.sf(np.abs(test_statistic.astype(np.float64)))\n",
    "\n",
    "min(p)"
   ],
   "metadata": {
    "collapsed": false,
    "pycharm": {
     "name": "#%%\n"
    }
   }
  }
 ],
 "metadata": {
  "kernelspec": {
   "display_name": "Python 3",
   "language": "python",
   "name": "python3"
  },
  "language_info": {
   "codemirror_mode": {
    "name": "ipython",
    "version": 2
   },
   "file_extension": ".py",
   "mimetype": "text/x-python",
   "name": "python",
   "nbconvert_exporter": "python",
   "pygments_lexer": "ipython2",
   "version": "2.7.6"
  }
 },
 "nbformat": 4,
 "nbformat_minor": 0
}