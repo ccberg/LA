{
 "cells": [
  {
   "cell_type": "markdown",
   "metadata": {
    "collapsed": true,
    "pycharm": {
     "name": "#%% md\n"
    }
   },
   "source": [
    "# Applying Welch's t-test on ASCAD"
   ]
  },
  {
   "cell_type": "code",
   "execution_count": 6,
   "outputs": [],
   "source": [
    "from tqdm import tqdm\n",
    "from src.data.slices import make_slice\n",
    "from src.tools.traceloader import ASCAD\n",
    "import numpy as np\n",
    "from src.tvla.main import tvla\n",
    "from src.tvla.t import make_t_test"
   ],
   "metadata": {
    "collapsed": false,
    "pycharm": {
     "name": "#%%\n"
    }
   }
  },
  {
   "cell_type": "code",
   "execution_count": 7,
   "outputs": [],
   "source": [
    "ascad = ASCAD()"
   ],
   "metadata": {
    "collapsed": false,
    "pycharm": {
     "name": "#%%\n"
    }
   }
  },
  {
   "cell_type": "code",
   "execution_count": 21,
   "outputs": [
    {
     "data": {
      "text/plain": "((753, 1400), (760, 1400))"
     },
     "execution_count": 21,
     "metadata": {},
     "output_type": "execute_result"
    }
   ],
   "source": [
    "ascad.masked.profile.filter_traces(0).shape, ascad.default.profile.filter_traces(0).shape"
   ],
   "metadata": {
    "collapsed": false,
    "pycharm": {
     "name": "#%%\n"
    }
   }
  },
  {
   "cell_type": "code",
   "execution_count": 45,
   "outputs": [
    {
     "name": "stdout",
     "output_type": "stream",
     "text": [
      "704\n",
      "(256, 4, 176, 1400)\n",
      "704\n",
      "(256, 4, 176, 1400)\n"
     ]
    }
   ],
   "source": [
    "P_VALUE = 5\n",
    "PT_OF_INTEREST = (50, 80)\n",
    "\n",
    "def prepare(make_test, samples, p=P_VALUE, poi=PT_OF_INTEREST):\n",
    "    sample_sizes = [len(samples.filter_traces(i)) for i in range(ascad.key_size)]\n",
    "    mss = min(sample_sizes)\n",
    "\n",
    "    print(mss)\n",
    "\n",
    "    slc = np.array([make_slice(samples.filter_traces(i), mss) for i in range(ascad.key_size)])\n",
    "\n",
    "    print(slc.shape)\n",
    "    slc_mv = np.moveaxis(np.array((slc.mean(axis=2, dtype=np.float128), slc.var(axis=2, dtype=np.float128))), 0, -1)\n",
    "\n",
    "    test = make_test(mss)\n",
    "\n",
    "    return test, slc_mv\n",
    "\n",
    "# masked = prepare(make_t_test, ascad.masked.profile)\n",
    "\n",
    "default = prepare(make_t_test, ascad.default.profile)\n",
    "random = prepare(make_t_test, ascad.random.profile)"
   ],
   "metadata": {
    "collapsed": false,
    "pycharm": {
     "name": "#%%\n"
    }
   }
  },
  {
   "cell_type": "code",
   "execution_count": 62,
   "outputs": [
    {
     "data": {
      "text/plain": "(False, False)"
     },
     "execution_count": 62,
     "metadata": {},
     "output_type": "execute_result"
    }
   ],
   "source": [
    "tvla(test=default[0], left=default[1][0], right=default[1][208], p=1)"
   ],
   "metadata": {
    "collapsed": false,
    "pycharm": {
     "name": "#%%\n"
    }
   }
  },
  {
   "cell_type": "code",
   "execution_count": 47,
   "outputs": [
    {
     "data": {
      "text/plain": "(False, False)"
     },
     "execution_count": 47,
     "metadata": {},
     "output_type": "execute_result"
    }
   ],
   "source": [
    "tvla(test=random[0], left=random[1][0], right=random[1][208], p=1)"
   ],
   "metadata": {
    "collapsed": false,
    "pycharm": {
     "name": "#%%\n"
    }
   }
  },
  {
   "cell_type": "code",
   "execution_count": null,
   "outputs": [],
   "source": [
    "def key_tvla(test, slices: np.array, key_size=ascad.key_size):\n",
    "    res = np.array(np.zeros((key_size, key_size)), dtype=int)\n",
    "    progress = tqdm(total=key_size)\n",
    "    ff, tf, ft, tt = 0, 0, 0, 0\n",
    "\n",
    "    for i in range(key_size):\n",
    "        a = slices[i]\n",
    "        for j in range(key_size):\n",
    "            b = slices[j]\n",
    "\n",
    "            if i != j:\n",
    "                la = tvla(test=test, left=a, right=b, p=.00001)\n",
    "                enc = 2 * la[0] + la[1]\n",
    "                res[i][j] = enc\n",
    "\n",
    "                ff += enc == 0\n",
    "                ft += enc == 1\n",
    "                tf += enc == 2\n",
    "                tt += enc == 3\n",
    "\n",
    "        progress.set_description(f\"Total ({[ff, ft, tf, tt]})\")\n",
    "        progress.update()\n",
    "\n",
    "    progress.close()\n",
    "    return res\n",
    "\n",
    "\n",
    "res_default = key_tvla(*default)\n",
    "res_random = key_tvla(*random)"
   ],
   "metadata": {
    "collapsed": false,
    "pycharm": {
     "name": "#%%\n"
    }
   }
  },
  {
   "cell_type": "code",
   "execution_count": 10,
   "outputs": [
    {
     "data": {
      "text/plain": "186178"
     },
     "execution_count": 10,
     "metadata": {},
     "output_type": "execute_result"
    }
   ],
   "source": [
    "res_default.sum()"
   ],
   "metadata": {
    "collapsed": false,
    "pycharm": {
     "name": "#%%\n"
    }
   }
  }
 ],
 "metadata": {
  "kernelspec": {
   "display_name": "Python 3",
   "language": "python",
   "name": "python3"
  },
  "language_info": {
   "codemirror_mode": {
    "name": "ipython",
    "version": 2
   },
   "file_extension": ".py",
   "mimetype": "text/x-python",
   "name": "python",
   "nbconvert_exporter": "python",
   "pygments_lexer": "ipython2",
   "version": "2.7.6"
  }
 },
 "nbformat": 4,
 "nbformat_minor": 0
}