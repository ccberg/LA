{
 "cells": [
  {
   "cell_type": "code",
   "execution_count": 23,
   "metadata": {
    "collapsed": true
   },
   "outputs": [],
   "source": [
    "import numpy as np\n",
    "import seaborn as sns\n",
    "\n",
    "from src.tools.cache import NBCache\n",
    "from src.tools.object import get_custom_attributes\n",
    "\n",
    "sns.set_style(\"whitegrid\")"
   ]
  },
  {
   "cell_type": "code",
   "execution_count": 24,
   "metadata": {
    "pycharm": {
     "name": "#%%\n"
    }
   },
   "outputs": [],
   "source": [
    "SMOTE_LEVEL = 500\n",
    "cache = NBCache(\"tvla/t_test\", version=f\"smote_{SMOTE_LEVEL}\")"
   ]
  },
  {
   "cell_type": "code",
   "execution_count": 25,
   "metadata": {
    "pycharm": {
     "name": "#%%\n"
    }
   },
   "outputs": [],
   "source": [
    "PV_TVLA = .95\n",
    "PV_CHI2 = .99\n",
    "\n",
    "class Tvla:\n",
    "    default, masked, random = [None] * 3\n",
    "\n",
    "class TTest(Tvla):\n",
    "    default = cache.np(f\"tvla_default_{int(PV_TVLA*100)}\")\n",
    "    masked = cache.np(f\"tvla_masked_{int(PV_TVLA*100)}\")\n",
    "    random = cache.np(f\"tvla_random_{int(PV_TVLA*100)}\")\n",
    "\n",
    "class Chi2(Tvla):\n",
    "    default = cache.np(f\"chi2_default_{int(PV_CHI2*100)}\")\n",
    "    masked = cache.np(f\"chi2_masked_{int(PV_CHI2*100)}\")\n",
    "    random = cache.np(f\"chi2_random_{int(PV_CHI2*100)}\")\n",
    "\n",
    "class Heat(Tvla):\n",
    "    default = cache.np(\"heat_default\")\n",
    "    masked = cache.np(\"heat_masked\")\n",
    "    random = cache.np(\"heat_random\")"
   ]
  },
  {
   "cell_type": "code",
   "execution_count": 26,
   "metadata": {
    "pycharm": {
     "name": "#%%\n"
    }
   },
   "outputs": [],
   "source": [
    "def analyse_tvla(tres: Tvla, heat: Tvla):\n",
    "    for a in get_custom_attributes(Tvla):\n",
    "        sums = np.zeros(5)\n",
    "        total = 0\n",
    "\n",
    "        result = getattr(tres, a)\n",
    "        heatmap = getattr(heat, a)\n",
    "\n",
    "        for k1, key_1 in enumerate(result):\n",
    "            for k2, key_2 in enumerate(key_1):\n",
    "                h = heatmap[k1][k2][0]\n",
    "                l, r = key_2\n",
    "\n",
    "                leak = l * (not r)\n",
    "                leak_heat = h * leak\n",
    "\n",
    "                sums += np.array([*key_2, leak, leak_heat, h])\n",
    "                total += 1\n",
    "\n",
    "        total = len(result) ** 2\n",
    "\n",
    "        title = f\" TVLA for {a} keys \"\n",
    "        print(f\"\\n{'=' * len(title)}\")\n",
    "        print(title)\n",
    "        print(f\"{'=' * len(title)}\\n\")\n",
    "\n",
    "        print(f\"For a total of {total} key combinations: \\n\")\n",
    "\n",
    "        print(f\"A vs A fails  {int(sums[0])} times.\")\n",
    "        print(f\"A vs B fails {int(sums[1])} times. \\n\")\n",
    "\n",
    "        print(f\"Leakages detected:  {int(sums[2])}\")\n",
    "\n",
    "        print(f\"Average mean diff: {sums[4] / total:.4f}\")\n",
    "        print(f\"Average mean diff for leakage:  {sums[3] / sums[0]:.4f}\")"
   ]
  },
  {
   "cell_type": "markdown",
   "metadata": {},
   "source": [
    "## $t$-test analysis on ASCAD"
   ]
  },
  {
   "cell_type": "code",
   "execution_count": 28,
   "metadata": {
    "pycharm": {
     "name": "#%%\n"
    }
   },
   "outputs": [
    {
     "name": "stdout",
     "output_type": "stream",
     "text": [
      "\n",
      "=======================\n",
      " TVLA for default keys \n",
      "=======================\n",
      "\n",
      "For a total of 65536 key combinations: \n",
      "\n",
      "A vs A fails  768 times.\n",
      "A vs B fails 1170 times. \n",
      "\n",
      "Leakages detected:  754\n",
      "Average mean diff: 0.0406\n",
      "Average mean diff for leakage:  0.0517\n",
      "\n",
      "======================\n",
      " TVLA for masked keys \n",
      "======================\n",
      "\n",
      "For a total of 65536 key combinations: \n",
      "\n",
      "A vs A fails  1024 times.\n",
      "A vs B fails 1217 times. \n",
      "\n",
      "Leakages detected:  1002\n",
      "Average mean diff: 0.0406\n",
      "Average mean diff for leakage:  0.0224\n",
      "\n",
      "======================\n",
      " TVLA for random keys \n",
      "======================\n",
      "\n",
      "For a total of 65536 key combinations: \n",
      "\n",
      "A vs A fails  768 times.\n",
      "A vs B fails 1167 times. \n",
      "\n",
      "Leakages detected:  748\n",
      "Average mean diff: 0.0406\n",
      "Average mean diff for leakage:  0.0248\n"
     ]
    }
   ],
   "source": [
    "analyse_tvla(TTest, Heat)"
   ]
  },
  {
   "cell_type": "markdown",
   "metadata": {},
   "source": [
    "## $\\chi^2$-test analysis on ASCAD"
   ]
  },
  {
   "cell_type": "code",
   "execution_count": 27,
   "metadata": {
    "pycharm": {
     "name": "#%%\n"
    }
   },
   "outputs": [
    {
     "name": "stdout",
     "output_type": "stream",
     "text": [
      "\n",
      "=======================\n",
      " TVLA for default keys \n",
      "=======================\n",
      "\n",
      "For a total of 65536 key combinations: \n",
      "\n",
      "A vs A fails  43008 times.\n",
      "A vs B fails 41859 times. \n",
      "\n",
      "Leakages detected:  14786\n",
      "Average mean diff: 0.0406\n",
      "Average mean diff for leakage:  0.0133\n",
      "\n",
      "======================\n",
      " TVLA for masked keys \n",
      "======================\n",
      "\n",
      "For a total of 65536 key combinations: \n",
      "\n",
      "A vs A fails  39680 times.\n",
      "A vs B fails 41313 times. \n",
      "\n",
      "Leakages detected:  13719\n",
      "Average mean diff: 0.0406\n",
      "Average mean diff for leakage:  0.0143\n",
      "\n",
      "======================\n",
      " TVLA for random keys \n",
      "======================\n",
      "\n",
      "For a total of 65536 key combinations: \n",
      "\n",
      "A vs A fails  40192 times.\n",
      "A vs B fails 40983 times. \n",
      "\n",
      "Leakages detected:  13858\n",
      "Average mean diff: 0.0406\n",
      "Average mean diff for leakage:  0.0136\n"
     ]
    }
   ],
   "source": [
    "analyse_tvla(Chi2, Heat)"
   ]
  }
 ],
 "metadata": {
  "kernelspec": {
   "display_name": "Python 3",
   "language": "python",
   "name": "python3"
  },
  "language_info": {
   "codemirror_mode": {
    "name": "ipython",
    "version": 3
   },
   "file_extension": ".py",
   "mimetype": "text/x-python",
   "name": "python",
   "nbconvert_exporter": "python",
   "pygments_lexer": "ipython3",
   "version": "3.8.5"
  }
 },
 "nbformat": 4,
 "nbformat_minor": 1
}