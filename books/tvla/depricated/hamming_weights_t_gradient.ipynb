{
 "cells": [
  {
   "cell_type": "markdown",
   "metadata": {
    "collapsed": true,
    "pycharm": {
     "name": "#%% md\n"
    }
   },
   "source": [
    "# TVLA using Hamming Weights"
   ]
  },
  {
   "cell_type": "code",
   "execution_count": 31,
   "outputs": [],
   "source": [
    "import numpy as np\n",
    "from tqdm import tqdm\n",
    "\n",
    "from src.data.slices import tvla_slice, random_slice\n",
    "from src.data.traceloader import AscadRandomKey"
   ],
   "metadata": {
    "collapsed": false,
    "pycharm": {
     "name": "#%%\n"
    }
   }
  },
  {
   "cell_type": "code",
   "execution_count": 32,
   "outputs": [],
   "source": [
    "ascad = AscadRandomKey()"
   ],
   "metadata": {
    "collapsed": false,
    "pycharm": {
     "name": "#%%\n"
    }
   }
  },
  {
   "cell_type": "code",
   "execution_count": 33,
   "outputs": [],
   "source": [
    "from src.tvla.t import make_t_test\n",
    "\n",
    "def prepare_hw(make_test, samples, limit):\n",
    "    \"\"\"\n",
    "    Prepares traces for TVLA using Hamming weights as a key distance measure.\n",
    "    \"\"\"\n",
    "    target = samples.filter_by_hw(True)[:limit]\n",
    "    rest = samples.filter_by_hw(False)[:limit]\n",
    "\n",
    "    slc_target = random_slice(target, 2)\n",
    "    slc_rest = random_slice(rest, 2)\n",
    "\n",
    "    def means(slc):\n",
    "        return np.array([(s.mean(axis=0), s.var(axis=0)) for s in slc], dtype=np.float128)\n",
    "\n",
    "    slc_mv = np.moveaxis(np.array([means(slc_target), means(slc_rest)]), 2, 3)\n",
    "    test = make_test(slc_mv.shape[2], False)\n",
    "\n",
    "    return test, slc_mv"
   ],
   "metadata": {
    "collapsed": false,
    "pycharm": {
     "name": "#%%\n"
    }
   }
  },
  {
   "cell_type": "code",
   "execution_count": 34,
   "outputs": [],
   "source": [
    "def tvla(test, left, right, debug=False):\n",
    "    \"\"\"\n",
    "    Applies some given statistical test against the given samples.\n",
    "\n",
    "    @param test: statistical test function that takes two samples and returns test values.\n",
    "    @param left: Four sample sets containing s samples representing a power trace of length t.\n",
    "    @param right: Two sample sets containing s samples representing a power trace of length t.\n",
    "    @param p: Decide whether a device fails using (100 * p)%-confidence interval.\n",
    "    @param debug: Set to True if this function should throw Exceptions upon improperly structured input.\n",
    "    @return: Whether the device fails on (A against A, A against B).\n",
    "    \"\"\"\n",
    "    if debug:\n",
    "        assert len(left) == 2\n",
    "        assert len(right) == 2\n",
    "\n",
    "    # Four different samples from distribution A.\n",
    "    a1, a2 = left\n",
    "    # Two different samples from distribution B. x and y are compared to a and b, respectively.\n",
    "    _, b2 = right\n",
    "\n",
    "    # Test A against A, only gather t-values\n",
    "    aa = test(a1, a2)[0]\n",
    "\n",
    "    # Test A against B, only gather t-values\n",
    "    ab = test(a1, b2)[0]\n",
    "\n",
    "    # Return max t-values for aa and ab\n",
    "    return np.max(aa), np.max(ab)"
   ],
   "metadata": {
    "collapsed": false,
    "pycharm": {
     "name": "#%%\n"
    }
   }
  },
  {
   "cell_type": "markdown",
   "source": [
    "### t-value gradient"
   ],
   "metadata": {
    "collapsed": false,
    "pycharm": {
     "name": "#%% md\n"
    }
   }
  },
  {
   "cell_type": "code",
   "execution_count": 35,
   "outputs": [
    {
     "name": "stdout",
     "output_type": "stream",
     "text": [
      "Default (2.3092872662932, 2.0019751419013834)\n",
      "Default (1.8979306469207586, 1.817142594502705)\n"
     ]
    }
   ],
   "source": [
    "lim = 10000\n",
    "default_test, default_slices = prepare_hw(make_t_test, ascad.default.profile, lim)\n",
    "random_test, random_slices = prepare_hw(make_t_test, ascad.random.profile, lim)\n",
    "\n",
    "tvla_default = tvla(default_test, default_slices[0], default_slices[1])\n",
    "tvla_random = tvla(random_test, random_slices[0], random_slices[1])\n",
    "\n",
    "print(\"Default\", tvla_default)\n",
    "print(\"Default\", tvla_random)"
   ],
   "metadata": {
    "collapsed": false,
    "pycharm": {
     "name": "#%%\n"
    }
   }
  },
  {
   "cell_type": "markdown",
   "source": [
    "Issue 1: does TVLA compare the entire trace instead of just a sample point distribution?"
   ],
   "metadata": {
    "collapsed": false,
    "pycharm": {
     "name": "#%% md\n"
    }
   }
  }
 ],
 "metadata": {
  "kernelspec": {
   "display_name": "Python 3",
   "language": "python",
   "name": "python3"
  },
  "language_info": {
   "codemirror_mode": {
    "name": "ipython",
    "version": 2
   },
   "file_extension": ".py",
   "mimetype": "text/x-python",
   "name": "python",
   "nbconvert_exporter": "python",
   "pygments_lexer": "ipython2",
   "version": "2.7.6"
  }
 },
 "nbformat": 4,
 "nbformat_minor": 0
}