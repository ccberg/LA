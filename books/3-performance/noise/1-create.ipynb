{
 "cells": [
  {
   "cell_type": "code",
   "execution_count": 10,
   "outputs": [],
   "source": [
    "import os\n",
    "\n",
    "import numpy as np\n",
    "from tqdm import tqdm\n",
    "\n",
    "from src.data.loaders.ascad import ASCADData\n",
    "from src.dlla.berg import make_mlp\n",
    "from src.dlla.hw import prepare_traces_dl, dlla_known_p\n",
    "from src.pollution.gaussian_noise import gaussian_noise\n",
    "from src.tools.cache import cache_np\n",
    "from src.trace_set.database import Database\n",
    "from src.trace_set.pollution import Pollution, PollutionType\n",
    "from src.trace_set.set_hw import TraceSetHW\n",
    "from src.trace_set.window import get_windows, extract_traces"
   ],
   "metadata": {
    "collapsed": false,
    "pycharm": {
     "name": "#%%\n"
    }
   }
  },
  {
   "cell_type": "code",
   "execution_count": 11,
   "outputs": [],
   "source": [
    "# Source [EDIT]\n",
    "DB = Database.aisy\n",
    "\n",
    "# Limit number of traces [EDIT]\n",
    "LIMIT_PROF = None\n",
    "LIMIT_ATT = 1000\n",
    "\n",
    "# Select targets and noise parameters\n",
    "\n",
    "RAW_TRACES, WINDOW_JITTER_PARAMS, GAUSS_PARAMS, LIMIT_RAW = [None] * 4\n",
    "\n",
    "if DB is Database.ascad_none or DB is Database.ascad:\n",
    "    TARGET_ROUND = 0\n",
    "    TARGET_BYTE = 0\n",
    "\n",
    "    WINDOW_JITTER_PARAMS = np.arange(0, 205, 5)\n",
    "    GAUSS_PARAMS = np.arange(0, 102, 2)\n",
    "\n",
    "    RAW_TRACES = ASCADData.raw()['traces']\n",
    "    LIMIT_RAW = -1\n",
    "\n",
    "if DB is Database.ascad:\n",
    "    TARGET_BYTE = 2\n",
    "\n",
    "    WINDOW_JITTER_PARAMS = np.arange(0, 2.05, .05)\n",
    "    GAUSS_PARAMS = np.arange(0, 5.1, .1)\n",
    "\n",
    "if DB is Database.aisy:\n",
    "    TARGET_ROUND = 4\n",
    "    TARGET_BYTE = 0\n",
    "\n",
    "    WINDOW_JITTER_PARAMS = np.arange(0, 460, 10)\n",
    "    GAUSS_PARAMS = np.arange(0, 4100, 100)\n",
    "\n",
    "    RAW_TRACES = cache_np(\"aisy_traces\")\n",
    "\n",
    "# Select targets\n",
    "TRACE_SET = TraceSetHW(DB)\n",
    "SAMPLE_TRACE = TRACE_SET.profile()[0][0]\n",
    "WINDOW, WINDOW_CXT = get_windows(RAW_TRACES, SAMPLE_TRACE)\n",
    "\n",
    "# Isolate context trace for window jitter.\n",
    "# Gets cached, as this procedure takes some time (depending on disk read speed)\n",
    "X_CXT = cache_np(f\"{DB.name}_x_cxt\", extract_traces, RAW_TRACES, WINDOW_CXT)[:LIMIT_RAW]"
   ],
   "metadata": {
    "collapsed": false,
    "pycharm": {
     "name": "#%%\n"
    }
   }
  },
  {
   "cell_type": "code",
   "execution_count": 12,
   "outputs": [],
   "source": [
    "PROFILING_MASK = np.ones(len(X_CXT), dtype=bool)\n",
    "PROFILING_MASK[2::3] = 0"
   ],
   "metadata": {
    "collapsed": false,
    "pycharm": {
     "name": "#%%\n"
    }
   }
  },
  {
   "cell_type": "code",
   "execution_count": 13,
   "outputs": [],
   "source": [
    "X_PROF, Y_PROF = TRACE_SET.profile_states()\n",
    "X_ATT, Y_ATT = TRACE_SET.attack_states()\n",
    "\n",
    "X_PROF_CXT = X_CXT[PROFILING_MASK]\n",
    "X_ATT_CXT = X_CXT[~PROFILING_MASK]"
   ],
   "metadata": {
    "collapsed": false,
    "pycharm": {
     "name": "#%%\n"
    }
   }
  },
  {
   "cell_type": "code",
   "execution_count": 14,
   "outputs": [],
   "source": [
    "def verify(db: Database, pollution: Pollution):\n",
    "    \"\"\"\n",
    "    Assess leakage from database by\n",
    "    \"\"\"\n",
    "    trace_set = TraceSetHW(db, pollution, (LIMIT_PROF, LIMIT_ATT))\n",
    "    x9, y9, x9_att, y9_att = prepare_traces_dl(*trace_set.profile(), *trace_set.attack())\n",
    "    mdl9 = make_mlp(x9, y9, progress=False)\n",
    "    dlla9_p = dlla_known_p(mdl9, x9_att, y9_att)\n",
    "\n",
    "    print(f\"Pollution {pollution.type} ({pollution.parameter}): p-value ({dlla9_p}).\")"
   ],
   "metadata": {
    "collapsed": false,
    "pycharm": {
     "name": "#%%\n"
    }
   }
  },
  {
   "cell_type": "code",
   "execution_count": 15,
   "outputs": [],
   "source": [
    "def desync(traces: np.ndarray, window: (int, int), sigma: float):\n",
    "    start, end = window\n",
    "    num_traces = len(traces)\n",
    "    num_sample_points = end - start\n",
    "\n",
    "    permutations = np.round(np.random.normal(scale=sigma, size=num_traces)).astype(int)\n",
    "\n",
    "    if np.max(np.abs(permutations)) >= num_sample_points:\n",
    "        raise Exception(f\"Window jitter parameter ({sigma}) too high. PoI is not always within the resulting traces.\")\n",
    "\n",
    "    permutations += start\n",
    "\n",
    "    res = np.ones((num_traces, num_sample_points), dtype=traces.dtype)\n",
    "\n",
    "    for ix in tqdm(range(num_traces), f\"Trace desynchronization, sigma={sigma}\"):\n",
    "        permutation = permutations[ix]\n",
    "        res[ix] = traces[ix, permutation:permutation + num_sample_points]\n",
    "\n",
    "    return res\n",
    "\n",
    "def apply_desync(db, x_prof_cxt, y_prof, x_att_cxt, y_att, window: (int, int), params: list):\n",
    "    for param in params:\n",
    "\n",
    "        pollution = Pollution(PollutionType.desync, param)\n",
    "        out = TraceSetHW(db, pollution, (LIMIT_PROF, LIMIT_ATT))\n",
    "\n",
    "        if not os.path.exists(out.path):\n",
    "            xn = desync(x_prof_cxt, window, param)\n",
    "            xn_att = desync(x_att_cxt, window, param)\n",
    "\n",
    "            out.create(xn, y_prof, xn_att, y_att)\n",
    "\n",
    "            verify(db, pollution)"
   ],
   "metadata": {
    "collapsed": false,
    "pycharm": {
     "name": "#%%\n"
    }
   }
  },
  {
   "cell_type": "code",
   "execution_count": 16,
   "outputs": [],
   "source": [
    "apply_desync(DB, X_PROF_CXT, Y_PROF, X_ATT_CXT, Y_ATT, WINDOW, WINDOW_JITTER_PARAMS)"
   ],
   "metadata": {
    "collapsed": false,
    "pycharm": {
     "name": "#%%\n"
    }
   }
  },
  {
   "cell_type": "code",
   "execution_count": 17,
   "outputs": [],
   "source": [
    "def apply_gauss(db, params: list):\n",
    "    for param in params:\n",
    "        pollution = Pollution(PollutionType.gauss, param)\n",
    "        default = TraceSetHW(db)\n",
    "        out = TraceSetHW(db, pollution, (LIMIT_PROF, LIMIT_ATT))\n",
    "\n",
    "        x_prof, y_prof = default.profile_states()\n",
    "        x_att, y_att = default.attack_states()\n",
    "\n",
    "        if not os.path.exists(out.path):\n",
    "            xn = gaussian_noise(x_prof, param)\n",
    "            xn_att = gaussian_noise(x_att, param)\n",
    "\n",
    "            out.create(xn, y_prof, xn_att, y_att)\n",
    "\n",
    "            verify(db, pollution)\n",
    "\n",
    "apply_gauss(DB, GAUSS_PARAMS)"
   ],
   "metadata": {
    "collapsed": false,
    "pycharm": {
     "name": "#%%\n"
    }
   }
  }
 ],
 "metadata": {
  "kernelspec": {
   "display_name": "Python 3",
   "language": "python",
   "name": "python3"
  },
  "language_info": {
   "codemirror_mode": {
    "name": "ipython",
    "version": 2
   },
   "file_extension": ".py",
   "mimetype": "text/x-python",
   "name": "python",
   "nbconvert_exporter": "python",
   "pygments_lexer": "ipython2",
   "version": "2.7.6"
  }
 },
 "nbformat": 4,
 "nbformat_minor": 0
}