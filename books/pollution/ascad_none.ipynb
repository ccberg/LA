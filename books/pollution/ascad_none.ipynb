{
 "cells": [
  {
   "cell_type": "code",
   "execution_count": 1,
   "outputs": [],
   "source": [
    "import os\n",
    "\n",
    "import numpy as np\n",
    "from keras import Sequential, Model\n",
    "from keras.layers import Dense\n",
    "from tensorflow.python.keras.optimizer_v2.adam import Adam\n",
    "\n",
    "from src.data.loaders.ascad import ASCADData\n",
    "from src.dlla.hw import encode, dlla_hw\n",
    "from src.dlla.wegener import make_mlp_wegener, binomial_test\n",
    "from src.trace_set.database import Database\n",
    "from src.trace_set.pollution import Pollution, PollutionType\n",
    "from src.trace_set.set_hw import TraceSetHW\n",
    "from src.trace_set.transform import reduce_fixed_fixed, fixed_fixed\n",
    "from src.trace_set.window import get_windows\n",
    "from src.tvla.cri import tvla_cri"
   ],
   "metadata": {
    "collapsed": false,
    "pycharm": {
     "name": "#%%\n"
    }
   }
  },
  {
   "cell_type": "code",
   "execution_count": 2,
   "outputs": [],
   "source": [
    "DB = Database.ascad_none\n",
    "RAW_DATA = ASCADData.raw()\n",
    "\n",
    "LIMIT_PROF = None\n",
    "LIMIT_ATT = None\n",
    "\n",
    "TARGET_ROUND = 0\n",
    "TARGET_BYTE = 2 # ASCAD: 0 for unprotected, 2 for masked byte.\n",
    "\n",
    "TVLA_ORDER = 1"
   ],
   "metadata": {
    "collapsed": false,
    "pycharm": {
     "name": "#%%\n"
    }
   }
  },
  {
   "cell_type": "code",
   "execution_count": 3,
   "outputs": [],
   "source": [
    "RAW_TRACES = RAW_DATA['traces']\n",
    "TRACE_SET = TraceSetHW(DB)\n",
    "\n",
    "SAMPLE_TRACE = TRACE_SET.profile()[0][0]\n",
    "WINDOW, WINDOW_CXT = get_windows(RAW_TRACES, SAMPLE_TRACE)"
   ],
   "metadata": {
    "collapsed": false,
    "pycharm": {
     "name": "#%%\n"
    }
   }
  },
  {
   "cell_type": "markdown",
   "source": [
    "def extract_drop(raw_traces, window_cxt):\n",
    "    return extract_traces(raw_traces, window_cxt)[:-1]\n",
    "\n",
    "X_CXT = cache_np(\"ascad_none_cxt\", extract_drop, RAW_TRACES, WINDOW_CXT)"
   ],
   "metadata": {
    "collapsed": false,
    "pycharm": {
     "name": "#%% md\n"
    }
   }
  },
  {
   "cell_type": "markdown",
   "source": [
    "PROFILING_MASK = np.ones(len(X_CXT), dtype=bool)\n",
    "PROFILING_MASK[2::3] = 0\n",
    "\n",
    "X_PROF_CXT = X_CXT[PROFILING_MASK]\n",
    "X_ATT_CXT = X_CXT[~PROFILING_MASK]\n",
    "\n",
    "X_PROF, Y_PROF_STATE = TRACE_SET.profile_states()\n",
    "X_ATT, Y_ATT_STATE = TRACE_SET.attack_states()\n",
    "\n",
    "Y_PROF = hamming_weights(Y_PROF_STATE)\n",
    "Y_ATT = hamming_weights(Y_ATT_STATE)\n",
    "\n",
    "X_PROF_CXT.shape, Y_PROF.shape"
   ],
   "metadata": {
    "collapsed": false,
    "pycharm": {
     "name": "#%% md\n"
    }
   }
  },
  {
   "cell_type": "markdown",
   "source": [
    "JITTER_PARAMS = np.arange(0, 2, 1)\n",
    "\n",
    "def apply_jitter(params):\n",
    "    for param in params:\n",
    "        pollution = Pollution(PollutionType.jitter, param)\n",
    "        out = TraceSetHW(DB, pollution)\n",
    "\n",
    "        if not os.path.exists(out.path):\n",
    "            x = clock_jitter(X_PROF_CXT, WINDOW, param)\n",
    "            x_att = clock_jitter(X_ATT_CXT, WINDOW, param)\n",
    "\n",
    "            out.create(x, Y_PROF_STATE, x_att, Y_ATT_STATE)\n",
    "\n",
    "            x2, y2 = fixed_fixed(x, Y_PROF)\n",
    "            a, b = x2[~y2], x2[y2]\n",
    "            _, tvla_p = Group(a, TVLA_ORDER, True).t_test(Group(b, TVLA_ORDER, True), TVLA_ORDER)\n",
    "            print(f\"Clock jitter ({param}): min-p: ({min(tvla_p)}).\")\n",
    "\n",
    "apply_jitter([1])"
   ],
   "metadata": {
    "collapsed": false,
    "pycharm": {
     "name": "#%% md\n"
    }
   }
  },
  {
   "cell_type": "markdown",
   "source": [
    "DELAY_PARAMS = np.arange(0, .3, .05)\n",
    "A = 5\n",
    "B = 3\n",
    "DELAY_AMP = 10\n",
    "\n",
    "def apply_delay(params):\n",
    "    for param in params:\n",
    "        pollution = Pollution(PollutionType.delay, param)\n",
    "        out = TraceSetHW(DB, pollution)\n",
    "\n",
    "        if not os.path.exists(out.path):\n",
    "            x = random_delay(X_PROF, A, B, DELAY_AMP, param)\n",
    "            x_att = random_delay(X_ATT, A, B, DELAY_AMP, param)\n",
    "\n",
    "            out.create(x, Y_PROF_STATE, x_att, Y_ATT_STATE)\n",
    "\n",
    "            x2, y2 = fixed_fixed(x, Y_PROF)\n",
    "            a, b = x2[~y2], x2[y2]\n",
    "            _, tvla_p = Group(a, TVLA_ORDER, True).t_test(Group(b, TVLA_ORDER, True), TVLA_ORDER)\n",
    "            print(f\"Random delay ({param}): min-p: ({min(tvla_p)}).\")\n",
    "\n",
    "apply_delay(DELAY_PARAMS)"
   ],
   "metadata": {
    "collapsed": false,
    "pycharm": {
     "name": "#%% md\n"
    }
   }
  },
  {
   "cell_type": "code",
   "execution_count": 4,
   "outputs": [],
   "source": [
    "# Do not apply gauss, it is applied on the 300 sample point window\n",
    "GAUSS_PARAMS = np.arange(0, 42, 2)"
   ],
   "metadata": {
    "collapsed": false,
    "pycharm": {
     "name": "#%%\n"
    }
   }
  },
  {
   "cell_type": "markdown",
   "source": [
    "### TVLA vs. DL-LA"
   ],
   "metadata": {
    "collapsed": false,
    "pycharm": {
     "name": "#%% md\n"
    }
   }
  },
  {
   "cell_type": "code",
   "execution_count": 5,
   "outputs": [],
   "source": [
    "ORDER = 2\n",
    "\n",
    "def store_results(database: Database, method: str, pollution: Pollution, p):\n",
    "    file_name = f\"results_{database.name}.csv\"\n",
    "    with open(file_name, 'a') as f:\n",
    "        f.write(f\"{method};{pollution.type.name};{pollution.parameter};{p}\\n\")"
   ],
   "metadata": {
    "collapsed": false,
    "pycharm": {
     "name": "#%%\n"
    }
   }
  },
  {
   "cell_type": "code",
   "execution_count": 6,
   "outputs": [
    {
     "name": "stdout",
     "output_type": "stream",
     "text": [
      "PollutionType.gauss (0). TVLA ([1.00000000e+000 0.00000000e+000 1.58719742e-131]). DLLA9 (0.0). DLLA2 (0.0)\r\n",
      "Load traces         \r\n",
      "Load traces         \r\n",
      "Load traces         \r\n",
      "Load traces         \r\n",
      "Load traces         \r\n",
      "Load traces         \r\n",
      "Load traces         \r\n",
      "Load traces         \r\n",
      "Load traces         \r\n",
      "Load traces         \r\n",
      "Load traces         \r\n",
      "Load traces         \r\n",
      "Load traces         \r\n",
      "Load traces         \r\n",
      "Load traces         \r\n",
      "Load traces         \r\n",
      "Load traces         \r\n",
      "Load traces         \r\n",
      "Load traces         \r\n",
      "PollutionType.gauss (40). TVLA ([1.00000000e+000 4.49857544e-295 2.51793776e-002]). DLLA9 (0.0). DLLA2 (0.0)\r\n",
      "PollutionType.gauss (0). TVLA ([1.00000000e+000 0.00000000e+000 5.46592689e-130]). DLLA9 (0.0). DLLA2 (0.0)\r\n",
      "Load traces         \r\n",
      "Load traces         \r\n",
      "Load traces         \r\n",
      "Load traces         \r\n",
      "Load traces         \r\n",
      "Load traces         \r\n",
      "Load traces         \r\n",
      "Load traces         \r\n",
      "Load traces         \r\n",
      "Load traces         \r\n",
      "Load traces         \r\n",
      "Load traces         \r\n",
      "Load traces         \r\n",
      "Load traces         \r\n",
      "Load traces         \r\n",
      "Load traces         \r\n",
      "Load traces         \r\n",
      "Load traces         \r\n",
      "Load traces         \r\n",
      "PollutionType.gauss (40). TVLA ([1.00000000e+000 2.65171677e-291 1.03025021e-002]). DLLA9 (0.0). DLLA2 (0.0)\r\n",
      "PollutionType.gauss (0). TVLA ([1.0000000e+000 0.0000000e+000 1.2203638e-131]). DLLA9 (0.0). DLLA2 (0.0)\r\n",
      "Load traces         \r\n",
      "Load traces         \r\n",
      "Load traces         \r\n",
      "Load traces         \r\n",
      "Load traces         \r\n",
      "Load traces         \r\n",
      "Load traces         \r\n",
      "Load traces         \r\n",
      "Load traces         \r\n",
      "Load traces         \r\n",
      "Load traces         \r\n",
      "Load traces         \r\n",
      "Load traces         \r\n",
      "Load traces         \r\n",
      "Load traces         \r\n",
      "Load traces         \r\n",
      "Load traces         \r\n",
      "Load traces         \r\n",
      "Load traces         \r\n",
      "PollutionType.gauss (40). TVLA ([1.00000000e+000 2.79231079e-287 2.90515365e-002]). DLLA9 (0.0). DLLA2 (0.0)\r\n",
      "PollutionType.gauss (0). TVLA ([1.00000000e+000 0.00000000e+000 8.27169851e-122]). DLLA9 (0.0). DLLA2 (0.0)\r\n",
      "Load traces         \r\n",
      "Load traces         \r\n",
      "Load traces         \r\n",
      "Load traces         \r\n",
      "Load traces         \r\n",
      "Load traces         \r\n",
      "Load traces         \r\n",
      "Load traces         \r\n",
      "Load traces         \r\n",
      "Load traces         \r\n",
      "Load traces         \r\n",
      "Load traces         \r\n",
      "Load traces         \r\n",
      "Load traces         \r\n",
      "Load traces         \r\n",
      "Load traces         \r\n",
      "Load traces         \r\n",
      "Load traces         \r\n",
      "Load traces         \r\n",
      "PollutionType.gauss (40). TVLA ([1.00000000e+000 6.43216585e-270 5.78862439e-003]). DLLA9 (0.0). DLLA2 (0.0)\r\n",
      "Prepare traces (2/2)\r"
     ]
    },
    {
     "ename": "KeyboardInterrupt",
     "evalue": "",
     "output_type": "error",
     "traceback": [
      "\u001B[0;31m---------------------------------------------------------------------------\u001B[0m",
      "\u001B[0;31mKeyboardInterrupt\u001B[0m                         Traceback (most recent call last)",
      "\u001B[0;32m<ipython-input-6-83d1922224c3>\u001B[0m in \u001B[0;36m<module>\u001B[0;34m\u001B[0m\n\u001B[1;32m     83\u001B[0m     \u001B[0;31m# la_benchmark(DB, PollutionType.jitter, JITTER_PARAMS)\u001B[0m\u001B[0;34m\u001B[0m\u001B[0;34m\u001B[0m\u001B[0;34m\u001B[0m\u001B[0m\n\u001B[1;32m     84\u001B[0m     \u001B[0;31m# la_benchmark(DB, PollutionType.delay, DELAY_PARAMS)\u001B[0m\u001B[0;34m\u001B[0m\u001B[0;34m\u001B[0m\u001B[0;34m\u001B[0m\u001B[0m\n\u001B[0;32m---> 85\u001B[0;31m     \u001B[0mla_benchmark\u001B[0m\u001B[0;34m(\u001B[0m\u001B[0mDB\u001B[0m\u001B[0;34m,\u001B[0m \u001B[0mPollutionType\u001B[0m\u001B[0;34m.\u001B[0m\u001B[0mgauss\u001B[0m\u001B[0;34m,\u001B[0m \u001B[0mGAUSS_PARAMS\u001B[0m\u001B[0;34m)\u001B[0m\u001B[0;34m\u001B[0m\u001B[0;34m\u001B[0m\u001B[0m\n\u001B[0m\u001B[1;32m     86\u001B[0m \u001B[0;34m\u001B[0m\u001B[0m\n\u001B[1;32m     87\u001B[0m \u001B[0;34m\u001B[0m\u001B[0m\n",
      "\u001B[0;32m<ipython-input-6-83d1922224c3>\u001B[0m in \u001B[0;36mla_benchmark\u001B[0;34m(db, pollution_type, params)\u001B[0m\n\u001B[1;32m     55\u001B[0m             \u001B[0mx9\u001B[0m\u001B[0;34m,\u001B[0m \u001B[0my9\u001B[0m\u001B[0;34m,\u001B[0m \u001B[0mx9_att\u001B[0m\u001B[0;34m,\u001B[0m \u001B[0my9_att\u001B[0m \u001B[0;34m=\u001B[0m \u001B[0mprepare_traces_dl\u001B[0m\u001B[0;34m(\u001B[0m\u001B[0;34m*\u001B[0m\u001B[0mtrace_set\u001B[0m\u001B[0;34m.\u001B[0m\u001B[0mprofile\u001B[0m\u001B[0;34m(\u001B[0m\u001B[0;34m)\u001B[0m\u001B[0;34m,\u001B[0m \u001B[0;34m*\u001B[0m\u001B[0mtrace_set\u001B[0m\u001B[0;34m.\u001B[0m\u001B[0mattack\u001B[0m\u001B[0;34m(\u001B[0m\u001B[0;34m)\u001B[0m\u001B[0;34m)\u001B[0m\u001B[0;34m\u001B[0m\u001B[0;34m\u001B[0m\u001B[0m\n\u001B[1;32m     56\u001B[0m             \u001B[0mprint\u001B[0m\u001B[0;34m(\u001B[0m\u001B[0;34m\"Prepare traces (2/2)\"\u001B[0m\u001B[0;34m,\u001B[0m \u001B[0mend\u001B[0m\u001B[0;34m=\u001B[0m\u001B[0;34m\"\\r\"\u001B[0m\u001B[0;34m)\u001B[0m\u001B[0;34m\u001B[0m\u001B[0;34m\u001B[0m\u001B[0m\n\u001B[0;32m---> 57\u001B[0;31m             \u001B[0;34m(\u001B[0m\u001B[0mx2\u001B[0m\u001B[0;34m,\u001B[0m \u001B[0my2\u001B[0m\u001B[0;34m)\u001B[0m\u001B[0;34m,\u001B[0m \u001B[0;34m(\u001B[0m\u001B[0mx2_att\u001B[0m\u001B[0;34m,\u001B[0m \u001B[0my2_att\u001B[0m\u001B[0;34m)\u001B[0m \u001B[0;34m=\u001B[0m \u001B[0mreduce_fixed_fixed\u001B[0m\u001B[0;34m(\u001B[0m\u001B[0mx9\u001B[0m\u001B[0;34m,\u001B[0m \u001B[0my9\u001B[0m\u001B[0;34m)\u001B[0m\u001B[0;34m,\u001B[0m \u001B[0mreduce_fixed_fixed\u001B[0m\u001B[0;34m(\u001B[0m\u001B[0mx9_att\u001B[0m\u001B[0;34m,\u001B[0m \u001B[0my9_att\u001B[0m\u001B[0;34m)\u001B[0m\u001B[0;34m\u001B[0m\u001B[0;34m\u001B[0m\u001B[0m\n\u001B[0m\u001B[1;32m     58\u001B[0m \u001B[0;34m\u001B[0m\u001B[0m\n\u001B[1;32m     59\u001B[0m             \u001B[0mprint\u001B[0m\u001B[0;34m(\u001B[0m\u001B[0;34m\"Make model (1/2)    \"\u001B[0m\u001B[0;34m,\u001B[0m \u001B[0mend\u001B[0m\u001B[0;34m=\u001B[0m\u001B[0;34m\"\\r\"\u001B[0m\u001B[0;34m)\u001B[0m\u001B[0;34m\u001B[0m\u001B[0;34m\u001B[0m\u001B[0m\n",
      "\u001B[0;32m~/Documents/Afstudeer/LA/src/trace_set/transform.py\u001B[0m in \u001B[0;36mreduce_fixed_fixed\u001B[0;34m(x, y)\u001B[0m\n\u001B[1;32m     21\u001B[0m     \u001B[0my2\u001B[0m \u001B[0;34m=\u001B[0m \u001B[0mto_categorical\u001B[0m\u001B[0;34m(\u001B[0m\u001B[0mis_high\u001B[0m\u001B[0;34m)\u001B[0m\u001B[0;34m.\u001B[0m\u001B[0mastype\u001B[0m\u001B[0;34m(\u001B[0m\u001B[0mnp\u001B[0m\u001B[0;34m.\u001B[0m\u001B[0mint8\u001B[0m\u001B[0;34m)\u001B[0m\u001B[0;34m\u001B[0m\u001B[0;34m\u001B[0m\u001B[0m\n\u001B[1;32m     22\u001B[0m \u001B[0;34m\u001B[0m\u001B[0m\n\u001B[0;32m---> 23\u001B[0;31m     \u001B[0;32mreturn\u001B[0m \u001B[0mbalance\u001B[0m\u001B[0;34m(\u001B[0m\u001B[0mx\u001B[0m\u001B[0;34m[\u001B[0m\u001B[0mfilter_ixs\u001B[0m\u001B[0;34m]\u001B[0m\u001B[0;34m,\u001B[0m \u001B[0my2\u001B[0m\u001B[0;34m)\u001B[0m\u001B[0;34m\u001B[0m\u001B[0;34m\u001B[0m\u001B[0m\n\u001B[0m\u001B[1;32m     24\u001B[0m \u001B[0;34m\u001B[0m\u001B[0m\n\u001B[1;32m     25\u001B[0m \u001B[0;34m\u001B[0m\u001B[0m\n",
      "\u001B[0;31mKeyboardInterrupt\u001B[0m: "
     ]
    }
   ],
   "source": [
    "def prepare_traces_dl(x, y, x_att, y_att):\n",
    "    \"\"\"\n",
    "    Normalizes the traces, one-hot encodes the labels.\n",
    "    Returns profiling traces, labels and attack traces, labels.\n",
    "    \"\"\"\n",
    "    prof_mean, prof_std = x.mean(axis=0), x.std(axis=0)\n",
    "    norm_x = (x - prof_mean) / prof_std\n",
    "    norm_x_att = (x_att - prof_mean) / prof_std\n",
    "\n",
    "    return norm_x, encode(y), norm_x_att, encode(y_att)\n",
    "\n",
    "\n",
    "def build_mlp(x, y, params):\n",
    "    mdl = Sequential()\n",
    "    mdl.add(Dense(100, activation=params['activation'], input_shape=(x.shape[1],)))\n",
    "    mdl.add(Dense(100, activation=params['activation']))\n",
    "    mdl.add(Dense(100, activation=params['activation']))\n",
    "    mdl.add(Dense(100, activation=params['activation']))\n",
    "    mdl.add(Dense(9, activation='softmax'))\n",
    "\n",
    "    mdl.compile(optimizer=params['optimizer'], loss=params['losses'], metrics=['accuracy'])\n",
    "\n",
    "    out = mdl.fit(x, y, shuffle=True, batch_size=params['batch_size'], epochs=params['epochs'], verbose=False)\n",
    "\n",
    "    return out, mdl\n",
    "\n",
    "\n",
    "def make_mlp(x, y):\n",
    "    return build_mlp(x, y, {\n",
    "        'activation': 'relu',\n",
    "        'optimizer': Adam(learning_rate=0.001),\n",
    "        'losses': 'categorical_crossentropy',\n",
    "        'batch_size': 150,\n",
    "        'epochs': 5\n",
    "    })[1]\n",
    "\n",
    "def wegener_p(mdl: Model, x_att: np.ndarray, y_att: np.ndarray):\n",
    "    predictions = mdl.predict(x_att).argmax(axis=1)\n",
    "    labels = y_att.argmax(axis=1)\n",
    "\n",
    "    correct = np.sum(predictions == labels)\n",
    "    total = len(predictions)\n",
    "    # print(total, correct)\n",
    "\n",
    "    return binomial_test(total, correct)\n",
    "\n",
    "def la_benchmark(db: Database, pollution_type: PollutionType, params):\n",
    "    for param in params:\n",
    "        pollution = Pollution(pollution_type, param)\n",
    "        print(\"Load traces         \", end=\"\\r\")\n",
    "        trace_set = TraceSetHW(db, pollution, (LIMIT_PROF, LIMIT_ATT))\n",
    "\n",
    "        if os.path.exists(trace_set.path):\n",
    "            print(\"Prepare traces (1/2)\", end=\"\\r\")\n",
    "            x9, y9, x9_att, y9_att = prepare_traces_dl(*trace_set.profile(), *trace_set.attack())\n",
    "            print(\"Prepare traces (2/2)\", end=\"\\r\")\n",
    "            (x2, y2), (x2_att, y2_att) = reduce_fixed_fixed(x9, y9), reduce_fixed_fixed(x9_att, y9_att)\n",
    "\n",
    "            print(\"Make model (1/2)    \", end=\"\\r\")\n",
    "            mdl9 = make_mlp(x9, y9)\n",
    "            print(\"Make model (2/2)    \", end=\"\\r\")\n",
    "            mdl2 = make_mlp_wegener(x2, y2, False)\n",
    "\n",
    "            print(\"TVLA                \", end=\"\\r\")\n",
    "            tvla_ps = np.min(tvla_cri(*fixed_fixed(*trace_set.profile()), ORDER), axis=1)\n",
    "\n",
    "            print(\"Predict             \", end=\"\\r\")\n",
    "            dlla9_p = dlla_hw(mdl9, x9_att, y9_att)\n",
    "            dlla2_p = wegener_p(mdl2, x2_att, y2_att)\n",
    "\n",
    "            print(f\"{pollution_type} ({param}). TVLA ({tvla_ps}). DLLA9 ({dlla9_p}). DLLA2 ({dlla2_p})\", end=\"\\r\")\n",
    "\n",
    "            for order, p in enumerate(tvla_ps):\n",
    "                if order > 0:\n",
    "                    store_results(db, f\"cri_tvla_{order}\", pollution, p)\n",
    "\n",
    "            store_results(db, \"dlla9\", pollution, dlla9_p)\n",
    "            store_results(db, \"dlla2\", pollution, dlla2_p)\n",
    "\n",
    "        print()\n",
    "\n",
    "while True:\n",
    "    # la_benchmark(DB, PollutionType.jitter, JITTER_PARAMS)\n",
    "    # la_benchmark(DB, PollutionType.delay, DELAY_PARAMS)\n",
    "    la_benchmark(DB, PollutionType.gauss, GAUSS_PARAMS)\n"
   ],
   "metadata": {
    "collapsed": false,
    "pycharm": {
     "name": "#%%\n"
    }
   }
  },
  {
   "cell_type": "code",
   "execution_count": null,
   "outputs": [],
   "source": [],
   "metadata": {
    "collapsed": false,
    "pycharm": {
     "name": "#%%\n"
    }
   }
  }
 ],
 "metadata": {
  "kernelspec": {
   "display_name": "Python 3",
   "language": "python",
   "name": "python3"
  },
  "language_info": {
   "codemirror_mode": {
    "name": "ipython",
    "version": 2
   },
   "file_extension": ".py",
   "mimetype": "text/x-python",
   "name": "python",
   "nbconvert_exporter": "python",
   "pygments_lexer": "ipython2",
   "version": "2.7.6"
  }
 },
 "nbformat": 4,
 "nbformat_minor": 0
}