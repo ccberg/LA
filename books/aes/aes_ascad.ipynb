{
 "cells": [
  {
   "cell_type": "markdown",
   "metadata": {
    "collapsed": true,
    "pycharm": {
     "name": "#%% md\n"
    }
   },
   "source": [
    "# AES & Ascad\n",
    "\n",
    "Early experiments, Creating ciphertexts for the ASCAD database."
   ]
  },
  {
   "cell_type": "code",
   "execution_count": null,
   "outputs": [],
   "source": [
    "from src.aes.main import AES\n",
    "from src.data.loaders.ascad import ASCADData"
   ],
   "metadata": {
    "collapsed": false,
    "pycharm": {
     "name": "#%%\n"
    }
   }
  },
  {
   "cell_type": "code",
   "execution_count": 2,
   "outputs": [],
   "source": [
    "aes = AES(range(1, 17))"
   ],
   "metadata": {
    "collapsed": false,
    "pycharm": {
     "name": "#%%\n"
    }
   }
  },
  {
   "cell_type": "code",
   "execution_count": 3,
   "outputs": [
    {
     "data": {
      "text/plain": "[0, 1, 2, 3, 4, 5, 6, 7, 8, 9, 10, 11, 12, 13, 14, 15]"
     },
     "execution_count": 3,
     "metadata": {},
     "output_type": "execute_result"
    }
   ],
   "source": [
    "aes.decrypt(aes.encrypt(range(16)))"
   ],
   "metadata": {
    "collapsed": false,
    "pycharm": {
     "name": "#%%\n"
    }
   }
  },
  {
   "cell_type": "code",
   "execution_count": 4,
   "outputs": [
    {
     "data": {
      "text/plain": "[16, 16, 16, 1]"
     },
     "execution_count": 4,
     "metadata": {},
     "output_type": "execute_result"
    }
   ],
   "source": [
    "ascad = ASCADData.fixed_key()\n",
    "[len(i) for i in list(ascad[\"Profiling_traces\"][\"metadata\"][0])]"
   ],
   "metadata": {
    "collapsed": false,
    "pycharm": {
     "name": "#%%\n"
    }
   }
  },
  {
   "cell_type": "code",
   "execution_count": 5,
   "outputs": [
    {
     "data": {
      "text/plain": "[array([ 64,  84, 174, 122,  92, 107, 179,   4, 192,  55,  90, 128, 132,\n         74, 139,  27], dtype=uint8),\n array([ 77, 251, 224, 242, 114,  33, 254,  16, 167, 141,  74, 220, 142,\n         73,   4, 105], dtype=uint8),\n array([192, 166,  45,  89, 164,  22, 209, 144,   3, 192, 239, 152, 122,\n          7, 185,  67], dtype=uint8),\n array([0], dtype=uint32)]"
     },
     "execution_count": 5,
     "metadata": {},
     "output_type": "execute_result"
    }
   ],
   "source": [
    "trc_meta = ascad[\"Profiling_traces\"][\"metadata\"][1]\n",
    "\n",
    "list(trc_meta)"
   ],
   "metadata": {
    "collapsed": false,
    "pycharm": {
     "name": "#%%\n"
    }
   }
  },
  {
   "cell_type": "code",
   "execution_count": 6,
   "outputs": [],
   "source": [
    "plaintext, key, ciphertext = list(trc_meta)[:3]"
   ],
   "metadata": {
    "collapsed": false,
    "pycharm": {
     "name": "#%%\n"
    }
   }
  },
  {
   "cell_type": "code",
   "execution_count": 7,
   "outputs": [
    {
     "name": "stdout",
     "output_type": "stream",
     "text": [
      "Plaintext: 4054ae7a5c6bb304c0375a80844a8b1b\n",
      "Key: 4dfbe0f27221fe10a78d4adc8e490469\n",
      "Cipher: [23, 248, 254, 14, 91, 201, 8, 132, 57, 212, 123, 91, 91, 233, 227, 72]\n"
     ]
    }
   ],
   "source": [
    "aes = AES(key)\n",
    "\n",
    "print(\"Plaintext:\", bytearray(plaintext).hex())\n",
    "print(\"Key:\", bytearray(key).hex())\n",
    "print(\"Cipher:\", aes.encrypt(plaintext))"
   ],
   "metadata": {
    "collapsed": false,
    "pycharm": {
     "name": "#%%\n"
    }
   }
  },
  {
   "cell_type": "code",
   "execution_count": 8,
   "outputs": [
    {
     "data": {
      "text/plain": "[23, 248, 254, 14, 91, 201, 8, 132, 57, 212, 123, 91, 91, 233, 227, 72]"
     },
     "execution_count": 8,
     "metadata": {},
     "output_type": "execute_result"
    }
   ],
   "source": [
    "[int(x) for x in bytearray.fromhex(\"17f8fe0e5bc9088439d47b5b5be9e348\")]"
   ],
   "metadata": {
    "collapsed": false,
    "pycharm": {
     "name": "#%%\n"
    }
   }
  },
  {
   "cell_type": "code",
   "execution_count": 9,
   "outputs": [
    {
     "data": {
      "text/plain": "array([[6, 5, 5, 3, 3, 5, 5, 6, 3, 5, 4, 3, 5, 6, 5, 1],\n       [4, 2, 5, 4, 3, 5, 5, 4, 5, 3, 5, 2, 5, 6, 4, 4],\n       [1, 3, 3, 4, 4, 3, 5, 4, 5, 5, 4, 6, 3, 2, 4, 5],\n       [4, 4, 6, 4, 4, 4, 1, 3, 6, 4, 4, 4, 2, 3, 3, 3],\n       [2, 6, 3, 5, 3, 5, 5, 7, 4, 5, 2, 3, 2, 6, 6, 6],\n       [4, 4, 5, 3, 5, 4, 3, 3, 4, 4, 4, 6, 7, 4, 4, 1],\n       [3, 5, 1, 3, 3, 5, 5, 3, 5, 3, 3, 4, 6, 2, 3, 5],\n       [3, 6, 3, 5, 2, 4, 3, 4, 5, 5, 4, 5, 5, 4, 4, 4],\n       [2, 4, 4, 3, 5, 2, 2, 2, 4, 3, 3, 5, 5, 7, 0, 3],\n       [2, 4, 4, 4, 4, 4, 4, 4, 3, 4, 6, 3, 2, 4, 5, 2]], dtype=uint8)"
     },
     "execution_count": 9,
     "metadata": {},
     "output_type": "execute_result"
    }
   ],
   "source": [
    "aes.hw_after_round"
   ],
   "metadata": {
    "collapsed": false,
    "pycharm": {
     "name": "#%%\n"
    }
   }
  }
 ],
 "metadata": {
  "kernelspec": {
   "display_name": "Python 3",
   "language": "python",
   "name": "python3"
  },
  "language_info": {
   "codemirror_mode": {
    "name": "ipython",
    "version": 2
   },
   "file_extension": ".py",
   "mimetype": "text/x-python",
   "name": "python",
   "nbconvert_exporter": "python",
   "pygments_lexer": "ipython2",
   "version": "2.7.6"
  }
 },
 "nbformat": 4,
 "nbformat_minor": 0
}