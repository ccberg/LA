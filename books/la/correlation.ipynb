{
 "cells": [
  {
   "cell_type": "code",
   "execution_count": 6,
   "outputs": [],
   "source": [
    "import numpy as np\n",
    "\n",
    "from src.tools.plotter import init_plots\n",
    "from src.trace_set.database import Database\n",
    "from src.trace_set.set_hw import TraceSetHW\n",
    "from src.tvla.cri import rho_test\n",
    "from src.tvla.tvla import prepare_tvla\n",
    "\n",
    "init_plots()"
   ],
   "metadata": {
    "collapsed": false,
    "pycharm": {
     "name": "#%%\n"
    }
   }
  },
  {
   "cell_type": "code",
   "execution_count": 2,
   "metadata": {
    "collapsed": true,
    "pycharm": {
     "name": "#%%\n"
    }
   },
   "outputs": [],
   "source": [
    "DB = Database.ascad_none\n",
    "TRACE_SET = TraceSetHW(DB)"
   ]
  },
  {
   "cell_type": "code",
   "execution_count": 9,
   "outputs": [],
   "source": [
    "X, Y = TRACE_SET.profile()\n",
    "Y_RAND = Y.copy()\n",
    "np.random.shuffle(Y_RAND)"
   ],
   "metadata": {
    "collapsed": false,
    "pycharm": {
     "name": "#%%\n"
    }
   }
  },
  {
   "cell_type": "code",
   "execution_count": 10,
   "outputs": [
    {
     "name": "stderr",
     "output_type": "stream",
     "text": [
      "Computing Correlation Coefficients: 100%|██████████| 1977/1977 [00:01<00:00, 1393.44it/s]\n",
      "Computing Correlation Coefficients: 100%|██████████| 1977/1977 [00:01<00:00, 1381.18it/s]\n",
      "Computing Correlation Coefficients: 100%|██████████| 1977/1977 [00:01<00:00, 1340.86it/s]\n",
      "Computing Correlation Coefficients: 100%|██████████| 1977/1977 [00:01<00:00, 1462.83it/s]\n"
     ]
    }
   ],
   "source": [
    "RHO_VALUES = rho_test(*prepare_tvla(X, Y))\n",
    "RHO_VALUES_RAND = rho_test(*prepare_tvla(X, Y_RAND))"
   ],
   "metadata": {
    "collapsed": false,
    "pycharm": {
     "name": "#%%\n"
    }
   }
  },
  {
   "cell_type": "code",
   "execution_count": 11,
   "outputs": [
    {
     "data": {
      "text/plain": "(0.0, 0.052857148469152904)"
     },
     "execution_count": 11,
     "metadata": {},
     "output_type": "execute_result"
    }
   ],
   "source": [
    "np.min(RHO_VALUES), np.min(RHO_VALUES_RAND)"
   ],
   "metadata": {
    "collapsed": false,
    "pycharm": {
     "name": "#%%\n"
    }
   }
  }
 ],
 "metadata": {
  "kernelspec": {
   "display_name": "Python 3",
   "language": "python",
   "name": "python3"
  },
  "language_info": {
   "codemirror_mode": {
    "name": "ipython",
    "version": 2
   },
   "file_extension": ".py",
   "mimetype": "text/x-python",
   "name": "python",
   "nbconvert_exporter": "python",
   "pygments_lexer": "ipython2",
   "version": "2.7.6"
  }
 },
 "nbformat": 4,
 "nbformat_minor": 0
}