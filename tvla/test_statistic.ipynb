{
 "cells": [
  {
   "cell_type": "code",
   "execution_count": 20,
   "metadata": {
    "collapsed": true
   },
   "outputs": [],
   "source": [
    "import numpy as np\n",
    "import numpy.random as npr\n",
    "import math\n",
    "import scipy.special as sp\n",
    "\n",
    "trace_0, trace_1 = npr.sample(10), npr.sample(10)"
   ]
  },
  {
   "cell_type": "code",
   "execution_count": 4,
   "outputs": [],
   "source": [
    "def values(trace):\n",
    "    return np.mean(trace), np.var(trace), len(trace)"
   ],
   "metadata": {
    "collapsed": false,
    "pycharm": {
     "name": "#%%\n"
    }
   }
  },
  {
   "cell_type": "code",
   "execution_count": 3,
   "outputs": [],
   "source": [
    "def test_statistic(mean_0, var_0, car_0, mean_1, var_1, car_1):\n",
    "    return (mean_0 - mean_1) / math.sqrt(var_0 / car_0 + var_1 / car_1)"
   ],
   "metadata": {
    "collapsed": false,
    "pycharm": {
     "name": "#%%\n"
    }
   }
  },
  {
   "cell_type": "code",
   "execution_count": 13,
   "outputs": [
    {
     "ename": "NameError",
     "evalue": "name 'trace_0' is not defined",
     "output_type": "error",
     "traceback": [
      "\u001B[0;31m---------------------------------------------------------------------------\u001B[0m",
      "\u001B[0;31mNameError\u001B[0m                                 Traceback (most recent call last)",
      "\u001B[0;32m<ipython-input-13-631c6d65f681>\u001B[0m in \u001B[0;36m<module>\u001B[0;34m\u001B[0m\n\u001B[0;32m----> 1\u001B[0;31m \u001B[0mtest_statistic\u001B[0m\u001B[0;34m(\u001B[0m\u001B[0;34m*\u001B[0m\u001B[0mvalues\u001B[0m\u001B[0;34m(\u001B[0m\u001B[0mtrace_0\u001B[0m\u001B[0;34m)\u001B[0m\u001B[0;34m,\u001B[0m \u001B[0;34m*\u001B[0m\u001B[0mvalues\u001B[0m\u001B[0;34m(\u001B[0m\u001B[0mtrace_1\u001B[0m\u001B[0;34m)\u001B[0m\u001B[0;34m)\u001B[0m\u001B[0;34m\u001B[0m\u001B[0;34m\u001B[0m\u001B[0m\n\u001B[0m\u001B[1;32m      2\u001B[0m \u001B[0;34m\u001B[0m\u001B[0m\n",
      "\u001B[0;31mNameError\u001B[0m: name 'trace_0' is not defined"
     ]
    }
   ],
   "source": [
    "test_statistic(*values(trace_0), *values(trace_1))"
   ],
   "metadata": {
    "collapsed": false,
    "pycharm": {
     "name": "#%%\n"
    }
   }
  },
  {
   "cell_type": "code",
   "execution_count": 17,
   "outputs": [],
   "source": [
    "def degree_of_freedom(var_0, car_0, var_1, car_1):\n",
    "    nom = (var_0 / car_0 + var_1 / car_1)**2\n",
    "    den = (var_0 / car_0)**2 / (car_0 - 1) + (var_1 / car_1)**2 / (car_1 - 1)\n",
    "\n",
    "    return nom / den"
   ],
   "metadata": {
    "collapsed": false,
    "pycharm": {
     "name": "#%%\n"
    }
   }
  },
  {
   "cell_type": "code",
   "execution_count": 56,
   "outputs": [],
   "source": [
    "m0, v0, c0 = values(trace_0)\n",
    "m1, v1, c1 = values(trace_0)\n",
    "\n",
    "ts = test_statistic(m0, v0, c0, m1, v1, c1)\n",
    "dof = degree_of_freedom(v0, c0, v1, c1)\n",
    "\n",
    "def student_t_dist(t, v):\n",
    "    \"\"\"\n",
    "    The Student's t-distribution as described on page 3.\n",
    "\n",
    "    :param t: the test statistic of the two traces.\n",
    "    :param v: the degree of freedom of the two traces.\n",
    "    :return: the Student's t-distribution.\n",
    "    \"\"\"\n",
    "    return sp.gamma((v+1) / 2) / (math.sqrt(np.pi * v) * sp.gamma(v/2)) * (1 + t**2 / v) ** (-(v+1)/2)"
   ],
   "metadata": {
    "collapsed": false,
    "pycharm": {
     "name": "#%%\n"
    }
   }
  },
  {
   "cell_type": "code",
   "execution_count": 22,
   "outputs": [
    {
     "data": {
      "text/plain": "0.1645786808778906"
     },
     "execution_count": 22,
     "metadata": {},
     "output_type": "execute_result"
    }
   ],
   "source": [
    "student_t_dist(ts, dof)"
   ],
   "metadata": {
    "collapsed": false,
    "pycharm": {
     "name": "#%%\n"
    }
   }
  },
  {
   "cell_type": "code",
   "execution_count": 52,
   "outputs": [],
   "source": [
    "# Student's t-probability distribution function\n",
    "from scipy.stats import t as t_pdf\n",
    "\n",
    "def cdf(t, v):\n",
    "    \"\"\"\n",
    "    The cumulative distribution function as described on page 3.\n",
    "\n",
    "    The aim of a t-test is to provide a quantitative value as a probability that the mean μ of two sets are different.\n",
    "\n",
    "    :param t: the test statistic of the two traces.\n",
    "    :param v: the degree of freedom of the two traces.\n",
    "    :return: the cumulative distribution function.\n",
    "    \"\"\"\n",
    "    return 2 * t_pdf.cdf(-abs(t), v)"
   ],
   "metadata": {
    "collapsed": false,
    "pycharm": {
     "name": "#%%\n"
    }
   }
  },
  {
   "cell_type": "code",
   "execution_count": 75,
   "outputs": [
    {
     "data": {
      "text/plain": "0.07189076588292889"
     },
     "execution_count": 75,
     "metadata": {},
     "output_type": "execute_result"
    }
   ],
   "source": [
    "# Test from paper, top right of page 3.\n",
    "p = cdf(1.8, 10000)\n",
    "\n",
    "p"
   ],
   "metadata": {
    "collapsed": false,
    "pycharm": {
     "name": "#%%\n"
    }
   }
  },
  {
   "cell_type": "code",
   "execution_count": 76,
   "outputs": [],
   "source": [
    "def reject_h0(left, right, prob=.01):\n",
    "    \"\"\"\n",
    "    H0 being \"left and right are from different distributions\". The traces should be normally distributed for the\n",
    "    Student's t-test to work.\n",
    "\n",
    "    :param left: trace 0.\n",
    "    :param right: trace 1.\n",
    "    :param prob: the desired probability.\n",
    "    :return: whether H0 can be rejected.\n",
    "    \"\"\"\n",
    "    mean_0, var_0, car_0 = values(left)\n",
    "    mean_1, var_1, car_1 = values(right)\n",
    "\n",
    "    t = test_statistic(mean_0, var_0, car_0, mean_1, var_1, car_1)\n",
    "    v = degree_of_freedom(var_0, car_0, var_1, car_1)\n",
    "    if t > 4.5 and v > 1000:\n",
    "        # Explanation at of section 2, page 3 bottom left.\n",
    "        return True\n",
    "\n",
    "    return cdf(t, v) < prob"
   ],
   "metadata": {
    "collapsed": false,
    "pycharm": {
     "name": "#%%\n"
    }
   }
  },
  {
   "cell_type": "code",
   "execution_count": 74,
   "outputs": [
    {
     "name": "stdout",
     "output_type": "stream",
     "text": [
      "1.0\n"
     ]
    },
    {
     "data": {
      "text/plain": "False"
     },
     "execution_count": 74,
     "metadata": {},
     "output_type": "execute_result"
    }
   ],
   "source": [
    "reject_h0(trace_0, trace_0)"
   ],
   "metadata": {
    "collapsed": false,
    "pycharm": {
     "name": "#%%\n"
    }
   }
  },
  {
   "cell_type": "code",
   "execution_count": null,
   "outputs": [],
   "source": [],
   "metadata": {
    "collapsed": false,
    "pycharm": {
     "name": "#%%\n"
    }
   }
  }
 ],
 "metadata": {
  "kernelspec": {
   "display_name": "Python 3",
   "language": "python",
   "name": "python3"
  },
  "language_info": {
   "codemirror_mode": {
    "name": "ipython",
    "version": 2
   },
   "file_extension": ".py",
   "mimetype": "text/x-python",
   "name": "python",
   "nbconvert_exporter": "python",
   "pygments_lexer": "ipython2",
   "version": "2.7.6"
  }
 },
 "nbformat": 4,
 "nbformat_minor": 0
}