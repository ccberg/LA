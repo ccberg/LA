{
 "cells": [
  {
   "cell_type": "markdown",
   "source": [
    "# Classical LA methods\n",
    "## $t$-test method"
   ],
   "metadata": {
    "collapsed": false
   }
  },
  {
   "cell_type": "code",
   "execution_count": 1,
   "outputs": [],
   "source": [
    "def nonzero_bins(bins):\n",
    "    \"\"\"\n",
    "    Retrieves all bins for which at least one category has a non-zero value.\n",
    "\n",
    "    :param bins: a set of categories with bins corresponding to that category.\n",
    "    :return: the indexes of non-zero bins.\n",
    "    \"\"\"\n",
    "    nz_bins = []\n",
    "    for ix, a, b in zip(range(len(bins[0])), *bins):\n",
    "        if a == 0 and b == 0:\n",
    "            continue\n",
    "\n",
    "        nz_bins.append(ix)\n",
    "\n",
    "    return nz_bins\n"
   ],
   "metadata": {
    "collapsed": false,
    "pycharm": {
     "name": "#%%\n"
    }
   }
  },
  {
   "cell_type": "code",
   "execution_count": 2,
   "outputs": [],
   "source": [
    "import scipy.stats as stats\n",
    "import numpy as np\n",
    "import math\n",
    "\n",
    "def calc_t(ctable):\n",
    "    mean = [0, 0]\n",
    "    var = [0, 0]\n",
    "    n = [0, 0]\n",
    "\n",
    "    rg = [abs(a - b) for a, b in zip(*ctable)]\n",
    "\n",
    "    for ix_cat in range(2):\n",
    "        for ix_bin in range(len(ctable[ix_cat])):\n",
    "            mean[ix_cat] += ctable[ix_cat][ix_bin] * rg[ix_bin]\n",
    "            n[ix_cat] += ctable[ix_cat][ix_bin]\n",
    "\n",
    "        mean[ix_cat] /= n[ix_cat]\n",
    "\n",
    "        for ix_bin in range(len(ctable[ix_cat])):\n",
    "            tmp = (rg[ix_bin] - mean[ix_cat])\n",
    "            var[ix_cat] += tmp ** 2 + ctable[ix_cat][ix_bin]\n",
    "\n",
    "        var[ix_cat] /= n[ix_cat]\n",
    "\n",
    "    # t-value\n",
    "    mean_diff = mean[0] - mean[1]\n",
    "    var_sum = (var[0] / n[0]) + (var[1] / n[1])\n",
    "    t_ret = mean_diff / math.sqrt(var_sum)\n",
    "\n",
    "    # degree of freedom\n",
    "    denom = ((var[0] / n[0]) * (var[0] / n[0])) / (n[0] - 1) + ((var[1] / n[1]) * (var[1] / n[1])) / (n[1] - 1)\n",
    "    t_dof_ret = var_sum ** 2 / denom\n",
    "\n",
    "    # cdf\n",
    "    t_p_ret = 2 * stats.t(t_dof_ret).cdf(-abs(t_ret))\n",
    "\n",
    "    return t_ret, t_dof_ret, t_p_ret"
   ],
   "metadata": {
    "collapsed": false,
    "pycharm": {
     "name": "#%%\n"
    }
   }
  },
  {
   "cell_type": "markdown",
   "source": [
    "## $\\chi^2$ method"
   ],
   "metadata": {
    "collapsed": false
   }
  },
  {
   "cell_type": "code",
   "execution_count": 3,
   "outputs": [],
   "source": [
    "def calc_chi(ctable):\n",
    "    \"\"\"\n",
    "    Calculates the p value for rejecting H0, among others.\n",
    "    Small p values give evidence to reject the null hypothesis and conclude that for the\n",
    "    scenarios presented in ctable the occurrences of the observations are not independent.\n",
    "\n",
    "    :param ctable: contingency table for different categories of traces.\n",
    "    :return: A 3-tuple containing: The value for chi, the degrees of freedom,\n",
    "        the p value for rejecting H0.\n",
    "    \"\"\"\n",
    "    num_cats = len(ctable)\n",
    "    num_bins = len(ctable[0])\n",
    "\n",
    "    # chi**2 value\n",
    "    sum_rows = [0] * num_cats\n",
    "    sum_cols = [0] * num_bins\n",
    "    N = 0.0\n",
    "\n",
    "    # Only check non-zero bins\n",
    "    nz_bins = nonzero_bins(ctable)\n",
    "\n",
    "    for ix_bin in nz_bins:\n",
    "        for ix_cat in range(num_cats):\n",
    "            # Bin from the contingency table\n",
    "            c_bin = ctable[ix_cat][ix_bin]\n",
    "\n",
    "            sum_rows[ix_cat] += c_bin\n",
    "            sum_cols[ix_bin] += c_bin\n",
    "            N += c_bin\n",
    "\n",
    "    chi = 0.0\n",
    "    for ix_bin in nz_bins:\n",
    "        for ix_cat in range(num_cats):\n",
    "            E = (sum_rows[ix_cat] * sum_cols[ix_bin]) / N\n",
    "            tmp = (ctable[ix_cat][ix_bin] - E)\n",
    "\n",
    "            chi += tmp ** 2 / E\n",
    "\n",
    "    # Degrees of freedom\n",
    "    dof = (num_bins - 1) * (num_cats - 1)\n",
    "    # p-value for rejecting H0\n",
    "    p = stats.chi2(dof).cdf(chi)\n",
    "\n",
    "    return chi, dof, p"
   ],
   "metadata": {
    "collapsed": false,
    "pycharm": {
     "name": "#%%\n"
    }
   }
  },
  {
   "cell_type": "code",
   "execution_count": 4,
   "outputs": [],
   "source": [
    "from collections import Counter\n",
    "import pandas as pd\n",
    "\n",
    "def contingency_table(traces, trace_range):\n",
    "        \"\"\"\n",
    "        Builds a contingency table from traces from the dataset for a given label.\n",
    "\n",
    "        :param traces: the traces from which the contingency table should be build.\n",
    "        :param trace_range: the range of values which the traces can take.\n",
    "        :return: the contingency table as a numpy array.\n",
    "        \"\"\"\n",
    "        df = pd.DataFrame([Counter(bins) for bins in traces])\n",
    "        res = df.sum().sort_index().reindex(trace_range, fill_value=0).values\n",
    "        return np.array(res, dtype=int)\n"
   ],
   "metadata": {
    "collapsed": false,
    "pycharm": {
     "name": "#%%\n"
    }
   }
  },
  {
   "cell_type": "markdown",
   "source": [
    "## Testing the tests"
   ],
   "metadata": {
    "collapsed": false,
    "pycharm": {
     "name": "#%% md\n"
    }
   }
  },
  {
   "cell_type": "code",
   "execution_count": 5,
   "outputs": [
    {
     "data": {
      "text/plain": "<AxesSubplot:ylabel='Count'>"
     },
     "execution_count": 5,
     "metadata": {},
     "output_type": "execute_result"
    },
    {
     "data": {
      "text/plain": "<Figure size 432x288 with 1 Axes>",
      "image/png": "[encoded data removed]"
     },
     "metadata": {},
     "output_type": "display_data"
    }
   ],
   "source": [
    "import seaborn as sns\n",
    "\n",
    "def dist_gauss(mean=0, var=32, size=1400):\n",
    "    return np.array(np.random.normal(mean, var, size), dtype=int)\n",
    "\n",
    "sns.set_style(\"whitegrid\")\n",
    "sns.histplot(dist_gauss())"
   ],
   "metadata": {
    "collapsed": false,
    "pycharm": {
     "name": "#%%\n"
    }
   }
  },
  {
   "cell_type": "code",
   "execution_count": 6,
   "outputs": [
    {
     "data": {
      "text/plain": "<AxesSubplot:xlabel='0', ylabel='1'>"
     },
     "execution_count": 6,
     "metadata": {},
     "output_type": "execute_result"
    },
    {
     "data": {
      "text/plain": "<Figure size 432x288 with 1 Axes>",
      "image/png": "[encoded data removed]"
     },
     "metadata": {},
     "output_type": "display_data"
    }
   ],
   "source": [
    "DEFAULT_TRACE_RANGE = range(-128, 128)\n",
    "\n",
    "def c_table_gauss(num_traces=1, gauss_args=dict):\n",
    "    return contingency_table(np.array([dist_gauss(**gauss_args) for _ in range(num_traces)]), DEFAULT_TRACE_RANGE)\n",
    "\n",
    "left_args = {\"size\": 1400}\n",
    "right_args = {\"size\": 1400, \"var\": 100, \"mean\": 100}\n",
    "\n",
    "c_left = c_table_gauss(gauss_args=left_args)\n",
    "c_left_alt = c_table_gauss(gauss_args=left_args)\n",
    "c_right = c_table_gauss(gauss_args=right_args)\n",
    "\n",
    "df = pd.DataFrame(zip(DEFAULT_TRACE_RANGE, c_left))\n",
    "sns.barplot(x=0, y=1, data=df.groupby(df.index // 16).sum())"
   ],
   "metadata": {
    "collapsed": false,
    "pycharm": {
     "name": "#%%\n"
    }
   }
  },
  {
   "cell_type": "code",
   "execution_count": 7,
   "outputs": [
    {
     "name": "stderr",
     "output_type": "stream",
     "text": [
      "100%|██████████| 21/21 [00:11<00:00,  1.79it/s]\n"
     ]
    },
    {
     "data": {
      "text/plain": "<AxesSubplot:xlabel='Num traces'>"
     },
     "execution_count": 7,
     "metadata": {},
     "output_type": "execute_result"
    },
    {
     "data": {
      "text/plain": "<Figure size 432x288 with 1 Axes>",
      "image/png": "[encoded data removed]"
     },
     "metadata": {},
     "output_type": "display_data"
    }
   ],
   "source": [
    "import tqdm\n",
    "\n",
    "def plot_over():\n",
    "    steps = np.linspace(0, 1000, 21, dtype=int)\n",
    "    acc_left = np.zeros(len(steps))\n",
    "    acc_right = np.zeros(len(steps))\n",
    "\n",
    "    left_args = {\"size\": 1400}\n",
    "    right_args = {\"size\": 1400, \"var\": 32.5, \"mean\": 0}\n",
    "\n",
    "    for ix in tqdm.tqdm(list(reversed(range(len(steps))))):\n",
    "        step = steps[ix]\n",
    "\n",
    "        c_left = c_table_gauss(step, left_args)\n",
    "\n",
    "        acc_left[ix] = calc_chi([c_left, c_table_gauss(step, left_args)])[2]\n",
    "        acc_right[ix] = calc_chi([c_left, c_table_gauss(step, right_args)])[2]\n",
    "\n",
    "    return pd.DataFrame(columns=[\"Num traces\", \"Left vs. Left\", \"Left vs. Right\"], data=zip(steps, acc_left, acc_right)).set_index(\"Num traces\", drop=True)\n",
    "\n",
    "sns.lineplot(data=plot_over())"
   ],
   "metadata": {
    "collapsed": false,
    "pycharm": {
     "name": "#%%\n"
    }
   }
  },
  {
   "cell_type": "code",
   "execution_count": 8,
   "outputs": [
    {
     "name": "stdout",
     "output_type": "stream",
     "text": [
      "(-0.6151937966915964, 2797.9505674809247, 0.5384767748543999)\n",
      "(30.99364026911427, 1801.4177193703956, 2.0880972460566882e-169)\n"
     ]
    }
   ],
   "source": [
    "# Method described in paper is not working?\n",
    "print(calc_t([c_left, c_left_alt]))\n",
    "print(calc_t([c_left, c_right]))"
   ],
   "metadata": {
    "collapsed": false,
    "pycharm": {
     "name": "#%%\n"
    }
   }
  },
  {
   "cell_type": "code",
   "execution_count": 9,
   "outputs": [
    {
     "name": "stdout",
     "output_type": "stream",
     "text": [
      "importing Jupyter notebook from welch_t_test.ipynb\n",
      "(0.0, 598.0, 1.0) (0.0, 99, nan)\n",
      "(0.0, 300.3932780614927, 1.0) (2694.7380987472256, 99, 0.0)\n",
      "False True\n"
     ]
    }
   ],
   "source": [
    "from settings.nbloader import NotebookLoader\n",
    "wtt = NotebookLoader().load_module(\"welch_t_test\")\n",
    "\n",
    "tl = wtt.TraceProcessor()"
   ],
   "metadata": {
    "collapsed": false,
    "pycharm": {
     "name": "#%%\n"
    }
   }
  },
  {
   "cell_type": "code",
   "execution_count": 10,
   "outputs": [],
   "source": [
    "# Simulate signal! With SNR = .1"
   ],
   "metadata": {
    "collapsed": false,
    "pycharm": {
     "name": "#%%\n"
    }
   }
  }
 ],
 "metadata": {
  "kernelspec": {
   "display_name": "Python 3",
   "language": "python",
   "name": "python3"
  },
  "language_info": {
   "codemirror_mode": {
    "name": "ipython",
    "version": 2
   },
   "file_extension": ".py",
   "mimetype": "text/x-python",
   "name": "python",
   "nbconvert_exporter": "python",
   "pygments_lexer": "ipython2",
   "version": "2.7.6"
  }
 },
 "nbformat": 4,
 "nbformat_minor": 0
}