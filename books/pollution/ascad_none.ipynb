{
 "cells": [
  {
   "cell_type": "code",
   "execution_count": 5,
   "outputs": [],
   "source": [
    "import os\n",
    "\n",
    "import numpy as np\n",
    "from keras import Sequential, Model\n",
    "from keras.layers import Dense\n",
    "from keras.optimizer_v2.adam import Adam\n",
    "\n",
    "from src.data.loaders.ascad import ASCADData\n",
    "from src.dlla.hw import encode, dlla_hw\n",
    "from src.dlla.wegener import make_mlp_wegener, binomial_test\n",
    "from src.pollution.clock_jitter import clock_jitter\n",
    "from src.pollution.gaussian_noise import gaussian_noise\n",
    "from src.pollution.random_delay import random_delay\n",
    "from src.trace_set.database import Database\n",
    "from src.trace_set.pollution import Pollution, PollutionType\n",
    "from src.trace_set.set_hw import TraceSetHW\n",
    "from src.trace_set.transform import reduce_fixed_fixed, fixed_fixed\n",
    "from src.trace_set.window import get_windows, extract_traces\n",
    "from src.tvla.cri import tvla_cri\n",
    "from src.tvla.tvla import Group"
   ],
   "metadata": {
    "collapsed": false,
    "pycharm": {
     "name": "#%%\n"
    }
   }
  },
  {
   "cell_type": "code",
   "execution_count": 17,
   "outputs": [],
   "source": [
    "DB = Database.ascad_none\n",
    "LIMIT_PROF = 200000\n",
    "LIMIT_ATT = 100000"
   ],
   "metadata": {
    "collapsed": false,
    "pycharm": {
     "name": "#%%\n"
    }
   }
  },
  {
   "cell_type": "code",
   "execution_count": 7,
   "outputs": [],
   "source": [
    "RAW_DATA = ASCADData.raw()\n",
    "RAW_TRACES, RAW_LABELS = RAW_DATA['traces'], RAW_DATA['hamming_weights']\n",
    "Y = RAW_LABELS[:-1][:, 0, 0]\n",
    "\n",
    "SAMPLE_TRACE = TraceSetHW(DB).profile()[0][0]"
   ],
   "metadata": {
    "collapsed": false,
    "pycharm": {
     "name": "#%%\n"
    }
   }
  },
  {
   "cell_type": "code",
   "execution_count": 8,
   "outputs": [],
   "source": [
    "WINDOW, WINDOW_CXT = get_windows(RAW_TRACES, SAMPLE_TRACE)"
   ],
   "metadata": {
    "collapsed": false,
    "pycharm": {
     "name": "#%%\n"
    }
   }
  },
  {
   "cell_type": "code",
   "execution_count": 9,
   "outputs": [
    {
     "name": "stderr",
     "output_type": "stream",
     "text": [
      "100%|██████████| 300001/300001 [07:18<00:00, 683.47it/s]\n"
     ]
    }
   ],
   "source": [
    "X_CXT = extract_traces(RAW_TRACES, WINDOW_CXT)[:-1]"
   ],
   "metadata": {
    "collapsed": false,
    "pycharm": {
     "name": "#%%\n"
    }
   }
  },
  {
   "cell_type": "code",
   "execution_count": 10,
   "outputs": [],
   "source": [
    "X = X_CXT[:, WINDOW[0]:WINDOW[1]]"
   ],
   "metadata": {
    "collapsed": false,
    "pycharm": {
     "name": "#%%\n"
    }
   }
  },
  {
   "cell_type": "code",
   "execution_count": 11,
   "outputs": [
    {
     "data": {
      "text/plain": "((200000, 5931), (200000,))"
     },
     "execution_count": 11,
     "metadata": {},
     "output_type": "execute_result"
    }
   ],
   "source": [
    "PROFILING_MASK = np.ones(len(Y), dtype=bool)\n",
    "PROFILING_MASK[2::3] = 0\n",
    "\n",
    "Y_PROF = Y[PROFILING_MASK]\n",
    "Y_ATT = Y[~PROFILING_MASK]\n",
    "\n",
    "X_PROF_CXT = X_CXT[PROFILING_MASK]\n",
    "X_ATT_CXT = X_CXT[~PROFILING_MASK]\n",
    "\n",
    "X_PROF = X[PROFILING_MASK]\n",
    "X_ATT = X[~PROFILING_MASK]\n",
    "\n",
    "X_PROF_CXT.shape, Y_PROF.shape"
   ],
   "metadata": {
    "collapsed": false,
    "pycharm": {
     "name": "#%%\n"
    }
   }
  },
  {
   "cell_type": "code",
   "execution_count": null,
   "outputs": [
    {
     "name": "stderr",
     "output_type": "stream",
     "text": [
      "Clock jitter (1): 100%|██████████| 200000/200000 [17:37<00:00, 189.18it/s]\n",
      "Clock jitter (1): 100%|██████████| 100000/100000 [09:02<00:00, 184.39it/s]\n",
      "Computing Central Moments: 100%|██████████| 4/4 [00:08<00:00,  2.24s/it]\n",
      "Computing Central Moments: 100%|██████████| 4/4 [00:08<00:00,  2.05s/it]\n",
      "Clock jitter (2):   0%|          | 0/200000 [00:00<?, ?it/s]"
     ]
    },
    {
     "name": "stdout",
     "output_type": "stream",
     "text": [
      "Clock jitter (1): min-p: (2.8472141333494555e-69).\n"
     ]
    },
    {
     "name": "stderr",
     "output_type": "stream",
     "text": [
      "Clock jitter (2): 100%|██████████| 200000/200000 [14:33<00:00, 228.86it/s]\n",
      "Clock jitter (2): 100%|██████████| 100000/100000 [07:17<00:00, 228.72it/s]\n",
      "Computing Central Moments: 100%|██████████| 4/4 [00:07<00:00,  1.87s/it]\n",
      "Computing Central Moments: 100%|██████████| 4/4 [00:07<00:00,  1.94s/it]\n"
     ]
    },
    {
     "name": "stdout",
     "output_type": "stream",
     "text": [
      "Clock jitter (2): min-p: (2.509328960319109e-42).\n"
     ]
    },
    {
     "name": "stderr",
     "output_type": "stream",
     "text": [
      "Clock jitter (3): 100%|██████████| 200000/200000 [11:54<00:00, 279.76it/s]\n",
      "Clock jitter (3): 100%|██████████| 100000/100000 [05:51<00:00, 284.73it/s]\n",
      "Computing Central Moments: 100%|██████████| 4/4 [00:06<00:00,  1.73s/it]\n",
      "Computing Central Moments: 100%|██████████| 4/4 [00:06<00:00,  1.72s/it]\n",
      "Clock jitter (5):   0%|          | 38/200000 [00:00<08:46, 379.44it/s]"
     ]
    },
    {
     "name": "stdout",
     "output_type": "stream",
     "text": [
      "Clock jitter (3): min-p: (1.0228966557505309e-32).\n"
     ]
    },
    {
     "name": "stderr",
     "output_type": "stream",
     "text": [
      "Clock jitter (5): 100%|██████████| 200000/200000 [08:38<00:00, 385.56it/s]\n",
      "Clock jitter (5): 100%|██████████| 100000/100000 [04:13<00:00, 394.20it/s]\n",
      "Computing Central Moments: 100%|██████████| 4/4 [00:05<00:00,  1.30s/it]\n",
      "Computing Central Moments: 100%|██████████| 4/4 [00:04<00:00,  1.05s/it]\n",
      "Clock jitter (6):   0%|          | 46/200000 [00:00<07:18, 455.84it/s]"
     ]
    },
    {
     "name": "stdout",
     "output_type": "stream",
     "text": [
      "Clock jitter (5): min-p: (8.97684110831795e-20).\n"
     ]
    },
    {
     "name": "stderr",
     "output_type": "stream",
     "text": [
      "Clock jitter (6): 100%|██████████| 200000/200000 [07:25<00:00, 449.04it/s]\n",
      "Clock jitter (6): 100%|██████████| 100000/100000 [03:42<00:00, 449.03it/s]\n",
      "Computing Central Moments: 100%|██████████| 4/4 [00:05<00:00,  1.35s/it]\n",
      "Computing Central Moments: 100%|██████████| 4/4 [00:04<00:00,  1.08s/it]\n",
      "Clock jitter (7):   0%|          | 50/200000 [00:00<06:46, 492.34it/s]"
     ]
    },
    {
     "name": "stdout",
     "output_type": "stream",
     "text": [
      "Clock jitter (6): min-p: (5.927403449010637e-19).\n"
     ]
    },
    {
     "name": "stderr",
     "output_type": "stream",
     "text": [
      "Clock jitter (7):  32%|███▏      | 63519/200000 [02:08<04:29, 505.82it/s]"
     ]
    }
   ],
   "source": [
    "JITTER_PARAMS = np.arange(0, 21, 1)\n",
    "\n",
    "def apply_jitter(params):\n",
    "    for param in params:\n",
    "        pollution = Pollution(PollutionType.jitter, param)\n",
    "        out = TraceSetHW(DB, pollution)\n",
    "\n",
    "        if not os.path.exists(out.path):\n",
    "            x = clock_jitter(X_PROF_CXT, WINDOW, param)\n",
    "            x_att = clock_jitter(X_ATT_CXT, WINDOW, param)\n",
    "\n",
    "            out.create(x, Y_PROF, x_att, Y_ATT)\n",
    "\n",
    "            x2, y2 = fixed_fixed(x, Y_PROF)\n",
    "            a, b = x2[~y2], x2[y2]\n",
    "            order = 2\n",
    "            _, tvla_p = Group(a, order, True).t_test(Group(b, order, True), order)\n",
    "            print(f\"Clock jitter ({param}): min-p: ({min(tvla_p)}).\")\n",
    "\n",
    "apply_jitter(JITTER_PARAMS)"
   ],
   "metadata": {
    "collapsed": false,
    "pycharm": {
     "name": "#%%\n",
     "is_executing": true
    }
   }
  },
  {
   "cell_type": "code",
   "execution_count": 13,
   "outputs": [],
   "source": [
    "DELAY_PARAMS = np.arange(0, .80, .05)\n",
    "A = 5\n",
    "B = 3\n",
    "DELAY_AMP = 10\n",
    "\n",
    "def apply_delay(params):\n",
    "    for param in params:\n",
    "        pollution = Pollution(PollutionType.delay, param)\n",
    "        out = TraceSetHW(DB, pollution)\n",
    "\n",
    "        if not os.path.exists(out.path):\n",
    "            x = random_delay(X_PROF, A, B, DELAY_AMP, param)\n",
    "            x_att = random_delay(X_ATT, A, B, DELAY_AMP, param)\n",
    "\n",
    "            out.create(x, Y_PROF, x_att, Y_ATT)\n",
    "\n",
    "            x2, y2 = fixed_fixed(x, Y_PROF)\n",
    "            a, b = x2[~y2], x2[y2]\n",
    "            order = 2\n",
    "            _, tvla_p = Group(a, order, True).t_test(Group(b, order, True), order)\n",
    "            print(f\"Random delay ({param}): min-p: ({min(tvla_p)}).\")\n",
    "\n",
    "# apply_delay(DELAY_PARAMS)"
   ],
   "metadata": {
    "collapsed": false,
    "pycharm": {
     "name": "#%%\n"
    }
   }
  },
  {
   "cell_type": "code",
   "execution_count": 14,
   "outputs": [],
   "source": [
    "GAUSS_PARAMS = np.arange(0, 32, 2)"
   ],
   "metadata": {
    "collapsed": false,
    "pycharm": {
     "name": "#%%\n"
    }
   }
  },
  {
   "cell_type": "markdown",
   "source": [
    "### TVLA vs. DL-LA"
   ],
   "metadata": {
    "collapsed": false,
    "pycharm": {
     "name": "#%% md\n"
    }
   }
  },
  {
   "cell_type": "code",
   "execution_count": 15,
   "outputs": [],
   "source": [
    "ORDER = 2\n",
    "\n",
    "def store_results(database: Database, method: str, pollution: Pollution, p):\n",
    "    file_name = f\"results_{database.name}.csv\"\n",
    "    with open(file_name, 'a') as f:\n",
    "        f.write(f\"{method};{pollution.type.name};{pollution.parameter};{p}\\n\")"
   ],
   "metadata": {
    "collapsed": false,
    "pycharm": {
     "name": "#%%\n"
    }
   }
  },
  {
   "cell_type": "code",
   "execution_count": 18,
   "outputs": [
    {
     "name": "stdout",
     "output_type": "stream",
     "text": [
      "PollutionType.jitter (0). TVLA ([1.00000000e+000 0.00000000e+000 2.57266244e-213]). DLLA9 (0.0). DLLA2 (0.0)\r\n",
      "PollutionType.jitter (4). TVLA ([1.00000000e+00 2.61143203e-15 5.58863915e-29]). DLLA9 (4.1138213087011504e-27). DLLA2 (7.361934398680176e-21)\r\n",
      "PollutionType.jitter (8). TVLA ([1.00000000e+00 2.76423834e-06 1.57707532e-12]). DLLA9 (0.0007867806938174644). DLLA2 (0.052087270223763485)\r\n",
      "PollutionType.jitter (12). TVLA ([1.00000000e+00 3.87689506e-09 1.72874245e-13]). DLLA9 (4.981118371603464e-07). DLLA2 (0.006951163230122877)\r\n",
      "PollutionType.jitter (16). TVLA ([1.00000000e+00 5.66778564e-05 3.42683380e-11]). DLLA9 (0.24049161860070686). DLLA2 (0.026769210762774776)\r\n",
      "PollutionType.jitter (20). TVLA ([1.00000000e+00 6.08621014e-06 7.58471003e-12]). DLLA9 (0.00046344532673803186). DLLA2 (0.014210058421155502)\r\n",
      "PollutionType.jitter (24). TVLA ([1.00000000e+00 2.69324280e-07 1.96468399e-10]). DLLA9 (0.12815840058806877). DLLA2 (0.027233834610860177)\r\n",
      "PollutionType.jitter (28). TVLA ([1.00000000e+00 1.12434349e-03 1.45980798e-06]). DLLA9 (0.022275178679960404). DLLA2 (0.05534177531890977)\r\n",
      "PollutionType.jitter (32). TVLA ([1.00000000e+00 5.47728388e-04 8.04050101e-10]). DLLA9 (0.726473970133403). DLLA2 (0.18954974674596287)\r\n",
      "PollutionType.jitter (36). TVLA ([1.00000000e+00 3.56086388e-05 9.95863812e-07]). DLLA9 (0.19399933988415366). DLLA2 (0.5913697839791525)\r\n",
      "PollutionType.jitter (40). TVLA ([1.00000000e+00 6.31644659e-05 1.26785903e-05]). DLLA9 (0.21768314987523554). DLLA2 (0.3061254059167008)\r\n",
      "PollutionType.jitter (0). TVLA ([1.00000000e+000 0.00000000e+000 2.00912834e-206]). DLLA9 (0.0). DLLA2 (0.0)\r\n",
      "PollutionType.jitter (4). TVLA ([1.0000000e+00 5.5472254e-11 1.4271811e-23]). DLLA9 (1.6053243253303304e-17). DLLA2 (4.036603301045133e-24)\r\n",
      "PollutionType.jitter (8). TVLA ([1.00000000e+00 2.57575878e-06 9.13043419e-13]). DLLA9 (2.030990633710333e-07). DLLA2 (0.0005477160866876053)\r\n",
      "PollutionType.jitter (12). TVLA ([1.00000000e+00 1.96017016e-08 1.07725400e-14]). DLLA9 (0.00013206381241613407). DLLA2 (0.0009409493899261178)\r\n",
      "PollutionType.jitter (16). TVLA ([1.00000000e+00 5.80646940e-05 3.69365801e-07]). DLLA9 (0.0006417565415573843). DLLA2 (0.006394477218127766)\r\n",
      "PollutionType.jitter (20). TVLA ([1.00000000e+00 8.41041183e-05 2.11545122e-09]). DLLA9 (0.007881852371974944). DLLA2 (1.5451115849395793e-05)\r\n",
      "PollutionType.jitter (24). TVLA ([1.00000000e+00 7.23400282e-07 8.12843925e-09]). DLLA9 (0.08198484295772657). DLLA2 (0.1662718047144166)\r\n",
      "PollutionType.jitter (28). TVLA ([1.00000000e+00 8.18630174e-04 7.31959312e-07]). DLLA9 (0.5138696124960587). DLLA2 (0.027233834610860177)\r\n",
      "PollutionType.jitter (32). TVLA ([1.00000000e+00 3.92018023e-04 3.86691382e-06]). DLLA9 (0.06025921002787987). DLLA2 (0.31137541753344067)\r\n",
      "PollutionType.jitter (36). TVLA ([1.00000000e+00 6.21398811e-04 7.79128026e-07]). DLLA9 (0.006713357387691382). DLLA2 (0.3436547303171602)\r\n",
      "PollutionType.jitter (40). TVLA ([1.00000000e+00 1.62733539e-03 4.20732024e-06]). DLLA9 (0.00038158060665213956). DLLA2 (0.330048821129176)\r\n",
      "TVLA                \r"
     ]
    },
    {
     "ename": "KeyboardInterrupt",
     "evalue": "",
     "output_type": "error",
     "traceback": [
      "\u001B[0;31m---------------------------------------------------------------------------\u001B[0m",
      "\u001B[0;31mKeyboardInterrupt\u001B[0m                         Traceback (most recent call last)",
      "\u001B[0;32m<ipython-input-18-95c574562c92>\u001B[0m in \u001B[0;36m<module>\u001B[0;34m\u001B[0m\n\u001B[1;32m     81\u001B[0m \u001B[0;34m\u001B[0m\u001B[0m\n\u001B[1;32m     82\u001B[0m \u001B[0;32mwhile\u001B[0m \u001B[0;32mTrue\u001B[0m\u001B[0;34m:\u001B[0m\u001B[0;34m\u001B[0m\u001B[0;34m\u001B[0m\u001B[0m\n\u001B[0;32m---> 83\u001B[0;31m     \u001B[0mla_benchmark\u001B[0m\u001B[0;34m(\u001B[0m\u001B[0mDB\u001B[0m\u001B[0;34m,\u001B[0m \u001B[0mPollutionType\u001B[0m\u001B[0;34m.\u001B[0m\u001B[0mjitter\u001B[0m\u001B[0;34m,\u001B[0m \u001B[0mJITTER_PARAMS\u001B[0m\u001B[0;34m)\u001B[0m\u001B[0;34m\u001B[0m\u001B[0;34m\u001B[0m\u001B[0m\n\u001B[0m\u001B[1;32m     84\u001B[0m     \u001B[0;31m# la_benchmark(DB, PollutionType.delay, DELAY_PARAMS)\u001B[0m\u001B[0;34m\u001B[0m\u001B[0;34m\u001B[0m\u001B[0;34m\u001B[0m\u001B[0m\n\u001B[1;32m     85\u001B[0m     \u001B[0;31m# la_benchmark(DB, PollutionType.gauss, GAUSS_PARAMS)\u001B[0m\u001B[0;34m\u001B[0m\u001B[0;34m\u001B[0m\u001B[0;34m\u001B[0m\u001B[0m\n",
      "\u001B[0;32m<ipython-input-18-95c574562c92>\u001B[0m in \u001B[0;36mla_benchmark\u001B[0;34m(db, pollution_type, params)\u001B[0m\n\u001B[1;32m     63\u001B[0m \u001B[0;34m\u001B[0m\u001B[0m\n\u001B[1;32m     64\u001B[0m             \u001B[0mprint\u001B[0m\u001B[0;34m(\u001B[0m\u001B[0;34m\"TVLA                \"\u001B[0m\u001B[0;34m,\u001B[0m \u001B[0mend\u001B[0m\u001B[0;34m=\u001B[0m\u001B[0;34m\"\\r\"\u001B[0m\u001B[0;34m)\u001B[0m\u001B[0;34m\u001B[0m\u001B[0;34m\u001B[0m\u001B[0m\n\u001B[0;32m---> 65\u001B[0;31m             \u001B[0mtvla_ps\u001B[0m \u001B[0;34m=\u001B[0m \u001B[0mnp\u001B[0m\u001B[0;34m.\u001B[0m\u001B[0mmin\u001B[0m\u001B[0;34m(\u001B[0m\u001B[0mtvla_cri\u001B[0m\u001B[0;34m(\u001B[0m\u001B[0mtrace_set\u001B[0m\u001B[0;34m,\u001B[0m \u001B[0mORDER\u001B[0m\u001B[0;34m)\u001B[0m\u001B[0;34m,\u001B[0m \u001B[0maxis\u001B[0m\u001B[0;34m=\u001B[0m\u001B[0;36m1\u001B[0m\u001B[0;34m)\u001B[0m\u001B[0;34m\u001B[0m\u001B[0;34m\u001B[0m\u001B[0m\n\u001B[0m\u001B[1;32m     66\u001B[0m \u001B[0;34m\u001B[0m\u001B[0m\n\u001B[1;32m     67\u001B[0m             \u001B[0mprint\u001B[0m\u001B[0;34m(\u001B[0m\u001B[0;34m\"Predict             \"\u001B[0m\u001B[0;34m,\u001B[0m \u001B[0mend\u001B[0m\u001B[0;34m=\u001B[0m\u001B[0;34m\"\\r\"\u001B[0m\u001B[0;34m)\u001B[0m\u001B[0;34m\u001B[0m\u001B[0;34m\u001B[0m\u001B[0m\n",
      "\u001B[0;32m~/Documents/Afstudeer/LA/src/tvla/cri.py\u001B[0m in \u001B[0;36mtvla_cri\u001B[0;34m(trace_set, max_order, random, progress)\u001B[0m\n\u001B[1;32m     40\u001B[0m \u001B[0;32mdef\u001B[0m \u001B[0mtvla_cri\u001B[0m\u001B[0;34m(\u001B[0m\u001B[0mtrace_set\u001B[0m\u001B[0;34m:\u001B[0m \u001B[0mTraceSetHW\u001B[0m\u001B[0;34m,\u001B[0m \u001B[0mmax_order\u001B[0m\u001B[0;34m=\u001B[0m\u001B[0;36m4\u001B[0m\u001B[0;34m,\u001B[0m \u001B[0mrandom\u001B[0m\u001B[0;34m=\u001B[0m\u001B[0;32mFalse\u001B[0m\u001B[0;34m,\u001B[0m \u001B[0mprogress\u001B[0m\u001B[0;34m=\u001B[0m\u001B[0;32mFalse\u001B[0m\u001B[0;34m)\u001B[0m\u001B[0;34m:\u001B[0m\u001B[0;34m\u001B[0m\u001B[0;34m\u001B[0m\u001B[0m\n\u001B[1;32m     41\u001B[0m     \u001B[0mx\u001B[0m\u001B[0;34m,\u001B[0m \u001B[0my\u001B[0m \u001B[0;34m=\u001B[0m \u001B[0mget_xy\u001B[0m\u001B[0;34m(\u001B[0m\u001B[0mtrace_set\u001B[0m\u001B[0;34m,\u001B[0m \u001B[0mrandom\u001B[0m\u001B[0;34m)\u001B[0m\u001B[0;34m\u001B[0m\u001B[0;34m\u001B[0m\u001B[0m\n\u001B[0;32m---> 42\u001B[0;31m     \u001B[0;32mreturn\u001B[0m \u001B[0mtvla_cri_run\u001B[0m\u001B[0;34m(\u001B[0m\u001B[0mx\u001B[0m\u001B[0;34m,\u001B[0m \u001B[0my\u001B[0m\u001B[0;34m,\u001B[0m \u001B[0mmax_order\u001B[0m\u001B[0;34m,\u001B[0m \u001B[0mprogress\u001B[0m\u001B[0;34m)\u001B[0m\u001B[0;34m\u001B[0m\u001B[0;34m\u001B[0m\u001B[0m\n\u001B[0m\u001B[1;32m     43\u001B[0m \u001B[0;34m\u001B[0m\u001B[0m\n\u001B[1;32m     44\u001B[0m \u001B[0;34m\u001B[0m\u001B[0m\n",
      "\u001B[0;32m~/Documents/Afstudeer/LA/src/tvla/cri.py\u001B[0m in \u001B[0;36mtvla_cri_run\u001B[0;34m(x, y, max_order, progress)\u001B[0m\n\u001B[1;32m     16\u001B[0m     \u001B[0mb1\u001B[0m\u001B[0;34m,\u001B[0m \u001B[0mb2\u001B[0m \u001B[0;34m=\u001B[0m \u001B[0mx\u001B[0m\u001B[0;34m[\u001B[0m\u001B[0mand_\u001B[0m\u001B[0;34m(\u001B[0m\u001B[0mm\u001B[0m\u001B[0;34m,\u001B[0m \u001B[0my\u001B[0m\u001B[0;34m)\u001B[0m\u001B[0;34m]\u001B[0m\u001B[0;34m,\u001B[0m \u001B[0mx\u001B[0m\u001B[0;34m[\u001B[0m\u001B[0mand_\u001B[0m\u001B[0;34m(\u001B[0m\u001B[0;34m~\u001B[0m\u001B[0mm\u001B[0m\u001B[0;34m,\u001B[0m \u001B[0my\u001B[0m\u001B[0;34m)\u001B[0m\u001B[0;34m]\u001B[0m\u001B[0;34m\u001B[0m\u001B[0;34m\u001B[0m\u001B[0m\n\u001B[1;32m     17\u001B[0m \u001B[0;34m\u001B[0m\u001B[0m\n\u001B[0;32m---> 18\u001B[0;31m     \u001B[0mga1\u001B[0m\u001B[0;34m,\u001B[0m \u001B[0mga2\u001B[0m \u001B[0;34m=\u001B[0m \u001B[0mGroup\u001B[0m\u001B[0;34m(\u001B[0m\u001B[0ma1\u001B[0m\u001B[0;34m,\u001B[0m \u001B[0mmax_order\u001B[0m\u001B[0;34m,\u001B[0m \u001B[0mprogress\u001B[0m\u001B[0;34m)\u001B[0m\u001B[0;34m,\u001B[0m \u001B[0mGroup\u001B[0m\u001B[0;34m(\u001B[0m\u001B[0ma2\u001B[0m\u001B[0;34m,\u001B[0m \u001B[0mmax_order\u001B[0m\u001B[0;34m,\u001B[0m \u001B[0mprogress\u001B[0m\u001B[0;34m)\u001B[0m\u001B[0;34m\u001B[0m\u001B[0;34m\u001B[0m\u001B[0m\n\u001B[0m\u001B[1;32m     19\u001B[0m     \u001B[0mgb1\u001B[0m\u001B[0;34m,\u001B[0m \u001B[0mgb2\u001B[0m \u001B[0;34m=\u001B[0m \u001B[0mGroup\u001B[0m\u001B[0;34m(\u001B[0m\u001B[0mb1\u001B[0m\u001B[0;34m,\u001B[0m \u001B[0mmax_order\u001B[0m\u001B[0;34m,\u001B[0m \u001B[0mprogress\u001B[0m\u001B[0;34m)\u001B[0m\u001B[0;34m,\u001B[0m \u001B[0mGroup\u001B[0m\u001B[0;34m(\u001B[0m\u001B[0mb2\u001B[0m\u001B[0;34m,\u001B[0m \u001B[0mmax_order\u001B[0m\u001B[0;34m,\u001B[0m \u001B[0mprogress\u001B[0m\u001B[0;34m)\u001B[0m\u001B[0;34m\u001B[0m\u001B[0;34m\u001B[0m\u001B[0m\n\u001B[1;32m     20\u001B[0m \u001B[0;34m\u001B[0m\u001B[0m\n",
      "\u001B[0;32m~/Documents/Afstudeer/LA/src/tvla/tvla.py\u001B[0m in \u001B[0;36m__init__\u001B[0;34m(self, traces, max_order, progress)\u001B[0m\n\u001B[1;32m     43\u001B[0m \u001B[0;34m\u001B[0m\u001B[0m\n\u001B[1;32m     44\u001B[0m         \u001B[0;32mfor\u001B[0m \u001B[0morder\u001B[0m \u001B[0;32min\u001B[0m \u001B[0mcomputed_orders\u001B[0m\u001B[0;34m:\u001B[0m\u001B[0;34m\u001B[0m\u001B[0;34m\u001B[0m\u001B[0m\n\u001B[0;32m---> 45\u001B[0;31m             \u001B[0mcm\u001B[0m \u001B[0;34m=\u001B[0m \u001B[0mnp\u001B[0m\u001B[0;34m.\u001B[0m\u001B[0msum\u001B[0m\u001B[0;34m(\u001B[0m\u001B[0mmean_free\u001B[0m \u001B[0;34m**\u001B[0m \u001B[0morder\u001B[0m\u001B[0;34m,\u001B[0m \u001B[0maxis\u001B[0m\u001B[0;34m=\u001B[0m\u001B[0;36m0\u001B[0m\u001B[0;34m)\u001B[0m \u001B[0;34m/\u001B[0m \u001B[0mself\u001B[0m\u001B[0;34m.\u001B[0m\u001B[0mnum_traces\u001B[0m\u001B[0;34m\u001B[0m\u001B[0;34m\u001B[0m\u001B[0m\n\u001B[0m\u001B[1;32m     46\u001B[0m \u001B[0;34m\u001B[0m\u001B[0m\n\u001B[1;32m     47\u001B[0m             \u001B[0mself\u001B[0m\u001B[0;34m.\u001B[0m\u001B[0mcm\u001B[0m\u001B[0;34m[\u001B[0m\u001B[0morder\u001B[0m\u001B[0;34m]\u001B[0m \u001B[0;34m=\u001B[0m \u001B[0mcm\u001B[0m\u001B[0;34m\u001B[0m\u001B[0;34m\u001B[0m\u001B[0m\n",
      "\u001B[0;31mKeyboardInterrupt\u001B[0m: "
     ]
    }
   ],
   "source": [
    "def prepare_traces_dl(x, y, x_att, y_att):\n",
    "    \"\"\"\n",
    "    Normalizes the traces, one-hot encodes the labels.\n",
    "    Returns profiling traces, labels and attack traces, labels.\n",
    "    \"\"\"\n",
    "    prof_mean, prof_std = x.mean(axis=0), x.std(axis=0)\n",
    "    norm_x = (x - prof_mean) / prof_std\n",
    "    norm_x_att = (x_att - prof_mean) / prof_std\n",
    "\n",
    "    return norm_x, encode(y), norm_x_att, encode(y_att)\n",
    "\n",
    "\n",
    "def build_mlp(x, y, params):\n",
    "    mdl = Sequential()\n",
    "    mdl.add(Dense(100, activation=params['activation'], input_shape=(x.shape[1],)))\n",
    "    mdl.add(Dense(100, activation=params['activation']))\n",
    "    mdl.add(Dense(100, activation=params['activation']))\n",
    "    mdl.add(Dense(100, activation=params['activation']))\n",
    "    mdl.add(Dense(9, activation='softmax'))\n",
    "\n",
    "    mdl.compile(optimizer=params['optimizer'], loss=params['losses'], metrics=['accuracy'])\n",
    "\n",
    "    out = mdl.fit(x, y, shuffle=True, batch_size=params['batch_size'], epochs=params['epochs'], verbose=False)\n",
    "\n",
    "    return out, mdl\n",
    "\n",
    "\n",
    "def make_mlp(x, y):\n",
    "    return build_mlp(x, y, {\n",
    "        'activation': 'relu',\n",
    "        'optimizer': Adam(learning_rate=0.001),\n",
    "        'losses': 'categorical_crossentropy',\n",
    "        'batch_size': 150,\n",
    "        'epochs': 5\n",
    "    })[1]\n",
    "\n",
    "def wegener_p(mdl: Model, x_att: np.ndarray, y_att: np.ndarray):\n",
    "    predictions = mdl.predict(x_att).argmax(axis=1)\n",
    "    labels = y_att.argmax(axis=1)\n",
    "\n",
    "    correct = np.sum(predictions == labels)\n",
    "    total = len(predictions)\n",
    "    # print(total, correct)\n",
    "\n",
    "    return binomial_test(total, correct)\n",
    "\n",
    "def la_benchmark(db: Database, pollution_type: PollutionType, params):\n",
    "    for param in params:\n",
    "        pollution = Pollution(pollution_type, param)\n",
    "        print(\"Load traces         \", end=\"\\r\")\n",
    "        trace_set = TraceSetHW(db, pollution, (LIMIT_PROF, LIMIT_ATT))\n",
    "\n",
    "        if os.path.exists(trace_set.path):\n",
    "            print(\"Prepare traces (1/2)\", end=\"\\r\")\n",
    "            x9, y9, x9_att, y9_att = prepare_traces_dl(*trace_set.profile(), *trace_set.attack())\n",
    "            print(\"Prepare traces (2/2)\", end=\"\\r\")\n",
    "            (x2, y2), (x2_att, y2_att) = reduce_fixed_fixed(x9, y9), reduce_fixed_fixed(x9_att, y9_att)\n",
    "\n",
    "            print(\"Make model (1/2)    \", end=\"\\r\")\n",
    "            mdl9 = make_mlp(x9, y9)\n",
    "            print(\"Make model (2/2)    \", end=\"\\r\")\n",
    "            mdl2 = make_mlp_wegener(x2, y2, False)\n",
    "\n",
    "            print(\"TVLA                \", end=\"\\r\")\n",
    "            tvla_ps = np.min(tvla_cri(trace_set, ORDER), axis=1)\n",
    "\n",
    "            print(\"Predict             \", end=\"\\r\")\n",
    "            dlla9_p, _ = dlla_hw(mdl9, x9_att, y9_att)\n",
    "            dlla2_p = wegener_p(mdl2, x2_att, y2_att)\n",
    "\n",
    "            print(f\"{pollution_type} ({param}). TVLA ({tvla_ps}). DLLA9 ({dlla9_p}). DLLA2 ({dlla2_p})\", end=\"\\r\")\n",
    "\n",
    "            for order, p in enumerate(tvla_ps):\n",
    "                if order > 0:\n",
    "                    store_results(db, f\"cri_tvla_{order}\", pollution, p)\n",
    "\n",
    "            store_results(db, \"dlla9\", pollution, dlla9_p)\n",
    "            store_results(db, \"dlla2\", pollution, dlla2_p)\n",
    "\n",
    "        print()\n",
    "\n",
    "while True:\n",
    "    la_benchmark(DB, PollutionType.jitter, JITTER_PARAMS)\n",
    "    # la_benchmark(DB, PollutionType.delay, DELAY_PARAMS)\n",
    "    # la_benchmark(DB, PollutionType.gauss, GAUSS_PARAMS)\n"
   ],
   "metadata": {
    "collapsed": false,
    "pycharm": {
     "name": "#%%\n"
    }
   }
  },
  {
   "cell_type": "code",
   "execution_count": null,
   "outputs": [],
   "source": [],
   "metadata": {
    "collapsed": false,
    "pycharm": {
     "name": "#%%\n"
    }
   }
  }
 ],
 "metadata": {
  "kernelspec": {
   "display_name": "Python 3",
   "language": "python",
   "name": "python3"
  },
  "language_info": {
   "codemirror_mode": {
    "name": "ipython",
    "version": 2
   },
   "file_extension": ".py",
   "mimetype": "text/x-python",
   "name": "python",
   "nbconvert_exporter": "python",
   "pygments_lexer": "ipython2",
   "version": "2.7.6"
  }
 },
 "nbformat": 4,
 "nbformat_minor": 0
}