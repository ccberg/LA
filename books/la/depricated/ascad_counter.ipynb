{
 "cells": [
  {
   "cell_type": "markdown",
   "source": [
    "# ASCAD with countermeasures"
   ],
   "metadata": {
    "collapsed": false
   }
  },
  {
   "cell_type": "code",
   "execution_count": 8,
   "metadata": {
    "collapsed": true
   },
   "outputs": [],
   "source": [
    "import numpy as np\n",
    "import seaborn as sns\n",
    "from matplotlib import pyplot as plt\n",
    "from scipy.stats import pearsonr\n",
    "from tensorflow.keras.layers import *\n",
    "from tensorflow.keras.models import *\n",
    "from tensorflow.python.keras.optimizer_v2.adam import Adam\n",
    "from tqdm.keras import TqdmCallback\n",
    "\n",
    "from src.dlla.hw import NUM_CLASSES, plot_predictions, dlla_hw, dlla_p_gradient, prepare_traces_dl\n",
    "from src.dlla.wegener import make_mlp_wegener, wegener_p_gradient\n",
    "from src.tools.lists import random_divide, randomize\n",
    "from src.tools.plotter import init_plots, plot_p_gradient, PALETTE_GRADIENT, store_sns\n",
    "from src.trace_set.database import Database\n",
    "from src.trace_set.pollution import Pollution, PollutionType\n",
    "from src.trace_set.set_hw import TraceSetHW\n",
    "from src.trace_set.transform import reduce_fixed_fixed\n",
    "from src.tvla.tvla import Tvla\n",
    "\n",
    "init_plots()\n",
    "\n",
    "TRACE_LENGTH = 1400"
   ]
  },
  {
   "cell_type": "code",
   "execution_count": 9,
   "metadata": {
    "pycharm": {
     "name": "#%%\n"
    }
   },
   "outputs": [],
   "source": [
    "# ERROR = 'delay, $\\sigma = 0.125$'\n",
    "ERROR = 'jitter, $\\lambda$ = 0.75'\n",
    "\n",
    "POLL_TYPES = {\n",
    "    'delay, $\\sigma = 0.125$': Pollution(PollutionType.delay, .05),\n",
    "    'jitter, $p$ = 0.1': Pollution(PollutionType.jitter, .75)\n",
    "}\n",
    "\n",
    "ascad = TraceSetHW(Database.ascad).open('r')\n",
    "TRACES, HW = np.array(ascad['profile/traces']), np.array(ascad['profile/hw'])[:200000]\n",
    "TRACES_ATT, HW_ATT = np.array(ascad['attack/traces']), np.array(ascad['attack/hw'])\n",
    "\n",
    "X9, Y9, X9_ATT, Y9_ATT = prepare_traces_dl(TRACES, HW, TRACES_ATT, HW_ATT)\n",
    "(X2, Y2), (X2_ATT, Y2_ATT) = reduce_fixed_fixed(X9, Y9), reduce_fixed_fixed(X9_ATT, Y9_ATT)\n",
    "\n",
    "ascad.close()"
   ]
  },
  {
   "cell_type": "markdown",
   "metadata": {
    "pycharm": {
     "name": "#%% md\n"
    }
   },
   "source": [
    "### Model creation\n",
    "\n",
    "With model hyper-parameters to be optimized."
   ]
  },
  {
   "cell_type": "code",
   "execution_count": 10,
   "metadata": {
    "pycharm": {
     "name": "#%%\n"
    }
   },
   "outputs": [],
   "source": [
    "def make_mlp(x, y, x_attack, y_attack, params):\n",
    "    mdl = Sequential()\n",
    "    mdl.add(Dense(100, activation=params['activation'], input_shape=(x.shape[1],)))\n",
    "    mdl.add(Dense(100, activation=params['activation']))\n",
    "    mdl.add(Dense(100, activation=params['activation']))\n",
    "    mdl.add(Dense(100, activation=params['activation']))\n",
    "    mdl.add(Dense(NUM_CLASSES, activation='softmax'))\n",
    "\n",
    "    mdl.compile(optimizer=params['optimizer'], loss=params['losses'], metrics=['accuracy'])\n",
    "\n",
    "    out = mdl.fit(x, y, shuffle=True, validation_data=(x_attack, y_attack), batch_size=params['batch_size'],\n",
    "                  epochs=params['epochs'], verbose=False, callbacks=[TqdmCallback(verbose=0)])\n",
    "\n",
    "    return out, mdl"
   ]
  },
  {
   "cell_type": "markdown",
   "metadata": {
    "pycharm": {
     "name": "#%% md\n"
    }
   },
   "source": [
    "### Brute-force Hyper parameter optimization\n",
    "\n",
    "Talos brute-force scan for optimal hyperparameters"
   ]
  },
  {
   "cell_type": "code",
   "execution_count": 11,
   "metadata": {
    "pycharm": {
     "name": "#%%\n"
    }
   },
   "outputs": [],
   "source": [
    "# import talos\n",
    "#\n",
    "# scan_obj = talos.Scan(x=x_prof,    y=y_prof,    x_val=x_att,    y_val=y_att,    model=make_mlp,    params=model_parameters,    experiment_name=\".cache/talos\", print_params=True)"
   ]
  },
  {
   "cell_type": "markdown",
   "metadata": {
    "pycharm": {
     "name": "#%% md\n"
    }
   },
   "source": [
    "### Fit model based on the optimal model found by Talos."
   ]
  },
  {
   "cell_type": "code",
   "execution_count": 12,
   "metadata": {
    "pycharm": {
     "name": "#%%\n"
    }
   },
   "outputs": [
    {
     "data": {
      "text/plain": "0epoch [00:00, ?epoch/s]",
      "application/vnd.jupyter.widget-view+json": {
       "version_major": 2,
       "version_minor": 0,
       "model_id": "eb453ed0b50e43ffb19ea0030809e221"
      }
     },
     "metadata": {},
     "output_type": "display_data"
    }
   ],
   "source": [
    "NUM_PROFILING = 50000\n",
    "\n",
    "best_model = make_mlp(X9[:NUM_PROFILING], Y9[:NUM_PROFILING], X9_ATT, Y9_ATT, {\n",
    "    'activation':'relu',\n",
    "    'optimizer': Adam(learning_rate=0.001),\n",
    "    'losses': 'categorical_crossentropy',\n",
    "    'batch_size': 150,\n",
    "    'epochs': 5\n",
    "})[1]"
   ]
  },
  {
   "cell_type": "markdown",
   "metadata": {
    "pycharm": {
     "name": "#%% md\n"
    }
   },
   "source": [
    "### HW Prediction\n",
    "\n",
    "Predict the hamming weight by taking the weighted mean for the predicted probabilities for each class."
   ]
  },
  {
   "cell_type": "markdown",
   "metadata": {
    "pycharm": {
     "name": "#%% md\n"
    }
   },
   "source": [
    "#### Example: Some prediction\n",
    "\n",
    "Probabilities for each class:"
   ]
  },
  {
   "cell_type": "code",
   "execution_count": 13,
   "metadata": {
    "pycharm": {
     "name": "#%%\n"
    }
   },
   "outputs": [
    {
     "data": {
      "text/plain": "array([0.00131694, 0.01984817, 0.09218685, 0.18328694, 0.29731563,\n       0.28010947, 0.0969699 , 0.02709987, 0.00186622], dtype=float32)"
     },
     "execution_count": 13,
     "metadata": {},
     "output_type": "execute_result"
    }
   ],
   "source": [
    "best_model.predict(X9_ATT[:1])[0]"
   ]
  },
  {
   "cell_type": "markdown",
   "metadata": {
    "pycharm": {
     "name": "#%% md\n"
    }
   },
   "source": [
    "**Predicted hamming weight label**, calculated by taking the weighted mean using the predicted probabilities."
   ]
  },
  {
   "cell_type": "code",
   "execution_count": 14,
   "metadata": {
    "pycharm": {
     "name": "#%%\n"
    }
   },
   "outputs": [
    {
     "data": {
      "text/plain": "4.130340748466551"
     },
     "execution_count": 14,
     "metadata": {},
     "output_type": "execute_result"
    }
   ],
   "source": [
    "np.sum(best_model.predict(X9_ATT[:1])[0] * range(8 + 1))"
   ]
  },
  {
   "cell_type": "code",
   "execution_count": 15,
   "metadata": {
    "pycharm": {
     "name": "#%%\n"
    }
   },
   "outputs": [
    {
     "data": {
      "text/plain": "(0.471489353630537, 0.4148896239744506)"
     },
     "execution_count": 15,
     "metadata": {},
     "output_type": "execute_result"
    }
   ],
   "source": [
    "dlla_hw(best_model, X9_ATT, Y9_ATT)"
   ]
  },
  {
   "cell_type": "markdown",
   "metadata": {},
   "source": [
    "### Plot p-gradient."
   ]
  },
  {
   "cell_type": "code",
   "execution_count": 16,
   "metadata": {},
   "outputs": [],
   "source": [
    "def split_traces(x, y):\n",
    "    a = x[np.where(y < 4)]\n",
    "    b = x[np.where(y > 4)]\n",
    "\n",
    "    min_len = min(len(a), len(b))\n",
    "    return a[:min_len], b[:min_len]\n",
    "\n",
    "A_ATT, B_ATT = split_traces(TRACES_ATT, HW_ATT)"
   ]
  },
  {
   "cell_type": "code",
   "execution_count": 17,
   "metadata": {
    "pycharm": {
     "name": "#%%\n"
    }
   },
   "outputs": [
    {
     "name": "stderr",
     "output_type": "stream",
     "text": [
      "\n",
      "Computing Central Moments:   0%|          | 0/6 [00:00<?, ?it/s]\u001B[A\n",
      "Computing Central Moments:  67%|██████▋   | 4/6 [00:00<00:00,  9.20it/s]\u001B[A\n",
      "Computing Central Moments:  83%|████████▎ | 5/6 [00:00<00:00,  5.83it/s]\u001B[A\n",
      "Computing Central Moments: 100%|██████████| 6/6 [00:01<00:00,  5.32it/s]\u001B[A\n",
      "\n",
      "Computing Central Moments:   0%|          | 0/6 [00:00<?, ?it/s]\u001B[A\n",
      "Computing Central Moments:  17%|█▋        | 1/6 [00:00<00:01,  4.53it/s]\u001B[A\n",
      "Computing Central Moments:  50%|█████     | 3/6 [00:00<00:00,  9.27it/s]\u001B[A\n",
      "Computing Central Moments:  83%|████████▎ | 5/6 [00:01<00:00,  2.45it/s]\u001B[A\n",
      "Computing Central Moments: 100%|██████████| 6/6 [00:02<00:00,  2.46it/s]\u001B[A\n",
      "\n",
      "Computing min-p gradients:   0%|          | 0/3 [00:00<?, ?it/s]\u001B[A\n",
      "Computing min-p gradients:  33%|███▎      | 1/3 [00:16<00:32, 16.05s/it]\u001B[A\n",
      "Computing min-p gradients:  67%|██████▋   | 2/3 [00:38<00:19, 19.90s/it]\u001B[A\n",
      "Computing min-p gradients: 100%|██████████| 3/3 [01:14<00:00, 24.91s/it]\u001B[A\n",
      "\n",
      "Computing Central Moments:   0%|          | 0/6 [00:00<?, ?it/s]\u001B[A\n",
      "Computing Central Moments:  67%|██████▋   | 4/6 [00:00<00:00,  9.16it/s]\u001B[A\n",
      "Computing Central Moments:  83%|████████▎ | 5/6 [00:00<00:00,  5.83it/s]\u001B[A\n",
      "Computing Central Moments: 100%|██████████| 6/6 [00:01<00:00,  5.31it/s]\u001B[A\n",
      "\n",
      "Computing Central Moments:   0%|          | 0/6 [00:00<?, ?it/s]\u001B[A\n",
      "Computing Central Moments:  67%|██████▋   | 4/6 [00:00<00:00,  9.16it/s]\u001B[A\n",
      "Computing Central Moments:  83%|████████▎ | 5/6 [00:00<00:00,  5.83it/s]\u001B[A\n",
      "Computing Central Moments: 100%|██████████| 6/6 [00:01<00:00,  5.31it/s]\u001B[A\n"
     ]
    },
    {
     "ename": "ValueError",
     "evalue": "could not broadcast input array from shape (1000,) into shape (1400,)",
     "output_type": "error",
     "traceback": [
      "\u001B[0;31m---------------------------------------------------------------------------\u001B[0m",
      "\u001B[0;31mValueError\u001B[0m                                Traceback (most recent call last)",
      "\u001B[0;32m<ipython-input-17-a0c78ad0fe1c>\u001B[0m in \u001B[0;36m<module>\u001B[0;34m\u001B[0m\n\u001B[1;32m      3\u001B[0m \u001B[0mTVLA_AB\u001B[0m\u001B[0;34m.\u001B[0m\u001B[0madd\u001B[0m\u001B[0;34m(\u001B[0m\u001B[0mA_ATT\u001B[0m\u001B[0;34m[\u001B[0m\u001B[0;34m:\u001B[0m\u001B[0mMAX_LEN\u001B[0m\u001B[0;34m]\u001B[0m\u001B[0;34m,\u001B[0m \u001B[0mB_ATT\u001B[0m\u001B[0;34m)\u001B[0m\u001B[0;34m\u001B[0m\u001B[0;34m\u001B[0m\u001B[0m\n\u001B[1;32m      4\u001B[0m \u001B[0mTVLA_BB\u001B[0m \u001B[0;34m=\u001B[0m \u001B[0mTvla\u001B[0m\u001B[0;34m(\u001B[0m\u001B[0mTRACE_LENGTH\u001B[0m\u001B[0;34m)\u001B[0m\u001B[0;34m\u001B[0m\u001B[0;34m\u001B[0m\u001B[0m\n\u001B[0;32m----> 5\u001B[0;31m \u001B[0mTVLA_BB\u001B[0m\u001B[0;34m.\u001B[0m\u001B[0madd\u001B[0m\u001B[0;34m(\u001B[0m\u001B[0;34m*\u001B[0m\u001B[0mrandom_divide\u001B[0m\u001B[0;34m(\u001B[0m\u001B[0mB_ATT\u001B[0m\u001B[0;34m)\u001B[0m\u001B[0;34m)\u001B[0m\u001B[0;34m\u001B[0m\u001B[0;34m\u001B[0m\u001B[0m\n\u001B[0m\u001B[1;32m      6\u001B[0m \u001B[0;34m\u001B[0m\u001B[0m\n",
      "\u001B[0;32m~/Documents/Afstudeer/LA/src/tvla/tvla.py\u001B[0m in \u001B[0;36madd\u001B[0;34m(self, a, b)\u001B[0m\n\u001B[1;32m    126\u001B[0m         \u001B[0ma\u001B[0m\u001B[0;34m,\u001B[0m \u001B[0mb\u001B[0m \u001B[0;34m=\u001B[0m \u001B[0ma\u001B[0m\u001B[0;34m.\u001B[0m\u001B[0mcopy\u001B[0m\u001B[0;34m(\u001B[0m\u001B[0;34m)\u001B[0m\u001B[0;34m,\u001B[0m \u001B[0mb\u001B[0m\u001B[0;34m.\u001B[0m\u001B[0mcopy\u001B[0m\u001B[0;34m(\u001B[0m\u001B[0;34m)\u001B[0m\u001B[0;34m\u001B[0m\u001B[0;34m\u001B[0m\u001B[0m\n\u001B[1;32m    127\u001B[0m \u001B[0;34m\u001B[0m\u001B[0m\n\u001B[0;32m--> 128\u001B[0;31m         \u001B[0mmin_p_ixs\u001B[0m \u001B[0;34m=\u001B[0m \u001B[0mself\u001B[0m\u001B[0;34m.\u001B[0m\u001B[0m__set_min_p\u001B[0m\u001B[0;34m(\u001B[0m\u001B[0ma\u001B[0m\u001B[0;34m,\u001B[0m \u001B[0mb\u001B[0m\u001B[0;34m)\u001B[0m\u001B[0;34m\u001B[0m\u001B[0;34m\u001B[0m\u001B[0m\n\u001B[0m\u001B[1;32m    129\u001B[0m         \u001B[0mnp\u001B[0m\u001B[0;34m.\u001B[0m\u001B[0mrandom\u001B[0m\u001B[0;34m.\u001B[0m\u001B[0mshuffle\u001B[0m\u001B[0;34m(\u001B[0m\u001B[0ma\u001B[0m\u001B[0;34m)\u001B[0m\u001B[0;34m,\u001B[0m \u001B[0mnp\u001B[0m\u001B[0;34m.\u001B[0m\u001B[0mrandom\u001B[0m\u001B[0;34m.\u001B[0m\u001B[0mshuffle\u001B[0m\u001B[0;34m(\u001B[0m\u001B[0mb\u001B[0m\u001B[0;34m)\u001B[0m\u001B[0;34m\u001B[0m\u001B[0;34m\u001B[0m\u001B[0m\n\u001B[1;32m    130\u001B[0m         \u001B[0mself\u001B[0m\u001B[0;34m.\u001B[0m\u001B[0m__set_min_p_gradient\u001B[0m\u001B[0;34m(\u001B[0m\u001B[0ma\u001B[0m\u001B[0;34m,\u001B[0m \u001B[0mb\u001B[0m\u001B[0;34m,\u001B[0m \u001B[0mmin_p_ixs\u001B[0m\u001B[0;34m)\u001B[0m\u001B[0;34m\u001B[0m\u001B[0;34m\u001B[0m\u001B[0m\n",
      "\u001B[0;32m~/Documents/Afstudeer/LA/src/tvla/tvla.py\u001B[0m in \u001B[0;36m__set_min_p\u001B[0;34m(self, a, b)\u001B[0m\n\u001B[1;32m     96\u001B[0m         \u001B[0;32mfor\u001B[0m \u001B[0morder\u001B[0m \u001B[0;32min\u001B[0m \u001B[0mrange\u001B[0m\u001B[0;34m(\u001B[0m\u001B[0;36m1\u001B[0m\u001B[0;34m,\u001B[0m \u001B[0mself\u001B[0m\u001B[0;34m.\u001B[0m\u001B[0mmax_order\u001B[0m \u001B[0;34m+\u001B[0m \u001B[0;36m1\u001B[0m\u001B[0;34m)\u001B[0m\u001B[0;34m:\u001B[0m\u001B[0;34m\u001B[0m\u001B[0;34m\u001B[0m\u001B[0m\n\u001B[1;32m     97\u001B[0m             \u001B[0mp_values\u001B[0m \u001B[0;34m=\u001B[0m \u001B[0mgroup_a\u001B[0m\u001B[0;34m.\u001B[0m\u001B[0mt_test\u001B[0m\u001B[0;34m(\u001B[0m\u001B[0mgroup_b\u001B[0m\u001B[0;34m,\u001B[0m \u001B[0morder\u001B[0m\u001B[0;34m)\u001B[0m\u001B[0;34m[\u001B[0m\u001B[0;36m1\u001B[0m\u001B[0;34m]\u001B[0m\u001B[0;34m\u001B[0m\u001B[0;34m\u001B[0m\u001B[0m\n\u001B[0;32m---> 98\u001B[0;31m             \u001B[0mself\u001B[0m\u001B[0;34m.\u001B[0m\u001B[0mmin_p\u001B[0m\u001B[0;34m[\u001B[0m\u001B[0morder\u001B[0m\u001B[0;34m]\u001B[0m \u001B[0;34m=\u001B[0m \u001B[0mp_values\u001B[0m\u001B[0;34m\u001B[0m\u001B[0;34m\u001B[0m\u001B[0m\n\u001B[0m\u001B[1;32m     99\u001B[0m             \u001B[0mmin_p_ixs\u001B[0m\u001B[0;34m[\u001B[0m\u001B[0morder\u001B[0m\u001B[0;34m]\u001B[0m \u001B[0;34m=\u001B[0m \u001B[0mnp\u001B[0m\u001B[0;34m.\u001B[0m\u001B[0margmin\u001B[0m\u001B[0;34m(\u001B[0m\u001B[0mnp\u001B[0m\u001B[0;34m.\u001B[0m\u001B[0mnan_to_num\u001B[0m\u001B[0;34m(\u001B[0m\u001B[0mp_values\u001B[0m\u001B[0;34m,\u001B[0m \u001B[0mnan\u001B[0m\u001B[0;34m=\u001B[0m\u001B[0;36m1.0\u001B[0m\u001B[0;34m)\u001B[0m\u001B[0;34m)\u001B[0m\u001B[0;34m\u001B[0m\u001B[0;34m\u001B[0m\u001B[0m\n\u001B[1;32m    100\u001B[0m \u001B[0;34m\u001B[0m\u001B[0m\n",
      "\u001B[0;31mValueError\u001B[0m: could not broadcast input array from shape (1000,) into shape (1400,)"
     ]
    }
   ],
   "source": [
    "MAX_LEN = round(len(A_ATT) / 2)\n",
    "TVLA_AB = Tvla(A_ATT.shape[1])\n",
    "TVLA_AB.add(A_ATT[:MAX_LEN], B_ATT)\n",
    "TVLA_BB = Tvla(TRACE_LENGTH)\n",
    "TVLA_BB.add(*random_divide(B_ATT))"
   ]
  },
  {
   "cell_type": "code",
   "execution_count": null,
   "metadata": {
    "pycharm": {
     "name": "#%%\n"
    }
   },
   "outputs": [],
   "source": [
    "plot_p_gradient(dict([(f\"$\\\\mu_{{{d}}}$\", TVLA_AB.p_gradient(d)) for d in range(1, 4)]),\n",
    "                \"TVLA performance, first 3 statistical moment orders\\nMasked AES with 1400 sample points\", palette=PALETTE_GRADIENT)"
   ]
  },
  {
   "cell_type": "code",
   "execution_count": null,
   "metadata": {
    "pycharm": {
     "name": "#%%\n"
    }
   },
   "outputs": [],
   "source": [
    "G = TVLA_AB.plot_p_values(2)\n",
    "store_sns(G, \"p-values-ascad\")"
   ]
  },
  {
   "cell_type": "code",
   "execution_count": null,
   "outputs": [],
   "source": [
    "sns.lineplot(data=np.bincount(np.round(TVLA_AB.min_p[2] * 1000).astype(int), minlength=100))"
   ],
   "metadata": {
    "collapsed": false,
    "pycharm": {
     "name": "#%%\n"
    }
   }
  },
  {
   "cell_type": "code",
   "execution_count": null,
   "metadata": {
    "pycharm": {
     "name": "#%%\n"
    }
   },
   "outputs": [],
   "source": [
    "MAX_WEIGHTS = np.max(best_model.layers[0].get_weights()[0], axis=1)\n",
    "\n",
    "sns.lineplot(data=MAX_WEIGHTS)\n",
    "AX2 = plt.twinx()\n",
    "G = sns.lineplot(data=TVLA_AB.min_p[2], ax=AX2, color=sns.color_palette()[1], alpha=.5)\n",
    "G.set(yscale=\"log\")\n",
    "G.invert_yaxis()"
   ]
  },
  {
   "cell_type": "code",
   "execution_count": null,
   "metadata": {
    "pycharm": {
     "name": "#%%\n"
    }
   },
   "outputs": [],
   "source": [
    "print(\"p-value for uncorrelated system producing these datasets\")\n",
    "pearsonr(MAX_WEIGHTS, TVLA_AB.min_p[2])[1]"
   ]
  },
  {
   "cell_type": "code",
   "execution_count": null,
   "metadata": {
    "pycharm": {
     "name": "#%%\n"
    }
   },
   "outputs": [],
   "source": [
    "plot_p_gradient({\n",
    "    \"A vs. B\": TVLA_AB.p_gradient(2),\n",
    "    \"FP check\": TVLA_BB.p_gradient(2)\n",
    "}, \"TVLA performance validation ($t$-test for $\\\\mu_2$ with min-$p$)\\nMasked AES with 1400 sample points\",\n",
    "    palette=PALETTE_GRADIENT,\n",
    "    file_name=\"tvla-validation-mu2\")\n",
    "\n",
    "PG_LEN = len(TVLA_AB.p_gradient(2))"
   ]
  },
  {
   "cell_type": "code",
   "execution_count": null,
   "metadata": {
    "pycharm": {
     "name": "#%%\n"
    }
   },
   "outputs": [],
   "source": [
    "PG_DLLA_9 = dlla_p_gradient(best_model, X9_ATT, Y9_ATT)[\"A vs. B\"]\n",
    "PG_DLLA_9_RANDOM = dlla_p_gradient(best_model, X9_ATT, randomize(Y9_ATT))[\"A vs. B\"]\n",
    "\n",
    "plot_p_gradient({\n",
    "    \"A vs. B\": np.array(PG_DLLA_9),\n",
    "    \"FP check\": np.array(PG_DLLA_9_RANDOM),\n",
    "}, \"DL-LA performance validation (9-class)\\nMasked AES with 1400 sample points\",\n",
    "    palette=PALETTE_GRADIENT,\n",
    "    file_name=\"dlla-9-validation\"\n",
    ")"
   ]
  },
  {
   "cell_type": "code",
   "execution_count": null,
   "metadata": {
    "pycharm": {
     "name": "#%%\n"
    }
   },
   "outputs": [],
   "source": [
    "X_PROF_2, Y_PROF_2 = reduce_fixed_fixed(X9, Y9)\n",
    "X_ATT_2, Y_ATT_2 = reduce_fixed_fixed(X9_ATT, Y9_ATT)\n",
    "Y_ATT_2_RANDOM = randomize(Y_ATT_2)"
   ]
  },
  {
   "cell_type": "code",
   "execution_count": null,
   "metadata": {
    "pycharm": {
     "name": "#%%\n"
    }
   },
   "outputs": [],
   "source": [
    "MODEL_WEGENER_AB = make_mlp_wegener(X_PROF_2[:NUM_PROFILING], Y_PROF_2[:NUM_PROFILING], X_ATT_2, Y_ATT_2)\n",
    "\n",
    "PG_DLLA_2_AB = wegener_p_gradient(MODEL_WEGENER_AB, X_ATT_2[:PG_LEN], Y_ATT_2[:PG_LEN])\n",
    "PG_DLLA_2_RANDOM =  wegener_p_gradient(MODEL_WEGENER_AB, X_ATT_2[:PG_LEN], Y_ATT_2_RANDOM[:PG_LEN])\n",
    "\n",
    "plot_p_gradient({\n",
    "    \"A vs. B\": np.array(PG_DLLA_2_AB),\n",
    "    \"FP check\": np.array(PG_DLLA_2_RANDOM),\n",
    "}, \"DL-LA performance validation (Wegener)\\nMasked AES with 1400 sample points\",\n",
    "    palette=PALETTE_GRADIENT,\n",
    "    file_name=\"dlla-2-validation\"\n",
    ")"
   ]
  },
  {
   "cell_type": "markdown",
   "source": [
    "### Experiment - performance using t-test distinguisher"
   ],
   "metadata": {
    "collapsed": false,
    "pycharm": {
     "name": "#%% md\n"
    }
   }
  },
  {
   "cell_type": "code",
   "execution_count": null,
   "outputs": [],
   "source": [
    "# PG_DLLA_2_AB_T = wegener_t_test_p_gradient(MODEL_WEGENER_AB, X_ATT_2[:PG_LEN], Y_ATT_2[:PG_LEN])\n",
    "# PG_DLLA_2_RANDOM_T = wegener_t_test_p_gradient(MODEL_WEGENER_AB, X_ATT_2[:PG_LEN], Y_ATT_2_RANDOM[:PG_LEN])\n",
    "\n",
    "# plot_p_gradient({\n",
    "#     \"A vs. B\": np.array(PG_DLLA_2_AB_T),\n",
    "#     \"FP check\": np.array(PG_DLLA_2_RANDOM_T),\n",
    "# }, \"DL-LA performance validation (Wegener) on ASCAD.\\nEvaluation using $t$-test\",\n",
    "#     palette=PALETTE_GRADIENT,\n",
    "#     file_name=\"dlla-2-validation\"\n",
    "# )\n",
    "\n",
    "# plot_p_gradient({\n",
    "#     \"Binomial test\": np.array(PG_DLLA_2_AB[:4000]),\n",
    "#     \"t-test\": np.array(PG_DLLA_2_AB_T[:4000]),\n",
    "# }, \"DL-LA performance (Wegener) on ASCAD.\\nEvaluation using different statistical tests\\n\")\n",
    "\n",
    "# plot_p_gradient({\n",
    "#     \"DL-LA (Wegener, binomial test)\": np.array(PG_DLLA_2_AB),\n",
    "#     \"TVLA $\\\\mu_2$\": TVLA_AB.p_gradient(2)\n",
    "# },\"LA method performance\\nmasked AES with 1400 sample points\\n\")"
   ],
   "metadata": {
    "collapsed": false,
    "pycharm": {
     "name": "#%%\n"
    }
   }
  },
  {
   "cell_type": "code",
   "execution_count": null,
   "metadata": {
    "pycharm": {
     "name": "#%%\n"
    }
   },
   "outputs": [],
   "source": [
    "plot_p_gradient({\n",
    "    \"DL-LA (9-class)\": np.array(PG_DLLA_9),\n",
    "    \"DL-LA (Wegener)\": np.array(PG_DLLA_2_AB),\n",
    "    \"TVLA $\\\\mu_2$ (min-$p$)\": TVLA_AB.p_gradient(2)\n",
    "},\"LA method performance\\nmasked AES with 1400 sample points\",\n",
    "    file_name=\"ascad-default-all\"\n",
    ")"
   ]
  }
 ],
 "metadata": {
  "kernelspec": {
   "display_name": "Python 3",
   "language": "python",
   "name": "python3"
  },
  "language_info": {
   "codemirror_mode": {
    "name": "ipython",
    "version": 3
   },
   "file_extension": ".py",
   "mimetype": "text/x-python",
   "name": "python",
   "nbconvert_exporter": "python",
   "pygments_lexer": "ipython3",
   "version": "3.8.5"
  }
 },
 "nbformat": 4,
 "nbformat_minor": 1
}