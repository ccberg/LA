{
 "cells": [
  {
   "cell_type": "markdown",
   "metadata": {
    "collapsed": true,
    "pycharm": {
     "name": "#%% md\n"
    }
   },
   "source": [
    "# Welch's $t$-test optimization"
   ]
  },
  {
   "cell_type": "markdown",
   "source": [
    "$t=\\frac{m_A - m_B}{\\sqrt{\\frac{S^2_A}{n_A} + \\frac{S^2_B}{n_B}}}$. For application of DL-LA, $n_A = n_B$ has to hold.\n",
    "Because I will be comparing DL-LA to TVLA, $n_A = n_B$ also holds for the sample sets I will be feeding into TVLA.\n",
    "Then, $t = \\frac{m_A - m_B}{\\frac{\\sqrt{S^2_A + S^2_B}}{\\sqrt{n}}}$, where $\\sqrt{n}$ is pre-computed."
   ],
   "metadata": {
    "collapsed": false,
    "pycharm": {
     "name": "#%% md\n"
    }
   }
  },
  {
   "cell_type": "markdown",
   "source": [
    "$dof =  \\frac{(\\frac{S_A^2}{n_A} + \\frac{S_B^2}{n_B})^2}{\\frac{S_A^4}{n_A^2(n_A-1)} + \\frac{S_B^4}{n_B^2(n_B-1)}}\n",
    " = \\frac{\\frac{(S_A^2 + S_B^2)^2}{n^2}}{\\frac{S_A^4 + S_B^4}{n^2(n-1)}} =\n",
    "\\frac{(S_A^2 + S_B^2)^2}{(n-1)(S_A^4+S_B^4)}$."
   ],
   "metadata": {
    "collapsed": false,
    "pycharm": {
     "name": "#%% md\n"
    }
   }
  },
  {
   "cell_type": "code",
   "execution_count": null,
   "outputs": [],
   "source": [],
   "metadata": {
    "collapsed": false,
    "pycharm": {
     "name": "#%%\n"
    }
   }
  }
 ],
 "metadata": {
  "kernelspec": {
   "display_name": "Python 3",
   "language": "python",
   "name": "python3"
  },
  "language_info": {
   "codemirror_mode": {
    "name": "ipython",
    "version": 2
   },
   "file_extension": ".py",
   "mimetype": "text/x-python",
   "name": "python",
   "nbconvert_exporter": "python",
   "pygments_lexer": "ipython2",
   "version": "2.7.6"
  }
 },
 "nbformat": 4,
 "nbformat_minor": 0
}