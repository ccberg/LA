{
 "cells": [
  {
   "cell_type": "markdown",
   "metadata": {
    "collapsed": true,
    "pycharm": {
     "name": "#%% md\n"
    }
   },
   "source": [
    "# TVLA using Hamming Weights"
   ]
  },
  {
   "cell_type": "code",
   "execution_count": 3,
   "outputs": [],
   "source": [
    "import numpy as np\n",
    "from tqdm import tqdm\n",
    "\n",
    "from src.data.slices import tvla_slice\n",
    "from src.data.traceloader import AscadRandomKey"
   ],
   "metadata": {
    "collapsed": false,
    "pycharm": {
     "name": "#%%\n"
    }
   }
  },
  {
   "cell_type": "code",
   "execution_count": null,
   "outputs": [],
   "source": [
    "ascad = AscadRandomKey()"
   ],
   "metadata": {
    "collapsed": false,
    "pycharm": {
     "name": "#%%\n"
    }
   }
  },
  {
   "cell_type": "code",
   "execution_count": null,
   "outputs": [],
   "source": [
    "from src.tvla.t import make_t_test\n",
    "\n",
    "def prepare_hw(make_test, samples):\n",
    "    \"\"\"\n",
    "    Prepares traces for TVLA using Hamming weights as a key distance measure.\n",
    "    \"\"\"\n",
    "    target = samples.filter_by_hw(True)\n",
    "    rest = samples.filter_by_hw(False)\n",
    "\n",
    "    slc_target = tvla_slice(target)\n",
    "    slc_rest = tvla_slice(rest)\n",
    "\n",
    "    def means(slc):\n",
    "        return np.array([(s.mean(axis=0), s.var(axis=0)) for s in slc], dtype=np.float128)\n",
    "\n",
    "    slc_mv = np.moveaxis(np.array([means(slc_target), means(slc_rest)]), 2, 3)\n",
    "    test = make_test(slc_mv.shape[2])\n",
    "\n",
    "    return test, slc_mv"
   ],
   "metadata": {
    "collapsed": false,
    "pycharm": {
     "name": "#%%\n"
    }
   }
  },
  {
   "cell_type": "code",
   "execution_count": null,
   "outputs": [],
   "source": [
    "def device_fails(left: np.array, right: np.array, p: float):\n",
    "    return np.array(((left < p) * (right < p))).any()\n",
    "\n",
    "\n",
    "def tvla(test, left, right, p=.1, debug=False):\n",
    "    \"\"\"\n",
    "    Applies some given statistical test against the given samples.\n",
    "\n",
    "    @param test: statistical test function that takes two samples and returns test values.\n",
    "    @param left: Four sample sets containing s samples representing a power trace of length t.\n",
    "    @param right: Two sample sets containing s samples representing a power trace of length t.\n",
    "    @param p: Decide whether a device fails using (100 * p)%-confidence interval.\n",
    "    @param debug: Set to True if this function should throw Exceptions upon improperly structured input.\n",
    "    @return: Whether the device fails on (A against A, A against B).\n",
    "    \"\"\"\n",
    "    if debug:\n",
    "        assert len(left) == 4\n",
    "        assert len(right) == 4\n",
    "\n",
    "    # Four different samples from distribution A.\n",
    "    a, b, c, d = left\n",
    "    # Two different samples from distribution B. x and y are compared to a and b, respectively.\n",
    "    _, _, x, y = right\n",
    "\n",
    "    # Test A against A.\n",
    "    aa1 = test(a, c)\n",
    "    aa2 = test(b, d)\n",
    "\n",
    "    # Test A against B.\n",
    "    ab1 = test(a, x)\n",
    "    ab2 = test(b, y)\n",
    "\n",
    "    if debug:\n",
    "        print(\"Median p-value, A vs. A: \", np.median((aa1, aa2)))\n",
    "        print(\"Median p-value, A vs. B: \", np.median((ab1, ab2)))\n",
    "\n",
    "    # This value for t lets p% of the devices fail.\n",
    "    return device_fails(aa1, aa2, p), device_fails(ab1, ab2, p)"
   ],
   "metadata": {
    "collapsed": false,
    "pycharm": {
     "name": "#%%\n"
    }
   }
  },
  {
   "cell_type": "markdown",
   "source": [
    "### Tackling varying p-values\n",
    "\n",
    "The range of $p$-values for which A vs. A fails (and A vs. B does not) in the non-randomized dataset varies. It does not always overlap,\n",
    "therefore there is no one fixed $p$-value for which leakage is detected.\n",
    "\n",
    "#### Solution 1\n",
    "\n",
    "Find the lowest $p$-value for which A vs. A fails."
   ],
   "metadata": {
    "collapsed": false
   }
  },
  {
   "cell_type": "code",
   "execution_count": null,
   "outputs": [],
   "source": [
    "def lowest_fail(test, slices):\n",
    "    pv = 0.\n",
    "    step = 1\n",
    "    while step > 10 ** -10:\n",
    "        step /= 10\n",
    "\n",
    "        while not tvla(test, slices[0], slices[1], p=pv)[0]:\n",
    "            pv += step\n",
    "\n",
    "        pv -= step\n",
    "\n",
    "    return pv + step"
   ],
   "metadata": {
    "collapsed": false,
    "pycharm": {
     "name": "#%%\n"
    }
   }
  },
  {
   "cell_type": "markdown",
   "source": [
    "And run for 1000 times:"
   ],
   "metadata": {
    "collapsed": false
   }
  },
  {
   "cell_type": "code",
   "execution_count": null,
   "outputs": [],
   "source": [
    "def run_lowest_fail(times, debug=False):\n",
    "    acc_tp, acc_fp = 0, 0\n",
    "\n",
    "    for _ in tqdm(range(times)):\n",
    "        default_test, default_slices = prepare_hw(make_t_test, ascad.default.profile)\n",
    "        random_test, random_slices = prepare_hw(make_t_test, ascad.random.profile)\n",
    "\n",
    "        p_value = lowest_fail(default_test, default_slices)\n",
    "\n",
    "        if debug:\n",
    "            print(f\"p-value: {p_value}\\n\")\n",
    "\n",
    "        tvla_default = tvla(default_test, default_slices[0], default_slices[1], p=p_value, debug=debug)\n",
    "        if debug:\n",
    "            print(\"Default TVLA:\", tvla_default, \"\\n\")\n",
    "\n",
    "        tvla_random = tvla(random_test, random_slices[0], random_slices[1], p=p_value, debug=debug)\n",
    "        if debug:\n",
    "            print(\"Random TVLA:\", tvla_random, \"\\n\")\n",
    "\n",
    "        acc_tp += tvla_default[0] * (not tvla_default[1])\n",
    "        acc_fp += tvla_random[0] * (not tvla_random[1])\n",
    "\n",
    "    return acc_tp, acc_fp\n",
    "\n",
    "run_lowest_fail(1)"
   ],
   "metadata": {
    "collapsed": false,
    "pycharm": {
     "name": "#%%\n"
    }
   }
  },
  {
   "cell_type": "markdown",
   "source": [
    "Example result for 1000 runs: `(427, 65)`"
   ],
   "metadata": {
    "collapsed": false
   }
  },
  {
   "cell_type": "markdown",
   "source": [
    "#### Solution 2\n",
    "\n",
    "Taking more than 1 random slice. `TODO`\n"
   ],
   "metadata": {
    "collapsed": false
   }
  }
 ],
 "metadata": {
  "kernelspec": {
   "display_name": "Python 3",
   "language": "python",
   "name": "python3"
  },
  "language_info": {
   "codemirror_mode": {
    "name": "ipython",
    "version": 2
   },
   "file_extension": ".py",
   "mimetype": "text/x-python",
   "name": "python",
   "nbconvert_exporter": "python",
   "pygments_lexer": "ipython2",
   "version": "2.7.6"
  }
 },
 "nbformat": 4,
 "nbformat_minor": 0
}