{
 "cells": [
  {
   "cell_type": "markdown",
   "metadata": {
    "collapsed": true,
    "pycharm": {
     "name": "#%% md\n"
    }
   },
   "source": [
    "### Based on the paper from Goodwill et al."
   ]
  },
  {
   "cell_type": "code",
   "execution_count": 1,
   "outputs": [
    {
     "data": {
      "text/plain": "array([[127, 126, 128, ..., 127, 127, 128],\n       [128, 127, 126, ..., 128, 126, 127],\n       [128, 128, 127, ..., 129, 126, 127],\n       ...,\n       [127, 128, 127, ..., 127, 127, 129],\n       [127, 127, 127, ..., 128, 129, 128],\n       [126, 128, 127, ..., 127, 127, 127]], dtype=uint8)"
     },
     "execution_count": 1,
     "metadata": {},
     "output_type": "execute_result"
    }
   ],
   "source": [
    "import math\n",
    "import os\n",
    "import h5py\n",
    "\n",
    "import numpy as np\n",
    "import pandas as pd\n",
    "import seaborn as sns\n",
    "from numpy.testing import assert_almost_equal\n",
    "from scipy import stats\n",
    "from tqdm import tqdm\n",
    "from src.tools.cache import get_cache, cache_np\n",
    "from src.tools.plotter import shadow_plot\n",
    "\n",
    "from src.tools.traceloader import ASCAD, TraceCategory\n",
    "\n",
    "sns.set_style(\"whitegrid\")\n",
    "\n",
    "trace_len = 50\n",
    "sample_size = 350\n",
    "\n",
    "def gen_trace(key=0, mu=128):\n",
    "    return np.array([np.random.normal(mu + (key/256 - 1), 1, trace_len) for _ in range(sample_size)], dtype=np.uint8)\n",
    "\n",
    "def gen_mask_trace(mu=128):\n",
    "    random_keys = np.random.uniform(0, 256, sample_size) / 256\n",
    "\n",
    "    return np.array([np.random.normal(mu + (rk - 1), 1, trace_len) for rk in random_keys], dtype=np.uint8)\n",
    "\n",
    "tg_a1 = gen_trace(0)\n",
    "tg_a2 = gen_trace(256)\n",
    "tg_b = gen_mask_trace()\n",
    "\n",
    "gen_mask_trace()"
   ],
   "metadata": {
    "collapsed": false,
    "pycharm": {
     "name": "#%%\n"
    }
   }
  },
  {
   "cell_type": "code",
   "execution_count": 2,
   "outputs": [],
   "source": [
    "def device_fails(left: np.array, right: np.array):\n",
    "    return np.array(left * right).any()\n",
    "\n",
    "def stats_t_test(a, b, p=.95):\n",
    "    return stats.ttest_ind(a, b, equal_var=False)[1] > p\n",
    "\n",
    "def gen_rvs(mean=5):\n",
    "    return lambda: np.array([stats.norm.rvs(loc=mean,scale=.1,size=50) for _ in range(50)])"
   ],
   "metadata": {
    "collapsed": false,
    "pycharm": {
     "name": "#%%\n"
    }
   }
  },
  {
   "cell_type": "code",
   "execution_count": 113,
   "outputs": [],
   "source": [
    "def gen_ctable(sample):\n",
    "    return np.array([np.bincount(t, minlength=256) for t in sample])\n",
    "\n",
    "def ctable_mv(ctable: np.array, num_observations: int):\n",
    "    \"\"\"\n",
    "    Calculates the mean and variance from a contingency table with a corresponding number of observations.\n",
    "    \"\"\"\n",
    "    # Using 128-bit floats prevents some rounding errors when comparing with the np implementation of var and mean.\n",
    "    ixs = np.arange(0, len(ctable), dtype=np.float128)\n",
    "\n",
    "    mu = (ctable * ixs).sum() / num_observations\n",
    "    sigma2 = ((ctable * ixs ** 2).sum() / num_observations) - (mu ** 2)\n",
    "\n",
    "    return mu, sigma2"
   ],
   "metadata": {
    "collapsed": false,
    "pycharm": {
     "name": "#%%\n"
    }
   }
  },
  {
   "cell_type": "code",
   "execution_count": 114,
   "outputs": [],
   "source": [
    "trc = np.array([round(np.random.uniform(0, 255)) for _ in range(100000)])\n",
    "trc_mv = ctable_mv(np.bincount(trc, minlength=256), len(trc))\n",
    "\n",
    "# Compare with actual mean and variance\n",
    "assert_almost_equal(trc_mv, (trc.mean(), trc.var()))"
   ],
   "metadata": {
    "collapsed": false,
    "pycharm": {
     "name": "#%%\n"
    }
   }
  },
  {
   "cell_type": "code",
   "execution_count": 328,
   "outputs": [
    {
     "data": {
      "text/plain": "(2, 50, 2)"
     },
     "execution_count": 328,
     "metadata": {},
     "output_type": "execute_result"
    }
   ],
   "source": [
    "def get_mv(samples):\n",
    "    return np.array([np.moveaxis(np.array([s.mean(axis=0), s.var(axis=0)]), 0, 1) for s in samples.astype(np.float128)])\n",
    "\n",
    "sps = np.array([gen_trace(5), gen_trace(5)])\n",
    "get_mv(sps).shape"
   ],
   "metadata": {
    "collapsed": false,
    "pycharm": {
     "name": "#%%\n"
    }
   }
  },
  {
   "cell_type": "code",
   "execution_count": 406,
   "outputs": [
    {
     "name": "stdout",
     "output_type": "stream",
     "text": [
      "Should be larger than 0 for the assertion to make sense: (3).\n"
     ]
    }
   ],
   "source": [
    "def make_t_test_mv(n):\n",
    "    def test(a, b, p):\n",
    "        ma, sa = a\n",
    "        mb, sb = b\n",
    "\n",
    "        s = np.sqrt((sa + sb) / 2)\n",
    "        t = (ma - mb)/(s * np.sqrt(2 / n))\n",
    "        dof = 2 * n - 2\n",
    "\n",
    "        t_abs = np.abs(t).astype(np.float64)\n",
    "        return stats.distributions.t.sf(t_abs, dof) * 2 > p\n",
    "\n",
    "    return test\n",
    "\n",
    "t_mv = [make_t_test_mv(350)(*mv, .95) for mv in np.moveaxis(get_mv(sps), 0, 1)]\n",
    "t_base = np.array(stats.stats.ttest_ind(*sps)[1] > .95)\n",
    "\n",
    "print(f\"Should be larger than 0 for the assertion to make sense: ({sum(t_mv)}).\")\n",
    "assert_almost_equal(t_mv, t_base)"
   ],
   "metadata": {
    "collapsed": false,
    "pycharm": {
     "name": "#%%\n"
    }
   }
  },
  {
   "cell_type": "code",
   "execution_count": 3,
   "outputs": [],
   "source": [
    "def tvla(test, samples_a, samples_b, p=.95):\n",
    "    \"\"\"\n",
    "    Applies some given statistical test against the given samples.\n",
    "\n",
    "    @param test: statistical test function that takes two samples and returns test values.\n",
    "    @param samples_a: Four sample sets containing s samples representing a power trace of length t.\n",
    "    @param samples_b: Two sample sets containing s samples representing a power trace of length t.\n",
    "    @param p: Decide whether a device fails using (100 * p)%-confidence interval.\n",
    "    @return: Whether the device fails on (A against A, A against B).\n",
    "    \"\"\"\n",
    "    # Four different samples from distribution A.\n",
    "    a, b, c, d = samples_a\n",
    "    # Two different samples from distribution B.\n",
    "    x, y = samples_b\n",
    "\n",
    "    # Test A against A.\n",
    "    aa1 = test(a, c, p)\n",
    "    aa2 = test(b, d, p)\n",
    "\n",
    "    # Test A against B.\n",
    "    ab1 = test(a, x, p)\n",
    "    ab2 = test(b, y, p)\n",
    "\n",
    "    return device_fails(aa1, aa2), device_fails(ab1, ab2)"
   ],
   "metadata": {
    "collapsed": false,
    "pycharm": {
     "name": "#%%\n"
    }
   }
  },
  {
   "cell_type": "code",
   "execution_count": 403,
   "outputs": [
    {
     "data": {
      "text/plain": "(False, False)"
     },
     "execution_count": 403,
     "metadata": {},
     "output_type": "execute_result"
    }
   ],
   "source": [
    "tvla(stats_t_test, [gen_rvs(5)() for _ in range(4)], (gen_rvs(6)(), gen_rvs(6)()))"
   ],
   "metadata": {
    "collapsed": false,
    "pycharm": {
     "name": "#%%\n"
    }
   }
  },
  {
   "cell_type": "code",
   "execution_count": 67,
   "outputs": [
    {
     "data": {
      "text/plain": "array([2, 3])"
     },
     "execution_count": 67,
     "metadata": {},
     "output_type": "execute_result"
    }
   ],
   "source": [
    "def bench(test, gen_one, gen_two, total=20, progress=False):\n",
    "    acc = np.array([(False, False)] * total)\n",
    "    it = range(total)\n",
    "    if progress:\n",
    "        it = tqdm(it)\n",
    "\n",
    "    for ix in it:\n",
    "        acc[ix] = tvla(test, [gen_one() for _ in range(4)], (gen_two(), gen_two()))\n",
    "\n",
    "    return np.array(acc).sum(axis=0)\n",
    "\n",
    "bench(stats_t_test, gen_rvs(5), gen_rvs(5))"
   ],
   "metadata": {
    "collapsed": false,
    "pycharm": {
     "name": "#%%\n"
    }
   }
  },
  {
   "cell_type": "code",
   "execution_count": 61,
   "outputs": [
    {
     "data": {
      "text/plain": "array([3, 0])"
     },
     "execution_count": 61,
     "metadata": {},
     "output_type": "execute_result"
    }
   ],
   "source": [
    "bench(stats_t_test, gen_rvs(5), gen_rvs(5.1))"
   ],
   "metadata": {
    "collapsed": false,
    "pycharm": {
     "name": "#%%\n"
    }
   }
  },
  {
   "cell_type": "code",
   "execution_count": 62,
   "outputs": [
    {
     "data": {
      "text/plain": "array([4, 0])"
     },
     "execution_count": 62,
     "metadata": {},
     "output_type": "execute_result"
    }
   ],
   "source": [
    "bench(stats_t_test, gen_rvs(5), gen_rvs(100))"
   ],
   "metadata": {
    "collapsed": false,
    "pycharm": {
     "name": "#%%\n"
    }
   }
  },
  {
   "cell_type": "code",
   "execution_count": 63,
   "outputs": [
    {
     "data": {
      "text/plain": "array([2, 0])"
     },
     "execution_count": 63,
     "metadata": {},
     "output_type": "execute_result"
    }
   ],
   "source": [
    "bench(stats_t_test, gen_trace, gen_mask_trace)"
   ],
   "metadata": {
    "collapsed": false,
    "pycharm": {
     "name": "#%%\n"
    }
   }
  },
  {
   "cell_type": "code",
   "execution_count": 7,
   "outputs": [],
   "source": [
    "ascad = ASCAD()"
   ],
   "metadata": {
    "collapsed": false,
    "pycharm": {
     "name": "#%%\n"
    }
   }
  },
  {
   "cell_type": "code",
   "execution_count": 8,
   "outputs": [],
   "source": [
    "def smote(trace_categories, target_size, dtype=np.uint8):\n",
    "    def get_point(traces):\n",
    "        t_shape = traces.shape\n",
    "        x, y = 0, 0\n",
    "        while x == y:\n",
    "            x, y = np.random.randint(t_shape[0]), np.random.randint(t_shape[0])\n",
    "\n",
    "        smoted_diff = (np.array(traces[y], dtype=int) - np.array(traces[x], dtype=int)) * np.random.uniform(size=t_shape[1])\n",
    "        smoted_diff = np.array([np.array(t, dtype=dtype) for t in smoted_diff])\n",
    "\n",
    "        return traces[x] + smoted_diff\n",
    "\n",
    "    acc = []\n",
    "\n",
    "    for c_ix, category in enumerate(trace_categories):\n",
    "        res = np.zeros((len(category), target_size, category[0].shape[1]), dtype=dtype)\n",
    "\n",
    "        for s_ix, trace_slice in enumerate(category):\n",
    "            app = [get_point(trace_slice) for _ in range(target_size - len(trace_slice))]\n",
    "\n",
    "            if len(app) > 0:\n",
    "                res[s_ix] = np.concatenate((trace_slice, app))\n",
    "            else:\n",
    "                res[s_ix] = trace_slice\n",
    "\n",
    "        acc.append(res)\n",
    "\n",
    "    return acc"
   ],
   "metadata": {
    "collapsed": false,
    "pycharm": {
     "name": "#%%\n"
    }
   }
  },
  {
   "cell_type": "code",
   "execution_count": 9,
   "outputs": [
    {
     "name": "stderr",
     "output_type": "stream",
     "text": [
      "Slicing up traces: 100%|██████████| 1/1 [00:00<00:00, 260.24it/s]\n",
      "SMOTEing traces: 100%|██████████| 1/1 [00:00<00:00,  1.17it/s]\n",
      "Generating contingency tables:   0%|          | 0/1 [00:00<?, ?it/s]\n"
     ]
    },
    {
     "ename": "KeyboardInterrupt",
     "evalue": "",
     "output_type": "error",
     "traceback": [
      "\u001B[0;31m---------------------------------------------------------------------------\u001B[0m",
      "\u001B[0;31mKeyboardInterrupt\u001B[0m                         Traceback (most recent call last)",
      "\u001B[0;32m<ipython-input-9-fa92df290325>\u001B[0m in \u001B[0;36m<module>\u001B[0;34m\u001B[0m\n\u001B[1;32m     57\u001B[0m         \u001B[0mself\u001B[0m\u001B[0;34m.\u001B[0m\u001B[0mtables\u001B[0m \u001B[0;34m=\u001B[0m \u001B[0mres\u001B[0m\u001B[0;34m\u001B[0m\u001B[0;34m\u001B[0m\u001B[0m\n\u001B[1;32m     58\u001B[0m \u001B[0;34m\u001B[0m\u001B[0m\n\u001B[0;32m---> 59\u001B[0;31m \u001B[0mcts\u001B[0m \u001B[0;34m=\u001B[0m \u001B[0mCTableStore\u001B[0m\u001B[0;34m(\u001B[0m\u001B[0mascad\u001B[0m\u001B[0;34m.\u001B[0m\u001B[0mmasked\u001B[0m\u001B[0;34m.\u001B[0m\u001B[0mprofile\u001B[0m\u001B[0;34m,\u001B[0m \u001B[0;36m1\u001B[0m\u001B[0;34m)\u001B[0m\u001B[0;34m\u001B[0m\u001B[0;34m\u001B[0m\u001B[0m\n\u001B[0m\u001B[1;32m     60\u001B[0m \u001B[0;34m\u001B[0m\u001B[0m\n\u001B[1;32m     61\u001B[0m \u001B[0mtest_cts_split\u001B[0m \u001B[0;34m=\u001B[0m \u001B[0mnp\u001B[0m\u001B[0;34m.\u001B[0m\u001B[0marray\u001B[0m\u001B[0;34m(\u001B[0m\u001B[0;34m[\u001B[0m\u001B[0mi\u001B[0m\u001B[0;34m[\u001B[0m\u001B[0;36m0\u001B[0m\u001B[0;34m]\u001B[0m \u001B[0;32mfor\u001B[0m \u001B[0mi\u001B[0m \u001B[0;32min\u001B[0m \u001B[0mcts\u001B[0m\u001B[0;34m.\u001B[0m\u001B[0mslices\u001B[0m\u001B[0;34m[\u001B[0m\u001B[0;36m0\u001B[0m\u001B[0;34m]\u001B[0m\u001B[0;34m[\u001B[0m\u001B[0;36m0\u001B[0m\u001B[0;34m]\u001B[0m\u001B[0;34m[\u001B[0m\u001B[0;36m0\u001B[0m\u001B[0;34m]\u001B[0m\u001B[0;34m]\u001B[0m\u001B[0;34m)\u001B[0m\u001B[0;34m\u001B[0m\u001B[0;34m\u001B[0m\u001B[0m\n",
      "\u001B[0;32m<ipython-input-9-fa92df290325>\u001B[0m in \u001B[0;36m__init__\u001B[0;34m(self, tc, num_keys)\u001B[0m\n\u001B[1;32m     25\u001B[0m \u001B[0;34m\u001B[0m\u001B[0m\n\u001B[1;32m     26\u001B[0m         \u001B[0mself\u001B[0m\u001B[0;34m.\u001B[0m\u001B[0mtables\u001B[0m \u001B[0;34m=\u001B[0m \u001B[0;34m{\u001B[0m\u001B[0;34m}\u001B[0m\u001B[0;34m\u001B[0m\u001B[0;34m\u001B[0m\u001B[0m\n\u001B[0;32m---> 27\u001B[0;31m         \u001B[0mself\u001B[0m\u001B[0;34m.\u001B[0m\u001B[0mgen_tables\u001B[0m\u001B[0;34m(\u001B[0m\u001B[0;34m)\u001B[0m\u001B[0;34m\u001B[0m\u001B[0;34m\u001B[0m\u001B[0m\n\u001B[0m\u001B[1;32m     28\u001B[0m \u001B[0;34m\u001B[0m\u001B[0m\n\u001B[1;32m     29\u001B[0m     \u001B[0;32mdef\u001B[0m \u001B[0mgen_slices\u001B[0m\u001B[0;34m(\u001B[0m\u001B[0mself\u001B[0m\u001B[0;34m)\u001B[0m\u001B[0;34m:\u001B[0m\u001B[0;34m\u001B[0m\u001B[0;34m\u001B[0m\u001B[0m\n",
      "\u001B[0;32m<ipython-input-9-fa92df290325>\u001B[0m in \u001B[0;36mgen_tables\u001B[0;34m(self)\u001B[0m\n\u001B[1;32m     53\u001B[0m                     \u001B[0mts\u001B[0m \u001B[0;34m=\u001B[0m \u001B[0mnp\u001B[0m\u001B[0;34m.\u001B[0m\u001B[0mmoveaxis\u001B[0m\u001B[0;34m(\u001B[0m\u001B[0mtrace_slice\u001B[0m\u001B[0;34m,\u001B[0m \u001B[0;36m0\u001B[0m\u001B[0;34m,\u001B[0m \u001B[0;34m-\u001B[0m\u001B[0;36m1\u001B[0m\u001B[0;34m)\u001B[0m\u001B[0;34m\u001B[0m\u001B[0;34m\u001B[0m\u001B[0m\n\u001B[1;32m     54\u001B[0m                     res[k][c][s] = np.array(\n\u001B[0;32m---> 55\u001B[0;31m                         [np.array(np.bincount(t, minlength=256), dtype=self.table_type) for t in ts])\n\u001B[0m\u001B[1;32m     56\u001B[0m \u001B[0;34m\u001B[0m\u001B[0m\n\u001B[1;32m     57\u001B[0m         \u001B[0mself\u001B[0m\u001B[0;34m.\u001B[0m\u001B[0mtables\u001B[0m \u001B[0;34m=\u001B[0m \u001B[0mres\u001B[0m\u001B[0;34m\u001B[0m\u001B[0;34m\u001B[0m\u001B[0m\n",
      "\u001B[0;32m<ipython-input-9-fa92df290325>\u001B[0m in \u001B[0;36m<listcomp>\u001B[0;34m(.0)\u001B[0m\n\u001B[1;32m     53\u001B[0m                     \u001B[0mts\u001B[0m \u001B[0;34m=\u001B[0m \u001B[0mnp\u001B[0m\u001B[0;34m.\u001B[0m\u001B[0mmoveaxis\u001B[0m\u001B[0;34m(\u001B[0m\u001B[0mtrace_slice\u001B[0m\u001B[0;34m,\u001B[0m \u001B[0;36m0\u001B[0m\u001B[0;34m,\u001B[0m \u001B[0;34m-\u001B[0m\u001B[0;36m1\u001B[0m\u001B[0;34m)\u001B[0m\u001B[0;34m\u001B[0m\u001B[0;34m\u001B[0m\u001B[0m\n\u001B[1;32m     54\u001B[0m                     res[k][c][s] = np.array(\n\u001B[0;32m---> 55\u001B[0;31m                         [np.array(np.bincount(t, minlength=256), dtype=self.table_type) for t in ts])\n\u001B[0m\u001B[1;32m     56\u001B[0m \u001B[0;34m\u001B[0m\u001B[0m\n\u001B[1;32m     57\u001B[0m         \u001B[0mself\u001B[0m\u001B[0;34m.\u001B[0m\u001B[0mtables\u001B[0m \u001B[0;34m=\u001B[0m \u001B[0mres\u001B[0m\u001B[0;34m\u001B[0m\u001B[0;34m\u001B[0m\u001B[0m\n",
      "\u001B[0;32m<__array_function__ internals>\u001B[0m in \u001B[0;36mbincount\u001B[0;34m(*args, **kwargs)\u001B[0m\n",
      "\u001B[0;31mKeyboardInterrupt\u001B[0m: "
     ]
    }
   ],
   "source": [
    "class CTableStore:\n",
    "    def __init__(self, tc: TraceCategory, num_keys=256):\n",
    "        self.tc = tc\n",
    "        self.num_keys = num_keys\n",
    "        self.size = max([math.ceil(len(self.tc.filter_traces(k)) / 2) for k in range(self.num_keys)])\n",
    "\n",
    "        t_max = max([self.tc.filter_traces(k).max() for k in range(self.num_keys)]) + 128\n",
    "        t_min = min([self.tc.filter_traces(k).min() for k in range(self.num_keys)]) + 128\n",
    "\n",
    "        self.trace_type = np.uint8\n",
    "        # Maximum value of trace should be lower than the capacity of uint8.\n",
    "        assert t_min > 0\n",
    "        assert t_max < np.iinfo(self.trace_type).max\n",
    "\n",
    "        self.table_type = np.uint16\n",
    "        # Maximum value of bincount should be lower than the capacity of uint16.\n",
    "        assert self.size < np.iinfo(self.table_type).max\n",
    "\n",
    "        self.slices = {}\n",
    "        self.gen_slices()\n",
    "\n",
    "        self.smoted = {}\n",
    "        for k in tqdm(range(self.num_keys), \"SMOTEing traces\"):\n",
    "            self.smoted[k] = np.array(smote(self.slices[k], self.size, self.trace_type))\n",
    "\n",
    "        self.tables = {}\n",
    "        self.gen_tables()\n",
    "\n",
    "    def gen_slices(self):\n",
    "        res = {}\n",
    "\n",
    "        for k in tqdm(range(self.num_keys), \"Slicing up traces\"):\n",
    "            ts = self.tc.filter_traces(k) + 128\n",
    "            uts = np.array([np.array(t, dtype=self.trace_type) for t in ts])\n",
    "\n",
    "            np.random.shuffle(uts)\n",
    "            ts4 = np.array(np.array_split(uts.copy(), 4))\n",
    "            np.random.shuffle(uts)\n",
    "            ts2 = np.array(np.array_split(uts, 2))\n",
    "\n",
    "            res[k] = np.array([ts4, ts2])\n",
    "\n",
    "        self.slices = res\n",
    "\n",
    "    def gen_tables(self):\n",
    "        res = {}\n",
    "\n",
    "        for k in tqdm(range(self.num_keys), \"Generating contingency tables\"):\n",
    "            res[k] = {}\n",
    "            for c, category in enumerate(self.smoted[k]):\n",
    "                res[k][c] = {}\n",
    "                for s, trace_slice in enumerate(category):\n",
    "                    ts = np.moveaxis(trace_slice, 0, -1)\n",
    "                    res[k][c][s] = np.array(\n",
    "                        [np.array(np.bincount(t, minlength=256), dtype=self.table_type) for t in ts])\n",
    "\n",
    "        self.tables = res\n",
    "\n",
    "cts = CTableStore(ascad.masked.profile, 1)\n",
    "\n",
    "test_cts_split = np.array([i[0] for i in cts.slices[0][0][0]])\n",
    "test_cts_data = np.array([i[0] for i in cts.smoted[0][0][0]])\n",
    "\n",
    "sns.lineplot(data=pd.DataFrame(zip(np.bincount(test_cts_split)[-6:], np.bincount(test_cts_data)[-6:]), columns=[\"Source\", \"Smoted result\"]))\n",
    "\n",
    "assert np.all(cts.tables[0][0][0][0] == np.bincount(test_cts_data, minlength=256))"
   ],
   "metadata": {
    "collapsed": false,
    "pycharm": {
     "name": "#%%\n"
    }
   }
  },
  {
   "cell_type": "code",
   "execution_count": null,
   "outputs": [],
   "source": [
    "def cache_cts(name: str, t_cat: TraceCategory):\n",
    "    fname = f'{get_cache()}/{name}.hdf5'\n",
    "\n",
    "    if not os.path.exists(fname):\n",
    "        f = h5py.File(fname, 'a')\n",
    "\n",
    "        ct = CTableStore(t_cat)\n",
    "        for k, key in tqdm(ct.tables.items(), \"Storing tables\"):\n",
    "            for c, category in key.items():\n",
    "                grp = f.create_group(f\"key_{str(k).zfill(3)}/cat_{c}\")\n",
    "                for t, trace_slice in category.items():\n",
    "                    arr = np.array([sp.astype(np.uint16) for sp in trace_slice])\n",
    "                    grp.create_dataset(f\"slice_{t}\", data=arr)\n",
    "\n",
    "        f.close()\n",
    "\n",
    "    return h5py.File(fname, 'r')\n",
    "\n",
    "ct_default = cache_cts(\"ctable/ascad_default\", ascad.default.profile)\n",
    "ct_random = cache_cts(\"ctable/ascad_random\", ascad.random.profile)\n",
    "ct_mask = cache_cts(\"ctable/ascad_mask\", ascad.masked.profile)"
   ],
   "metadata": {
    "collapsed": false,
    "pycharm": {
     "name": "#%%\n"
    }
   }
  },
  {
   "cell_type": "code",
   "execution_count": null,
   "outputs": [],
   "source": [
    "def get_num_observations(f: h5py.File):\n",
    "    return f[\"key_000\"][\"cat_0\"][\"slice_0\"][0].sum()\n",
    "\n",
    "def get_trace_len(f: h5py.File):\n",
    "    return len(f[\"key_000\"][\"cat_0\"][\"slice_0\"])\n",
    "\n",
    "def get_mv(f: h5py.File):\n",
    "    num_obs = get_num_observations(f)\n",
    "    slice_len = get_trace_len(f)\n",
    "\n",
    "    def convert(sample_pts: np.array):\n",
    "        arr = np.array([np.zeros(2, dtype=np.float128)] * slice_len)\n",
    "        for sp, sample_pt in enumerate(sample_pts):\n",
    "            arr[sp] = np.array(ctable_mv(sample_pt, num_obs))\n",
    "\n",
    "        return arr\n",
    "\n",
    "    return np.array(\n",
    "        [np.array(\n",
    "            [np.array(\n",
    "                [convert(f[k][c][s]) for s in f[k][c]])\n",
    "            for c in f[k]])\n",
    "        for k in tqdm(f, \"Retrieving mean and variance\")])\n",
    "\n",
    "mv_default = cache_np(\"mv_ascad_default\", get_mv, ct_default)\n",
    "mv_random = cache_np(\"mv_ascad_random\", get_mv, ct_random)\n",
    "mv_masked = cache_np(\"mv_ascad_masked\", get_mv, ct_mask)"
   ],
   "metadata": {
    "collapsed": false,
    "pycharm": {
     "name": "#%%\n"
    }
   }
  },
  {
   "cell_type": "code",
   "execution_count": null,
   "outputs": [],
   "source": [
    "len(ct_default[\"key_000\"][\"cat_0\"][\"slice_0\"])"
   ],
   "metadata": {
    "collapsed": false,
    "pycharm": {
     "name": "#%%\n"
    }
   }
  },
  {
   "cell_type": "code",
   "execution_count": null,
   "outputs": [],
   "source": [
    "# Number of observations does not vary on the SMOTEd data.\n",
    "obs_default = get_num_observations(ct_default)\n",
    "obs_mask = get_num_observations(ct_mask)\n",
    "obs_random = get_num_observations(ct_random)"
   ],
   "metadata": {
    "collapsed": false,
    "pycharm": {
     "name": "#%%\n"
    }
   }
  },
  {
   "cell_type": "code",
   "execution_count": null,
   "outputs": [],
   "source": [
    "test_sample_pt = np.array([i[0] for i in cts.slices[0][0][0]])\n",
    "test_sample_pt_smote = np.array([i[0] for i in np.array(smote(cts.slices[0], 400)[0][0])])\n",
    "\n",
    "assert min(test_sample_pt) == min(test_sample_pt_smote)\n",
    "assert max(test_sample_pt) == max(test_sample_pt_smote)\n",
    "\n",
    "bc_spt = np.bincount(test_sample_pt + 128)[-5:]\n",
    "bc_spt_s = np.bincount(test_sample_pt_smote)[-5:]\n",
    "\n",
    "sns.lineplot(data=pd.DataFrame(zip(bc_spt, bc_spt_s), columns=[\"Source\", \"Smoted result\"]))"
   ],
   "metadata": {
    "collapsed": false,
    "pycharm": {
     "name": "#%%\n"
    }
   }
  },
  {
   "cell_type": "code",
   "source": [
    "g = sns.lineplot(data=pd.DataFrame(mv_default[0][0][0], columns=[\"Mean\", \"Variance\"]))\n",
    "g.set(title=\"Mean and variance of first key, category and slice.\\n\")"
   ],
   "metadata": {
    "collapsed": false,
    "pycharm": {
     "name": "#%%\n"
    }
   },
   "execution_count": null,
   "outputs": []
  },
  {
   "cell_type": "code",
   "execution_count": null,
   "outputs": [],
   "source": [
    "def make_left_right(stat_moments):\n",
    "    def get_left(k):\n",
    "        return stat_moments[k][1][0]\n",
    "\n",
    "    def get_right(k):\n",
    "        return stat_moments[k][1][1]\n",
    "\n",
    "    return get_left, get_right\n",
    "\n",
    "def get_diff(stat_moments, key_range=range(256)):\n",
    "    left, right = make_left_right(stat_moments)\n",
    "\n",
    "    kr = key_range\n",
    "\n",
    "    dist_neq = [abs(left(i) - right(j)) for i in kr for j in kr if i != j]\n",
    "    dist_eq = [abs(left(i) - right(i)) for i in kr]\n",
    "\n",
    "    return np.mean(dist_neq, axis=0) - np.mean(dist_eq, axis=0)\n",
    "\n",
    "def plot_highest_diff(mvs, title):\n",
    "    key_selected = get_max_index(heat)\n",
    "    mv_diff = dict(zip([\"Mean\", \"Variance\"], np.moveaxis(get_diff(mvs, key_selected), 0, -1)))\n",
    "    shadow_plot(mv_diff, split_y=True, title=title)\n",
    "    shadow_plot(mv_diff, split_y=True, xlim=(40, 100), title=f\"{title} for a PoI\")"
   ],
   "metadata": {
    "collapsed": false,
    "pycharm": {
     "name": "#%%\n"
    }
   }
  },
  {
   "cell_type": "markdown",
   "source": [
    "# Investigate dataset."
   ],
   "metadata": {
    "collapsed": false
   }
  },
  {
   "cell_type": "code",
   "execution_count": null,
   "outputs": [],
   "source": [
    "mv_selected = mv_random"
   ],
   "metadata": {
    "collapsed": false,
    "pycharm": {
     "name": "#%%\n"
    }
   }
  },
  {
   "cell_type": "code",
   "execution_count": null,
   "outputs": [],
   "source": [
    "def get_num_moments(stat_moments):\n",
    "    return len(stat_moments[0][0][0][0])\n",
    "\n",
    "def get_heatmap(stat_moments):\n",
    "    num_moments = get_num_moments(stat_moments)\n",
    "    num_keys = len(stat_moments)\n",
    "\n",
    "    res = np.zeros((num_keys, num_keys, num_moments), dtype=np.float128)\n",
    "    for i in tqdm(range(num_keys)):\n",
    "        for j in range(num_keys):\n",
    "            if i == j:\n",
    "                res[i][j] = np.array([0] * num_moments)\n",
    "            else:\n",
    "                diff = get_diff(mv_default, [i, j])\n",
    "                diff[np.less(diff, 0)] = 0\n",
    "                # Difference ratio over the rest of the trace\n",
    "                res[i][j] = diff[50:70].sum(axis=0) / diff.sum(axis=0)\n",
    "\n",
    "    return res\n",
    "\n",
    "heat = get_heatmap(mv_selected)"
   ],
   "metadata": {
    "collapsed": false,
    "pycharm": {
     "name": "#%%\n"
    }
   }
  },
  {
   "cell_type": "code",
   "execution_count": null,
   "outputs": [],
   "source": [
    "def get_heat_moment(heatmap, moment):\n",
    "    return np.moveaxis(heatmap, 2, 0)[moment]\n",
    "\n",
    "def plot_heatmap(heatmap):\n",
    "    mean = get_heat_moment(heatmap, 0)\n",
    "    mean_norm = mean / mean.max()\n",
    "    sns.heatmap(data=mean_norm)\n",
    "\n",
    "plot_heatmap(heat)"
   ],
   "metadata": {
    "collapsed": false,
    "pycharm": {
     "name": "#%%\n"
    }
   }
  },
  {
   "cell_type": "code",
   "execution_count": null,
   "outputs": [],
   "source": [
    "def get_max_index(heatmap, moment=0):\n",
    "    heat_moment = get_heat_moment(heatmap, moment)\n",
    "    return np.unravel_index(heat_moment.argmax(), heat_moment.shape)\n",
    "\n",
    "get_max_index(heat)"
   ],
   "metadata": {
    "collapsed": false,
    "pycharm": {
     "name": "#%%\n"
    }
   }
  },
  {
   "cell_type": "markdown",
   "source": [
    "## Problem statement\n",
    "\n",
    "1. There is a first-order moment leakage visible in the standard ASCAD random-keys database.\n",
    "2. This leakage is not visible in the masked-key and shuffled variants of this database.\n",
    "3. The performance in terms of TP/FP rate is better for the masked-key and shuffled variants than it is for the\n",
    "standard database.\n",
    "4. It does not matter where the Point of Interest is located, while I would suspect that the performance varies for the\n",
    "location of the PoI and that performance would be better in areas with a high moment difference.\n",
    "\n",
    "#### Possible solutions (in order of likelihood):\n",
    "1. There is a bug in the TVLA method.\n",
    "2. There is a bug in the T-Test.\n",
    "3. There is something fundamentally flawed with my understanding of the ASCAD database."
   ],
   "metadata": {
    "collapsed": false,
    "pycharm": {
     "name": "#%% md\n"
    }
   }
  },
  {
   "cell_type": "markdown",
   "source": [
    "### Moment differences for each dataset.\n",
    "\n",
    "The moment difference calculated as follows:\n",
    "- Take keys $k_a$ and $k_b$, and their mean (first-order statistical moment) $\\mu_a$ and $\\mu_b$ per sample point.\n",
    "- The euclidean distance between means from equal key $\\eta = $ dist($\\mu_{a}, \\mu_b$) where $a = b$\n",
    "- The euclidean distance between means from different key $\\delta = $ dist($\\mu_{a}, \\mu_b$) where $a \\neq b$\n",
    "- Then the moment difference is $\\eta - \\delta$.\n",
    "\n",
    "A positive moment difference reflects larger differences between equal keys and lower differences between different\n",
    "keys, possibly indicating a leakage in this order of statistical moment."
   ],
   "metadata": {
    "collapsed": false,
    "pycharm": {
     "name": "#%% md\n"
    }
   }
  },
  {
   "cell_type": "code",
   "execution_count": null,
   "outputs": [],
   "source": [
    "plot_highest_diff(mv_default, \"Standard ASCAD random-key\")\n",
    "plot_highest_diff(mv_masked, \"ASCAD random-key (3rd key byte)\")\n",
    "plot_highest_diff(mv_random, \"ASCAD random-key shuffled\")"
   ],
   "metadata": {
    "collapsed": false,
    "pycharm": {
     "name": "#%%\n"
    }
   }
  },
  {
   "cell_type": "code",
   "execution_count": null,
   "outputs": [],
   "source": [
    "def t_test_prep(left_moments, right_moments, num_samples):\n",
    "    num = left_moments[0] - right_moments[0]\n",
    "    den = ((left_moments[1] + right_moments[1]) / num_samples) ** .5\n",
    "\n",
    "    return np.array(num / den)\n",
    "\n",
    "tmp_ts = gen_trace(), gen_trace()\n",
    "\n",
    "assert_almost_equal(t_test(*tmp_ts), t_test_prep(*[(t.mean(axis=0), t.var(axis=0)) for t in tmp_ts], len(tmp_ts[0])))"
   ],
   "metadata": {
    "collapsed": false,
    "pycharm": {
     "name": "#%%\n"
    }
   }
  },
  {
   "cell_type": "code",
   "execution_count": null,
   "outputs": [],
   "source": [
    "def tvla_prep(mvs, key_left, key_right, num_obs, poi=(None, None)):\n",
    "    mvs_left, mvs_right = mvs[key_left], mvs[key_right]\n",
    "\n",
    "    def at_poi(t):\n",
    "        return t[poi[0]:poi[1]]\n",
    "\n",
    "    a, b, c, d = np.moveaxis(mvs_left[0], 2, 1)\n",
    "    x, y = np.moveaxis(mvs_right[1], 2, 1)\n",
    "\n",
    "    tk1 = abs(np.array(t_test_prep(a, c, num_obs)))\n",
    "    tk2 = abs(np.array(t_test_prep(b, d, num_obs)))\n",
    "    tm1 = abs(np.array(t_test_prep(a, x, num_obs)))\n",
    "    tm2 = abs(np.array(t_test_prep(b, y, num_obs)))\n",
    "\n",
    "    confidence = np.percentile(np.array([*tk1, *tk2, *tm1, *tm2]).flatten(), 95)\n",
    "\n",
    "    fail_eq = device_fails(at_poi(tk1), at_poi(tk2), confidence)\n",
    "    fail_diff = device_fails(at_poi(tm1), at_poi(tm2), confidence)\n",
    "\n",
    "    return fail_eq, fail_diff, np.round(confidence, 3)\n",
    "\n",
    "tvla_prep(mv_default, *get_max_index(heat), obs_default, (50, 70))"
   ],
   "metadata": {
    "collapsed": false,
    "pycharm": {
     "name": "#%%\n"
    }
   }
  },
  {
   "cell_type": "code",
   "execution_count": null,
   "outputs": [],
   "source": [
    "def tvla_keys(mvs, num_obs, poi=(None, None)):\n",
    "    num_keys = len(mvs)\n",
    "    res = np.zeros((num_keys, num_keys, 3))\n",
    "\n",
    "    for i in tqdm(range(num_keys)):\n",
    "        for j in range(num_keys):\n",
    "            res[i][j] = tvla_prep(mvs, i, j, num_obs, poi)\n",
    "\n",
    "    return res\n",
    "\n",
    "tks = tvla_keys(mv_selected, obs_default, (50, 70))"
   ],
   "metadata": {
    "collapsed": false,
    "pycharm": {
     "name": "#%%\n"
    }
   }
  },
  {
   "cell_type": "code",
   "execution_count": null,
   "outputs": [],
   "source": [
    "def analyse_tvla(tvla_results, heatmap):\n",
    "    sums = np.zeros(8)\n",
    "\n",
    "    for k1, key_1 in enumerate(tvla_results):\n",
    "        for k2, key_2 in enumerate(key_1):\n",
    "            h = heatmap[k1][k2]\n",
    "            l, r, c = key_2\n",
    "\n",
    "            tp = l * (not r)\n",
    "            fp = r * (not l)\n",
    "            tph = h[0] * tp\n",
    "            fph = h[0] * fp\n",
    "\n",
    "            sums += np.array([*key_2, tp, fp, tph, fph, h[0]])\n",
    "\n",
    "    total = len(tvla_results) ** 2\n",
    "    print(f\"For a total of {total} key combinations: \\n\")\n",
    "\n",
    "    print(f\"Left fails  {int(sums[0])} times.\")\n",
    "    print(f\"Right fails {int(sums[1])} times. \\n\")\n",
    "\n",
    "    print(f\"True positives:  {int(sums[3])}\")\n",
    "    print(f\"False positives: {int(sums[4])} \\n\")\n",
    "\n",
    "    print(f\"Average mean diff: {sums[7] / total:.4f}\")\n",
    "    print(f\"Average mean diff for True positives:  {sums[5] / sums[0]:.4f}\")\n",
    "    print(f\"Average mean diff for False positives: {sums[6] / (total - sums[0]):.4f} \\n\")\n",
    "\n",
    "    print(f\"Average C = {sums[2] / total:.3f}\")\n",
    "\n",
    "analyse_tvla(tks, heat)"
   ],
   "metadata": {
    "collapsed": false,
    "pycharm": {
     "name": "#%%\n"
    }
   }
  },
  {
   "cell_type": "code",
   "execution_count": null,
   "outputs": [],
   "source": [
    "gen_trace().shape"
   ],
   "metadata": {
    "collapsed": false,
    "pycharm": {
     "name": "#%%\n"
    }
   }
  },
  {
   "cell_type": "code",
   "execution_count": null,
   "outputs": [],
   "source": [
    "def plot_longform(traces):\n",
    "    sns.set_style('whitegrid')\n",
    "\n",
    "    longform = []\n",
    "    for trace in traces:\n",
    "        for ix in range(len(trace)):\n",
    "            longform.append((ix, trace[ix]))\n",
    "\n",
    "    cols = [\"Sample point\", \"Power\"]\n",
    "    df = pd.DataFrame(longform, columns=cols)\n",
    "    sns.lineplot(data=df, x=cols[0], y=cols[1])"
   ],
   "metadata": {
    "collapsed": false,
    "pycharm": {
     "name": "#%%\n"
    }
   }
  },
  {
   "cell_type": "code",
   "execution_count": null,
   "outputs": [],
   "source": [
    "plot_longform(gen_trace(0))\n",
    "plot_longform(gen_mask_trace())\n",
    "plot_longform(gen_trace(256))"
   ],
   "metadata": {
    "collapsed": false,
    "pycharm": {
     "name": "#%%\n"
    }
   }
  }
 ],
 "metadata": {
  "kernelspec": {
   "display_name": "Python 3",
   "language": "python",
   "name": "python3"
  },
  "language_info": {
   "codemirror_mode": {
    "name": "ipython",
    "version": 2
   },
   "file_extension": ".py",
   "mimetype": "text/x-python",
   "name": "python",
   "nbconvert_exporter": "python",
   "pygments_lexer": "ipython2",
   "version": "2.7.6"
  }
 },
 "nbformat": 4,
 "nbformat_minor": 0
}