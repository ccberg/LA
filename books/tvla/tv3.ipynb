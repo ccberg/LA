{
 "cells": [
  {
   "cell_type": "markdown",
   "metadata": {},
   "source": [
    "### TVLA using min-$p$ as a performance measure."
   ]
  },
  {
   "cell_type": "code",
   "execution_count": 1,
   "metadata": {
    "pycharm": {
     "name": "#%%\n"
    }
   },
   "outputs": [],
   "source": [
    "import numpy as np\n",
    "import psutil\n",
    "from numpy.testing import assert_equal, assert_almost_equal\n",
    "from scipy.stats import t as stats_t\n",
    "from scipy.stats import ttest_ind\n",
    "import seaborn as sns"
   ]
  },
  {
   "cell_type": "code",
   "execution_count": 2,
   "metadata": {
    "pycharm": {
     "name": "#%%\n"
    }
   },
   "outputs": [],
   "source": [
    "from tqdm import tqdm\n",
    "from src.tools.plotter import plot_p_gradient, plot_accu\n",
    "def make_t_test(n: int):\n",
    "    \"\"\"\n",
    "    Returns a t-test that takes the sample mean and variance for a list of sample points from A, and a list of sample\n",
    "    points for B.\n",
    "    \"\"\"\n",
    "    n_sqrt = np.sqrt(n)\n",
    "    nmm = n - 1\n",
    "\n",
    "    def welch_t_test(a: np.array, b: np.array):\n",
    "        mean_a, var_a = a\n",
    "        mean_b, var_b = b\n",
    "\n",
    "        # Prevent division by 0 errors\n",
    "        var_a += .001\n",
    "        var_b += .001\n",
    "\n",
    "        m = mean_a - mean_b\n",
    "        s = np.sqrt(var_a + var_b) / n_sqrt\n",
    "\n",
    "        t = m / s\n",
    "\n",
    "        dof = (var_a + var_b) ** 2 / ((var_a ** 2 + var_b ** 2) / nmm)\n",
    "\n",
    "        p = 2 * stats_t(df=dof).cdf(-np.abs(t))\n",
    "\n",
    "        return t, p\n",
    "\n",
    "    return welch_t_test"
   ]
  },
  {
   "cell_type": "code",
   "execution_count": 3,
   "metadata": {
    "pycharm": {
     "name": "#%%\n"
    }
   },
   "outputs": [],
   "source": [
    "TRACE_LEN = 1400\n",
    "\n",
    "def gen_example(mean, trace_num, trace_len=TRACE_LEN):\n",
    "    return np.random.normal(mean, 2.2, size=(trace_num, trace_len)).astype(np.uint8)\n",
    "\n",
    "def gen_random(mean_a, mean_b, trace_num, trace_len=TRACE_LEN):\n",
    "    ex_random = np.array([gen_example(mu, trace_num) for mu in [mean_a, mean_b]]).reshape(2 * trace_num, trace_len)\n",
    "    np.random.shuffle(ex_random)\n",
    "\n",
    "    return ex_random[NUM_TRACES:], ex_random[:NUM_TRACES]\n",
    "\n",
    "def get_mv(x: np.array):\n",
    "    return np.array((x.mean(axis=0), x.var(axis=0)))\n",
    "\n",
    "NUM_TRACES = 1000\n",
    "\n",
    "ex_a1 = gen_example(80, NUM_TRACES)\n",
    "ex_a2 = gen_example(80, NUM_TRACES)\n",
    "ex_b1 = gen_example(81, NUM_TRACES)\n",
    "ex_r1, ex_r2 = gen_random(80, 81, NUM_TRACES)"
   ]
  },
  {
   "cell_type": "code",
   "execution_count": 4,
   "metadata": {
    "pycharm": {
     "name": "#%%\n"
    }
   },
   "outputs": [
    {
     "data": {
      "text/plain": "array([4.97554716e-27, 1.24098909e-29, 9.40616605e-20, 3.88406635e-22,\n       1.81863500e-24])"
     },
     "execution_count": 4,
     "metadata": {},
     "output_type": "execute_result"
    }
   ],
   "source": [
    "res_sp = ttest_ind(ex_a1, ex_b1, axis=0, equal_var=False)[1]\n",
    "\n",
    "res_sp[:5]"
   ]
  },
  {
   "cell_type": "code",
   "execution_count": 5,
   "metadata": {
    "pycharm": {
     "name": "#%%\n"
    }
   },
   "outputs": [
    {
     "data": {
      "text/plain": "array([4.75330209e-27, 1.18090181e-29, 9.10296144e-20, 3.74383374e-22,\n       1.74499901e-24])"
     },
     "execution_count": 5,
     "metadata": {},
     "output_type": "execute_result"
    }
   ],
   "source": [
    "test = make_t_test(NUM_TRACES)\n",
    "\n",
    "res_custom = test(get_mv(ex_a1), get_mv(ex_b1))[1]\n",
    "\n",
    "res_custom[:5]"
   ]
  },
  {
   "cell_type": "code",
   "execution_count": 6,
   "metadata": {
    "pycharm": {
     "name": "#%%\n"
    }
   },
   "outputs": [
    {
     "data": {
      "text/plain": "(2.2025790360955024e-05, 4.055601944761154e-39)"
     },
     "execution_count": 6,
     "metadata": {},
     "output_type": "execute_result"
    }
   ],
   "source": [
    "ex_test_aa = np.min(test(get_mv(ex_a1), get_mv(ex_a2))[1])\n",
    "ex_test_ab = np.min(test(get_mv(ex_a1), get_mv(ex_b1))[1])\n",
    "\n",
    "ex_test_aa, ex_test_ab"
   ]
  },
  {
   "cell_type": "markdown",
   "metadata": {
    "pycharm": {
     "name": "#%% md\n"
    }
   },
   "source": [
    "$\\sigma^2=\\frac{1}{N}\\underset{i=1}{\\overset{N}{\\sum}}{x_i^2-\\mu^2} =\n",
    "\\underset{i=1}{\\overset{N}{\\sum}}{(\\frac{x_i^2}{N}-\\frac{\\mu^2}{N})}$"
   ]
  },
  {
   "cell_type": "code",
   "execution_count": 7,
   "metadata": {
    "pycharm": {
     "name": "#%%\n"
    }
   },
   "outputs": [],
   "source": [
    "class Accu:\n",
    "    def __init__(self, trace_len: int):\n",
    "        self.n = 0\n",
    "        self.mean = np.zeros(trace_len, dtype=np.float128)\n",
    "        self.var = np.zeros(trace_len, dtype=np.float128)\n",
    "        self.cm = np.zeros(trace_len, dtype=np.float128)\n",
    "\n",
    "    def add(self, trace):\n",
    "        self.n += 1\n",
    "\n",
    "        if self.n > 1:\n",
    "            self.mean += (-self.mean + trace) / self.n\n",
    "        else:\n",
    "            self.mean = trace\n",
    "\n",
    "        self.cm += (-self.cm + np.power(trace, 2)) / self.n\n",
    "        self.var = self.cm - np.power(self.mean, 2)\n",
    "\n",
    "    def get_mean(self):\n",
    "        return self.mean.astype(np.float64)\n",
    "\n",
    "    def get_var(self):\n",
    "        return self.var.astype(np.float64)\n",
    "\n",
    "\n",
    "# acc = Accu(ex_a.shape[1])\n",
    "# [acc.add(ex_a[i]) for i in range(len(ex_a))]\n",
    "#\n",
    "# acc.get_var(), ex_a.var(axis=0)"
   ]
  },
  {
   "cell_type": "code",
   "execution_count": 8,
   "metadata": {
    "pycharm": {
     "name": "#%%\n"
    }
   },
   "outputs": [
    {
     "data": {
      "text/plain": "(array([79.435, 79.424, 79.533, 79.55 , 79.505]),\n array([79.435, 79.424, 79.533, 79.55 , 79.505]))"
     },
     "execution_count": 8,
     "metadata": {},
     "output_type": "execute_result"
    }
   ],
   "source": [
    "ns = np.repeat(1 / np.arange(1, len(ex_a1) + 1)[:, np.newaxis], ex_a1.shape[1], axis=1)\n",
    "cs_mean = np.cumsum(ex_a1, axis=0) * ns\n",
    "\n",
    "cs_mean[-1][:5], ex_a1.mean(axis=0)[:5]"
   ]
  },
  {
   "cell_type": "code",
   "execution_count": 9,
   "metadata": {
    "pycharm": {
     "name": "#%%\n"
    }
   },
   "outputs": [
    {
     "data": {
      "text/plain": "(array([-6206.24997343, -6187.79536438, -6216.93735429, -6226.9056282 ,\n        -6224.79046969]),\n array([5.201775, 4.880224, 4.652911, 4.8155  , 5.239975]))"
     },
     "execution_count": 9,
     "metadata": {},
     "output_type": "execute_result"
    }
   ],
   "source": [
    "x2 = np.cumsum(np.power(ex_a1, 2) - np.power(cs_mean, 2), axis=0) * ns\n",
    "x2[-1][:5], ex_a1.var(axis=0)[:5]"
   ]
  },
  {
   "cell_type": "code",
   "execution_count": 10,
   "metadata": {
    "pycharm": {
     "name": "#%%\n"
    }
   },
   "outputs": [
    {
     "data": {
      "text/plain": "(array([5.201775, 4.880224, 4.652911, ..., 4.7111  , 4.853536, 4.709984]),\n array([5.201775, 4.880224, 4.652911, ..., 4.7111  , 4.853536, 4.709984]))"
     },
     "execution_count": 10,
     "metadata": {},
     "output_type": "execute_result"
    }
   ],
   "source": [
    "def mv_cumsum(a):\n",
    "    a = a.astype(np.float128)\n",
    "    n = np.repeat(np.arange(1, len(a) + 1)[:, np.newaxis], a.shape[1], axis=1).astype(np.float128)\n",
    "\n",
    "    a_mean = np.cumsum(a, axis=0) / n\n",
    "    a_var = np.cumsum(np.power(a, 2), axis=0) / n - np.power(a_mean, 2)\n",
    "\n",
    "    return np.array([a_mean.astype(np.float64), a_var.astype(np.float64)])\n",
    "\n",
    "def p_gradient(a, b):\n",
    "    trace_len = a.shape[1]\n",
    "    assert trace_len == b.shape[1]\n",
    "\n",
    "    max_traces = max(len(a), len(b))\n",
    "    mv_a, mv_b = mv_cumsum(a), mv_cumsum(b)\n",
    "\n",
    "    res = np.ones(max_traces)\n",
    "    min_res = 1\n",
    "    for i in tqdm(range(1, max_traces)):\n",
    "        t_test = make_t_test(i+1)\n",
    "        min_res = min(min_res, np.min(t_test(mv_a[:, i], mv_b[:, i])[1]))\n",
    "\n",
    "        res[i] = min_res\n",
    "\n",
    "    return res\n",
    "\n",
    "mv_cumsum(ex_a1)[1][-1], ex_a1.var(axis=0)"
   ]
  },
  {
   "cell_type": "code",
   "execution_count": 11,
   "metadata": {
    "pycharm": {
     "name": "#%%\n"
    }
   },
   "outputs": [
    {
     "name": "stderr",
     "output_type": "stream",
     "text": [
      "100%|██████████| 999/999 [00:00<00:00, 1056.16it/s]\n",
      "100%|██████████| 999/999 [00:00<00:00, 1148.21it/s]\n",
      "100%|██████████| 999/999 [00:00<00:00, 1171.17it/s]\n"
     ]
    },
    {
     "data": {
      "text/plain": "<Figure size 432x288 with 1 Axes>",
      "image/png": "[encoded data removed]"
     },
     "metadata": {},
     "output_type": "display_data"
    }
   ],
   "source": [
    "plot_p_gradient({\n",
    "    \"A vs. B\": p_gradient(ex_a1, ex_b1),\n",
    "    \"A vs. A\": p_gradient(ex_a1, ex_a2),\n",
    "    \"Random\": p_gradient(ex_r1, ex_r2),\n",
    "})"
   ]
  },
  {
   "cell_type": "code",
   "execution_count": 12,
   "outputs": [
    {
     "name": "stderr",
     "output_type": "stream",
     "text": [
      "100%|██████████| 999/999 [00:00<00:00, 1075.94it/s]\n"
     ]
    },
    {
     "data": {
      "text/plain": "<Figure size 432x288 with 1 Axes>",
      "image/png": "[encoded data removed]"
     },
     "metadata": {},
     "output_type": "display_data"
    }
   ],
   "source": [
    "plot_p_gradient({\n",
    "    \"A vs. B\": p_gradient(ex_a1, ex_b1),\n",
    "})"
   ],
   "metadata": {
    "collapsed": false,
    "pycharm": {
     "name": "#%%\n"
    }
   }
  },
  {
   "cell_type": "code",
   "execution_count": 13,
   "metadata": {
    "pycharm": {
     "name": "#%%\n"
    }
   },
   "outputs": [],
   "source": [
    "class CSAccu:\n",
    "    # For future enhancement, __add_batch only has the mean and variance calculated.\n",
    "    num_moments = 2\n",
    "    # Two types: A and B.\n",
    "    num_types = 2\n",
    "    # Maximum percentage of available memory that I can use.\n",
    "    max_mem = .5\n",
    "\n",
    "    def __init__(self, trace_len, make_test=make_t_test, show_progress=True):\n",
    "        self.n = 0\n",
    "        self.central_moments = np.zeros((self.num_types, self.num_moments + 1, trace_len), dtype=np.float128)\n",
    "        self.p_gradient = [1]\n",
    "\n",
    "        self.make_test = make_test\n",
    "        self.trace_len = trace_len\n",
    "        self.show_progress = show_progress\n",
    "        self.last = [None, None]\n",
    "        self.progress = None\n",
    "\n",
    "    def add(self, a, b):\n",
    "        free_mem = psutil.virtual_memory().available\n",
    "        mem_unit = a.astype(np.float128).nbytes\n",
    "\n",
    "        # Add batch costs about 3 #moments + index memory units.\n",
    "        est_mem_use = mem_unit * (3 * self.num_moments + 1)\n",
    "        est_frac = est_mem_use / (free_mem * self.max_mem)\n",
    "\n",
    "        total_size = len(a)\n",
    "        batches = np.append(np.arange(0, total_size, total_size/np.ceil(est_frac)), [total_size]).astype(int)\n",
    "\n",
    "        title = f\"Performing t-tests ({len(batches)} batches).\"\n",
    "        if self.show_progress:\n",
    "            self.progress = tqdm(total=len(a) + 1 + len(batches) * self.num_moments, desc=title)\n",
    "\n",
    "        if len(batches) > 1:\n",
    "            for i, j in zip(batches[:-1], batches[1:]):\n",
    "                self.__add_batch(a[i:j], b[i:j])\n",
    "        else:\n",
    "            self.__add_batch(a, b)\n",
    "\n",
    "        if self.show_progress:\n",
    "            self.progress.close()\n",
    "\n",
    "    def __add_batch(self, a, b):\n",
    "        batch_size = len(a)\n",
    "        assert batch_size == len(b) > 0\n",
    "\n",
    "        mv_a = self.__add_type_batch(a, 0)\n",
    "        mv_b = self.__add_type_batch(b, 1)\n",
    "\n",
    "        new_n = self.n + batch_size\n",
    "\n",
    "        min_p = self.p_gradient[-1]\n",
    "\n",
    "        for i in range(int(self.n == 0), batch_size):\n",
    "            stat_test = self.make_test(self.n + i + 1)\n",
    "\n",
    "            sample_ts, sample_ps = stat_test(mv_a[:, i], mv_b[:, i])\n",
    "\n",
    "            min_p = min(min_p, np.min(sample_ps))\n",
    "            self.p_gradient.append(min_p)\n",
    "\n",
    "            if self.show_progress:\n",
    "                self.progress.update(1)\n",
    "\n",
    "        self.n = new_n\n",
    "\n",
    "    def __add_type_batch(self, x, batch_type):\n",
    "        has_iv = self.n > 0\n",
    "        n = self.n\n",
    "\n",
    "        x = x.astype(np.float128)\n",
    "\n",
    "        ix_start = n - int(has_iv) + 1\n",
    "        ix_end = n + len(x) + 1\n",
    "\n",
    "        ixs = np.repeat(np.arange(ix_start, ix_end)[:, np.newaxis], self.trace_len, axis=1)\n",
    "\n",
    "        def prepend(arr, moment):\n",
    "            if has_iv:\n",
    "                cm_selected = self.central_moments[batch_type][moment]\n",
    "\n",
    "                return np.append(arr=[cm_selected], values=arr, axis=0)\n",
    "            return arr\n",
    "\n",
    "        # Central statical moments.\n",
    "        cms = np.zeros((self.num_moments + 1, *ixs.shape), dtype=np.float128)\n",
    "\n",
    "        for i in range(self.num_moments + 1):\n",
    "            cms[i] = np.cumsum(prepend(np.power(x, i), i), axis=0)\n",
    "            if self.show_progress:\n",
    "                self.progress.update(1)\n",
    "\n",
    "        # This might be extended to higher order statistical moments in the future.\n",
    "        x_mean = cms[1] / ixs\n",
    "        x_var = cms[2] / ixs - np.power(x_mean, 2)\n",
    "\n",
    "        self.last[batch_type] = np.array((x_mean[-1], x_var[-1]), dtype=np.float64)\n",
    "\n",
    "        # New central moment is the central moment after inserting the last trace from this batch.\n",
    "        self.central_moments[batch_type] = np.array(cms)[:, -1]\n",
    "\n",
    "        # This might be extended to higher order statistical moments in the future.\n",
    "        res = np.array((x_mean, x_var), dtype=np.float64)\n",
    "\n",
    "        return res"
   ]
  },
  {
   "cell_type": "code",
   "execution_count": 14,
   "metadata": {
    "pycharm": {
     "name": "#%%\n"
    }
   },
   "outputs": [
    {
     "name": "stderr",
     "output_type": "stream",
     "text": [
      "Performing t-tests (2 batches).: 100%|██████████| 1005/1005 [00:01<00:00, 757.44it/s]\n"
     ]
    }
   ],
   "source": [
    "acc = CSAccu(ex_a1.shape[1])\n",
    "acc.add(ex_a1, ex_b1)\n",
    "\n",
    "assert_equal(acc.last[0][0], ex_a1.mean(axis=0))\n",
    "assert_equal(acc.last[1][0], ex_b1.mean(axis=0))\n",
    "assert_almost_equal(acc.last[0][1], ex_a1.var(axis=0))\n",
    "assert_almost_equal(acc.last[1][1], ex_b1.var(axis=0))"
   ]
  },
  {
   "cell_type": "code",
   "execution_count": 15,
   "metadata": {
    "pycharm": {
     "name": "#%%\n"
    }
   },
   "outputs": [],
   "source": [
    "# acc2 = CSAccu(ex_a1.shape[1], show_progress=False)\n",
    "# [acc2.add(np.array([ex_a1[i]]), np.array([ex_a1[i]])) for i in range(0, NUM_TRACES)]\n",
    "#\n",
    "# assert_equal(acc2.last[0][0], ex_a1.mean(axis=0))\n",
    "# assert_equal(acc2.last[1][0], ex_b1.mean(axis=0))\n",
    "#\n",
    "# assert_almost_equal(acc2.last[0][1], ex_a1.var(axis=0))\n",
    "# assert_almost_equal(acc2.last[1][1], ex_b1.var(axis=0))\n",
    "\n",
    "# TODO"
   ]
  },
  {
   "cell_type": "code",
   "execution_count": 16,
   "metadata": {
    "pycharm": {
     "name": "#%%\n"
    }
   },
   "outputs": [
    {
     "data": {
      "text/plain": "<Figure size 432x288 with 1 Axes>",
      "image/png": "[encoded data removed]"
     },
     "metadata": {},
     "output_type": "display_data"
    }
   ],
   "source": [
    "plot_accu({\"A vs. B\": acc})"
   ]
  }
 ],
 "metadata": {
  "kernelspec": {
   "display_name": "Python 3",
   "language": "python",
   "name": "python3"
  },
  "language_info": {
   "codemirror_mode": {
    "name": "ipython",
    "version": 3
   },
   "file_extension": ".py",
   "mimetype": "text/x-python",
   "name": "python",
   "nbconvert_exporter": "python",
   "pygments_lexer": "ipython3",
   "version": "3.8.5"
  }
 },
 "nbformat": 4,
 "nbformat_minor": 1
}