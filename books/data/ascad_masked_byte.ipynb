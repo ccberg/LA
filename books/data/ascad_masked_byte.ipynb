{
 "cells": [
  {
   "cell_type": "markdown",
   "metadata": {
    "collapsed": true,
    "pycharm": {
     "name": "#%% md\n"
    }
   },
   "source": [
    "# Masked key byte extractor\n",
    "\n",
    "### Append a masked key byte column to the ASCAD file."
   ]
  },
  {
   "cell_type": "code",
   "execution_count": 1,
   "outputs": [
    {
     "name": "stderr",
     "output_type": "stream",
     "text": [
      "100%|██████████| 200000/200000 [00:24<00:00, 8009.97it/s]\n",
      "100%|██████████| 100000/100000 [00:12<00:00, 8049.14it/s]\n"
     ]
    }
   ],
   "source": [
    "import h5py\n",
    "from src.data.loader.ascad import ASCADData, ASCAD_DATA, ASCAD_DATA_VAR, ASCADDataType\n",
    "from tqdm import tqdm\n",
    "import numpy as np\n",
    "\n",
    "ascad = ASCADData.random_key()\n",
    "masked_byte_ix = 2\n",
    "full_key_ix = 1\n",
    "\n",
    "pm = ascad[\"Profiling_traces\"][\"metadata\"]\n",
    "am = ascad[\"Attack_traces\"][\"metadata\"]\n",
    "\n",
    "pml, aml = np.zeros(len(pm), dtype=np.uint8), np.zeros(len(am), dtype=np.uint8)\n",
    "\n",
    "for ix in tqdm(range(len(pm))):\n",
    "    pml[ix] = pm[ix][full_key_ix][masked_byte_ix]\n",
    "\n",
    "for ix in tqdm(range(len(am))):\n",
    "    aml[ix] = am[ix][full_key_ix][masked_byte_ix]\n",
    "\n",
    "ascad.close()"
   ],
   "metadata": {
    "collapsed": false,
    "pycharm": {
     "name": "#%%\n"
    }
   }
  },
  {
   "cell_type": "code",
   "execution_count": 2,
   "outputs": [
    {
     "data": {
      "text/plain": "array([173,  17, 199, ..., 205, 146, 189], dtype=uint8)"
     },
     "execution_count": 2,
     "metadata": {},
     "output_type": "execute_result"
    }
   ],
   "source": [
    "pml"
   ],
   "metadata": {
    "collapsed": false,
    "pycharm": {
     "name": "#%%\n"
    }
   }
  },
  {
   "cell_type": "code",
   "execution_count": 3,
   "outputs": [
    {
     "data": {
      "text/plain": "array([34, 34, 34, ..., 34, 34, 34], dtype=uint8)"
     },
     "execution_count": 3,
     "metadata": {},
     "output_type": "execute_result"
    }
   ],
   "source": [
    "aml"
   ],
   "metadata": {
    "collapsed": false,
    "pycharm": {
     "name": "#%%\n"
    }
   }
  },
  {
   "cell_type": "code",
   "execution_count": 4,
   "outputs": [
    {
     "name": "stdout",
     "output_type": "stream",
     "text": [
      "['labels', 'labels_mask', 'metadata', 'traces']\n"
     ]
    }
   ],
   "source": [
    "wrt = h5py.File(f\"{ASCAD_DATA}{ASCAD_DATA_VAR}/{ASCADDataType.default}.h5\", 'r+')\n",
    "\n",
    "for grp_name, grp_l in [(\"Profiling_traces\", pml), (\"Attack_traces\", aml)]:\n",
    "    grp = wrt[grp_name]\n",
    "\n",
    "    if \"labels_mask\" in grp:\n",
    "        del grp[\"labels_mask\"]\n",
    "    grp[\"labels_mask\"] = grp_l\n",
    "\n",
    "wrt.close()\n",
    "\n",
    "chk = h5py.File(f\"{ASCAD_DATA}{ASCAD_DATA_VAR}/{ASCADDataType.default}.h5\", 'r')\n",
    "print(list(chk[\"Profiling_traces\"]))\n",
    "chk.close()"
   ],
   "metadata": {
    "collapsed": false,
    "pycharm": {
     "name": "#%%\n"
    }
   }
  },
  {
   "cell_type": "code",
   "execution_count": 5,
   "outputs": [
    {
     "data": {
      "text/plain": "173"
     },
     "execution_count": 5,
     "metadata": {},
     "output_type": "execute_result"
    }
   ],
   "source": [
    "ascad = ASCADData.random_key()\n",
    "ascad[\"Profiling_traces\"][\"labels_mask\"][0]"
   ],
   "metadata": {
    "collapsed": false,
    "pycharm": {
     "name": "#%%\n"
    }
   }
  }
 ],
 "metadata": {
  "kernelspec": {
   "display_name": "Python 3",
   "language": "python",
   "name": "python3"
  },
  "language_info": {
   "codemirror_mode": {
    "name": "ipython",
    "version": 2
   },
   "file_extension": ".py",
   "mimetype": "text/x-python",
   "name": "python",
   "nbconvert_exporter": "python",
   "pygments_lexer": "ipython2",
   "version": "2.7.6"
  }
 },
 "nbformat": 4,
 "nbformat_minor": 0
}