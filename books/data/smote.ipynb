{
 "cells": [
  {
   "cell_type": "markdown",
   "metadata": {
    "collapsed": true,
    "pycharm": {
     "name": "#%% md\n"
    }
   },
   "source": [
    "# Validity of SMOTEing the data"
   ]
  },
  {
   "cell_type": "code",
   "execution_count": 12,
   "outputs": [],
   "source": [
    "from src.data.slices import make_slice\n",
    "from src.tvla.t import make_t_test\n",
    "from src.tvla.main import tvla\n",
    "\n",
    "samples = 740\n",
    "sample_pts = 1400"
   ],
   "metadata": {
    "collapsed": false,
    "pycharm": {
     "name": "#%%\n"
    }
   }
  },
  {
   "cell_type": "code",
   "execution_count": 13,
   "outputs": [],
   "source": [
    "mu_a = mu_b = 42"
   ],
   "metadata": {
    "collapsed": false,
    "pycharm": {
     "name": "#%%\n"
    }
   }
  },
  {
   "cell_type": "code",
   "execution_count": 14,
   "outputs": [],
   "source": [
    "import numpy as np\n",
    "\n",
    "# Refer to section statistical properties of ASCAD in books/data/ascad_normality.\n",
    "sigma = .2\n",
    "\n",
    "traces_key_a = np.array([np.random.normal(size=samples, scale=sigma) + mu_a for _ in range(sample_pts)], dtype=int)\n",
    "traces_key_b = np.array([np.random.normal(size=samples, scale=sigma) + mu_b for _ in range(sample_pts)], dtype=int)"
   ],
   "metadata": {
    "collapsed": false,
    "pycharm": {
     "name": "#%%\n"
    }
   }
  },
  {
   "cell_type": "code",
   "execution_count": 15,
   "outputs": [],
   "source": [
    "A = make_slice(np.moveaxis(traces_key_a, 0, -1))\n",
    "B = make_slice(np.moveaxis(traces_key_b, 0, -1))"
   ],
   "metadata": {
    "collapsed": false,
    "pycharm": {
     "name": "#%%\n"
    }
   }
  },
  {
   "cell_type": "code",
   "execution_count": 16,
   "outputs": [
    {
     "data": {
      "text/plain": "array([[[41, 42, 42, ..., 41, 42, 41],\n        [42, 41, 42, ..., 42, 42, 41],\n        [42, 41, 41, ..., 41, 42, 42],\n        ...,\n        [42, 42, 42, ..., 41, 42, 42],\n        [41, 41, 41, ..., 41, 41, 41],\n        [42, 41, 41, ..., 42, 41, 42]],\n\n       [[41, 41, 42, ..., 41, 42, 42],\n        [41, 41, 42, ..., 42, 42, 42],\n        [41, 41, 42, ..., 42, 42, 41],\n        ...,\n        [42, 42, 41, ..., 42, 41, 41],\n        [42, 41, 42, ..., 42, 41, 41],\n        [41, 42, 41, ..., 42, 41, 42]],\n\n       [[42, 42, 41, ..., 41, 41, 41],\n        [42, 42, 42, ..., 41, 41, 41],\n        [41, 41, 41, ..., 42, 41, 42],\n        ...,\n        [41, 41, 41, ..., 42, 41, 42],\n        [42, 42, 41, ..., 41, 41, 41],\n        [41, 41, 42, ..., 42, 42, 41]],\n\n       [[42, 41, 41, ..., 42, 42, 42],\n        [41, 42, 41, ..., 42, 42, 41],\n        [41, 42, 42, ..., 41, 41, 41],\n        ...,\n        [42, 41, 41, ..., 41, 41, 41],\n        [42, 41, 42, ..., 41, 42, 42],\n        [42, 42, 42, ..., 42, 41, 42]]])"
     },
     "execution_count": 16,
     "metadata": {},
     "output_type": "execute_result"
    }
   ],
   "source": [
    "A"
   ],
   "metadata": {
    "collapsed": false,
    "pycharm": {
     "name": "#%%\n"
    }
   }
  }
 ],
 "metadata": {
  "kernelspec": {
   "display_name": "Python 3",
   "language": "python",
   "name": "python3"
  },
  "language_info": {
   "codemirror_mode": {
    "name": "ipython",
    "version": 2
   },
   "file_extension": ".py",
   "mimetype": "text/x-python",
   "name": "python",
   "nbconvert_exporter": "python",
   "pygments_lexer": "ipython2",
   "version": "2.7.6"
  }
 },
 "nbformat": 4,
 "nbformat_minor": 0
}