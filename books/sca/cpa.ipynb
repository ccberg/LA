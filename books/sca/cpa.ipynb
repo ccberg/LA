{
 "cells": [
  {
   "cell_type": "code",
   "execution_count": 31,
   "metadata": {
    "collapsed": true
   },
   "outputs": [],
   "source": [
    "import numpy as np\n",
    "from tqdm import tqdm\n",
    "\n",
    "from sca.attack.cpa import CPA\n",
    "from src.data.loaders.ascad import ASCADData\n",
    "from src.trace_set.database import Database\n",
    "from src.trace_set.set_hw import TraceSetHW"
   ]
  },
  {
   "cell_type": "code",
   "execution_count": 32,
   "outputs": [],
   "source": [
    "DB = Database.ascad\n",
    "TRACE_SET = TraceSetHW(DB)\n",
    "PROF_TRACES, ATT_TRACES = TRACE_SET.profile()[0], TRACE_SET.attack()[0]\n",
    "\n",
    "PROF_META = np.array(ASCADData.random_key()['Profiling_traces/metadata'])\n",
    "ATT_META = np.array(ASCADData.random_key()['Attack_traces/metadata'])"
   ],
   "metadata": {
    "collapsed": false,
    "pycharm": {
     "name": "#%%\n"
    }
   }
  },
  {
   "cell_type": "code",
   "execution_count": 33,
   "outputs": [],
   "source": [
    "def extract_key_plain(metadata):\n",
    "    meta = np.array([(k, p) for p, k, _, _ in metadata])\n",
    "    return meta[:, 0], meta[:, 1]\n",
    "\n",
    "PROF_KEY, PROF_PLAIN = extract_key_plain(PROF_META)\n",
    "ATT_KEY, ATT_PLAIN = extract_key_plain(ATT_META)"
   ],
   "metadata": {
    "collapsed": false,
    "pycharm": {
     "name": "#%%\n"
    }
   }
  },
  {
   "cell_type": "code",
   "execution_count": 39,
   "outputs": [
    {
     "data": {
      "text/plain": "255"
     },
     "execution_count": 39,
     "metadata": {},
     "output_type": "execute_result"
    }
   ],
   "source": [
    "ATT_KEY[0][2]"
   ],
   "metadata": {
    "collapsed": false,
    "pycharm": {
     "name": "#%%\n"
    }
   }
  },
  {
   "cell_type": "code",
   "execution_count": 35,
   "outputs": [
    {
     "name": "stdout",
     "output_type": "stream",
     "text": [
      "Executing Correlation Power Analysis\n"
     ]
    },
    {
     "name": "stderr",
     "output_type": "stream",
     "text": [
      "[Elapsed Time: 3:18:50] |#############################| (Time:  3:18:50) (100%)\n"
     ]
    },
    {
     "name": "stdout",
     "output_type": "stream",
     "text": [
      "The final key is:  [  0   0 126   0   0   0   0   0   0   0   0   0   0   0   0   0]\n"
     ]
    }
   ],
   "source": [
    "METHOD = CPA.run(PROF_TRACES, PROF_KEY, PROF_PLAIN, ATT_TRACES, ATT_KEY, ATT_PLAIN, 0, 0, 2, 0, 9, hamming_weight=True)"
   ],
   "metadata": {
    "collapsed": false,
    "pycharm": {
     "name": "#%%\n"
    }
   }
  }
 ],
 "metadata": {
  "kernelspec": {
   "display_name": "Python 3",
   "language": "python",
   "name": "python3"
  },
  "language_info": {
   "codemirror_mode": {
    "name": "ipython",
    "version": 2
   },
   "file_extension": ".py",
   "mimetype": "text/x-python",
   "name": "python",
   "nbconvert_exporter": "python",
   "pygments_lexer": "ipython2",
   "version": "2.7.6"
  }
 },
 "nbformat": 4,
 "nbformat_minor": 0
}