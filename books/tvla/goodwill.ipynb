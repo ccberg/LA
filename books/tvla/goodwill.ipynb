{
 "cells": [
  {
   "cell_type": "markdown",
   "metadata": {
    "collapsed": true,
    "pycharm": {
     "name": "#%% md\n"
    }
   },
   "source": [
    "# One step back: Approach of Goodwill et al. for min-$p$\n",
    "\n",
    "## Based on the workshop"
   ]
  },
  {
   "cell_type": "markdown",
   "source": [],
   "metadata": {
    "collapsed": false,
    "pycharm": {
     "name": "#%% md\n"
    }
   }
  },
  {
   "cell_type": "code",
   "execution_count": 3,
   "outputs": [
    {
     "data": {
      "text/plain": "0.9972602739726028"
     },
     "execution_count": 3,
     "metadata": {},
     "output_type": "execute_result"
    }
   ],
   "source": [
    "import numpy as np\n",
    "\n",
    "def birthday(n):\n",
    "    return np.prod([(1 - i/365) for i in range(n)])\n",
    "\n",
    "birthday(2)"
   ],
   "metadata": {
    "collapsed": false,
    "pycharm": {
     "name": "#%%\n"
    }
   }
  },
  {
   "cell_type": "markdown",
   "source": [
    "Falling factorial: $x^{\\underline{n}}$"
   ],
   "metadata": {
    "collapsed": false,
    "pycharm": {
     "name": "#%% md\n"
    }
   }
  },
  {
   "cell_type": "code",
   "execution_count": 4,
   "outputs": [
    {
     "data": {
      "text/plain": "(970200, 970200)"
     },
     "execution_count": 4,
     "metadata": {},
     "output_type": "execute_result"
    }
   ],
   "source": [
    "def falling_factorial(x, n):\n",
    "    return np.prod([(x - k) for k in range(n)])\n",
    "\n",
    "falling_factorial(100, 3), (100 - 2) * (100 - 1) * (100 - 0)"
   ],
   "metadata": {
    "collapsed": false,
    "pycharm": {
     "name": "#%%\n"
    }
   }
  },
  {
   "cell_type": "code",
   "execution_count": 5,
   "outputs": [
    {
     "data": {
      "text/plain": "9.99999999995449e-06"
     },
     "execution_count": 5,
     "metadata": {},
     "output_type": "execute_result"
    }
   ],
   "source": [
    "def pigeonhole(m, n):\n",
    "    return 1 - falling_factorial(m, n) / (m ** n)\n",
    "\n",
    "pigeonhole(10 ** 5, 2)"
   ],
   "metadata": {
    "collapsed": false,
    "pycharm": {
     "name": "#%%\n"
    }
   }
  },
  {
   "cell_type": "markdown",
   "source": [
    "$\\frac{(s - e) * (s - (e - 1)) * (s - (e - 2)) * ... * (s - (e - e))}{s^e}$"
   ],
   "metadata": {
    "collapsed": false,
    "pycharm": {
     "name": "#%% md\n"
    }
   }
  },
  {
   "cell_type": "code",
   "execution_count": 12,
   "outputs": [
    {
     "name": "stdout",
     "output_type": "stream",
     "text": [
      "Actual p: 0.1975\n",
      "Experiment error ratio: 0.0 (1000 experiments)\n",
      "Lower bound error approximation: 2.200008579977819e-06\n",
      "Error probability: 0.0\n"
     ]
    }
   ],
   "source": [
    "from tqdm import tqdm\n",
    "\n",
    "RNG = np.random.default_rng()\n",
    "\n",
    "P_VALUE = 10 ** -5\n",
    "S = 22000\n",
    "\n",
    "P = 1 - (1 - P_VALUE) ** S\n",
    "print(f\"Actual p: {P:.4f}\")\n",
    "\n",
    "def goodwill_result(p_err=P_VALUE, sample_size=S):\n",
    "    return RNG.binomial(1, p=p_err, size=sample_size)\n",
    "\n",
    "def gw_times(times=2):\n",
    "    return np.array([goodwill_result() for _ in range(times)])\n",
    "\n",
    "def gw_fails(trials=1000):\n",
    "    res = [np.any(np.sum(gw_times(), axis=0) > 1) for _ in range(trials)]\n",
    "    return np.sum(res) / trials\n",
    "\n",
    "def no_rep_fail_prob(total, expected_fails):\n",
    "    return np.product([(total - expected_fails - i) / total for i in range(expected_fails)])\n",
    "\n",
    "print(f\"Experiment error ratio: {gw_fails()} (1000 experiments)\")\n",
    "print(f\"Lower bound error approximation: {1 - (((1 - P_VALUE) * S) / S) ** (S * P_VALUE)}\")\n",
    "print(f\"Error probability: {1 - no_rep_fail_prob(S, int(P_VALUE * S))}\") # Should manage no replacement."
   ],
   "metadata": {
    "collapsed": false,
    "pycharm": {
     "name": "#%%\n"
    }
   }
  },
  {
   "cell_type": "code",
   "execution_count": 7,
   "outputs": [
    {
     "ename": "NameError",
     "evalue": "name 'factorial_alt' is not defined",
     "output_type": "error",
     "traceback": [
      "\u001B[0;31m---------------------------------------------------------------------------\u001B[0m",
      "\u001B[0;31mNameError\u001B[0m                                 Traceback (most recent call last)",
      "\u001B[0;32m<ipython-input-7-d667e9924a75>\u001B[0m in \u001B[0;36m<module>\u001B[0;34m\u001B[0m\n\u001B[1;32m      2\u001B[0m \u001B[0;34m\u001B[0m\u001B[0m\n\u001B[1;32m      3\u001B[0m \u001B[0;34m\u001B[0m\u001B[0m\n\u001B[0;32m----> 4\u001B[0;31m \u001B[0;34m(\u001B[0m\u001B[0;36m1000\u001B[0m \u001B[0;34m-\u001B[0m \u001B[0;36m2\u001B[0m\u001B[0;34m)\u001B[0m \u001B[0;34m*\u001B[0m \u001B[0;34m(\u001B[0m\u001B[0;36m1000\u001B[0m \u001B[0;34m-\u001B[0m \u001B[0;36m1\u001B[0m\u001B[0;34m)\u001B[0m \u001B[0;34m*\u001B[0m \u001B[0;36m1000\u001B[0m\u001B[0;34m,\u001B[0m \u001B[0mfactorial_alt\u001B[0m\u001B[0;34m(\u001B[0m\u001B[0;36m1000\u001B[0m\u001B[0;34m,\u001B[0m \u001B[0;36m2\u001B[0m\u001B[0;34m)\u001B[0m\u001B[0;34m\u001B[0m\u001B[0;34m\u001B[0m\u001B[0m\n\u001B[0m\u001B[1;32m      5\u001B[0m \u001B[0;34m\u001B[0m\u001B[0m\n",
      "\u001B[0;31mNameError\u001B[0m: name 'factorial_alt' is not defined"
     ]
    }
   ],
   "source": [
    "import math\n",
    "\n",
    "\n",
    "(1000 - 2) * (1000 - 1) * 1000, factorial_alt(1000, 2)"
   ],
   "metadata": {
    "collapsed": false,
    "pycharm": {
     "name": "#%%\n"
    }
   }
  },
  {
   "cell_type": "code",
   "execution_count": null,
   "outputs": [],
   "source": [
    "\n",
    "\n",
    "P = 1/365\n",
    "S = 365\n",
    "C = int(P * S)\n",
    "\n",
    "print([1 - np.mean([np.sum(np.sum([ for _ in range(i)], axis=0) > 1) / S for _ in range(1000)]) for i in range(2, 6)])\n",
    "\n"
   ],
   "metadata": {
    "collapsed": false,
    "pycharm": {
     "name": "#%%\n"
    }
   }
  },
  {
   "cell_type": "markdown",
   "source": [
    "$p_g = {p_{err}}^2$\n",
    "\n",
    "${p_{th}} = p_{err} \\times s$\n",
    "\n",
    "$p(2, n) = 1 \\times (1 - \\frac{(s * {p_{err}})^2}{s^2})$\n",
    "\n",
    "$p(s, n) = 1 \\times (1 - (\\frac{s * p_{err}}{s})^2 \\times (1 - (\\frac{s * p_{err}}{s})^3 \\times ... \\times (\\frac{s * p_{err}}{s})^n)$"
   ],
   "metadata": {
    "collapsed": false,
    "pycharm": {
     "name": "#%% md\n"
    }
   }
  },
  {
   "cell_type": "markdown",
   "source": [
    "Hash collisions!"
   ],
   "metadata": {
    "collapsed": false,
    "pycharm": {
     "name": "#%% md\n"
    }
   }
  },
  {
   "cell_type": "markdown",
   "source": [
    "100 numbers, 2 people select 2 different numbers.\n",
    "\n",
    "p first number the same: 2 options out of"
   ],
   "metadata": {
    "collapsed": false,
    "pycharm": {
     "name": "#%% md\n"
    }
   }
  },
  {
   "cell_type": "code",
   "execution_count": null,
   "outputs": [],
   "source": [
    "\n"
   ],
   "metadata": {
    "collapsed": false,
    "pycharm": {
     "name": "#%%\n"
    }
   }
  }
 ],
 "metadata": {
  "kernelspec": {
   "display_name": "Python 3",
   "language": "python",
   "name": "python3"
  },
  "language_info": {
   "codemirror_mode": {
    "name": "ipython",
    "version": 2
   },
   "file_extension": ".py",
   "mimetype": "text/x-python",
   "name": "python",
   "nbconvert_exporter": "python",
   "pygments_lexer": "ipython2",
   "version": "2.7.6"
  }
 },
 "nbformat": 4,
 "nbformat_minor": 0
}