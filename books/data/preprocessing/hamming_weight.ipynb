{
 "cells": [
  {
   "cell_type": "markdown",
   "metadata": {
    "collapsed": true,
    "pycharm": {
     "name": "#%% md\n"
    }
   },
   "source": [
    "# Hamming weight extractor\n",
    "\n",
    "- Extracts the Hamming weight of the state after the SBox in the first round.\n",
    "- Appends a hamming weight column to the ASCAD file."
   ]
  },
  {
   "cell_type": "code",
   "execution_count": 1,
   "outputs": [
    {
     "name": "stderr",
     "output_type": "stream",
     "text": [
      "  3%|▎         | 5290/200000 [00:01<00:51, 3776.78it/s]\n"
     ]
    },
    {
     "ename": "KeyboardInterrupt",
     "evalue": "",
     "output_type": "error",
     "traceback": [
      "\u001B[0;31m---------------------------------------------------------------------------\u001B[0m",
      "\u001B[0;31mKeyboardInterrupt\u001B[0m                         Traceback (most recent call last)",
      "\u001B[0;32m<ipython-input-1-8c95ee369f09>\u001B[0m in \u001B[0;36m<module>\u001B[0;34m\u001B[0m\n\u001B[1;32m     19\u001B[0m \u001B[0;34m\u001B[0m\u001B[0m\n\u001B[1;32m     20\u001B[0m \u001B[0;32mfor\u001B[0m \u001B[0mix\u001B[0m \u001B[0;32min\u001B[0m \u001B[0mtqdm\u001B[0m\u001B[0;34m(\u001B[0m\u001B[0mrange\u001B[0m\u001B[0;34m(\u001B[0m\u001B[0mlen\u001B[0m\u001B[0;34m(\u001B[0m\u001B[0mpm\u001B[0m\u001B[0;34m)\u001B[0m\u001B[0;34m)\u001B[0m\u001B[0;34m)\u001B[0m\u001B[0;34m:\u001B[0m\u001B[0;34m\u001B[0m\u001B[0;34m\u001B[0m\u001B[0m\n\u001B[0;32m---> 21\u001B[0;31m     \u001B[0mprofile_key\u001B[0m\u001B[0;34m[\u001B[0m\u001B[0mix\u001B[0m\u001B[0;34m]\u001B[0m \u001B[0;34m=\u001B[0m \u001B[0mpm\u001B[0m\u001B[0;34m[\u001B[0m\u001B[0mix\u001B[0m\u001B[0;34m]\u001B[0m\u001B[0;34m[\u001B[0m\u001B[0mfull_key_ix\u001B[0m\u001B[0;34m]\u001B[0m\u001B[0;34m\u001B[0m\u001B[0;34m\u001B[0m\u001B[0m\n\u001B[0m\u001B[1;32m     22\u001B[0m     \u001B[0mprofile_plain\u001B[0m\u001B[0;34m[\u001B[0m\u001B[0mix\u001B[0m\u001B[0;34m]\u001B[0m \u001B[0;34m=\u001B[0m \u001B[0mpm\u001B[0m\u001B[0;34m[\u001B[0m\u001B[0mix\u001B[0m\u001B[0;34m]\u001B[0m\u001B[0;34m[\u001B[0m\u001B[0mplaintext_ix\u001B[0m\u001B[0;34m]\u001B[0m\u001B[0;34m\u001B[0m\u001B[0;34m\u001B[0m\u001B[0m\n\u001B[1;32m     23\u001B[0m \u001B[0;34m\u001B[0m\u001B[0m\n",
      "\u001B[0;32mh5py/_objects.pyx\u001B[0m in \u001B[0;36mh5py._objects.with_phil.wrapper\u001B[0;34m()\u001B[0m\n",
      "\u001B[0;32mh5py/_objects.pyx\u001B[0m in \u001B[0;36mh5py._objects.with_phil.wrapper\u001B[0;34m()\u001B[0m\n",
      "\u001B[0;32m~/.local/lib/python3.8/site-packages/h5py/_hl/dataset.py\u001B[0m in \u001B[0;36m__getitem__\u001B[0;34m(self, args)\u001B[0m\n\u001B[1;32m    505\u001B[0m             \u001B[0;31m# discards the array information at the top level.\u001B[0m\u001B[0;34m\u001B[0m\u001B[0;34m\u001B[0m\u001B[0;34m\u001B[0m\u001B[0m\n\u001B[1;32m    506\u001B[0m             \u001B[0mnew_dtype\u001B[0m \u001B[0;34m=\u001B[0m \u001B[0mreadtime_dtype\u001B[0m\u001B[0;34m(\u001B[0m\u001B[0mself\u001B[0m\u001B[0;34m.\u001B[0m\u001B[0mid\u001B[0m\u001B[0;34m.\u001B[0m\u001B[0mdtype\u001B[0m\u001B[0;34m,\u001B[0m \u001B[0mnames\u001B[0m\u001B[0;34m)\u001B[0m\u001B[0;34m\u001B[0m\u001B[0;34m\u001B[0m\u001B[0m\n\u001B[0;32m--> 507\u001B[0;31m         \u001B[0mmtype\u001B[0m \u001B[0;34m=\u001B[0m \u001B[0mh5t\u001B[0m\u001B[0;34m.\u001B[0m\u001B[0mpy_create\u001B[0m\u001B[0;34m(\u001B[0m\u001B[0mnew_dtype\u001B[0m\u001B[0;34m)\u001B[0m\u001B[0;34m\u001B[0m\u001B[0;34m\u001B[0m\u001B[0m\n\u001B[0m\u001B[1;32m    508\u001B[0m \u001B[0;34m\u001B[0m\u001B[0m\n\u001B[1;32m    509\u001B[0m         \u001B[0;31m# === Special-case region references ====\u001B[0m\u001B[0;34m\u001B[0m\u001B[0;34m\u001B[0m\u001B[0;34m\u001B[0m\u001B[0m\n",
      "\u001B[0;31mKeyboardInterrupt\u001B[0m: "
     ]
    }
   ],
   "source": [
    "import h5py\n",
    "from src.data.loaders.ascad import ASCADData, ASCAD_DATA, ASCAD_DATA_VAR, ASCADDataType\n",
    "from tqdm import tqdm\n",
    "import numpy as np\n",
    "\n",
    "from src.data.preprocess.hw import full_states\n",
    "\n",
    "ascad = ASCADData.random_key()\n",
    "plaintext_ix = 0\n",
    "full_key_ix = 1\n",
    "\n",
    "pm = ascad[\"Profiling_traces\"][\"metadata\"]\n",
    "am = ascad[\"Attack_traces\"][\"metadata\"]\n",
    "\n",
    "def get_acc(metadata):\n",
    "    return np.zeros((len(metadata), 16), dtype=np.uint8)\n",
    "\n",
    "profile_key, profile_plain = get_acc(pm), get_acc(pm)\n",
    "attack_key, attack_plain = get_acc(am), get_acc(am)\n",
    "\n",
    "for ix in tqdm(range(len(pm))):\n",
    "    profile_key[ix] = pm[ix][full_key_ix]\n",
    "    profile_plain[ix] = pm[ix][plaintext_ix]\n",
    "\n",
    "for ix in tqdm(range(len(am))):\n",
    "    attack_key[ix] = am[ix][full_key_ix]\n",
    "    attack_plain[ix] = am[ix][plaintext_ix]\n",
    "\n",
    "ascad.close()"
   ],
   "metadata": {
    "collapsed": false,
    "pycharm": {
     "name": "#%%\n"
    }
   }
  },
  {
   "cell_type": "code",
   "execution_count": null,
   "outputs": [],
   "source": [
    "profile_hw = full_states(profile_plain, profile_key)\n",
    "attack_hw = full_states(attack_plain, attack_key)"
   ],
   "metadata": {
    "collapsed": false,
    "pycharm": {
     "name": "#%%\n"
    }
   }
  },
  {
   "cell_type": "code",
   "execution_count": null,
   "outputs": [],
   "source": [
    "np.mean(profile_hw), np.mean(attack_hw)"
   ],
   "metadata": {
    "collapsed": false,
    "pycharm": {
     "name": "#%%\n"
    }
   }
  },
  {
   "cell_type": "code",
   "execution_count": null,
   "outputs": [],
   "source": [
    "wrt = h5py.File(f\"{ASCAD_DATA}{ASCAD_DATA_VAR}/{ASCADDataType.default}.h5\", 'r+')\n",
    "\n",
    "for grp_name, grp_data in [(\"Profiling_traces\", profile_hw), (\"Attack_traces\", attack_hw)]:\n",
    "    grp = wrt[grp_name]\n",
    "\n",
    "    if \"hamming_weights\" in grp:\n",
    "        del grp[\"hamming_weights\"]\n",
    "    grp[\"hamming_weights\"] = grp_data\n",
    "\n",
    "wrt.close()\n",
    "\n",
    "chk = h5py.File(f\"{ASCAD_DATA}{ASCAD_DATA_VAR}/{ASCADDataType.default}.h5\", 'r')\n",
    "print(list(chk[\"Profiling_traces\"]))\n",
    "print(list(chk[\"Attack_traces\"]))\n",
    "chk.close()"
   ],
   "metadata": {
    "collapsed": false,
    "pycharm": {
     "name": "#%%\n"
    }
   }
  },
  {
   "cell_type": "code",
   "execution_count": null,
   "outputs": [],
   "source": [
    "ascad = ASCADData.random_key()\n",
    "ascad[\"Profiling_traces\"][\"hamming_weights\"][0]"
   ],
   "metadata": {
    "collapsed": false,
    "pycharm": {
     "name": "#%%\n"
    }
   }
  }
 ],
 "metadata": {
  "kernelspec": {
   "display_name": "Python 3",
   "language": "python",
   "name": "python3"
  },
  "language_info": {
   "codemirror_mode": {
    "name": "ipython",
    "version": 2
   },
   "file_extension": ".py",
   "mimetype": "text/x-python",
   "name": "python",
   "nbconvert_exporter": "python",
   "pygments_lexer": "ipython2",
   "version": "2.7.6"
  }
 },
 "nbformat": 4,
 "nbformat_minor": 0
}