{
 "cells": [
  {
   "cell_type": "markdown",
   "source": [
    "# General trace loader\n",
    "Interface for loading various traces. Tasks include:\n",
    "- Resolving class imbalance (TODO)\n",
    "- Noise reduction (TODO)\n",
    "- General trace format (DOING)"
   ],
   "metadata": {
    "collapsed": false,
    "pycharm": {
     "name": "#%% md\n"
    }
   }
  },
  {
   "cell_type": "code",
   "execution_count": 1,
   "outputs": [],
   "source": [
    "class TraceLoader:\n",
    "    def __init__(self, trace_data):\n",
    "        pass"
   ],
   "metadata": {
    "collapsed": false,
    "pycharm": {
     "name": "#%%\n"
    }
   }
  },
  {
   "cell_type": "code",
   "execution_count": 2,
   "outputs": [],
   "source": [
    "from settings.ascad import ASCADData\n",
    "from collections import Counter\n",
    "import pandas as pd\n",
    "\n",
    "ascad_h5 = ASCADData.random_key()"
   ],
   "metadata": {
    "collapsed": false,
    "pycharm": {
     "name": "#%%\n"
    }
   }
  },
  {
   "cell_type": "code",
   "execution_count": 3,
   "outputs": [],
   "source": [
    "import numpy as np\n",
    "\n",
    "class TraceGroup:\n",
    "    def __init__(self, trace_group, trace_range):\n",
    "        self.t_range = trace_range\n",
    "\n",
    "        self.traces = trace_group[\"traces\"]\n",
    "        self.labels = trace_group[\"labels\"]\n",
    "\n",
    "        self.tk_cache = {}\n",
    "        self.ct_cache = {}\n",
    "\n",
    "    def filter_traces(self, label):\n",
    "        if label not in self.tk_cache:\n",
    "            ixs = np.where(np.array(self.labels) == label)[0]\n",
    "            self.tk_cache[label] = np.array(self.traces[ixs])\n",
    "\n",
    "        return self.tk_cache[label]\n",
    "\n",
    "    def contingency_table(self, label):\n",
    "        \"\"\"\n",
    "        Builds a contingency table from traces from the dataset for a given label.\n",
    "\n",
    "        :param label: the label for which traces the contingency table will be build.\n",
    "        :param limit: limits the number of traces on which the contingency table is based.\n",
    "        :return: the contingency table as a numpy array.\n",
    "        \"\"\"\n",
    "        if label not in self.ct_cache:\n",
    "            df = pd.DataFrame([Counter(bins) for bins in self.filter_traces(label)])\n",
    "            res = df.sum().sort_index().reindex(self.t_range, fill_value=0).values\n",
    "            self.ct_cache[label] = np.array(res, dtype=int)\n",
    "\n",
    "        return self.ct_cache[label]\n"
   ],
   "metadata": {
    "collapsed": false,
    "pycharm": {
     "name": "#%%\n"
    }
   }
  },
  {
   "cell_type": "code",
   "execution_count": 4,
   "outputs": [
    {
     "data": {
      "text/plain": "(200000, 1400)"
     },
     "execution_count": 4,
     "metadata": {},
     "output_type": "execute_result"
    }
   ],
   "source": [
    "prof_group = TraceGroup(ascad_h5[\"Profiling_traces\"], ASCADData.data_range)\n",
    "prof_group.traces.shape"
   ],
   "metadata": {
    "collapsed": false,
    "pycharm": {
     "name": "#%%\n"
    }
   }
  },
  {
   "cell_type": "code",
   "execution_count": 5,
   "outputs": [
    {
     "data": {
      "text/plain": "(100000, 1400)"
     },
     "execution_count": 5,
     "metadata": {},
     "output_type": "execute_result"
    }
   ],
   "source": [
    "att_group = TraceGroup(ascad_h5[\"Attack_traces\"], ASCADData.data_range)\n",
    "att_group.traces.shape"
   ],
   "metadata": {
    "collapsed": false,
    "pycharm": {
     "name": "#%%\n"
    }
   }
  },
  {
   "cell_type": "code",
   "execution_count": 6,
   "outputs": [
    {
     "data": {
      "text/plain": "(768, 1400)"
     },
     "execution_count": 6,
     "metadata": {},
     "output_type": "execute_result"
    }
   ],
   "source": [
    "prof_group.filter_traces(1).shape"
   ],
   "metadata": {
    "collapsed": false,
    "pycharm": {
     "name": "#%%\n"
    }
   }
  },
  {
   "cell_type": "code",
   "execution_count": 7,
   "outputs": [
    {
     "name": "stdout",
     "output_type": "stream",
     "text": [
      "importing Jupyter notebook from None\n"
     ]
    },
    {
     "ename": "TypeError",
     "evalue": "expected str, bytes or os.PathLike object, not NoneType",
     "output_type": "error",
     "traceback": [
      "\u001B[0;31m---------------------------------------------------------------------------\u001B[0m",
      "\u001B[0;31mTypeError\u001B[0m                                 Traceback (most recent call last)",
      "\u001B[0;32m<ipython-input-7-3f83506886b9>\u001B[0m in \u001B[0;36m<module>\u001B[0;34m\u001B[0m\n\u001B[1;32m      1\u001B[0m \u001B[0;32mfrom\u001B[0m \u001B[0msettings\u001B[0m\u001B[0;34m.\u001B[0m\u001B[0mnbloader\u001B[0m \u001B[0;32mimport\u001B[0m \u001B[0mNotebookLoader\u001B[0m\u001B[0;34m\u001B[0m\u001B[0;34m\u001B[0m\u001B[0m\n\u001B[0;32m----> 2\u001B[0;31m \u001B[0mnb\u001B[0m \u001B[0;34m=\u001B[0m \u001B[0mNotebookLoader\u001B[0m\u001B[0;34m(\u001B[0m\u001B[0;34m)\u001B[0m\u001B[0;34m.\u001B[0m\u001B[0mload_module\u001B[0m\u001B[0;34m(\u001B[0m\u001B[0;34m\"tvla.classic_la\"\u001B[0m\u001B[0;34m)\u001B[0m\u001B[0;34m\u001B[0m\u001B[0;34m\u001B[0m\u001B[0m\n\u001B[0m\u001B[1;32m      3\u001B[0m \u001B[0;34m\u001B[0m\u001B[0m\n",
      "\u001B[0;32m~/Documents/Afstudeer/LA/settings/nbloader.py\u001B[0m in \u001B[0;36mload_module\u001B[0;34m(self, fullname)\u001B[0m\n\u001B[1;32m     46\u001B[0m \u001B[0;34m\u001B[0m\u001B[0m\n\u001B[1;32m     47\u001B[0m         \u001B[0;31m# load the notebook object\u001B[0m\u001B[0;34m\u001B[0m\u001B[0;34m\u001B[0m\u001B[0;34m\u001B[0m\u001B[0m\n\u001B[0;32m---> 48\u001B[0;31m         \u001B[0;32mwith\u001B[0m \u001B[0mio\u001B[0m\u001B[0;34m.\u001B[0m\u001B[0mopen\u001B[0m\u001B[0;34m(\u001B[0m\u001B[0mpath\u001B[0m\u001B[0;34m,\u001B[0m \u001B[0;34m'r'\u001B[0m\u001B[0;34m,\u001B[0m \u001B[0mencoding\u001B[0m\u001B[0;34m=\u001B[0m\u001B[0;34m'utf-8'\u001B[0m\u001B[0;34m)\u001B[0m \u001B[0;32mas\u001B[0m \u001B[0mf\u001B[0m\u001B[0;34m:\u001B[0m\u001B[0;34m\u001B[0m\u001B[0;34m\u001B[0m\u001B[0m\n\u001B[0m\u001B[1;32m     49\u001B[0m             \u001B[0mnb\u001B[0m \u001B[0;34m=\u001B[0m \u001B[0mread\u001B[0m\u001B[0;34m(\u001B[0m\u001B[0mf\u001B[0m\u001B[0;34m,\u001B[0m \u001B[0;36m4\u001B[0m\u001B[0;34m)\u001B[0m\u001B[0;34m\u001B[0m\u001B[0;34m\u001B[0m\u001B[0m\n\u001B[1;32m     50\u001B[0m \u001B[0;34m\u001B[0m\u001B[0m\n",
      "\u001B[0;31mTypeError\u001B[0m: expected str, bytes or os.PathLike object, not NoneType"
     ]
    }
   ],
   "source": [
    "from settings.nbloader import NotebookLoader\n",
    "nb = NotebookLoader().load_module(\"tvla.classic_la\")"
   ],
   "metadata": {
    "collapsed": false,
    "pycharm": {
     "name": "#%%\n"
    }
   }
  },
  {
   "cell_type": "markdown",
   "source": [
    "### $t$ test\n",
    "The aim of a t-test is to provide a quantitative value as a probability that the mean μ of two sets are different.\n",
    "\n",
    "For the $t$-test, high $p$ values give reason to reject H0 being \"left and right are from different distributions\". The traces should be normally distributed for the\n",
    "    Student's t-test to work.\n"
   ],
   "metadata": {
    "collapsed": false
   }
  },
  {
   "cell_type": "code",
   "execution_count": null,
   "outputs": [],
   "source": [
    "print(\"exact: \", nb.calc_t([prof_group.contingency_table(1), prof_group.contingency_table(1)]))\n",
    "print(\"same:  \", nb.calc_t([prof_group.contingency_table(1), att_group.contingency_table(1)]))\n",
    "print(\"diff:  \", nb.calc_t([prof_group.contingency_table(1), att_group.contingency_table(2)]))"
   ],
   "metadata": {
    "collapsed": false,
    "pycharm": {
     "name": "#%%\n"
    }
   }
  },
  {
   "cell_type": "markdown",
   "source": [
    "### $\\chi^2$ test\n",
    "\n",
    "For $\\chi^2$, small p-values give reason to reject $H_0$ =\n",
    "\"the occurrences of these observations are independent\".\n",
    "For $t$, large p-values give reason to reject $H_0$ =\n",
    "\"the samples in both sets are drawn from the same population\"."
   ],
   "metadata": {
    "collapsed": false,
    "pycharm": {
     "name": "#%% md\n"
    }
   }
  },
  {
   "cell_type": "code",
   "execution_count": null,
   "outputs": [],
   "source": [
    "print(\"exact: \", nb.calc_chi([prof_group.contingency_table(1), prof_group.contingency_table(1)]))\n",
    "print(\"same:  \", nb.calc_chi([prof_group.contingency_table(1), att_group.contingency_table(1)]))\n",
    "print(\"diff:  \", nb.calc_chi([prof_group.contingency_table(1), att_group.contingency_table(2)]))"
   ],
   "metadata": {
    "collapsed": false,
    "pycharm": {
     "name": "#%%\n"
    }
   }
  }
 ],
 "metadata": {
  "kernelspec": {
   "display_name": "Python 3",
   "language": "python",
   "name": "python3"
  },
  "language_info": {
   "codemirror_mode": {
    "name": "ipython",
    "version": 2
   },
   "file_extension": ".py",
   "mimetype": "text/x-python",
   "name": "python",
   "nbconvert_exporter": "python",
   "pygments_lexer": "ipython2",
   "version": "2.7.6"
  }
 },
 "nbformat": 4,
 "nbformat_minor": 0
}