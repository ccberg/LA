{
 "cells": [
  {
   "cell_type": "markdown",
   "metadata": {
    "collapsed": true,
    "pycharm": {
     "name": "#%% md\n"
    }
   },
   "source": [
    "# General LA tool"
   ]
  },
  {
   "cell_type": "code",
   "execution_count": 5,
   "outputs": [],
   "source": [
    "import numpy as np\n",
    "from numpy.random import shuffle\n",
    "from src.dlla.preparation import z_norm"
   ],
   "metadata": {
    "collapsed": false,
    "pycharm": {
     "name": "#%%\n"
    }
   }
  },
  {
   "cell_type": "code",
   "execution_count": null,
   "outputs": [],
   "source": [
    "\n",
    "def process_traces(x: np.array, y: np.array, x_attack: np.array, y_attack: np.array, attack_size: float):\n",
    "    num_traces = len(x)\n",
    "    if x_attack is None:\n",
    "        ixs = np.arange(num_traces)\n",
    "        shuffle(ixs)\n",
    "        x, y = x[ixs], y[ixs]\n",
    "\n",
    "        split = round(num_traces * attack_size)\n",
    "        x_attack, x = x[split:], x[:split]\n",
    "        y_attack, y = y[split:], y[:split]\n",
    "\n",
    "    return x, y, x_attack, y_attack\n",
    "\n",
    "\n",
    "TMP_LEN = 10\n",
    "TMP_ATTACK_SIZE = .2\n",
    "TMP_PROCESS = process_traces(np.arange(TMP_LEN), np.arange(TMP_LEN), None, None, TMP_ATTACK_SIZE)\n",
    "\n",
    "assert np.all(TMP_PROCESS[0] == TMP_PROCESS[1]) and np.all(TMP_PROCESS[2] == TMP_PROCESS[2])\n",
    "assert len(TMP_PROCESS[0]) == TMP_LEN * TMP_ATTACK_SIZE\n",
    "assert len(TMP_PROCESS[0]) + len(TMP_PROCESS[2]) == TMP_LEN"
   ],
   "metadata": {
    "collapsed": false,
    "pycharm": {
     "name": "#%%\n"
    }
   }
  },
  {
   "cell_type": "code",
   "execution_count": null,
   "outputs": [],
   "source": [
    "class LA:\n",
    "    def __init__(self, x: np.array, y: np.array, x_attack: np.array=None, y_attack: np.array=None, config: LAConfig=LAConfig()):\n",
    "        \"\"\"\n",
    "        LA tool\n",
    "\n",
    "        x, x_attack should be disjoint trace sets. If x_attack is left empty, attack traces are randomly selected from x.\n",
    "        \"\"\"\n",
    "        self.x, self.y, self.x_attack, self.y_attack = process_traces(x, y, x_attack, y_attack, config.attack_size)\n"
   ],
   "metadata": {
    "collapsed": false,
    "pycharm": {
     "name": "#%%\n"
    }
   }
  }
 ],
 "metadata": {
  "kernelspec": {
   "display_name": "Python 3",
   "language": "python",
   "name": "python3"
  },
  "language_info": {
   "codemirror_mode": {
    "name": "ipython",
    "version": 2
   },
   "file_extension": ".py",
   "mimetype": "text/x-python",
   "name": "python",
   "nbconvert_exporter": "python",
   "pygments_lexer": "ipython2",
   "version": "2.7.6"
  }
 },
 "nbformat": 4,
 "nbformat_minor": 0
}