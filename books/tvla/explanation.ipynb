{
 "cells": [
  {
   "cell_type": "markdown",
   "metadata": {
    "collapsed": true,
    "pycharm": {
     "name": "#%% md\n"
    }
   },
   "source": [
    "# Test Vector Leakage Assessment\n",
    "\n",
    "An example."
   ]
  },
  {
   "cell_type": "markdown",
   "source": [
    "### 1. Generating examples\n",
    "\n",
    "In this example, there are two keys $k_a$ and $k_b$. For each of these 2 keys, there are $1000$ power traces (samples)\n",
    "available, each with a length of $10$ sample points."
   ],
   "metadata": {
    "collapsed": false,
    "pycharm": {
     "name": "#%% md\n"
    }
   }
  },
  {
   "cell_type": "code",
   "execution_count": 30,
   "outputs": [],
   "source": [
    "from src.tvla.t import make_t_test\n",
    "from src.tvla.main import tvla\n",
    "samples = 1000\n",
    "sample_pts = 1400"
   ],
   "metadata": {
    "collapsed": false,
    "pycharm": {
     "name": "#%%\n"
    }
   }
  },
  {
   "cell_type": "markdown",
   "source": [
    "The samples for these imaginary traces will be simplified into normal distributions with mean $\\mu$.\n",
    "\n",
    "A first-order \"leakage\" will be simulated by taking $\\mu_a$ (for key $k_a$) slightly bigger than $\\mu_b$."
   ],
   "metadata": {
    "collapsed": false,
    "pycharm": {
     "name": "#%% md\n"
    }
   }
  },
  {
   "cell_type": "code",
   "source": [
    "mu_a = 42.2\n",
    "mu_b = 42"
   ],
   "metadata": {
    "collapsed": false,
    "pycharm": {
     "name": "#%%\n"
    }
   },
   "execution_count": 31,
   "outputs": []
  },
  {
   "cell_type": "code",
   "execution_count": 32,
   "outputs": [],
   "source": [
    "import numpy as np\n",
    "\n",
    "# Refer to section statistical properties of ASCAD in books/data/ascad_normality.\n",
    "sigma = .2\n",
    "\n",
    "traces_key_a = np.array([np.random.normal(size=samples, scale=sigma) + mu_a for _ in range(sample_pts)], dtype=int)\n",
    "traces_key_b = np.array([np.random.normal(size=samples, scale=sigma) + mu_b for _ in range(sample_pts)], dtype=int)"
   ],
   "metadata": {
    "collapsed": false,
    "pycharm": {
     "name": "#%%\n"
    }
   }
  },
  {
   "cell_type": "markdown",
   "source": [
    "### 2. Slicing the input\n",
    "\n",
    "The first step in TVLA is to split these samples into four disjoint slices, each with a length of $250$.\n",
    "\n",
    "The $n$-th slice for key $k_a$ will be denoted as $A_n$."
   ],
   "metadata": {
    "collapsed": false,
    "pycharm": {
     "name": "#%% md\n"
    }
   }
  },
  {
   "cell_type": "code",
   "execution_count": 33,
   "outputs": [],
   "source": [
    "def make_slice(traces: np.array):\n",
    "    select = np.array(range(traces.shape[1]))\n",
    "    np.random.shuffle(select)\n",
    "\n",
    "    return np.array([traces[:, s] for s in np.array_split(select, 4)])\n",
    "\n",
    "A = make_slice(traces_key_a)\n",
    "B = make_slice(traces_key_b)"
   ],
   "metadata": {
    "collapsed": false,
    "pycharm": {
     "name": "#%%\n"
    }
   }
  },
  {
   "cell_type": "code",
   "execution_count": 34,
   "outputs": [
    {
     "data": {
      "text/plain": "(4, 1400, 250)"
     },
     "execution_count": 34,
     "metadata": {},
     "output_type": "execute_result"
    }
   ],
   "source": [
    "A.shape"
   ],
   "metadata": {
    "collapsed": false,
    "pycharm": {
     "name": "#%%\n"
    }
   }
  },
  {
   "cell_type": "markdown",
   "source": [
    "### 3. Preparing the data\n",
    "\n",
    "In this example, the t-test is used when performing TVLA. The t-test takes the sample mean, sample variance and some\n",
    "value for $p$. It tests the null hypothesis that 2 independent samples have identical average (expected) values, and\n",
    "returns whether the null hypotheses should be accepted.\n",
    "\n",
    "Therefore, $A$ and $B$ need to be transformed to fit the input parameters of the t-test."
   ],
   "metadata": {
    "collapsed": false,
    "pycharm": {
     "name": "#%% md\n"
    }
   }
  },
  {
   "cell_type": "code",
   "execution_count": 35,
   "outputs": [
    {
     "data": {
      "text/plain": "(4, 1400, 2)"
     },
     "execution_count": 35,
     "metadata": {},
     "output_type": "execute_result"
    }
   ],
   "source": [
    "A_mv = np.moveaxis(np.array((A.mean(axis=2), A.var(axis=2))), 0, -1)\n",
    "B_mv = np.moveaxis(np.array((B.mean(axis=2), B.var(axis=2))), 0, -1)\n",
    "\n",
    "A_mv.shape"
   ],
   "metadata": {
    "collapsed": false,
    "pycharm": {
     "name": "#%%\n"
    }
   }
  },
  {
   "cell_type": "markdown",
   "source": [
    "### 4. Applying TVLA"
   ],
   "metadata": {
    "collapsed": false,
    "pycharm": {
     "name": "#%% md\n"
    }
   }
  },
  {
   "cell_type": "code",
   "execution_count": 36,
   "outputs": [
    {
     "data": {
      "text/plain": "(True, False)"
     },
     "execution_count": 36,
     "metadata": {},
     "output_type": "execute_result"
    }
   ],
   "source": [
    "num_observations = A.shape[2]\n",
    "t_test = make_t_test(num_observations)\n",
    "\n",
    "tvla(test=t_test, left=A_mv, right=B_mv, p=5)"
   ],
   "metadata": {
    "collapsed": false,
    "pycharm": {
     "name": "#%%\n"
    }
   }
  }
 ],
 "metadata": {
  "kernelspec": {
   "display_name": "Python 3",
   "language": "python",
   "name": "python3"
  },
  "language_info": {
   "codemirror_mode": {
    "name": "ipython",
    "version": 2
   },
   "file_extension": ".py",
   "mimetype": "text/x-python",
   "name": "python",
   "nbconvert_exporter": "python",
   "pygments_lexer": "ipython2",
   "version": "2.7.6"
  }
 },
 "nbformat": 4,
 "nbformat_minor": 0
}