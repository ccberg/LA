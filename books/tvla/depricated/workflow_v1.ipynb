{
 "cells": [
  {
   "cell_type": "markdown",
   "metadata": {
    "collapsed": true,
    "pycharm": {
     "name": "#%% md\n"
    }
   },
   "source": [
    "# Test Vector Leakage Assessment\n",
    "\n",
    "Example showing usage of TVLA in this project."
   ]
  },
  {
   "cell_type": "markdown",
   "metadata": {
    "pycharm": {
     "name": "#%% md\n"
    }
   },
   "source": [
    "In this example, there are two keys $k_a$ and $k_b$. For key $k_a$ there are $803$ (samples) available, and for key\n",
    "$k_b$ there are $847$. Each sample has a length of $1400$ sample points."
   ]
  },
  {
   "cell_type": "code",
   "execution_count": 140,
   "metadata": {
    "pycharm": {
     "name": "#%%\n"
    }
   },
   "outputs": [],
   "source": [
    "samples_a = 803\n",
    "samples_b = 847\n",
    "\n",
    "sample_pts = 1400"
   ]
  },
  {
   "cell_type": "markdown",
   "metadata": {
    "pycharm": {
     "name": "#%% md\n"
    }
   },
   "source": [
    "The samples for these imaginary traces will be simplified into normal distributions with mean $\\mu$.\n",
    "\n",
    "A first-order \"leakage\" will be simulated by taking $\\mu_a$ (for key $k_a$) slightly bigger than $\\mu_b$."
   ]
  },
  {
   "cell_type": "code",
   "execution_count": 141,
   "metadata": {
    "pycharm": {
     "name": "#%%\n"
    }
   },
   "outputs": [],
   "source": [
    "mu_a = 42.2\n",
    "mu_b = 42"
   ]
  },
  {
   "cell_type": "code",
   "execution_count": 142,
   "metadata": {
    "pycharm": {
     "name": "#%%\n"
    }
   },
   "outputs": [],
   "source": [
    "import numpy as np\n",
    "\n",
    "# Refer to section statistical properties of ASCAD in books/data/ascad_normality.\n",
    "sigma = .2\n",
    "\n",
    "traces_key_a = np.round([np.random.normal(size=samples_a, scale=sigma) + mu_a for _ in range(sample_pts)]).astype(int)\n",
    "traces_key_b = np.round([np.random.normal(size=samples_b, scale=sigma) + mu_b for _ in range(sample_pts)]).astype(int)"
   ]
  },
  {
   "cell_type": "markdown",
   "metadata": {
    "pycharm": {
     "name": "#%% md\n"
    }
   },
   "source": [
    "### Step 1. Slicing the input\n",
    "\n",
    "The first step in TVLA is to split these samples into $4$ disjoint slices of approximately equal length.\n",
    "\n",
    "The $n$-th slice for key $k_a$ will be denoted as $A_n$."
   ]
  },
  {
   "cell_type": "code",
   "execution_count": 143,
   "metadata": {
    "pycharm": {
     "name": "#%%\n"
    }
   },
   "outputs": [],
   "source": [
    "from src.data.slices import tvla_slice\n",
    "\n",
    "A = make_slice(np.moveaxis(traces_key_a, 0, -1))\n",
    "B = make_slice(np.moveaxis(traces_key_b, 0, -1))"
   ]
  },
  {
   "cell_type": "markdown",
   "metadata": {},
   "source": [
    "### Step 2. Oversampling\n",
    "\n",
    "For the t-test to function properly, the slices in $A_n$ and $B_n$ should all have the same length. This is achieved by\n",
    "oversampling smaller slices using SMOTE."
   ]
  },
  {
   "cell_type": "code",
   "execution_count": 144,
   "metadata": {
    "pycharm": {
     "name": "#%%\n"
    }
   },
   "outputs": [],
   "source": [
    "preferred_size = max([len(s) for s in [*A, *B]])"
   ]
  },
  {
   "cell_type": "code",
   "execution_count": 145,
   "metadata": {
    "pycharm": {
     "name": "#%%\n"
    }
   },
   "outputs": [
    {
     "data": {
      "text/plain": "(4, 212, 1400)"
     },
     "execution_count": 145,
     "metadata": {},
     "output_type": "execute_result"
    }
   ],
   "source": [
    "from src.data.smote import smote\n",
    "\n",
    "sA = smote_slices(A, preferred_size)\n",
    "sB = smote_slices(B, preferred_size)\n",
    "\n",
    "sA.shape"
   ]
  },
  {
   "cell_type": "markdown",
   "metadata": {
    "pycharm": {
     "name": "#%% md\n"
    }
   },
   "source": [
    "### Step 3. Preparing the data\n",
    "\n",
    "In this example, the t-test is used when performing TVLA. The t-test takes the sample mean, sample variance and some\n",
    "value for $p$. It tests the null hypothesis that 2 independent samples have identical average (expected) values, and\n",
    "returns whether the null hypotheses should be accepted.\n",
    "\n",
    "Therefore, $A$ and $B$ need to be transformed to fit the input parameters of the t-test."
   ]
  },
  {
   "cell_type": "code",
   "execution_count": 146,
   "metadata": {
    "pycharm": {
     "name": "#%%\n"
    }
   },
   "outputs": [
    {
     "data": {
      "text/plain": "(4, 1400, 2)"
     },
     "execution_count": 146,
     "metadata": {},
     "output_type": "execute_result"
    }
   ],
   "source": [
    "mvA = np.moveaxis(np.array((sA.mean(axis=1), sA.var(axis=1))), 0, -1)\n",
    "mvB = np.moveaxis(np.array((sB.mean(axis=1), sB.var(axis=1))), 0, -1)\n",
    "\n",
    "mvA.shape"
   ]
  },
  {
   "cell_type": "markdown",
   "metadata": {
    "pycharm": {
     "name": "#%% md\n"
    }
   },
   "source": [
    "### Step 4. TVLA\n",
    "\n",
    "Create the t-test, as it relies on the number of observations (not included with the mean and variance)."
   ]
  },
  {
   "cell_type": "code",
   "execution_count": 147,
   "metadata": {
    "pycharm": {
     "name": "#%%\n"
    }
   },
   "outputs": [],
   "source": [
    "from src.tvla.t import make_t_test\n",
    "\n",
    "t_test = make_t_test(sample_pts)"
   ]
  },
  {
   "cell_type": "markdown",
   "metadata": {
    "pycharm": {
     "name": "#%% md\n"
    }
   },
   "source": [
    "Apply TVLA using Welch's t-test."
   ]
  },
  {
   "cell_type": "code",
   "execution_count": 148,
   "metadata": {
    "pycharm": {
     "name": "#%%\n"
    }
   },
   "outputs": [
    {
     "data": {
      "text/plain": "[(False, False),\n (False, False),\n (False, False),\n (False, False),\n (True, False),\n (True, False),\n (True, False),\n (True, False),\n (True, False),\n (True, False),\n (True, False),\n (True, False),\n (True, True),\n (True, True),\n (True, True),\n (True, True),\n (True, True),\n (True, True),\n (True, True),\n (True, True),\n (True, True),\n (True, True),\n (True, True),\n (True, True),\n (True, True),\n (True, True),\n (True, True),\n (True, True),\n (True, True)]"
     },
     "execution_count": 148,
     "metadata": {},
     "output_type": "execute_result"
    }
   ],
   "source": [
    "from src.tvla.main import tvla\n",
    "\n",
    "[tvla(test=t_test, left=mvA, right=mvB, p=p) for p in range(1, 30)]"
   ]
  },
  {
   "cell_type": "code",
   "execution_count": 149,
   "metadata": {
    "pycharm": {
     "name": "#%%\n"
    }
   },
   "outputs": [
    {
     "data": {
      "text/plain": "[(False, False),\n (False, False),\n (False, False),\n (False, False),\n (False, False),\n (False, False),\n (False, False),\n (False, False),\n (True, True),\n (True, True),\n (True, True),\n (True, True),\n (True, True),\n (True, True),\n (True, True),\n (True, True),\n (True, True),\n (True, True),\n (True, True),\n (True, True),\n (True, True),\n (True, True),\n (True, True),\n (True, True),\n (True, True),\n (True, True),\n (True, True),\n (True, True),\n (True, True)]"
     },
     "execution_count": 149,
     "metadata": {},
     "output_type": "execute_result"
    }
   ],
   "source": [
    "[tvla(test=t_test, left=mvA, right=mvA, p=p) for p in range(1, 30)]"
   ]
  }
 ],
 "metadata": {
  "kernelspec": {
   "display_name": "Python 3",
   "language": "python",
   "name": "python3"
  },
  "language_info": {
   "codemirror_mode": {
    "name": "ipython",
    "version": 3
   },
   "file_extension": ".py",
   "mimetype": "text/x-python",
   "name": "python",
   "nbconvert_exporter": "python",
   "pygments_lexer": "ipython3",
   "version": "3.8.5"
  }
 },
 "nbformat": 4,
 "nbformat_minor": 1
}