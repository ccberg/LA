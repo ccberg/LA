{
 "cells": [
  {
   "cell_type": "markdown",
   "metadata": {
    "collapsed": true,
    "pycharm": {
     "name": "#%% md\n"
    }
   },
   "source": [
    "### Application of $\\chi^2$ on ASCAD\n",
    "\n",
    "On a per-sample-point basis."
   ]
  },
  {
   "cell_type": "code",
   "execution_count": 8,
   "metadata": {
    "pycharm": {
     "name": "#%%\n"
    }
   },
   "outputs": [],
   "source": [
    "import numpy as np\n",
    "import seaborn as sns\n",
    "import matplotlib.pyplot as plt\n",
    "from tqdm import tqdm\n",
    "import pandas as pd\n",
    "from tools.nbloader import NotebookLoader\n",
    "\n",
    "from tools.traceloader import ASCAD, TraceGroup\n",
    "\n",
    "sns.set_style(\"whitegrid\")"
   ]
  },
  {
   "cell_type": "code",
   "execution_count": 9,
   "metadata": {
    "pycharm": {
     "name": "#%%\n"
    }
   },
   "outputs": [
    {
     "data": {
      "text/plain": "(200000, 1400)"
     },
     "execution_count": 9,
     "metadata": {},
     "output_type": "execute_result"
    }
   ],
   "source": [
    "KEY_SIZE = 256\n",
    "TRACE_LEN = 1400\n",
    "\n",
    "ascad = ASCAD()\n",
    "ascad.default.profile.traces.shape"
   ]
  },
  {
   "cell_type": "code",
   "execution_count": 10,
   "metadata": {
    "pycharm": {
     "name": "#%%\n"
    }
   },
   "outputs": [
    {
     "name": "stdout",
     "output_type": "stream",
     "text": [
      "importing Jupyter notebook from ../tvla/chi2.ipynb\n"
     ]
    }
   ],
   "source": [
    "chi2 = NotebookLoader([\"../tvla\"]).load_module('chi2')"
   ]
  },
  {
   "cell_type": "markdown",
   "metadata": {},
   "source": [
    "### chi-squared sliding window"
   ]
  },
  {
   "cell_type": "code",
   "execution_count": 11,
   "metadata": {
    "pycharm": {
     "name": "#%%\n"
    }
   },
   "outputs": [
    {
     "name": "stderr",
     "output_type": "stream",
     "text": [
      "100%|██████████| 1390/1390 [00:04<00:00, 280.77it/s]\n"
     ]
    }
   ],
   "source": [
    "SLIDING_WINDOW_SIZE = 10\n",
    "\n",
    "def sliding_window(tg: TraceGroup, key_l=1, key_r=1, progress=True):\n",
    "    trace_l = tg.profile.filter_traces(key_l)\n",
    "    trace_r = tg.attack.filter_traces(key_r)\n",
    "\n",
    "    trace_size = ASCAD.trace_len\n",
    "    acc = np.zeros(trace_size - SLIDING_WINDOW_SIZE)\n",
    "\n",
    "    window_ixs = range(0, trace_size - SLIDING_WINDOW_SIZE)\n",
    "    if progress:\n",
    "        window_ixs = tqdm(window_ixs)\n",
    "\n",
    "    for ix in window_ixs:\n",
    "        poi = (ix, ix + SLIDING_WINDOW_SIZE)\n",
    "        p_value = 1 - chi2.chi_squared(chi2.count(trace_l, poi), chi2.count(trace_r, poi))\n",
    "        acc[ix] = p_value\n",
    "\n",
    "    return acc\n",
    "\n",
    "SW_EQ = sliding_window(ascad.default)"
   ]
  },
  {
   "cell_type": "code",
   "execution_count": 12,
   "outputs": [
    {
     "name": "stderr",
     "output_type": "stream",
     "text": [
      "100%|██████████| 1390/1390 [00:04<00:00, 288.92it/s]\n"
     ]
    }
   ],
   "source": [
    "SW_NEQ = sliding_window(ascad.default, 1, 2)"
   ],
   "metadata": {
    "collapsed": false,
    "pycharm": {
     "name": "#%%\n"
    }
   }
  },
  {
   "cell_type": "markdown",
   "metadata": {},
   "source": [
    "### Experiments with sliding window on $\\chi^2$\n",
    "\n",
    "With a sliding window over only 1, a"
   ]
  },
  {
   "cell_type": "code",
   "execution_count": 1,
   "metadata": {
    "pycharm": {
     "name": "#%%\n"
    }
   },
   "outputs": [
    {
     "ename": "NameError",
     "evalue": "name 'NotebookLoader' is not defined",
     "output_type": "error",
     "traceback": [
      "\u001B[0;31m---------------------------------------------------------------------------\u001B[0m",
      "\u001B[0;31mNameError\u001B[0m                                 Traceback (most recent call last)",
      "\u001B[0;32m<ipython-input-1-17756e00d67c>\u001B[0m in \u001B[0;36m<module>\u001B[0;34m\u001B[0m\n\u001B[0;32m----> 1\u001B[0;31m \u001B[0mpoi\u001B[0m \u001B[0;34m=\u001B[0m \u001B[0mNotebookLoader\u001B[0m\u001B[0;34m(\u001B[0m\u001B[0;34m[\u001B[0m\u001B[0;34m\"../data\"\u001B[0m\u001B[0;34m]\u001B[0m\u001B[0;34m)\u001B[0m\u001B[0;34m.\u001B[0m\u001B[0mload_module\u001B[0m\u001B[0;34m(\u001B[0m\u001B[0;34m\"poi\"\u001B[0m\u001B[0;34m)\u001B[0m\u001B[0;34m\u001B[0m\u001B[0;34m\u001B[0m\u001B[0m\n\u001B[0m\u001B[1;32m      2\u001B[0m \u001B[0;34m\u001B[0m\u001B[0m\n",
      "\u001B[0;31mNameError\u001B[0m: name 'NotebookLoader' is not defined"
     ]
    }
   ],
   "source": [
    "poi = NotebookLoader([\"../data\"]).load_module(\"poi\")"
   ]
  },
  {
   "cell_type": "markdown",
   "source": [
    "Small $p$ values give evidence to reject the null hypothesis and conclude that the observations are not independent."
   ],
   "metadata": {
    "collapsed": false,
    "pycharm": {
     "name": "#%% md\n"
    }
   }
  },
  {
   "cell_type": "code",
   "execution_count": null,
   "outputs": [],
   "source": [
    "ax = sns.lineplot(data=pd.DataFrame(poi.MOMENT_DIFFERENCES[1]), legend=None)\n",
    "ax.set(ylabel = 'first order moment differences')\n",
    "ax2 = plt.twinx()\n",
    "ax2.set(ylabel = '$p$-values sliding window equal key')\n",
    "sns.lineplot(data=pd.DataFrame([*([np.nan] * round(SLIDING_WINDOW_SIZE / 2)), *SW_EQ]), palette=[sns.color_palette()[1]], legend=None)"
   ],
   "metadata": {
    "collapsed": false,
    "pycharm": {
     "name": "#%%\n",
     "is_executing": true
    }
   }
  },
  {
   "cell_type": "code",
   "execution_count": null,
   "outputs": [],
   "source": [
    "ax = sns.lineplot(data=pd.DataFrame(poi.MOMENT_DIFFERENCES[1]), legend=None)\n",
    "ax.set(ylabel = 'first order moment differences')\n",
    "ax2 = plt.twinx()\n",
    "ax2.set(ylabel = '$p$-values sliding window different key')\n",
    "sns.lineplot(data=pd.DataFrame([*([np.nan] * round(SLIDING_WINDOW_SIZE / 2)), *SW_NEQ]), palette=[sns.color_palette()[1]], legend=None)"
   ],
   "metadata": {
    "collapsed": false,
    "pycharm": {
     "name": "#%%\n",
     "is_executing": true
    }
   }
  },
  {
   "cell_type": "code",
   "execution_count": null,
   "outputs": [],
   "source": [
    "SW_DIFF = SW_EQ - SW_NEQ\n",
    "SW_DIFF_CUTOFF = SW_DIFF * (SW_DIFF > 0)"
   ],
   "metadata": {
    "collapsed": false,
    "pycharm": {
     "name": "#%%\n",
     "is_executing": true
    }
   }
  },
  {
   "cell_type": "code",
   "execution_count": null,
   "outputs": [],
   "source": [
    "ax = sns.lineplot(data=pd.DataFrame(poi.MOMENT_DIFFERENCES[1]), legend=None)\n",
    "ax.set(ylabel = 'first order moment differences')\n",
    "ax2 = plt.twinx()\n",
    "ax2.set(ylabel = '$p$-value difference')\n",
    "sns.lineplot(data=pd.DataFrame([*([np.nan] * round(SLIDING_WINDOW_SIZE / 2)), *SW_DIFF_CUTOFF]), palette=[sns.color_palette()[1]], legend=None)"
   ],
   "metadata": {
    "collapsed": false,
    "pycharm": {
     "name": "#%%\n",
     "is_executing": true
    }
   }
  }
 ],
 "metadata": {
  "kernelspec": {
   "display_name": "Python 3",
   "language": "python",
   "name": "python3"
  },
  "language_info": {
   "codemirror_mode": {
    "name": "ipython",
    "version": 3
   },
   "file_extension": ".py",
   "mimetype": "text/x-python",
   "name": "python",
   "nbconvert_exporter": "python",
   "pygments_lexer": "ipython3",
   "version": "3.8.5"
  }
 },
 "nbformat": 4,
 "nbformat_minor": 1
}