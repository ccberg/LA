{
 "cells": [
  {
   "cell_type": "markdown",
   "metadata": {
    "collapsed": true,
    "pycharm": {
     "name": "#%% md\n"
    }
   },
   "source": [
    "### Based on the paper from Goodwill et al."
   ]
  },
  {
   "cell_type": "code",
   "execution_count": 147,
   "outputs": [],
   "source": [
    "import numpy as np\n",
    "from tqdm import tqdm\n",
    "import seaborn as sns\n",
    "import pandas as pd\n",
    "from tools.nbloader import NotebookLoader\n",
    "from scipy import stats\n",
    "\n",
    "trace_len = 50\n",
    "sample_size = 350\n",
    "\n",
    "def gen_trace(key=0, mu=128):\n",
    "    return np.array([np.random.normal(0 + (key/256 - 1), 1, trace_len) for _ in range(sample_size)])\n",
    "\n",
    "def gen_mask_trace(mu=128):\n",
    "    random_keys = np.random.uniform(0, 256, sample_size) / 256\n",
    "\n",
    "    return np.array([np.random.normal(mu + (rk - 1), 1, trace_len) for rk in random_keys])\n",
    "\n",
    "tg_a1 = gen_trace(0)\n",
    "tg_a2 = gen_trace(256)\n",
    "tg_b = gen_mask_trace()"
   ],
   "metadata": {
    "collapsed": false,
    "pycharm": {
     "name": "#%%\n"
    }
   }
  },
  {
   "cell_type": "code",
   "execution_count": 161,
   "outputs": [
    {
     "name": "stdout",
     "output_type": "stream",
     "text": [
      "5.162220394133096\n"
     ]
    }
   ],
   "source": [
    "def confidence_level(all_t_values, p=.95):\n",
    "    tvs_flat = abs(all_t_values.flatten())\n",
    "    n = round(len(tvs_flat) * p)\n",
    "\n",
    "    return sorted(tvs_flat)[n]\n",
    "\n",
    "def device_fails(ta: np.array, tb: np.array, c=2.5):\n",
    "    \"\"\"\n",
    "    @param ta should be a positive-valued array of t-test results from some power trace with given key.\n",
    "    @param tb should be a positive-valued array of t-test results from a different set of traces with the same key.\n",
    "    @param c should be the confidence value.\n",
    "    \"\"\"\n",
    "    return np.array((ta >= c) * (tb >= c)).any()\n",
    "\n",
    "def t_test(a, b):\n",
    "    num = a.mean(axis=0) - b.mean(axis=0)\n",
    "    den = (((a.var(axis=0) / len(a)) + (b.var(axis=0) / len(b))) ** .5)\n",
    "\n",
    "    return np.array(num / den)\n",
    "\n",
    "def gen_one():\n",
    "    return np.array([stats.norm.rvs(loc=5,scale=.1,size=50) for _ in range(350)])\n",
    "\n",
    "def gen_two():\n",
    "    return np.array([stats.norm.rvs(loc=6,scale=.1,size=50) for _ in range(350)])\n",
    "\n",
    "tvs = gen_one()\n",
    "print(confidence_level(tvs))"
   ],
   "metadata": {
    "collapsed": false,
    "pycharm": {
     "name": "#%%\n"
    }
   }
  },
  {
   "cell_type": "code",
   "execution_count": 162,
   "outputs": [
    {
     "name": "stderr",
     "output_type": "stream",
     "text": [
      "100%|██████████| 100/100 [00:10<00:00,  9.46it/s]\n"
     ]
    },
    {
     "data": {
      "text/plain": "array([ 0, 47])"
     },
     "execution_count": 162,
     "metadata": {},
     "output_type": "execute_result"
    }
   ],
   "source": [
    "def stats_t_test(a, b):\n",
    "    return stats.ttest_ind(a, b, equal_var=False)[0]\n",
    "\n",
    "\n",
    "def bench(test):\n",
    "    acc = [(False, False)]\n",
    "    for _ in tqdm(range(100)):\n",
    "        tk1 = abs(np.array(test(gen_one(), gen_one())))\n",
    "        tk2 = abs(np.array(test(gen_one(), gen_one())))\n",
    "        tm1 = abs(np.array(test(gen_one(), gen_two())))\n",
    "        tm2 = abs(np.array(test(gen_one(), gen_two())))\n",
    "\n",
    "        c_value = np.percentile(np.array([*tk1, *tk2, *tm1, *tm2]).flatten(), 95)\n",
    "\n",
    "        res = np.array((device_fails(tk1, tk2, c_value), device_fails(tm1, tm2, c_value)))\n",
    "        if res.any():\n",
    "            acc.append(res)\n",
    "\n",
    "    return np.array(acc).sum(axis=0)\n",
    "\n",
    "bench(t_test)"
   ],
   "metadata": {
    "collapsed": false,
    "pycharm": {
     "name": "#%%\n"
    }
   }
  },
  {
   "cell_type": "code",
   "execution_count": 149,
   "outputs": [],
   "source": [],
   "metadata": {
    "collapsed": false,
    "pycharm": {
     "name": "#%%\n"
    }
   }
  },
  {
   "cell_type": "code",
   "execution_count": 150,
   "outputs": [],
   "source": [
    "rvs1 = stats.norm.rvs(loc=5,scale=10,size=500)\n",
    "rvs2 = stats.norm.rvs(loc=5,scale=10,size=500)\n",
    "rvs3 = stats.norm.rvs(loc=5, scale=20, size=500)\n",
    "rvs4 = stats.norm.rvs(loc=5, scale=20, size=100)\n",
    "rvs5 = stats.norm.rvs(loc=8, scale=20, size=100)"
   ],
   "metadata": {
    "collapsed": false,
    "pycharm": {
     "name": "#%%\n"
    }
   }
  },
  {
   "cell_type": "code",
   "execution_count": 151,
   "outputs": [
    {
     "data": {
      "text/plain": "array([ 0.60420246,  0.66097823, -0.24248201,  0.36156444, -0.76877828,\n       -1.68062625, -0.01359138, -1.56212222, -0.99496863,  0.89988549,\n       -0.70611479,  1.35805091, -1.00940486,  1.43929501,  0.30364248,\n       -0.06696747,  0.43580473, -0.51750891, -1.30578777, -0.54605284,\n       -0.7241662 , -0.51000194,  1.82387337,  1.79333042,  0.63293527,\n       -0.28211483, -0.31106338, -0.63602224,  2.35901462,  0.50255987,\n       -0.31513772,  0.58018831, -0.74771554, -0.13776733,  0.65872628,\n       -2.22555065,  0.60707746,  0.08483823, -2.40816681, -1.00141452,\n        0.59613517,  0.0220641 , -1.01514276,  1.44397127, -0.73761172,\n       -0.58312101, -0.8029458 ,  1.10568465,  1.71027782,  0.76776675])"
     },
     "execution_count": 151,
     "metadata": {},
     "output_type": "execute_result"
    }
   ],
   "source": [
    "stats.ttest_ind(gen_trace(), gen_trace())[0]"
   ],
   "metadata": {
    "collapsed": false,
    "pycharm": {
     "name": "#%%\n"
    }
   }
  },
  {
   "cell_type": "code",
   "execution_count": 152,
   "outputs": [],
   "source": [
    "def t_stat(traces):\n",
    "    a, b = np.array_split(traces, 2)\n",
    "\n",
    "    num = a.mean(axis=0) - b.mean(axis=0)\n",
    "    den = (((a.var(axis=0) / len(a)) + (b.var(axis=0) / len(b))) ** .5)\n",
    "\n",
    "    return np.array(num / den)\n",
    "\n",
    "def key_t(traces_key, traces_masked, poi=(None, None)):\n",
    "    ka, kb = np.array_split(traces_key[:, poi[0]:poi[1]], 2)\n",
    "    ma, mb = np.array_split(traces_masked[:, poi[0]:poi[1]], 2)\n",
    "\n",
    "    return t_stat(ka), t_stat(kb), t_stat(ma), t_stat(mb)\n",
    "\n",
    "def key_tvs():\n",
    "    keys = 256\n",
    "\n",
    "    tvs = np.array([[np.zeros(trace_len)] * 4] * keys)\n",
    "    for k in range(keys):\n",
    "        tvs[k] = key_t(gen_trace(k), gen_mask_trace())\n",
    "\n",
    "    return tvs"
   ],
   "metadata": {
    "collapsed": false,
    "pycharm": {
     "name": "#%%\n"
    }
   }
  },
  {
   "cell_type": "markdown",
   "source": [
    "Test whether Moriadi method shows same result"
   ],
   "metadata": {
    "collapsed": false,
    "pycharm": {
     "name": "#%% md\n"
    }
   }
  },
  {
   "cell_type": "code",
   "execution_count": 153,
   "outputs": [
    {
     "name": "stdout",
     "output_type": "stream",
     "text": [
      "importing Jupyter notebook from welch_t_test.ipynb\n",
      "-2.813529040013576 -2029.7823644581683\n"
     ]
    },
    {
     "data": {
      "text/plain": "18.80402837548303"
     },
     "execution_count": 153,
     "metadata": {},
     "output_type": "execute_result"
    }
   ],
   "source": [
    "trc_k = gen_trace()\n",
    "\n",
    "t_stat(trc_k)\n",
    "\n",
    "nb = NotebookLoader().load_module(\"welch_t_test\")\n",
    "\n",
    "tp = nb.TraceProcessor()\n",
    "\n",
    "tp.add_trace(trc_k)\n",
    "\n",
    "tp.t_test(gen_trace())"
   ],
   "metadata": {
    "collapsed": false,
    "pycharm": {
     "name": "#%%\n"
    }
   }
  },
  {
   "cell_type": "markdown",
   "source": [
    "Example extracting mean and variance from contingency table."
   ],
   "metadata": {
    "collapsed": false,
    "pycharm": {
     "name": "#%% md\n"
    }
   }
  },
  {
   "cell_type": "code",
   "execution_count": 154,
   "outputs": [
    {
     "name": "stdout",
     "output_type": "stream",
     "text": [
      "(127.65611, 5409.4600496679)\n"
     ]
    },
    {
     "data": {
      "text/plain": "(127.65611, 5409.4600496678995)"
     },
     "execution_count": 154,
     "metadata": {},
     "output_type": "execute_result"
    }
   ],
   "source": [
    "trc = np.array([round(np.random.uniform(0, 255)) for _ in range(100000)])\n",
    "\n",
    "def ctable_mv(ctable: np.array, num_observations: int):\n",
    "    \"\"\"\n",
    "    Calculates the mean and variance from a contingency table with a corresponding number of observations.\n",
    "    \"\"\"\n",
    "    # Using 128-bit floats prevents some rounding errors when comparing with the np implementation of var and mean.\n",
    "    ixs = np.arange(0, len(ctable), dtype=np.float128)\n",
    "\n",
    "    mu = (ctable * ixs).sum() / num_observations\n",
    "    sigma2 = ((ctable * ixs ** 2).sum() / num_observations) - (mu ** 2)\n",
    "\n",
    "    return mu, sigma2\n",
    "\n",
    "print(ctable_mv(np.bincount(trc, minlength=256), len(trc)))\n",
    "\n",
    "# Actual mean and variance\n",
    "trc.mean(), trc.var()"
   ],
   "metadata": {
    "collapsed": false,
    "pycharm": {
     "name": "#%%\n"
    }
   }
  },
  {
   "cell_type": "code",
   "execution_count": 155,
   "outputs": [],
   "source": [
    "def welch_t_test(ctable_a, num_a, ctable_b, num_b):\n",
    "    ma, va = ctable_mv(ctable_a, num_a)\n",
    "    mb, vb = ctable_mv(ctable_b, num_b)\n",
    "\n",
    "    den = ((va / num_a) + (vb /num_b)) ** .5\n",
    "\n",
    "    return np.array((ma - mb) / den)\n",
    "\n",
    "def tvs_to_ct():\n",
    "    keys = 256\n",
    "\n",
    "    tvs = np.array([[np.zeros(trace_len)] * 4] * keys)\n",
    "    for k in range(keys):\n",
    "        tvs[k] = key_t(gen_trace(k), gen_mask_trace())\n",
    "\n",
    "    return tvs"
   ],
   "metadata": {
    "collapsed": false,
    "pycharm": {
     "name": "#%%\n"
    }
   }
  },
  {
   "cell_type": "code",
   "execution_count": 156,
   "outputs": [
    {
     "name": "stdout",
     "output_type": "stream",
     "text": [
      "1.9680269765098177\n"
     ]
    }
   ],
   "source": [
    "tvs_all = abs(key_tvs())\n",
    "\n",
    "c_value = confidence_level(tvs_all)\n",
    "print(c_value)\n",
    "\n",
    "res = np.array([(device_fails(t1, t2, c_value), device_fails(tm1, tm2, c_value)) for t1, t2, tm1, tm2 in tvs_all])\n",
    "mean = res.sum(axis=0)\n",
    "\n"
   ],
   "metadata": {
    "collapsed": false,
    "pycharm": {
     "name": "#%%\n"
    }
   }
  },
  {
   "cell_type": "code",
   "execution_count": 157,
   "outputs": [],
   "source": [
    "def plot_longform(traces):\n",
    "    sns.set_style('whitegrid')\n",
    "\n",
    "    longform = []\n",
    "    for trace in traces:\n",
    "        for ix in range(len(trace)):\n",
    "            longform.append((ix, trace[ix]))\n",
    "\n",
    "    cols = [\"Sample point\", \"Power\"]\n",
    "    df = pd.DataFrame(longform, columns=cols)\n",
    "    sns.lineplot(data=df, x=cols[0], y=cols[1])"
   ],
   "metadata": {
    "collapsed": false,
    "pycharm": {
     "name": "#%%\n"
    }
   }
  },
  {
   "cell_type": "code",
   "execution_count": 158,
   "outputs": [
    {
     "data": {
      "text/plain": "<Figure size 432x288 with 1 Axes>",
      "image/png": "[encoded data removed]"
     },
     "metadata": {},
     "output_type": "display_data"
    }
   ],
   "source": [
    "plot_longform(gen_trace(0))\n",
    "plot_longform(gen_mask_trace())\n",
    "plot_longform(gen_trace(256))"
   ],
   "metadata": {
    "collapsed": false,
    "pycharm": {
     "name": "#%%\n"
    }
   }
  },
  {
   "cell_type": "code",
   "execution_count": 159,
   "outputs": [
    {
     "name": "stderr",
     "output_type": "stream",
     "text": [
      "100%|██████████| 1000/1000 [00:07<00:00, 132.11it/s]\n"
     ]
    },
    {
     "data": {
      "text/plain": "array([37, 28])"
     },
     "execution_count": 159,
     "metadata": {},
     "output_type": "execute_result"
    }
   ],
   "source": [
    "def match(key_byte=0):\n",
    "    return device_fails(t_stat(gen_trace(key_byte)), t_stat(gen_trace(key_byte)), c_value), \\\n",
    "           device_fails(t_stat(gen_mask_trace()), t_stat(gen_mask_trace()), c_value)\n",
    "\n",
    "tests = 1000\n",
    "\n",
    "res = np.array([match() for kb in tqdm(range(tests))])\n",
    "res.sum(axis=0)"
   ],
   "metadata": {
    "collapsed": false,
    "pycharm": {
     "name": "#%%\n"
    }
   }
  },
  {
   "cell_type": "markdown",
   "source": [
    "Here might follow some statistical property analysis of this test."
   ],
   "metadata": {
    "collapsed": false,
    "pycharm": {
     "name": "#%% md\n"
    }
   }
  }
 ],
 "metadata": {
  "kernelspec": {
   "display_name": "Python 3",
   "language": "python",
   "name": "python3"
  },
  "language_info": {
   "codemirror_mode": {
    "name": "ipython",
    "version": 2
   },
   "file_extension": ".py",
   "mimetype": "text/x-python",
   "name": "python",
   "nbconvert_exporter": "python",
   "pygments_lexer": "ipython2",
   "version": "2.7.6"
  }
 },
 "nbformat": 4,
 "nbformat_minor": 0
}