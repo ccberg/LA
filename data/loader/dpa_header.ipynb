{
 "cells": [],
 "metadata": {
  "kernelspec": {
   "display_name": "Python 3",
   "language": "python",
   "name": "python3"
  },
  "language_info": {
   "codemirror_mode": {
    "name": "ipython",
    "version": 2
   },
   "file_extension": ".py",
   "mimetype": "text/x-python",
   "name": "python",
   "nbconvert_exporter": "python",
   "pygments_lexer": "ipython2",
   "version": "2.7.6"
  },
  "pycharm": {
   "stem_cell": {
    "cell_type": "raw",
    "source": [
     "0 \tDescriptor Name \tNull terminated string \tThe first 8 chars are always \"WAVEDESC\" \tWAVEDESC\n",
     "16 \tTemplate Name \tNull terminated string \t\tLECROY_2_3\n",
     "32 \tComm Type \t16-bit data \tFormat of data samples (0: byte (8-bit signed values), 1: word (16-bit signed values)) \t0 (8-bit signed values)\n",
     "34 \tComm Order \t16-bit data \tFormat of data samples (0: MSB first, 1: LSB first) \t1 (LSB first)\n",
     "36 \tWave Descriptor \t32-bit signed data \tLength in bytes of the block WAVEDESC \t346\n",
     "40 \tUser Text \t32-bit signed data \tLength in bytes of the block USERTEXT \t0\n",
     "44 \tRes Desc1 \t32-bit signed data \tLength in bytes of the block RES_DESC1 \t0\n",
     "48 \tTrigTime Array \t32-bit signed data \tLength in bytes of the TRIGTIME array \t0\n",
     "52 \tRis Time Array \t32-bit signed data \tLength in bytes of the RIS_TIME array \t0\n",
     "56 \tRes Array 1 \t32-bit signed data \t\t0\n",
     "60 \tWave Array 1 \t32-bit signed data \tLength in bytes of the 1st data array \t1,704,402\n",
     "64 \tWave Array 2 \t32-bit signed data \tLength in bytes of the 2nd data array \t0\n",
     "76 \tInstrument Name \tNull terminated string \tName of the instrument \tLECROYWR6100A\n",
     "116 \tWave Array Count \t32-bit signed data \tNumber of data points (samples) in the data array \t1,704,402\n",
     "124 \tFirst Valid Point \t32-bit signed data \tNumber of points to skip before first good point \t0\n",
     "128 \tLast Valid Point \t32-bit signed data \tIndex of last good data point \t1,704,401\n",
     "156 \tVertical gain \tfloat (32-bit IEEE floating point value) \tVertical gain \t\n",
     "160 \tVertical offset \tfloat (32-bit IEEE floating point value) \tVertical offset \t\n",
     "172 \tNominal Bits \t16-bit signed data \tIntrinsic precision of the observation \t8 bits"
    ],
    "metadata": {
     "collapsed": false
    }
   }
  }
 },
 "nbformat": 4,
 "nbformat_minor": 0
}