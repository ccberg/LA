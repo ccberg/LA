{
 "cells": [
  {
   "cell_type": "code",
   "execution_count": 1,
   "outputs": [],
   "source": [
    "import os\n",
    "\n",
    "import numpy as np\n",
    "from keras import Model\n",
    "from tqdm import tqdm\n",
    "\n",
    "from src.dlla.hw import dlla_hw, prepare_traces_dl\n",
    "from src.dlla.model9 import make_model_9\n",
    "from src.dlla.wegener import make_mlp_wegener, binomial_test\n",
    "from src.pollution.clock_jitter import clock_jitter\n",
    "from src.pollution.gaussian_noise import gaussian_noise\n",
    "from src.pollution.random_delay import random_delay\n",
    "from src.trace_set.database import Database\n",
    "from src.trace_set.pollution import Pollution, PollutionType\n",
    "from src.trace_set.set_hw import TraceSetHW\n",
    "from src.trace_set.transform import reduce_fixed_fixed, fixed_fixed\n",
    "from src.tvla.cri import tvla_cri"
   ],
   "metadata": {
    "collapsed": false,
    "pycharm": {
     "name": "#%%\n"
    }
   }
  },
  {
   "cell_type": "code",
   "execution_count": 2,
   "outputs": [],
   "source": [
    "DB = Database.aisy"
   ],
   "metadata": {
    "collapsed": false,
    "pycharm": {
     "name": "#%%\n"
    }
   }
  },
  {
   "cell_type": "code",
   "execution_count": 3,
   "outputs": [
    {
     "data": {
      "text/plain": "(6667, 7332)"
     },
     "execution_count": 3,
     "metadata": {},
     "output_type": "execute_result"
    }
   ],
   "source": [
    "RAW_TRACES = TraceSetHW(DB)\n",
    "\n",
    "X_PROF_CXT, Y_PROF = RAW_TRACES.profile_states()\n",
    "X_ATT_CXT, Y_ATT = RAW_TRACES.attack_states()\n",
    "\n",
    "A_THIRD = round(X_PROF_CXT.shape[1] / 3)\n",
    "\n",
    "START = A_THIRD\n",
    "END = A_THIRD * 2\n",
    "SAMPLE_TRACE = X_PROF_CXT[0][START:END]\n",
    "\n",
    "X_PROF_CXT.shape"
   ],
   "metadata": {
    "collapsed": false,
    "pycharm": {
     "name": "#%%\n"
    }
   }
  },
  {
   "cell_type": "code",
   "execution_count": 4,
   "outputs": [
    {
     "data": {
      "text/plain": "(6667, 2444)"
     },
     "execution_count": 4,
     "metadata": {},
     "output_type": "execute_result"
    }
   ],
   "source": [
    "X_PROF = X_PROF_CXT[:, START:END]\n",
    "X_ATT = X_ATT_CXT[:, START:END]\n",
    "\n",
    "X_PROF.shape"
   ],
   "metadata": {
    "collapsed": false,
    "pycharm": {
     "name": "#%%\n"
    }
   }
  },
  {
   "cell_type": "code",
   "execution_count": null,
   "outputs": [
    {
     "name": "stderr",
     "output_type": "stream",
     "text": [
      "Random delay (0.000155):  10%|▉         | 19600/200000 [00:10<01:38, 1824.93it/s]"
     ]
    }
   ],
   "source": [
    "WINDOW_JITTER_PARAMS = np.arange(0, 100, 50)\n",
    "\n",
    "def desync(traces: np.ndarray, window: (int, int), sigma: float):\n",
    "    start, end = window\n",
    "    num_traces = len(traces)\n",
    "    num_sample_points = end - start\n",
    "\n",
    "    permutations = np.round(np.random.normal(scale=sigma, size=num_traces)).astype(int)\n",
    "    permutations += start\n",
    "\n",
    "    res = np.ones((num_traces, num_sample_points), dtype=traces.dtype)\n",
    "\n",
    "    for ix in tqdm(range(num_traces), f\"Trace desynchronization, sigma={sigma}\"):\n",
    "        permutation = permutations[ix]\n",
    "        res[ix] = traces[ix, permutation:permutation + num_sample_points]\n",
    "\n",
    "    return res\n",
    "\n",
    "noise_functions = {\n",
    "    PollutionType.gauss: gaussian_noise,\n",
    "    PollutionType.desync: lambda traces, p: desync(traces, WINDOW, p),\n",
    "}\n",
    "\n",
    "GAUSS_PARAMS = np.arange(0, 82, 2)\n",
    "\n",
    "def apply_pollution(poll_type: PollutionType, params: list, db: Database):\n",
    "    default = TraceSetHW(db)\n",
    "    x, state = default.profile_states()\n",
    "    x_att, state_att = default.attack_states()\n",
    "\n",
    "    for param in params:\n",
    "        pollution = Pollution(poll_type, param)\n",
    "        out = TraceSetHW(db, pollution)\n",
    "\n",
    "        if not os.path.exists(out.path):\n",
    "            f = noise_functions[poll_type]\n",
    "            noise_x = f(x, param)\n",
    "            noise_x_att = f(x_att, param)\n",
    "\n",
    "            out.create(noise_x, state, noise_x_att, state_att)\n",
    "\n",
    "            x9, y9, x9_att, y9_att = prepare_traces_dl(*out.profile(), *out.attack())\n",
    "            mdl9 = make_model_9(x9, y9, x9_att, y9_att)\n",
    "            p_value = dlla_hw(mdl9, x9_att, y9_att)\n",
    "\n",
    "            print(f\"{pollution.get_name()} ({param}): p-value: ({p_value}).\")\n",
    "\n",
    "apply_pollution(PollutionType.delay, np.arange(0.00015, 0.00025, 0.000005), Database.ascad)"
   ],
   "metadata": {
    "collapsed": false,
    "pycharm": {
     "name": "#%%\n",
     "is_executing": true
    }
   }
  },
  {
   "cell_type": "code",
   "execution_count": 7,
   "outputs": [
    {
     "data": {
      "text/plain": "'0.00016'"
     },
     "execution_count": 7,
     "metadata": {},
     "output_type": "execute_result"
    }
   ],
   "source": [
    "str(0.00015).replace('.','-')\n",
    "\n",
    "str(float(f\"{0.00015999999999999999:.8f}\"))"
   ],
   "metadata": {
    "collapsed": false,
    "pycharm": {
     "name": "#%%\n"
    }
   }
  },
  {
   "cell_type": "markdown",
   "source": [
    "### TVLA vs. DL-LA"
   ],
   "metadata": {
    "collapsed": false,
    "pycharm": {
     "name": "#%% md\n"
    }
   }
  },
  {
   "cell_type": "code",
   "execution_count": 6,
   "outputs": [],
   "source": [
    "ORDER = 2\n",
    "\n",
    "def store_results(database: Database, method: str, pollution: Pollution, p):\n",
    "    file_name = f\"results_{database.name}.csv\"\n",
    "    with open(file_name, 'a') as f:\n",
    "        f.write(f\"{method};{pollution.type.name};{pollution.parameter};{p}\\n\")"
   ],
   "metadata": {
    "collapsed": false,
    "pycharm": {
     "name": "#%%\n"
    }
   }
  },
  {
   "cell_type": "code",
   "execution_count": 7,
   "outputs": [
    {
     "name": "stdout",
     "output_type": "stream",
     "text": [
      "Make model (1/2)    \r"
     ]
    },
    {
     "ename": "NameError",
     "evalue": "name 'make_mlp' is not defined",
     "output_type": "error",
     "traceback": [
      "\u001B[0;31m---------------------------------------------------------------------------\u001B[0m",
      "\u001B[0;31mNameError\u001B[0m                                 Traceback (most recent call last)",
      "\u001B[0;32m<ipython-input-7-213dbd6dc831>\u001B[0m in \u001B[0;36m<module>\u001B[0;34m\u001B[0m\n\u001B[1;32m     47\u001B[0m \u001B[0;34m\u001B[0m\u001B[0m\n\u001B[1;32m     48\u001B[0m \u001B[0;32mwhile\u001B[0m \u001B[0;32mTrue\u001B[0m\u001B[0;34m:\u001B[0m\u001B[0;34m\u001B[0m\u001B[0;34m\u001B[0m\u001B[0m\n\u001B[0;32m---> 49\u001B[0;31m     \u001B[0mla_benchmark\u001B[0m\u001B[0;34m(\u001B[0m\u001B[0mDB\u001B[0m\u001B[0;34m,\u001B[0m \u001B[0mPollutionType\u001B[0m\u001B[0;34m.\u001B[0m\u001B[0mgauss\u001B[0m\u001B[0;34m,\u001B[0m \u001B[0mGAUSS_PARAMS\u001B[0m\u001B[0;34m)\u001B[0m\u001B[0;34m\u001B[0m\u001B[0;34m\u001B[0m\u001B[0m\n\u001B[0m\u001B[1;32m     50\u001B[0m \u001B[0;34m\u001B[0m\u001B[0m\n\u001B[1;32m     51\u001B[0m \u001B[0;34m\u001B[0m\u001B[0m\n",
      "\u001B[0;32m<ipython-input-7-213dbd6dc831>\u001B[0m in \u001B[0;36mla_benchmark\u001B[0;34m(db, pollution_type, params)\u001B[0m\n\u001B[1;32m     24\u001B[0m \u001B[0;34m\u001B[0m\u001B[0m\n\u001B[1;32m     25\u001B[0m             \u001B[0mprint\u001B[0m\u001B[0;34m(\u001B[0m\u001B[0;34m\"Make model (1/2)    \"\u001B[0m\u001B[0;34m,\u001B[0m \u001B[0mend\u001B[0m\u001B[0;34m=\u001B[0m\u001B[0;34m\"\\r\"\u001B[0m\u001B[0;34m)\u001B[0m\u001B[0;34m\u001B[0m\u001B[0;34m\u001B[0m\u001B[0m\n\u001B[0;32m---> 26\u001B[0;31m             \u001B[0mmdl9\u001B[0m \u001B[0;34m=\u001B[0m \u001B[0mmake_mlp\u001B[0m\u001B[0;34m(\u001B[0m\u001B[0mx9\u001B[0m\u001B[0;34m,\u001B[0m \u001B[0my9\u001B[0m\u001B[0;34m)\u001B[0m\u001B[0;34m\u001B[0m\u001B[0;34m\u001B[0m\u001B[0m\n\u001B[0m\u001B[1;32m     27\u001B[0m             \u001B[0mprint\u001B[0m\u001B[0;34m(\u001B[0m\u001B[0;34m\"Make model (2/2)    \"\u001B[0m\u001B[0;34m,\u001B[0m \u001B[0mend\u001B[0m\u001B[0;34m=\u001B[0m\u001B[0;34m\"\\r\"\u001B[0m\u001B[0;34m)\u001B[0m\u001B[0;34m\u001B[0m\u001B[0;34m\u001B[0m\u001B[0m\n\u001B[1;32m     28\u001B[0m             \u001B[0mmdl2\u001B[0m \u001B[0;34m=\u001B[0m \u001B[0mmake_mlp_wegener\u001B[0m\u001B[0;34m(\u001B[0m\u001B[0mx2\u001B[0m\u001B[0;34m,\u001B[0m \u001B[0my2\u001B[0m\u001B[0;34m,\u001B[0m \u001B[0;32mFalse\u001B[0m\u001B[0;34m)\u001B[0m\u001B[0;34m\u001B[0m\u001B[0;34m\u001B[0m\u001B[0m\n",
      "\u001B[0;31mNameError\u001B[0m: name 'make_mlp' is not defined"
     ]
    }
   ],
   "source": [
    "def wegener_p(mdl: Model, x_att: np.ndarray, y_att: np.ndarray):\n",
    "    predictions = mdl.predict(x_att).argmax(axis=1)\n",
    "    labels = y_att.argmax(axis=1)\n",
    "\n",
    "    correct = np.sum(predictions == labels)\n",
    "    total = len(predictions)\n",
    "    # print(total, correct)\n",
    "\n",
    "    return binomial_test(total, correct)\n",
    "\n",
    "LIMIT_PROF, LIMIT_ATT = None, 100000\n",
    "\n",
    "def la_benchmark(db: Database, pollution_type: PollutionType, params):\n",
    "    for param in params:\n",
    "        pollution = Pollution(pollution_type, param)\n",
    "        print(\"Load traces         \", end=\"\\r\")\n",
    "        trace_set = TraceSetHW(db, pollution, (LIMIT_PROF, LIMIT_ATT))\n",
    "\n",
    "        if os.path.exists(trace_set.path):\n",
    "            print(\"Prepare traces (1/2)\", end=\"\\r\")\n",
    "            x9, y9, x9_att, y9_att = prepare_traces_dl(*trace_set.profile(), *trace_set.attack())\n",
    "            print(\"Prepare traces (2/2)\", end=\"\\r\")\n",
    "            (x2, y2), (x2_att, y2_att) = reduce_fixed_fixed(x9, y9), reduce_fixed_fixed(x9_att, y9_att)\n",
    "\n",
    "            print(\"Make model (1/2)    \", end=\"\\r\")\n",
    "            mdl9 = make_mlp(x9, y9)\n",
    "            print(\"Make model (2/2)    \", end=\"\\r\")\n",
    "            mdl2 = make_mlp_wegener(x2, y2, False)\n",
    "\n",
    "            print(\"TVLA                \", end=\"\\r\")\n",
    "            tvla_ps = np.min(tvla_cri(*fixed_fixed(*trace_set.profile()), ORDER), axis=1)\n",
    "\n",
    "            print(\"Predict             \", end=\"\\r\")\n",
    "            dlla9_p = dlla_hw(mdl9, x9_att, y9_att)\n",
    "            dlla2_p = wegener_p(mdl2, x2_att, y2_att)\n",
    "\n",
    "            print(f\"{pollution_type} ({param}). TVLA ({tvla_ps}). DLLA9 ({dlla9_p}). DLLA2 ({dlla2_p})\", end=\"\\r\")\n",
    "\n",
    "            for order, p in enumerate(tvla_ps):\n",
    "                if order > 0:\n",
    "                    store_results(db, f\"cri_tvla_{order}\", pollution, p)\n",
    "\n",
    "            store_results(db, \"dlla9\", pollution, dlla9_p)\n",
    "            store_results(db, \"dlla2\", pollution, dlla2_p)\n",
    "\n",
    "        print()\n",
    "\n",
    "while True:\n",
    "    la_benchmark(DB, PollutionType.gauss, GAUSS_PARAMS)\n"
   ],
   "metadata": {
    "collapsed": false,
    "pycharm": {
     "name": "#%%\n"
    }
   }
  },
  {
   "cell_type": "code",
   "execution_count": null,
   "outputs": [],
   "source": [],
   "metadata": {
    "collapsed": false,
    "pycharm": {
     "name": "#%%\n"
    }
   }
  }
 ],
 "metadata": {
  "kernelspec": {
   "display_name": "Python 3",
   "language": "python",
   "name": "python3"
  },
  "language_info": {
   "codemirror_mode": {
    "name": "ipython",
    "version": 2
   },
   "file_extension": ".py",
   "mimetype": "text/x-python",
   "name": "python",
   "nbconvert_exporter": "python",
   "pygments_lexer": "ipython2",
   "version": "2.7.6"
  }
 },
 "nbformat": 4,
 "nbformat_minor": 0
}