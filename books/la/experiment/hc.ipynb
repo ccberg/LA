{
 "cells": [
  {
   "cell_type": "code",
   "execution_count": 98,
   "metadata": {
    "collapsed": true,
    "pycharm": {
     "name": "#%%\n"
    }
   },
   "outputs": [
    {
     "name": "stdout",
     "output_type": "stream",
     "text": [
      "TV distance between P and Q:  5.979246280759083e-07\n",
      "Higher-Criticism score for testing P == Q:  -8.258659242000354 0.1263614050908586\n"
     ]
    }
   ],
   "source": [
    "import numpy as np\n",
    "from TwoSampleHC import two_sample_pvals, HC\n",
    "\n",
    "N = 1000 # number of features\n",
    "n = 5 * N #number of samples\n",
    "\n",
    "P = 1 / np.arange(1,N+1) # Zipf base distribution\n",
    "P = P / P.sum()\n",
    "\n",
    "ep = 0.03 #fraction of features to perturb\n",
    "mu = .000000001 #intensity of perturbation\n",
    "\n",
    "TH = np.random.rand(N) < ep\n",
    "Q = P.copy()\n",
    "Q += mu\n",
    "Q = Q / np.sum(Q)\n",
    "\n",
    "smp_P = np.random.multinomial(n, P)  # sample form P\n",
    "smp_Q = np.random.multinomial(n, Q)  # sample from Q\n",
    "\n",
    "pv = two_sample_pvals(smp_Q, smp_P) # binomial P-values\n",
    "\n",
    "# pv = np.array([.01] * 1000)\n",
    "# pv[200:230] = 10 ** -50\n",
    "\n",
    "hv_val, p = HC(pv).HCstar(.25) # Small sample Higher Criticism test\n",
    "\n",
    "print(\"TV distance between P and Q: \", 0.5*np.sum(np.abs(P-Q)))\n",
    "print(\"Higher-Criticism score for testing P == Q: \", hv_val, p)\n",
    "# (HC score rarely goes above 2.5 if P == Q)"
   ]
  }
 ],
 "metadata": {
  "kernelspec": {
   "display_name": "Python 3",
   "language": "python",
   "name": "python3"
  },
  "language_info": {
   "codemirror_mode": {
    "name": "ipython",
    "version": 2
   },
   "file_extension": ".py",
   "mimetype": "text/x-python",
   "name": "python",
   "nbconvert_exporter": "python",
   "pygments_lexer": "ipython2",
   "version": "2.7.6"
  }
 },
 "nbformat": 4,
 "nbformat_minor": 0
}