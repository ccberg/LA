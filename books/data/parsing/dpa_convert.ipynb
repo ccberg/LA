{
 "cells": [
  {
   "cell_type": "markdown",
   "source": [
    "# DPA conversion to standard trace format."
   ],
   "metadata": {
    "collapsed": false,
    "pycharm": {
     "name": "#%% md\n"
    }
   }
  },
  {
   "cell_type": "code",
   "execution_count": 1,
   "outputs": [],
   "source": [
    "import bz2\n",
    "import math\n",
    "import zipfile\n",
    "import numpy as np\n",
    "import tempfile\n",
    "from tqdm import tqdm\n",
    "\n",
    "from src.data.dpa import DPA4"
   ],
   "metadata": {
    "collapsed": false,
    "pycharm": {
     "name": "#%%\n"
    }
   }
  },
  {
   "cell_type": "code",
   "execution_count": 2,
   "outputs": [
    {
     "name": "stderr",
     "output_type": "stream",
     "text": [
      "  0%|          | 0/10 [00:11<?, ?it/s]\n"
     ]
    },
    {
     "ename": "KeyboardInterrupt",
     "evalue": "",
     "output_type": "error",
     "traceback": [
      "\u001B[0;31m---------------------------------------------------------------------------\u001B[0m",
      "\u001B[0;31mKeyboardInterrupt\u001B[0m                         Traceback (most recent call last)",
      "\u001B[0;32m<ipython-input-2-6fd1701ff6ba>\u001B[0m in \u001B[0;36m<module>\u001B[0;34m\u001B[0m\n\u001B[1;32m      3\u001B[0m \u001B[0;32mfor\u001B[0m \u001B[0mfname\u001B[0m \u001B[0;32min\u001B[0m \u001B[0mtqdm\u001B[0m\u001B[0;34m(\u001B[0m\u001B[0mlist\u001B[0m\u001B[0;34m(\u001B[0m\u001B[0mDPA4\u001B[0m\u001B[0;34m.\u001B[0m\u001B[0mTRACE_URLS\u001B[0m\u001B[0;34m.\u001B[0m\u001B[0mkeys\u001B[0m\u001B[0;34m(\u001B[0m\u001B[0;34m)\u001B[0m\u001B[0;34m)\u001B[0m\u001B[0;34m)\u001B[0m\u001B[0;34m:\u001B[0m\u001B[0;34m\u001B[0m\u001B[0;34m\u001B[0m\u001B[0m\n\u001B[1;32m      4\u001B[0m     \u001B[0;32mwith\u001B[0m \u001B[0mzipfile\u001B[0m\u001B[0;34m.\u001B[0m\u001B[0mZipFile\u001B[0m\u001B[0;34m(\u001B[0m\u001B[0;34mf\"{DPA4.ROOT_RAW}/{fname}\"\u001B[0m\u001B[0;34m,\u001B[0m\u001B[0;34m\"r\"\u001B[0m\u001B[0;34m)\u001B[0m \u001B[0;32mas\u001B[0m \u001B[0mzip_ref\u001B[0m\u001B[0;34m:\u001B[0m\u001B[0;34m\u001B[0m\u001B[0;34m\u001B[0m\u001B[0m\n\u001B[0;32m----> 5\u001B[0;31m         \u001B[0mzip_ref\u001B[0m\u001B[0;34m.\u001B[0m\u001B[0mextractall\u001B[0m\u001B[0;34m(\u001B[0m\u001B[0mTMP_DIR\u001B[0m\u001B[0;34m)\u001B[0m\u001B[0;34m\u001B[0m\u001B[0;34m\u001B[0m\u001B[0m\n\u001B[0m\u001B[1;32m      6\u001B[0m \u001B[0;34m\u001B[0m\u001B[0m\n\u001B[1;32m      7\u001B[0m \u001B[0mTMP_DIR\u001B[0m\u001B[0;34m\u001B[0m\u001B[0;34m\u001B[0m\u001B[0m\n",
      "\u001B[0;32m~/anaconda3/envs/LA/lib/python3.8/zipfile.py\u001B[0m in \u001B[0;36mextractall\u001B[0;34m(self, path, members, pwd)\u001B[0m\n\u001B[1;32m   1645\u001B[0m \u001B[0;34m\u001B[0m\u001B[0m\n\u001B[1;32m   1646\u001B[0m         \u001B[0;32mfor\u001B[0m \u001B[0mzipinfo\u001B[0m \u001B[0;32min\u001B[0m \u001B[0mmembers\u001B[0m\u001B[0;34m:\u001B[0m\u001B[0;34m\u001B[0m\u001B[0;34m\u001B[0m\u001B[0m\n\u001B[0;32m-> 1647\u001B[0;31m             \u001B[0mself\u001B[0m\u001B[0;34m.\u001B[0m\u001B[0m_extract_member\u001B[0m\u001B[0;34m(\u001B[0m\u001B[0mzipinfo\u001B[0m\u001B[0;34m,\u001B[0m \u001B[0mpath\u001B[0m\u001B[0;34m,\u001B[0m \u001B[0mpwd\u001B[0m\u001B[0;34m)\u001B[0m\u001B[0;34m\u001B[0m\u001B[0;34m\u001B[0m\u001B[0m\n\u001B[0m\u001B[1;32m   1648\u001B[0m \u001B[0;34m\u001B[0m\u001B[0m\n\u001B[1;32m   1649\u001B[0m     \u001B[0;34m@\u001B[0m\u001B[0mclassmethod\u001B[0m\u001B[0;34m\u001B[0m\u001B[0;34m\u001B[0m\u001B[0m\n",
      "\u001B[0;32m~/anaconda3/envs/LA/lib/python3.8/zipfile.py\u001B[0m in \u001B[0;36m_extract_member\u001B[0;34m(self, member, targetpath, pwd)\u001B[0m\n\u001B[1;32m   1700\u001B[0m         \u001B[0;32mwith\u001B[0m \u001B[0mself\u001B[0m\u001B[0;34m.\u001B[0m\u001B[0mopen\u001B[0m\u001B[0;34m(\u001B[0m\u001B[0mmember\u001B[0m\u001B[0;34m,\u001B[0m \u001B[0mpwd\u001B[0m\u001B[0;34m=\u001B[0m\u001B[0mpwd\u001B[0m\u001B[0;34m)\u001B[0m \u001B[0;32mas\u001B[0m \u001B[0msource\u001B[0m\u001B[0;34m,\u001B[0m\u001B[0;31m \u001B[0m\u001B[0;31m\\\u001B[0m\u001B[0;34m\u001B[0m\u001B[0;34m\u001B[0m\u001B[0m\n\u001B[1;32m   1701\u001B[0m              \u001B[0mopen\u001B[0m\u001B[0;34m(\u001B[0m\u001B[0mtargetpath\u001B[0m\u001B[0;34m,\u001B[0m \u001B[0;34m\"wb\"\u001B[0m\u001B[0;34m)\u001B[0m \u001B[0;32mas\u001B[0m \u001B[0mtarget\u001B[0m\u001B[0;34m:\u001B[0m\u001B[0;34m\u001B[0m\u001B[0;34m\u001B[0m\u001B[0m\n\u001B[0;32m-> 1702\u001B[0;31m             \u001B[0mshutil\u001B[0m\u001B[0;34m.\u001B[0m\u001B[0mcopyfileobj\u001B[0m\u001B[0;34m(\u001B[0m\u001B[0msource\u001B[0m\u001B[0;34m,\u001B[0m \u001B[0mtarget\u001B[0m\u001B[0;34m)\u001B[0m\u001B[0;34m\u001B[0m\u001B[0;34m\u001B[0m\u001B[0m\n\u001B[0m\u001B[1;32m   1703\u001B[0m \u001B[0;34m\u001B[0m\u001B[0m\n\u001B[1;32m   1704\u001B[0m         \u001B[0;32mreturn\u001B[0m \u001B[0mtargetpath\u001B[0m\u001B[0;34m\u001B[0m\u001B[0;34m\u001B[0m\u001B[0m\n",
      "\u001B[0;32m~/anaconda3/envs/LA/lib/python3.8/shutil.py\u001B[0m in \u001B[0;36mcopyfileobj\u001B[0;34m(fsrc, fdst, length)\u001B[0m\n\u001B[1;32m    203\u001B[0m         \u001B[0;32mif\u001B[0m \u001B[0;32mnot\u001B[0m \u001B[0mbuf\u001B[0m\u001B[0;34m:\u001B[0m\u001B[0;34m\u001B[0m\u001B[0;34m\u001B[0m\u001B[0m\n\u001B[1;32m    204\u001B[0m             \u001B[0;32mbreak\u001B[0m\u001B[0;34m\u001B[0m\u001B[0;34m\u001B[0m\u001B[0m\n\u001B[0;32m--> 205\u001B[0;31m         \u001B[0mfdst_write\u001B[0m\u001B[0;34m(\u001B[0m\u001B[0mbuf\u001B[0m\u001B[0;34m)\u001B[0m\u001B[0;34m\u001B[0m\u001B[0;34m\u001B[0m\u001B[0m\n\u001B[0m\u001B[1;32m    206\u001B[0m \u001B[0;34m\u001B[0m\u001B[0m\n\u001B[1;32m    207\u001B[0m \u001B[0;32mdef\u001B[0m \u001B[0m_samefile\u001B[0m\u001B[0;34m(\u001B[0m\u001B[0msrc\u001B[0m\u001B[0;34m,\u001B[0m \u001B[0mdst\u001B[0m\u001B[0;34m)\u001B[0m\u001B[0;34m:\u001B[0m\u001B[0;34m\u001B[0m\u001B[0;34m\u001B[0m\u001B[0m\n",
      "\u001B[0;31mKeyboardInterrupt\u001B[0m: "
     ]
    }
   ],
   "source": [
    "TMP_DIR = tempfile.mkdtemp()\n",
    "\n",
    "for fname in tqdm(list(DPA4.TRACE_URLS.keys())):\n",
    "    with zipfile.ZipFile(f\"{DPA4.ROOT_RAW}/{fname}\",\"r\") as zip_ref:\n",
    "        zip_ref.extractall(TMP_DIR)\n",
    "\n",
    "TMP_DIR"
   ],
   "metadata": {
    "collapsed": false,
    "pycharm": {
     "name": "#%%\n"
    }
   }
  },
  {
   "cell_type": "code",
   "execution_count": null,
   "outputs": [],
   "source": [
    "with bz2.open(f\"{TMP_DIR}/DPA_contestv4_2/k00/DPACV42_000000.trc.bz2\", 'rb') as file:\n",
    "    EXAMPLE_TRACE = bytearray(file.read())\n",
    "\n",
    "TRACE_SIZE = 1704402\n",
    "HEADER_SIZE = 357\n",
    "len(EXAMPLE_TRACE) - TRACE_SIZE\n"
   ],
   "metadata": {
    "collapsed": false,
    "pycharm": {
     "name": "#%%\n"
    }
   }
  },
  {
   "cell_type": "markdown",
   "source": [
    "### Header offsets\n",
    "\n",
    "Acquired from [the DPA contest website](http://www.dpacontest.org/v4/42_traces.php) on 2020-11-26."
   ],
   "metadata": {
    "collapsed": false
   }
  },
  {
   "cell_type": "code",
   "execution_count": null,
   "metadata": {
    "collapsed": true
   },
   "outputs": [],
   "source": [
    "HEADER_FIELDS = {\n",
    "    0: (\"Descriptor Name\", str),\n",
    "    16: (\"Template Name\", str),\n",
    "    32: (\"Comm Type\", int),\n",
    "    34: (\"Comm Order\", int),\n",
    "    36: (\"Wave Descriptor\", int),\n",
    "    40: (\"User Text\", int),\n",
    "    44: (\"Res Desc1\", int),\n",
    "    48: (\"TrigTime Array\", int),\n",
    "    52: (\"Ris Time Array\", int),\n",
    "    56: (\"Res Array 1\", int),\n",
    "    60: (\"Wave Array 1\", int),\n",
    "    64: (\"Wave Array 2\", int),\n",
    "    76: (\"Instrument Name\", str),\n",
    "    116: (\"Wave Array Count\", int),\n",
    "    (116 + 4): (\"END\", None),\n",
    "    124: (\"First Valid Point\", int),\n",
    "    128: (\"Last Valid Point\", int),\n",
    "    (128 + 4): (\"END\", None),\n",
    "    156: (\"Vertical gain\", float),\n",
    "    160: (\"Vertical offset\", float),\n",
    "    172: (\"Nominal Bits\", int),\n",
    "    (172 + 2): (\"END\", None),\n",
    "}"
   ]
  },
  {
   "cell_type": "code",
   "execution_count": null,
   "outputs": [],
   "source": [
    "START = 11"
   ],
   "metadata": {
    "collapsed": false,
    "pycharm": {
     "name": "#%%\n"
    }
   }
  },
  {
   "cell_type": "code",
   "execution_count": null,
   "outputs": [],
   "source": [
    "def parse_header(trace, start=START):\n",
    "    offset = 0\n",
    "    for next_offset in list(HEADER_FIELDS.keys())[1:]:\n",
    "        f_name, f_type = HEADER_FIELDS[offset]\n",
    "        header_part = trace[ offset+start:next_offset+start ]\n",
    "\n",
    "        if f_type == str:\n",
    "            print(f_name, \":\\t\", header_part.decode('ascii').rstrip('\\x00'))\n",
    "        elif f_type == int:\n",
    "            print(f_name, \":\\t\", int.from_bytes(header_part, \"little\", signed=True))\n",
    "\n",
    "        offset = next_offset\n",
    "\n",
    "parse_header(EXAMPLE_TRACE)"
   ],
   "metadata": {
    "collapsed": false,
    "pycharm": {
     "name": "#%%\n"
    }
   }
  },
  {
   "cell_type": "code",
   "execution_count": null,
   "outputs": [],
   "source": [
    "SPLIT = 5000\n",
    "def get_filename(ix):\n",
    "    return f\"{TMP_DIR}/DPA_contestv4_2/k{str(math.floor(ix / SPLIT)).zfill(2)}/DPACV42_{str(ix).zfill(6)}.trc.bz2\"\n",
    "\n",
    "def get_trace_from_bz2(ix):\n",
    "    with bz2.open(get_filename(ix), 'rb') as file:\n",
    "        res = bytearray(file.read())\n",
    "\n",
    "    return res"
   ],
   "metadata": {
    "collapsed": false,
    "pycharm": {
     "name": "#%%\n"
    }
   }
  },
  {
   "cell_type": "code",
   "execution_count": null,
   "outputs": [],
   "source": [
    "def get_trace(trace, start=START):\n",
    "    # Check that the trace has the expected start offset.\n",
    "    assert trace[start:start + 16].decode('ascii').rstrip('\\x00') == \"WAVEDESC\"\n",
    "\n",
    "    p_first = int.from_bytes(trace[124+start:128+start], \"little\", signed=True)\n",
    "    p_last = int.from_bytes(trace[128+start:132+start], \"little\", signed=True)\n",
    "\n",
    "    # Check that the trace has expected size.\n",
    "    assert p_last - p_first == TRACE_SIZE - 1\n",
    "    # Check that the trace ends with expected junk bytes.\n",
    "    assert trace[-2:] == b'\\xee\\xee'\n",
    "\n",
    "    return trace[-(p_last + 2):-2]\n",
    "\n",
    "np.array([int(b) for b in get_trace(EXAMPLE_TRACE)])"
   ],
   "metadata": {
    "collapsed": false,
    "pycharm": {
     "name": "#%%\n"
    }
   }
  },
  {
   "cell_type": "code",
   "execution_count": null,
   "outputs": [],
   "source": [
    "import seaborn as sns\n",
    "\n",
    "sns.lineplot(data=np.array([int(b) for b in get_trace(EXAMPLE_TRACE)])[:1000])"
   ],
   "metadata": {
    "collapsed": false,
    "pycharm": {
     "name": "#%%\n"
    }
   }
  },
  {
   "cell_type": "code",
   "source": [
    "### DPA header description\n",
    "\n",
    "# 0 \tDescriptor Name \tNull terminated string  The first 8 chars are always \"WAVEDESC\" \t        WAVEDESC\n",
    "# 16 \tTemplate Names      Null terminated string  LECROY_2_3\n",
    "# 32 \tComm Type \t        16-bit data \t        Format of data samples                              (0: byte (8-bit signed values), 1: word (16-bit signed values)) \t0 (8-bit signed values)\n",
    "# 34 \tComm Order \t        16-bit data \t        Format of data samples                              (0: MSB first, 1: LSB first) \t1 (LSB first)\n",
    "# 36 \tWave Descriptor \t32-bit signed data \t    Length in bytes of the block WAVEDESC \t            346\n",
    "# 40 \tUser Text \t        32-bit signed data \t    Length in bytes of the block USERTEXT \t            0\n",
    "# 44 \tRes Desc1       \t32-bit signed data \t    Length in bytes of the block RES_DESC1 \t            0\n",
    "# 48 \tTrigTime Array  \t32-bit signed data \t    Length in bytes of the TRIGTIME array \t            0\n",
    "# 52 \tRis Time Array  \t32-bit signed data \t    Length in bytes of the RIS_TIME array \t            0\n",
    "# 56 \tRes Array 1 \t    32-bit signed data \t\t                                                    0\n",
    "# 60 \tWave Array 1 \t    32-bit signed data \t    Length in bytes of the 1st data array \t            1,704,402\n",
    "# 64 \tWave Array 2 \t    32-bit signed data \t    Length in bytes of the 2nd data array \t            0\n",
    "# 76 \tInstrument Name \tNull terminated string  Name of the instrument \t                            LECROYWR6100A\n",
    "# 116 \tWave Array Count \t32-bit signed data  \tNumber of data points (samples) in the data array \t1,704,402\n",
    "# 124 \tFirst Valid Point \t32-bit signed data \t    Number of points to skip before first good point \t0\n",
    "# 128 \tLast Valid Point \t32-bit signed data \t    Index of last good data point \t                    1,704,401\n",
    "# 156 \tVertical gain \t    float                   (32-bit IEEE floating point value) \t                Vertical gain\n",
    "# 160 \tVertical offset \tfloat                   (32-bit IEEE floating point value) \t                Vertical offset\n",
    "# 172 \tNominal Bits \t    16-bit signed data \t    Intrinsic precision of the observation \t            8 bits\n"
   ],
   "metadata": {
    "collapsed": false,
    "pycharm": {
     "name": "#%%\n"
    }
   },
   "execution_count": 3,
   "outputs": []
  }
 ],
 "metadata": {
  "kernelspec": {
   "display_name": "Python 3",
   "language": "python",
   "name": "python3"
  },
  "language_info": {
   "codemirror_mode": {
    "name": "ipython",
    "version": 2
   },
   "file_extension": ".py",
   "mimetype": "text/x-python",
   "name": "python",
   "nbconvert_exporter": "python",
   "pygments_lexer": "ipython2",
   "version": "2.7.6"
  }
 },
 "nbformat": 4,
 "nbformat_minor": 0
}