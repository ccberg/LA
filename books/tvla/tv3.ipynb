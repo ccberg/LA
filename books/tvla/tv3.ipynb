{
 "cells": [
  {
   "cell_type": "markdown",
   "metadata": {},
   "source": [
    "### TVLA using min-$p$ as a performance measure."
   ]
  },
  {
   "cell_type": "code",
   "execution_count": 1,
   "metadata": {
    "pycharm": {
     "name": "#%%\n"
    }
   },
   "outputs": [],
   "source": [
    "import numpy as np\n",
    "from numpy.testing import assert_equal, assert_almost_equal\n",
    "from scipy.stats import t as stats_t\n",
    "from scipy.stats import ttest_ind"
   ]
  },
  {
   "cell_type": "code",
   "execution_count": 2,
   "metadata": {
    "pycharm": {
     "name": "#%%\n"
    }
   },
   "outputs": [],
   "source": [
    "from tqdm import tqdm\n",
    "from src.tools.plotter import plot_p_gradient, plot_accu\n",
    "from src.tvla.accu import TvlaAccu\n",
    "\n",
    "\n",
    "def make_t_test(n: int):\n",
    "    \"\"\"\n",
    "    Returns a t-test that takes the sample mean and variance for a list of sample points from A, and a list of sample\n",
    "    points for B.\n",
    "    \"\"\"\n",
    "    n_sqrt = np.sqrt(n)\n",
    "    nmm = n - 1\n",
    "\n",
    "    def welch_t_test(a: np.array, b: np.array):\n",
    "        mean_a, var_a = a\n",
    "        mean_b, var_b = b\n",
    "\n",
    "        # Prevent division by 0 errors\n",
    "        var_a += .001\n",
    "        var_b += .001\n",
    "\n",
    "        m = mean_a - mean_b\n",
    "        s = np.sqrt(var_a + var_b) / n_sqrt\n",
    "\n",
    "        t = m / s\n",
    "\n",
    "        dof = (var_a + var_b) ** 2 / ((var_a ** 2 + var_b ** 2) / nmm)\n",
    "\n",
    "        p = 2 * stats_t(df=dof).cdf(-np.abs(t))\n",
    "\n",
    "        return t, p\n",
    "\n",
    "    return welch_t_test"
   ]
  },
  {
   "cell_type": "code",
   "execution_count": 3,
   "metadata": {
    "pycharm": {
     "name": "#%%\n"
    }
   },
   "outputs": [],
   "source": [
    "TRACE_LEN = 1400\n",
    "\n",
    "def gen_example(mean, trace_num, trace_len=TRACE_LEN):\n",
    "    return np.random.normal(mean, 2.2, size=(trace_num, trace_len)).astype(np.uint8)\n",
    "\n",
    "def gen_random(mean_a, mean_b, trace_num, trace_len=TRACE_LEN):\n",
    "    ex_random = np.array([gen_example(mu, trace_num) for mu in [mean_a, mean_b]]).reshape(2 * trace_num, trace_len)\n",
    "    np.random.shuffle(ex_random)\n",
    "\n",
    "    return ex_random[NUM_TRACES:], ex_random[:NUM_TRACES]\n",
    "\n",
    "def get_mv(x: np.array):\n",
    "    return np.array((x.mean(axis=0), x.var(axis=0)))\n",
    "\n",
    "NUM_TRACES = 1000\n",
    "\n",
    "ex_a1 = gen_example(80, NUM_TRACES)\n",
    "ex_a2 = gen_example(80, NUM_TRACES)\n",
    "ex_b1 = gen_example(81, NUM_TRACES)\n",
    "ex_r1, ex_r2 = gen_random(80, 81, NUM_TRACES)"
   ]
  },
  {
   "cell_type": "code",
   "execution_count": 4,
   "metadata": {
    "pycharm": {
     "name": "#%%\n"
    }
   },
   "outputs": [
    {
     "data": {
      "text/plain": "array([4.83039635e-21, 1.29351375e-19, 2.44259098e-28, 9.04457205e-24,\n       1.25040458e-20])"
     },
     "execution_count": 4,
     "metadata": {},
     "output_type": "execute_result"
    }
   ],
   "source": [
    "res_sp = ttest_ind(ex_a1, ex_b1, axis=0, equal_var=False)[1]\n",
    "\n",
    "res_sp[:5]"
   ]
  },
  {
   "cell_type": "code",
   "execution_count": 5,
   "metadata": {
    "pycharm": {
     "name": "#%%\n"
    }
   },
   "outputs": [
    {
     "data": {
      "text/plain": "array([4.66688893e-21, 1.25212828e-19, 2.32889031e-28, 8.69447478e-24,\n       1.20825643e-20])"
     },
     "execution_count": 5,
     "metadata": {},
     "output_type": "execute_result"
    }
   ],
   "source": [
    "test = make_t_test(NUM_TRACES)\n",
    "\n",
    "res_custom = test(get_mv(ex_a1), get_mv(ex_b1))[1]\n",
    "\n",
    "res_custom[:5]"
   ]
  },
  {
   "cell_type": "code",
   "execution_count": 6,
   "metadata": {
    "pycharm": {
     "name": "#%%\n"
    }
   },
   "outputs": [
    {
     "data": {
      "text/plain": "(0.0010600531919137794, 3.301687067893557e-41)"
     },
     "execution_count": 6,
     "metadata": {},
     "output_type": "execute_result"
    }
   ],
   "source": [
    "ex_test_aa = np.min(test(get_mv(ex_a1), get_mv(ex_a2))[1])\n",
    "ex_test_ab = np.min(test(get_mv(ex_a1), get_mv(ex_b1))[1])\n",
    "\n",
    "ex_test_aa, ex_test_ab"
   ]
  },
  {
   "cell_type": "markdown",
   "metadata": {
    "pycharm": {
     "name": "#%% md\n"
    }
   },
   "source": [
    "$\\sigma^2=\\frac{1}{N}\\underset{i=1}{\\overset{N}{\\sum}}{x_i^2-\\mu^2} =\n",
    "\\underset{i=1}{\\overset{N}{\\sum}}{(\\frac{x_i^2}{N}-\\frac{\\mu^2}{N})}$"
   ]
  },
  {
   "cell_type": "code",
   "execution_count": 7,
   "metadata": {
    "pycharm": {
     "name": "#%%\n"
    }
   },
   "outputs": [],
   "source": [
    "class Accu:\n",
    "    def __init__(self, trace_len: int):\n",
    "        self.n = 0\n",
    "        self.mean = np.zeros(trace_len, dtype=np.float128)\n",
    "        self.var = np.zeros(trace_len, dtype=np.float128)\n",
    "        self.cm = np.zeros(trace_len, dtype=np.float128)\n",
    "\n",
    "    def add(self, trace):\n",
    "        self.n += 1\n",
    "\n",
    "        if self.n > 1:\n",
    "            self.mean += (-self.mean + trace) / self.n\n",
    "        else:\n",
    "            self.mean = trace\n",
    "\n",
    "        self.cm += (-self.cm + np.power(trace, 2)) / self.n\n",
    "        self.var = self.cm - np.power(self.mean, 2)\n",
    "\n",
    "    def get_mean(self):\n",
    "        return self.mean.astype(np.float64)\n",
    "\n",
    "    def get_var(self):\n",
    "        return self.var.astype(np.float64)\n",
    "\n",
    "\n",
    "# acc = Accu(ex_a.shape[1])\n",
    "# [acc.add(ex_a[i]) for i in range(len(ex_a))]\n",
    "#\n",
    "# acc.get_var(), ex_a.var(axis=0)"
   ]
  },
  {
   "cell_type": "code",
   "execution_count": 8,
   "metadata": {
    "pycharm": {
     "name": "#%%\n"
    }
   },
   "outputs": [
    {
     "data": {
      "text/plain": "(array([79.537, 79.507, 79.462, 79.471, 79.442]),\n array([79.537, 79.507, 79.462, 79.471, 79.442]))"
     },
     "execution_count": 8,
     "metadata": {},
     "output_type": "execute_result"
    }
   ],
   "source": [
    "ns = np.repeat(1 / np.arange(1, len(ex_a1) + 1)[:, np.newaxis], ex_a1.shape[1], axis=1)\n",
    "cs_mean = np.cumsum(ex_a1, axis=0) * ns\n",
    "\n",
    "cs_mean[-1][:5], ex_a1.mean(axis=0)[:5]"
   ]
  },
  {
   "cell_type": "code",
   "execution_count": 9,
   "metadata": {
    "pycharm": {
     "name": "#%%\n"
    }
   },
   "outputs": [
    {
     "data": {
      "text/plain": "(array([-6229.39907474, -6193.91670736, -6212.87660533, -6220.76313712,\n        -6180.26245674]),\n array([4.646631, 5.133951, 5.148556, 4.641159, 4.708636]))"
     },
     "execution_count": 9,
     "metadata": {},
     "output_type": "execute_result"
    }
   ],
   "source": [
    "x2 = np.cumsum(np.power(ex_a1, 2) - np.power(cs_mean, 2), axis=0) * ns\n",
    "x2[-1][:5], ex_a1.var(axis=0)[:5]"
   ]
  },
  {
   "cell_type": "code",
   "execution_count": 10,
   "metadata": {
    "pycharm": {
     "name": "#%%\n"
    }
   },
   "outputs": [
    {
     "data": {
      "text/plain": "(array([4.646631, 5.133951, 5.148556, ..., 4.703984, 5.059559, 4.992839]),\n array([4.646631, 5.133951, 5.148556, ..., 4.703984, 5.059559, 4.992839]))"
     },
     "execution_count": 10,
     "metadata": {},
     "output_type": "execute_result"
    }
   ],
   "source": [
    "def mv_cumsum(a):\n",
    "    a = a.astype(np.float128)\n",
    "    n = np.repeat(np.arange(1, len(a) + 1)[:, np.newaxis], a.shape[1], axis=1).astype(np.float128)\n",
    "\n",
    "    a_mean = np.cumsum(a, axis=0) / n\n",
    "    a_var = np.cumsum(np.power(a, 2), axis=0) / n - np.power(a_mean, 2)\n",
    "\n",
    "    return np.array([a_mean.astype(np.float64), a_var.astype(np.float64)])\n",
    "\n",
    "def p_gradient(a, b):\n",
    "    trace_len = a.shape[1]\n",
    "    assert trace_len == b.shape[1]\n",
    "\n",
    "    max_traces = max(len(a), len(b))\n",
    "    mv_a, mv_b = mv_cumsum(a), mv_cumsum(b)\n",
    "\n",
    "    res = np.ones(max_traces)\n",
    "    min_res = 1\n",
    "    for i in tqdm(range(1, max_traces)):\n",
    "        t_test = make_t_test(i+1)\n",
    "        min_res = min(min_res, np.min(t_test(mv_a[:, i], mv_b[:, i])[1]))\n",
    "\n",
    "        res[i] = min_res\n",
    "\n",
    "    return res\n",
    "\n",
    "mv_cumsum(ex_a1)[1][-1], ex_a1.var(axis=0)"
   ]
  },
  {
   "cell_type": "code",
   "execution_count": 11,
   "metadata": {
    "pycharm": {
     "name": "#%%\n"
    }
   },
   "outputs": [
    {
     "name": "stderr",
     "output_type": "stream",
     "text": [
      "100%|██████████| 999/999 [00:00<00:00, 1138.34it/s]\n",
      "100%|██████████| 999/999 [00:00<00:00, 1226.52it/s]\n",
      "100%|██████████| 999/999 [00:00<00:00, 1196.60it/s]\n"
     ]
    },
    {
     "data": {
      "text/plain": "<Figure size 432x288 with 1 Axes>",
      "image/png": "[encoded data removed]"
     },
     "metadata": {},
     "output_type": "display_data"
    }
   ],
   "source": [
    "plot_p_gradient({\n",
    "    \"A vs. B\": p_gradient(ex_a1, ex_b1),\n",
    "    \"A vs. A\": p_gradient(ex_a1, ex_a2),\n",
    "    \"Random\": p_gradient(ex_r1, ex_r2),\n",
    "})"
   ]
  },
  {
   "cell_type": "code",
   "execution_count": 12,
   "outputs": [
    {
     "name": "stderr",
     "output_type": "stream",
     "text": [
      "100%|██████████| 999/999 [00:00<00:00, 1148.68it/s]\n"
     ]
    },
    {
     "data": {
      "text/plain": "<Figure size 432x288 with 1 Axes>",
      "image/png": "[encoded data removed]"
     },
     "metadata": {},
     "output_type": "display_data"
    }
   ],
   "source": [
    "plot_p_gradient({\n",
    "    \"A vs. B\": p_gradient(ex_a1, ex_b1),\n",
    "})"
   ],
   "metadata": {
    "collapsed": false,
    "pycharm": {
     "name": "#%%\n"
    }
   }
  },
  {
   "cell_type": "code",
   "execution_count": 23,
   "metadata": {
    "pycharm": {
     "name": "#%%\n"
    }
   },
   "outputs": [
    {
     "name": "stderr",
     "output_type": "stream",
     "text": [
      "Calculating central moments for A: 100%|██████████| 3/3 [00:00<00:00, 21.67it/s]\n",
      "Calculating central moments for B: 100%|██████████| 3/3 [00:00<00:00, 24.69it/s]\n",
      "Running t-tests: 100%|██████████| 999/999 [00:00<00:00, 1083.51it/s]\n"
     ]
    }
   ],
   "source": [
    "acc = TvlaAccu(ex_a1.shape[1])\n",
    "acc.add(ex_a1, ex_b1)\n",
    "\n",
    "assert_equal(acc.last[0][0], ex_a1.mean(axis=0))\n",
    "assert_equal(acc.last[1][0], ex_b1.mean(axis=0))\n",
    "assert_almost_equal(acc.last[0][1], ex_a1.var(axis=0))\n",
    "assert_almost_equal(acc.last[1][1], ex_b1.var(axis=0))"
   ]
  },
  {
   "cell_type": "code",
   "execution_count": null,
   "outputs": [],
   "source": [
    "Z = zip(acc.p_gradient, [min(ttest_ind(ex_a1[:t], ex_b1[:t])[1]) for t in tqdm(range(2, len(ex_a1)))])"
   ],
   "metadata": {
    "collapsed": false,
    "pycharm": {
     "name": "#%%\n"
    }
   }
  },
  {
   "cell_type": "code",
   "execution_count": null,
   "outputs": [],
   "source": [
    "list(Z)"
   ],
   "metadata": {
    "collapsed": false,
    "pycharm": {
     "name": "#%%\n"
    }
   }
  },
  {
   "cell_type": "code",
   "execution_count": 16,
   "metadata": {
    "pycharm": {
     "name": "#%%\n"
    }
   },
   "outputs": [
    {
     "data": {
      "text/plain": "<Figure size 432x288 with 1 Axes>",
      "image/png": "[encoded data removed]"
     },
     "metadata": {},
     "output_type": "display_data"
    }
   ],
   "source": [
    "plot_accu({\"A vs. B\": acc})"
   ]
  }
 ],
 "metadata": {
  "kernelspec": {
   "display_name": "Python 3",
   "language": "python",
   "name": "python3"
  },
  "language_info": {
   "codemirror_mode": {
    "name": "ipython",
    "version": 3
   },
   "file_extension": ".py",
   "mimetype": "text/x-python",
   "name": "python",
   "nbconvert_exporter": "python",
   "pygments_lexer": "ipython3",
   "version": "3.8.5"
  }
 },
 "nbformat": 4,
 "nbformat_minor": 1
}