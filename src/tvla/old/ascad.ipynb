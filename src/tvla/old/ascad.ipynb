{
 "cells": [
  {
   "cell_type": "markdown",
   "metadata": {
    "collapsed": true,
    "pycharm": {
     "name": "#%% md\n"
    }
   },
   "source": [
    "## Classical LA methods applied to the ASCAD database\n",
    "###### This includes my implementations of $\\chi^2$ and Welch's t-test."
   ]
  },
  {
   "cell_type": "code",
   "execution_count": 61,
   "outputs": [],
   "source": [
    "from src.settings.ascad import *"
   ],
   "metadata": {
    "collapsed": false,
    "pycharm": {
     "name": "#%%\n"
    }
   }
  },
  {
   "cell_type": "code",
   "execution_count": 62,
   "outputs": [
    {
     "data": {
      "text/plain": "['Attack_traces', 'Profiling_traces']"
     },
     "execution_count": 62,
     "metadata": {},
     "output_type": "execute_result"
    }
   ],
   "source": [
    "import h5py\n",
    "\n",
    "ascad_hdf = h5py.File(f\"{ASCAD_DATA}{ASCAD_DATA_VAR}/{ASCADDataType.default}.h5\", 'r')\n",
    "\n",
    "keys = list(ascad_hdf.keys())\n",
    "keys"
   ],
   "metadata": {
    "collapsed": false,
    "pycharm": {
     "name": "#%%\n"
    }
   }
  },
  {
   "cell_type": "code",
   "execution_count": 63,
   "outputs": [
    {
     "data": {
      "text/plain": "['labels', 'metadata', 'traces']"
     },
     "execution_count": 63,
     "metadata": {},
     "output_type": "execute_result"
    }
   ],
   "source": [
    "att_group = ascad_hdf[\"Attack_traces\"]\n",
    "\n",
    "att_keys = list(att_group.keys())\n",
    "att_keys"
   ],
   "metadata": {
    "collapsed": false,
    "pycharm": {
     "name": "#%%\n"
    }
   }
  },
  {
   "cell_type": "code",
   "execution_count": 64,
   "outputs": [
    {
     "data": {
      "text/plain": "(100000, 1400)"
     },
     "execution_count": 64,
     "metadata": {},
     "output_type": "execute_result"
    }
   ],
   "source": [
    "att_traces = att_group[\"traces\"]\n",
    "\n",
    "att_traces.shape"
   ],
   "metadata": {
    "collapsed": false,
    "pycharm": {
     "name": "#%%\n"
    }
   }
  },
  {
   "cell_type": "code",
   "execution_count": 65,
   "outputs": [
    {
     "data": {
      "text/plain": "(100000,)"
     },
     "execution_count": 65,
     "metadata": {},
     "output_type": "execute_result"
    }
   ],
   "source": [
    "att_labels = att_group[\"labels\"]\n",
    "\n",
    "att_labels.shape"
   ],
   "metadata": {
    "collapsed": false,
    "pycharm": {
     "name": "#%%\n"
    }
   }
  },
  {
   "cell_type": "code",
   "execution_count": 66,
   "outputs": [
    {
     "name": "stderr",
     "output_type": "stream",
     "text": [
      "100%|██████████| 9/9 [00:00<00:00, 27634.51it/s]\n"
     ]
    }
   ],
   "source": [
    "import tqdm\n",
    "\n",
    "for _ in tqdm.tqdm(att_traces[1:10]):\n",
    "    pass"
   ],
   "metadata": {
    "collapsed": false,
    "pycharm": {
     "name": "#%%\n"
    }
   }
  },
  {
   "cell_type": "code",
   "execution_count": 67,
   "outputs": [],
   "source": [
    "att_head = att_traces[1:10]"
   ],
   "metadata": {
    "collapsed": false,
    "pycharm": {
     "name": "#%%\n"
    }
   }
  },
  {
   "cell_type": "code",
   "execution_count": 68,
   "outputs": [
    {
     "name": "stdout",
     "output_type": "stream",
     "text": [
      "importing Jupyter notebook from ./welch_t_test.ipynb\n",
      "(0.0, 598.0, 1.0) (0.0, 99, nan)\n",
      "(0.0, 300.17360193005874, 1.0) (154.0474237457329, 99, 0.00017509185909780884)\n",
      "False True\n"
     ]
    }
   ],
   "source": [
    "from src.settings.nbloader import NotebookLoader\n",
    "\n",
    "nb = NotebookLoader(\"../\").load_module(\"tvla.welch_t_test\")\n",
    "tp = nb.TraceProcessor()"
   ],
   "metadata": {
    "collapsed": false,
    "pycharm": {
     "name": "#%%\n"
    }
   }
  },
  {
   "cell_type": "code",
   "execution_count": 69,
   "outputs": [
    {
     "data": {
      "text/plain": "(385,)"
     },
     "execution_count": 69,
     "metadata": {},
     "output_type": "execute_result"
    }
   ],
   "source": [
    "import numpy as np\n",
    "\n",
    "fixed_1_ix = np.where(np.array(att_labels) == 1)[0]\n",
    "fixed_2_ix = np.where(np.array(att_labels) == 2)[0]\n",
    "random_not_1_ix = np.array(np.where(np.array(att_labels) != 1)[0])\n",
    "\n",
    "fixed_1_ix.shape"
   ],
   "metadata": {
    "collapsed": false,
    "pycharm": {
     "name": "#%%\n"
    }
   }
  },
  {
   "cell_type": "code",
   "execution_count": 70,
   "outputs": [],
   "source": [
    "fixed_test_size = 10\n",
    "\n",
    "fixed_1 = np.array(att_traces[fixed_1_ix])\n",
    "fixed_2 = np.array(att_traces[fixed_2_ix])\n",
    "\n",
    "len_fixed_1 = fixed_1.shape[0]\n",
    "fixed_1a = np.array(att_traces[fixed_1_ix][:round(len_fixed_1/2)])\n",
    "fixed_1b = np.array(att_traces[fixed_1_ix][round(len_fixed_1/2):])\n",
    "\n",
    "random_not_1 = np.array(att_traces[random_not_1_ix[:len_fixed_1]])"
   ],
   "metadata": {
    "collapsed": false,
    "pycharm": {
     "name": "#%%\n"
    }
   }
  },
  {
   "cell_type": "code",
   "execution_count": 71,
   "outputs": [],
   "source": [
    "all_ixs = range(att_traces.shape[0])\n",
    "\n",
    "random_a_ix = sorted(np.random.choice(all_ixs, len_fixed_1, replace=False))\n",
    "random_b_ix = sorted(np.random.choice(all_ixs, len_fixed_1, replace=False))\n",
    "\n",
    "semi_random_b_ix = sorted(np.random.choice(list(set(all_ixs).difference(set(random_a_ix))), len_fixed_1, replace=False))\n",
    "rand_range_a_ix = np.array(np.where(np.array(att_labels) <= 127)[0])\n",
    "rand_range_b_ix = np.array(np.where(np.array(att_labels) > 127)[0])"
   ],
   "metadata": {
    "collapsed": false,
    "pycharm": {
     "name": "#%%\n"
    }
   }
  },
  {
   "cell_type": "code",
   "execution_count": 72,
   "outputs": [],
   "source": [
    "random_a = np.array(att_traces[random_a_ix])\n",
    "random_b = np.array(att_traces[random_b_ix])\n",
    "semi_random_b = np.array(att_traces[np.sort(semi_random_b_ix)])\n",
    "\n",
    "rand_range_a = np.array(att_traces[rand_range_a_ix[:10000]])\n",
    "rand_range_b = np.array(att_traces[rand_range_b_ix[:10000]])"
   ],
   "metadata": {
    "collapsed": false,
    "pycharm": {
     "name": "#%%\n"
    }
   }
  },
  {
   "cell_type": "markdown",
   "source": [
    "# Classical LA methods\n",
    "## $t$-test method"
   ],
   "metadata": {
    "collapsed": false,
    "pycharm": {
     "name": "#%% md\n"
    }
   }
  },
  {
   "cell_type": "code",
   "execution_count": 73,
   "outputs": [],
   "source": [
    "def nonzero_bins(bins):\n",
    "    \"\"\"\n",
    "    Retrieves all bins for which at least one category has a non-zero value.\n",
    "\n",
    "    :param bins: a set of categories with bins corresponding to that category.\n",
    "    :return: the indexes of non-zero bins.\n",
    "    \"\"\"\n",
    "    nz_bins = []\n",
    "    for ix, a, b in zip(range(len(bins[0])), *bins):\n",
    "        if a == 0 and b == 0:\n",
    "            continue\n",
    "\n",
    "        nz_bins.append(ix)\n",
    "\n",
    "    return nz_bins"
   ],
   "metadata": {
    "collapsed": false,
    "pycharm": {
     "name": "#%%\n"
    }
   }
  },
  {
   "cell_type": "code",
   "execution_count": 74,
   "outputs": [],
   "source": [
    "from collections import Counter\n",
    "\n",
    "DEFAULT_INDEX = range(-128, 127)\n",
    "\n",
    "def extract_ctable(traces):\n",
    "    \"\"\"\n",
    "    Builds a contingency table from traces from the ASCAD dataset.\n",
    "\n",
    "    :param traces: the traces from which the contingency table should be constructed.\n",
    "    :return: the contingency table.\n",
    "    \"\"\"\n",
    "    df = pd.DataFrame([Counter(bins) for bins in traces])\n",
    "    res = df.sum().sort_index().reindex(DEFAULT_INDEX, fill_value=0).values\n",
    "\n",
    "    return np.array(res, dtype=int)"
   ],
   "metadata": {
    "collapsed": false,
    "pycharm": {
     "name": "#%%\n"
    }
   }
  },
  {
   "cell_type": "code",
   "execution_count": 75,
   "outputs": [
    {
     "data": {
      "text/plain": "(0.0, 1077998.0, 1.0)"
     },
     "execution_count": 75,
     "metadata": {},
     "output_type": "execute_result"
    }
   ],
   "source": [
    "import scipy.stats as stats\n",
    "import numpy as np\n",
    "import math\n",
    "\n",
    "def calc_t(ctable):\n",
    "    mean = [0, 0]\n",
    "    var = [0, 0]\n",
    "    n = [0, 0]\n",
    "\n",
    "    rg = [abs(a - b) for a, b in zip(*ctable)]\n",
    "\n",
    "    for ix_cat in range(2):\n",
    "        for ix_bin in range(len(ctable[ix_cat])):\n",
    "            mean[ix_cat] += ctable[ix_cat][ix_bin] * rg[ix_bin]\n",
    "            n[ix_cat] += ctable[ix_cat][ix_bin]\n",
    "\n",
    "        mean[ix_cat] /= n[ix_cat]\n",
    "\n",
    "        for ix_bin in range(len(ctable[ix_cat])):\n",
    "            tmp = (rg[ix_bin] - mean[ix_cat])\n",
    "            var[ix_cat] += tmp ** 2 + ctable[ix_cat][ix_bin]\n",
    "\n",
    "        var[ix_cat] /= n[ix_cat]\n",
    "\n",
    "    # t-value\n",
    "    mean_diff = mean[0] - mean[1]\n",
    "    var_sum = (var[0] / n[0]) + (var[1] / n[1])\n",
    "    t_ret = mean_diff / math.sqrt(var_sum)\n",
    "\n",
    "    # degree of freedom\n",
    "    denom = ((var[0] / n[0]) * (var[0] / n[0])) / (n[0] - 1) + ((var[1] / n[1]) * (var[1] / n[1])) / (n[1] - 1)\n",
    "    t_dof_ret = var_sum ** 2 / denom\n",
    "\n",
    "    # cdf\n",
    "    t_p_ret = 2 * stats.t(t_dof_ret).cdf(-abs(t_ret))\n",
    "\n",
    "    return t_ret, t_dof_ret, t_p_ret\n",
    "\n",
    "calc_t([extract_ctable(fixed_1), extract_ctable(fixed_1)])"
   ],
   "metadata": {
    "collapsed": false,
    "pycharm": {
     "name": "#%%\n"
    }
   }
  },
  {
   "cell_type": "code",
   "execution_count": 76,
   "outputs": [
    {
     "data": {
      "text/plain": "(447.93165173122577, 1058493.3884671174, 0.0)"
     },
     "execution_count": 76,
     "metadata": {},
     "output_type": "execute_result"
    }
   ],
   "source": [
    "calc_t([extract_ctable(fixed_1), extract_ctable(fixed_2)])"
   ],
   "metadata": {
    "collapsed": false,
    "pycharm": {
     "name": "#%%\n"
    }
   }
  },
  {
   "cell_type": "markdown",
   "source": [
    "## $\\chi^2$ method"
   ],
   "metadata": {
    "collapsed": false,
    "pycharm": {
     "name": "#%% md\n"
    }
   }
  },
  {
   "cell_type": "code",
   "execution_count": 77,
   "outputs": [],
   "source": [
    "def calc_chi(ctable):\n",
    "    \"\"\"\n",
    "    Calculates the p value for rejecting H0, among others.\n",
    "    Small p values give evidence to reject the null hypothesis and conclude that for the\n",
    "    scenarios presented in ctable the occurrences of the observations are not independent.\n",
    "\n",
    "    :param ctable: contingency table for different categories of traces.\n",
    "    :return: A 3-tuple containing: The value for chi, the degrees of freedom,\n",
    "        the p value for rejecting H0.\n",
    "    \"\"\"\n",
    "    num_cats = len(ctable)\n",
    "    num_bins = len(ctable[0])\n",
    "\n",
    "    # chi**2 value\n",
    "    sum_rows = [0] * num_cats\n",
    "    sum_cols = [0] * num_bins\n",
    "    N = 0.0\n",
    "\n",
    "    # Only check non-zero bins\n",
    "    nz_bins = nonzero_bins(ctable)\n",
    "\n",
    "    for ix_bin in nz_bins:\n",
    "        for ix_cat in range(num_cats):\n",
    "            # Bin from the contingency table\n",
    "            c_bin = ctable[ix_cat][ix_bin]\n",
    "\n",
    "            sum_rows[ix_cat] += c_bin\n",
    "            sum_cols[ix_bin] += c_bin\n",
    "            N += c_bin\n",
    "\n",
    "    chi = 0.0\n",
    "    for ix_bin in nz_bins:\n",
    "        for ix_cat in range(num_cats):\n",
    "            E = (sum_rows[ix_cat] * sum_cols[ix_bin]) / N\n",
    "            tmp = (ctable[ix_cat][ix_bin] - E)\n",
    "\n",
    "            chi += tmp ** 2 / E\n",
    "\n",
    "    # Degrees of freedom\n",
    "    dof = (num_bins - 1) * (num_cats - 1)\n",
    "    # p-value for rejecting H0\n",
    "    p = stats.chi2(dof).cdf(chi)\n",
    "\n",
    "    return chi, dof, p"
   ],
   "metadata": {
    "collapsed": false,
    "pycharm": {
     "name": "#%%\n"
    }
   }
  },
  {
   "cell_type": "code",
   "execution_count": 78,
   "outputs": [],
   "source": [
    "def p_value_chi(a, b):\n",
    "    print(f\"p-value: {calc_chi([extract_ctable(a), extract_ctable(b)])[2]:.3f}\")"
   ],
   "metadata": {
    "collapsed": false,
    "pycharm": {
     "name": "#%%\n"
    }
   }
  },
  {
   "cell_type": "code",
   "source": [
    "fixed_1"
   ],
   "metadata": {
    "collapsed": false,
    "pycharm": {
     "name": "#%%\n"
    }
   },
   "execution_count": 79,
   "outputs": [
    {
     "data": {
      "text/plain": "array([[-23, -26, -29, ..., -84, -86, -85],\n       [-21, -25, -29, ..., -85, -84, -86],\n       [-20, -24, -29, ..., -86, -85, -86],\n       ...,\n       [-21, -21, -25, ..., -84, -84, -85],\n       [-20, -26, -29, ..., -84, -85, -85],\n       [-21, -21, -26, ..., -85, -85, -85]], dtype=int8)"
     },
     "execution_count": 79,
     "metadata": {},
     "output_type": "execute_result"
    }
   ]
  },
  {
   "cell_type": "code",
   "execution_count": 80,
   "outputs": [
    {
     "data": {
      "text/plain": "array([[-20, -23, -27, ..., -85, -85, -85],\n       [-21, -22, -27, ..., -85, -84, -85],\n       [-21, -20, -26, ..., -84, -85, -87],\n       ...,\n       [-21, -21, -27, ..., -84, -85, -84],\n       [-21, -26, -29, ..., -84, -86, -85],\n       [-20, -20, -26, ..., -85, -85, -85]], dtype=int8)"
     },
     "execution_count": 80,
     "metadata": {},
     "output_type": "execute_result"
    }
   ],
   "source": [
    "random_b"
   ],
   "metadata": {
    "collapsed": false,
    "pycharm": {
     "name": "#%%\n"
    }
   }
  },
  {
   "cell_type": "code",
   "execution_count": 81,
   "outputs": [],
   "source": [
    "cases = {\n",
    "    \"Fixed vs. fixed, equal traces.\": (fixed_1, fixed_1),\n",
    "    \"Fixed vs. fixed, equal key.\": (fixed_1a, fixed_1b),\n",
    "    \"Fixed vs. fixed, different key.\": (fixed_1, fixed_2),\n",
    "    \"Fixed vs. semi-random (fixed key is not in random sample).\": (fixed_1, random_not_1),\n",
    "    \"Fixed vs. random.\": (fixed_1, random_b),\n",
    "    \"Random vs. random.\": (random_a, random_b),\n",
    "    \"Random vs. semi-random\": (random_a, semi_random_b),\n",
    "    \"Semi-random vs. semi-random\": (rand_range_a, rand_range_b)\n",
    "}"
   ],
   "metadata": {
    "collapsed": false,
    "pycharm": {
     "name": "#%%\n"
    }
   }
  },
  {
   "cell_type": "code",
   "execution_count": 82,
   "outputs": [],
   "source": [
    "cases_chi = {\n",
    "    \"Scenario\": list(cases.keys()),\n",
    "    \"p-value $t$\": [f\"{calc_t([extract_ctable(a), extract_ctable(b)])[2]:.3f}\" for a, b in cases.values()],\n",
    "    \"p-value $\\chi^2$\": [f\"{calc_chi([extract_ctable(a), extract_ctable(b)])[2]:.3f}\" for a, b in cases.values()]\n",
    "    }"
   ],
   "metadata": {
    "collapsed": false,
    "pycharm": {
     "name": "#%%\n"
    }
   }
  },
  {
   "cell_type": "markdown",
   "source": [
    "### Examples for $\\chi^2$ on different scenarios.\n",
    "For $\\chi^2$, small p-values give reason to reject $H_0$ =\n",
    "\"the occurrences of these observations are independent\".\n",
    "For $t$, large p-values give reason to reject $H_0$ =\n",
    "\"the samples in both sets are drawn from the same population\"."
   ],
   "metadata": {
    "collapsed": false
   }
  },
  {
   "cell_type": "code",
   "execution_count": 83,
   "outputs": [
    {
     "data": {
      "text/plain": "                                            Scenario p-value $t$  \\\n0                     Fixed vs. fixed, equal traces.       1.000   \n1                        Fixed vs. fixed, equal key.       0.000   \n2                    Fixed vs. fixed, different key.       0.000   \n3  Fixed vs. semi-random (fixed key is not in ran...       0.000   \n4                                  Fixed vs. random.       0.000   \n5                                 Random vs. random.       0.000   \n6                             Random vs. semi-random       0.000   \n7                        Semi-random vs. semi-random       0.000   \n\n  p-value $\\chi^2$  \n0            0.000  \n1            0.204  \n2            0.997  \n3            0.120  \n4            1.000  \n5            0.463  \n6            0.582  \n7            0.355  ",
      "text/html": "<div>\n<style scoped>\n    .dataframe tbody tr th:only-of-type {\n        vertical-align: middle;\n    }\n\n    .dataframe tbody tr th {\n        vertical-align: top;\n    }\n\n    .dataframe thead th {\n        text-align: right;\n    }\n</style>\n<table border=\"1\" class=\"dataframe\">\n  <thead>\n    <tr style=\"text-align: right;\">\n      <th></th>\n      <th>Scenario</th>\n      <th>p-value $t$</th>\n      <th>p-value $\\chi^2$</th>\n    </tr>\n  </thead>\n  <tbody>\n    <tr>\n      <th>0</th>\n      <td>Fixed vs. fixed, equal traces.</td>\n      <td>1.000</td>\n      <td>0.000</td>\n    </tr>\n    <tr>\n      <th>1</th>\n      <td>Fixed vs. fixed, equal key.</td>\n      <td>0.000</td>\n      <td>0.204</td>\n    </tr>\n    <tr>\n      <th>2</th>\n      <td>Fixed vs. fixed, different key.</td>\n      <td>0.000</td>\n      <td>0.997</td>\n    </tr>\n    <tr>\n      <th>3</th>\n      <td>Fixed vs. semi-random (fixed key is not in ran...</td>\n      <td>0.000</td>\n      <td>0.120</td>\n    </tr>\n    <tr>\n      <th>4</th>\n      <td>Fixed vs. random.</td>\n      <td>0.000</td>\n      <td>1.000</td>\n    </tr>\n    <tr>\n      <th>5</th>\n      <td>Random vs. random.</td>\n      <td>0.000</td>\n      <td>0.463</td>\n    </tr>\n    <tr>\n      <th>6</th>\n      <td>Random vs. semi-random</td>\n      <td>0.000</td>\n      <td>0.582</td>\n    </tr>\n    <tr>\n      <th>7</th>\n      <td>Semi-random vs. semi-random</td>\n      <td>0.000</td>\n      <td>0.355</td>\n    </tr>\n  </tbody>\n</table>\n</div>"
     },
     "execution_count": 83,
     "metadata": {},
     "output_type": "execute_result"
    }
   ],
   "source": [
    "pd.DataFrame(cases_chi)\n"
   ],
   "metadata": {
    "collapsed": false,
    "pycharm": {
     "name": "#%%\n"
    }
   }
  }
 ],
 "metadata": {
  "kernelspec": {
   "display_name": "Python 3",
   "language": "python",
   "name": "python3"
  },
  "language_info": {
   "codemirror_mode": {
    "name": "ipython",
    "version": 2
   },
   "file_extension": ".py",
   "mimetype": "text/x-python",
   "name": "python",
   "nbconvert_exporter": "python",
   "pygments_lexer": "ipython2",
   "version": "2.7.6"
  }
 },
 "nbformat": 4,
 "nbformat_minor": 0
}