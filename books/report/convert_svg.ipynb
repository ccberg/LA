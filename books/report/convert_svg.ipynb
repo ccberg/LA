{
 "cells": [
  {
   "cell_type": "code",
   "execution_count": 2,
   "metadata": {
    "collapsed": true
   },
   "outputs": [],
   "source": [
    "import glob\n",
    "from os import path\n",
    "\n",
    "from cairosvg import svg2png"
   ]
  },
  {
   "cell_type": "code",
   "execution_count": 4,
   "outputs": [
    {
     "name": "stderr",
     "output_type": "stream",
     "text": [
      "100%|██████████| 44/44 [00:14<00:00,  3.11it/s]\n"
     ]
    }
   ],
   "source": [
    "from tqdm import tqdm\n",
    "\n",
    "IMG_ROOT = \"../../LA-report/images/\"\n",
    "OUT_DIR = path.join(IMG_ROOT, \"png\")\n",
    "\n",
    "FILES = glob.glob(path.join(IMG_ROOT, \"*.svg\"))\n",
    "\n",
    "for FILE in tqdm(FILES):\n",
    "    basename = path.splitext(path.basename(FILE))[0]\n",
    "    with open(FILE, 'r') as F:\n",
    "        svg2png(bytestring=F.read(),write_to=path.join(OUT_DIR, f\"{basename}.png\"), dpi=300)\n"
   ],
   "metadata": {
    "collapsed": false,
    "pycharm": {
     "name": "#%%\n"
    }
   }
  }
 ],
 "metadata": {
  "kernelspec": {
   "display_name": "Python 3",
   "language": "python",
   "name": "python3"
  },
  "language_info": {
   "codemirror_mode": {
    "name": "ipython",
    "version": 2
   },
   "file_extension": ".py",
   "mimetype": "text/x-python",
   "name": "python",
   "nbconvert_exporter": "python",
   "pygments_lexer": "ipython2",
   "version": "2.7.6"
  }
 },
 "nbformat": 4,
 "nbformat_minor": 0
}