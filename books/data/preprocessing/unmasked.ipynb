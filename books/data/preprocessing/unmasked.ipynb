{
 "cells": [
  {
   "cell_type": "markdown",
   "metadata": {
    "collapsed": true,
    "pycharm": {
     "name": "#%% md\n"
    }
   },
   "source": [
    "# Hamming weight extractor\n",
    "\n",
    "- Extracts the Hamming weight of the state after the SBox in the first round.\n",
    "- Appends a hamming weight column to the ASCAD file."
   ]
  },
  {
   "cell_type": "code",
   "execution_count": 3,
   "outputs": [
    {
     "name": "stderr",
     "output_type": "stream",
     "text": [
      "100%|██████████| 200000/200000 [01:20<00:00, 2497.91it/s]\n",
      "100%|██████████| 100000/100000 [00:40<00:00, 2492.92it/s]\n"
     ]
    }
   ],
   "source": [
    "import h5py\n",
    "from src.data.loaders.ascad import ASCADData, ASCAD_DATA, ASCAD_DATA_VAR, ASCADDataType\n",
    "from tqdm import tqdm\n",
    "import numpy as np\n",
    "\n",
    "from src.data.preprocess.hw import full_states_hw\n",
    "\n",
    "ascad = ASCADData.random_key()\n",
    "plaintext_ix = 0\n",
    "full_key_ix = 1\n",
    "mask_ix = 2\n",
    "\n",
    "pm = ascad[\"Profiling_traces\"][\"metadata\"]\n",
    "am = ascad[\"Attack_traces\"][\"metadata\"]\n",
    "\n",
    "def get_acc(metadata):\n",
    "    return np.zeros((len(metadata), 16), dtype=np.uint8)\n",
    "\n",
    "profile_key, profile_plain, profile_mask = get_acc(pm), get_acc(pm), get_acc(pm)\n",
    "attack_key, attack_plain, attack_mask = get_acc(am), get_acc(am), get_acc(am)\n",
    "\n",
    "for ix in tqdm(range(len(pm))):\n",
    "    profile_key[ix] = pm[ix][full_key_ix]\n",
    "    profile_plain[ix] = pm[ix][plaintext_ix]\n",
    "    profile_mask[ix] = pm[ix][mask_ix][2:]\n",
    "\n",
    "for ix in tqdm(range(len(am))):\n",
    "    attack_key[ix] = am[ix][full_key_ix]\n",
    "    attack_plain[ix] = am[ix][plaintext_ix]\n",
    "    attack_mask[ix] = am[ix][mask_ix][2:]\n",
    "\n",
    "ascad.close()"
   ],
   "metadata": {
    "collapsed": false,
    "pycharm": {
     "name": "#%%\n"
    }
   }
  },
  {
   "cell_type": "code",
   "execution_count": 4,
   "outputs": [],
   "source": [
    "def affine_func(a):\n",
    "    return ((a * 31) % 257) ^ 99\n",
    "\n",
    "def unmask(states, masks):\n",
    "    res = np.zeros_like(states)\n",
    "    s_ix = 0\n",
    "    for state, mask in tqdm(zip(states, masks)):\n",
    "        fm = affine_func(mask)\n",
    "\n",
    "        expand_fm = np.array([fm] * 10)\n",
    "        res[s_ix] = state ^ expand_fm\n",
    "        s_ix += 1\n",
    "\n",
    "    return res"
   ],
   "metadata": {
    "collapsed": false,
    "pycharm": {
     "name": "#%%\n"
    }
   }
  },
  {
   "cell_type": "code",
   "execution_count": 5,
   "outputs": [
    {
     "name": "stderr",
     "output_type": "stream",
     "text": [
      "100%|██████████| 200000/200000 [01:08<00:00, 2938.54it/s]\n",
      "100%|██████████| 100000/100000 [00:34<00:00, 2926.45it/s]\n"
     ]
    }
   ],
   "source": [
    "profile_hw = full_states_hw(profile_plain, profile_key)\n",
    "attack_hw = full_states_hw(attack_plain, attack_key)"
   ],
   "metadata": {
    "collapsed": false,
    "pycharm": {
     "name": "#%%\n"
    }
   }
  },
  {
   "cell_type": "code",
   "execution_count": 6,
   "outputs": [
    {
     "name": "stderr",
     "output_type": "stream",
     "text": [
      "200000it [00:01, 100491.84it/s]\n",
      "100000it [00:00, 101253.36it/s]\n"
     ]
    }
   ],
   "source": [
    "profile_unmask = unmask(profile_hw, profile_mask)\n",
    "attack_unmask = unmask(attack_hw, attack_mask)"
   ],
   "metadata": {
    "collapsed": false,
    "pycharm": {
     "name": "#%%\n"
    }
   }
  },
  {
   "cell_type": "code",
   "execution_count": 7,
   "outputs": [
    {
     "data": {
      "text/plain": "(4.0002320625, 4.0002253125)"
     },
     "execution_count": 7,
     "metadata": {},
     "output_type": "execute_result"
    }
   ],
   "source": [
    "np.mean(profile_hw), np.mean(attack_hw)"
   ],
   "metadata": {
    "collapsed": false,
    "pycharm": {
     "name": "#%%\n"
    }
   }
  },
  {
   "cell_type": "code",
   "execution_count": 8,
   "outputs": [
    {
     "name": "stdout",
     "output_type": "stream",
     "text": [
      "['aes_r1b3', 'hamming_weights', 'hw_unmasked', 'labels', 'labels_hw0', 'labels_mask', 'metadata', 'traces']\n",
      "['aes_r1b3', 'hamming_weights', 'hw_unmasked', 'labels', 'labels_hw0', 'labels_mask', 'metadata', 'traces']\n"
     ]
    }
   ],
   "source": [
    "wrt = h5py.File(f\"{ASCAD_DATA}{ASCAD_DATA_VAR}/{ASCADDataType.default}.h5\", 'r+')\n",
    "\n",
    "for grp_name, grp_data in [(\"Profiling_traces\", profile_hw), (\"Attack_traces\", attack_hw)]:\n",
    "    grp = wrt[grp_name]\n",
    "\n",
    "    if \"hw_unmasked\" in grp:\n",
    "        del grp[\"hw_unmasked\"]\n",
    "    grp[\"hw_unmasked\"] = grp_data\n",
    "\n",
    "wrt.close()\n",
    "\n",
    "chk = h5py.File(f\"{ASCAD_DATA}{ASCAD_DATA_VAR}/{ASCADDataType.default}.h5\", 'r')\n",
    "print(list(chk[\"Profiling_traces\"]))\n",
    "print(list(chk[\"Attack_traces\"]))\n",
    "chk.close()\n"
   ],
   "metadata": {
    "collapsed": false,
    "pycharm": {
     "name": "#%%\n"
    }
   }
  }
 ],
 "metadata": {
  "kernelspec": {
   "display_name": "Python 3",
   "language": "python",
   "name": "python3"
  },
  "language_info": {
   "codemirror_mode": {
    "name": "ipython",
    "version": 2
   },
   "file_extension": ".py",
   "mimetype": "text/x-python",
   "name": "python",
   "nbconvert_exporter": "python",
   "pygments_lexer": "ipython2",
   "version": "2.7.6"
  }
 },
 "nbformat": 4,
 "nbformat_minor": 0
}