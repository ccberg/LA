{
 "cells": [
  {
   "cell_type": "code",
   "execution_count": 1,
   "metadata": {
    "collapsed": true
   },
   "outputs": [],
   "source": [
    "import os\n",
    "from os import path\n",
    "\n",
    "import h5py\n",
    "import numpy as np\n",
    "from tqdm import tqdm\n",
    "\n",
    "from src.data.loaders.ascad import ASCADData\n",
    "from src.data.preprocess.hw import full_states, hamming_weights\n",
    "from src.tools.cache import cache_np\n",
    "from src.trace_set.database import Database\n",
    "from src.trace_set.set_hw import TraceSetHW"
   ]
  },
  {
   "cell_type": "code",
   "execution_count": 2,
   "outputs": [],
   "source": [
    "with ASCADData.random_key() as in_file:\n",
    "    PROF_PLAIN = in_file['Profiling_traces/metadata']['plaintext']\n",
    "    PROF_KEY = in_file['Profiling_traces/metadata']['key']\n",
    "\n",
    "    ATT_PLAIN = in_file['Attack_traces/metadata']['plaintext']\n",
    "    ATT_KEY = in_file['Attack_traces/metadata']['key']"
   ],
   "metadata": {
    "collapsed": false,
    "pycharm": {
     "name": "#%%\n"
    }
   }
  },
  {
   "cell_type": "code",
   "execution_count": 3,
   "outputs": [],
   "source": [
    "STATES_PROF = cache_np(\"full_states_ascad_profile\", full_states, PROF_PLAIN, PROF_KEY)\n",
    "STATES_ATT = cache_np(\"full_states_ascad_attack\", full_states, ATT_PLAIN, ATT_KEY)"
   ],
   "metadata": {
    "collapsed": false,
    "pycharm": {
     "name": "#%%\n"
    }
   }
  },
  {
   "cell_type": "code",
   "execution_count": 4,
   "outputs": [
    {
     "data": {
      "text/plain": "(200000, 10, 16)"
     },
     "execution_count": 4,
     "metadata": {},
     "output_type": "execute_result"
    }
   ],
   "source": [
    "STATES_PROF.shape"
   ],
   "metadata": {
    "collapsed": false,
    "pycharm": {
     "name": "#%%\n"
    }
   }
  },
  {
   "cell_type": "code",
   "execution_count": 5,
   "outputs": [],
   "source": [
    "TARGET_ROUND = 0\n",
    "TARGET_BYTE = 2\n",
    "\n",
    "STATE_PROF = STATES_PROF[:, TARGET_ROUND, TARGET_BYTE]\n",
    "STATE_ATT = STATES_ATT[:, TARGET_ROUND, TARGET_BYTE]\n",
    "\n",
    "PROF_PLAIN_BYTE = PROF_PLAIN[:, TARGET_BYTE]\n",
    "PROF_KEY_BYTE = PROF_KEY[:, TARGET_BYTE]\n",
    "ATT_PLAIN_BYTE = ATT_PLAIN[:, TARGET_BYTE]\n",
    "ATT_KEY_BYTE = ATT_KEY[:, TARGET_BYTE]"
   ],
   "metadata": {
    "collapsed": false,
    "pycharm": {
     "name": "#%%\n"
    }
   }
  },
  {
   "cell_type": "code",
   "execution_count": 6,
   "outputs": [],
   "source": [
    "HW_PROF = hamming_weights(STATE_PROF)\n",
    "HW_ATT = hamming_weights(STATE_ATT)"
   ],
   "metadata": {
    "collapsed": false,
    "pycharm": {
     "name": "#%%\n"
    }
   }
  },
  {
   "cell_type": "code",
   "execution_count": 7,
   "outputs": [
    {
     "name": "stderr",
     "output_type": "stream",
     "text": [
      "100%|██████████| 10/10 [00:00<00:00, 460.59it/s]\n"
     ]
    }
   ],
   "source": [
    "# Poor man's speed test\n",
    "for _ in tqdm(range(10)):\n",
    "    hamming_weights(STATE_PROF), hamming_weights(STATE_ATT)"
   ],
   "metadata": {
    "collapsed": false,
    "pycharm": {
     "name": "#%%\n"
    }
   }
  },
  {
   "cell_type": "markdown",
   "source": [
    "Conversion speed is good enough, hamming weight labels are no longer part of the trace files."
   ],
   "metadata": {
    "collapsed": false,
    "pycharm": {
     "name": "#%% md\n"
    }
   }
  },
  {
   "cell_type": "markdown",
   "source": [
    "### Find files, relabel with plaintext and key."
   ],
   "metadata": {
    "collapsed": false,
    "pycharm": {
     "name": "#%% md\n"
    }
   }
  },
  {
   "cell_type": "code",
   "execution_count": 9,
   "outputs": [
    {
     "name": "stdout",
     "output_type": "stream",
     "text": [
      "default.h5 False\n"
     ]
    },
    {
     "ename": "AssertionError",
     "evalue": "",
     "output_type": "error",
     "traceback": [
      "\u001B[0;31m---------------------------------------------------------------------------\u001B[0m",
      "\u001B[0;31mAssertionError\u001B[0m                            Traceback (most recent call last)",
      "\u001B[0;32m<ipython-input-9-a2999160cb7c>\u001B[0m in \u001B[0;36m<module>\u001B[0;34m\u001B[0m\n\u001B[1;32m     47\u001B[0m \u001B[0;34m\u001B[0m\u001B[0m\n\u001B[1;32m     48\u001B[0m \u001B[0;34m\u001B[0m\u001B[0m\n\u001B[0;32m---> 49\u001B[0;31m \u001B[0mconvert_files\u001B[0m\u001B[0;34m(\u001B[0m\u001B[0mDB\u001B[0m\u001B[0;34m)\u001B[0m\u001B[0;34m\u001B[0m\u001B[0;34m\u001B[0m\u001B[0m\n\u001B[0m",
      "\u001B[0;32m<ipython-input-9-a2999160cb7c>\u001B[0m in \u001B[0;36mconvert_files\u001B[0;34m(db)\u001B[0m\n\u001B[1;32m     17\u001B[0m                 \u001B[0mcorrect_states\u001B[0m \u001B[0;34m=\u001B[0m \u001B[0mnp\u001B[0m\u001B[0;34m.\u001B[0m\u001B[0mall\u001B[0m\u001B[0;34m(\u001B[0m\u001B[0mnp\u001B[0m\u001B[0;34m.\u001B[0m\u001B[0marray\u001B[0m\u001B[0;34m(\u001B[0m\u001B[0mfile\u001B[0m\u001B[0;34m[\u001B[0m\u001B[0;34m'attack'\u001B[0m\u001B[0;34m]\u001B[0m\u001B[0;34m[\u001B[0m\u001B[0mSTATE_FIELD\u001B[0m\u001B[0;34m]\u001B[0m\u001B[0;34m)\u001B[0m \u001B[0;34m==\u001B[0m \u001B[0mSTATE_ATT\u001B[0m\u001B[0;34m)\u001B[0m\u001B[0;34m\u001B[0m\u001B[0;34m\u001B[0m\u001B[0m\n\u001B[1;32m     18\u001B[0m                 \u001B[0mprint\u001B[0m\u001B[0;34m(\u001B[0m\u001B[0mfile_name\u001B[0m\u001B[0;34m,\u001B[0m \u001B[0mcorrect_states\u001B[0m\u001B[0;34m)\u001B[0m\u001B[0;34m\u001B[0m\u001B[0;34m\u001B[0m\u001B[0m\n\u001B[0;32m---> 19\u001B[0;31m                 \u001B[0;32massert\u001B[0m \u001B[0mcorrect_states\u001B[0m\u001B[0;34m\u001B[0m\u001B[0;34m\u001B[0m\u001B[0m\n\u001B[0m\u001B[1;32m     20\u001B[0m \u001B[0;34m\u001B[0m\u001B[0m\n\u001B[1;32m     21\u001B[0m         \u001B[0;32mwith\u001B[0m \u001B[0mh5py\u001B[0m\u001B[0;34m.\u001B[0m\u001B[0mFile\u001B[0m\u001B[0;34m(\u001B[0m\u001B[0mfile_path\u001B[0m\u001B[0;34m,\u001B[0m \u001B[0;34m'r+'\u001B[0m\u001B[0;34m)\u001B[0m \u001B[0;32mas\u001B[0m \u001B[0mfile\u001B[0m\u001B[0;34m:\u001B[0m\u001B[0;34m\u001B[0m\u001B[0;34m\u001B[0m\u001B[0m\n",
      "\u001B[0;31mAssertionError\u001B[0m: "
     ]
    }
   ],
   "source": [
    "DB = Database.ascad_none\n",
    "\n",
    "PLAIN_FIELD = \"plaintext_byte\"\n",
    "KEY_FIELD = \"key_byte\"\n",
    "STATE_FIELD = \"state_byte\"\n",
    "\n",
    "def convert_files(db: Database):\n",
    "    db_dir = path.dirname(TraceSetHW(db).path)\n",
    "    for file_name in os.listdir(db_dir):\n",
    "        file_path = path.join(db_dir, file_name)\n",
    "        with h5py.File(file_path, 'r') as file:\n",
    "            if not PLAIN_FIELD in file['profile']:\n",
    "                assert STATE_FIELD in file['profile'] and STATE_FIELD in file['attack']\n",
    "                # assert not PLAIN_FIELD in file['profile'] and not PLAIN_FIELD in file['attack']\n",
    "                # assert not KEY_FIELD in file['profile'] and not KEY_FIELD in file['attack']\n",
    "\n",
    "                correct_states = np.all(np.array(file['attack'][STATE_FIELD]) == STATE_ATT)\n",
    "                print(file_name, correct_states)\n",
    "                assert correct_states\n",
    "\n",
    "        with h5py.File(file_path, 'r+') as file:\n",
    "            if not PLAIN_FIELD in file['profile']:\n",
    "                grp_prof = file['profile']\n",
    "                grp_att = file['attack']\n",
    "\n",
    "                if PLAIN_FIELD in grp_prof:\n",
    "                    del grp_prof[PLAIN_FIELD]\n",
    "                if KEY_FIELD in grp_prof:\n",
    "                    del grp_prof[KEY_FIELD]\n",
    "                if PLAIN_FIELD in grp_att:\n",
    "                    del grp_att[PLAIN_FIELD]\n",
    "                if KEY_FIELD in grp_att:\n",
    "                    del grp_att[KEY_FIELD]\n",
    "\n",
    "                grp_prof.create_dataset(PLAIN_FIELD, data=PROF_PLAIN_BYTE)\n",
    "                grp_prof.create_dataset(KEY_FIELD, data=PROF_KEY_BYTE)\n",
    "                grp_att.create_dataset(PLAIN_FIELD, data=ATT_PLAIN_BYTE)\n",
    "                grp_att.create_dataset(KEY_FIELD, data=ATT_KEY_BYTE)\n",
    "\n",
    "        with h5py.File(file_path, 'r') as file:\n",
    "            assert PLAIN_FIELD in file['profile'] and PLAIN_FIELD in file['attack']\n",
    "            assert KEY_FIELD in file['profile'] and KEY_FIELD in file['attack']\n",
    "\n",
    "            correct_plain = np.all(np.array(file['attack'][PLAIN_FIELD]) == ATT_PLAIN_BYTE)\n",
    "            print(file_name, correct_plain)\n",
    "            assert correct_plain\n",
    "\n",
    "\n",
    "convert_files(DB)"
   ],
   "metadata": {
    "collapsed": false,
    "pycharm": {
     "name": "#%%\n"
    }
   }
  }
 ],
 "metadata": {
  "kernelspec": {
   "display_name": "Python 3",
   "language": "python",
   "name": "python3"
  },
  "language_info": {
   "codemirror_mode": {
    "name": "ipython",
    "version": 2
   },
   "file_extension": ".py",
   "mimetype": "text/x-python",
   "name": "python",
   "nbconvert_exporter": "python",
   "pygments_lexer": "ipython2",
   "version": "2.7.6"
  }
 },
 "nbformat": 4,
 "nbformat_minor": 0
}