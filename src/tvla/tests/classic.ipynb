{
 "cells": [
  {
   "cell_type": "markdown",
   "metadata": {
    "collapsed": true,
    "pycharm": {
     "name": "#%% md\n"
    }
   },
   "source": [
    "# Tests for paper and own implementations of classical LA techniques."
   ]
  },
  {
   "cell_type": "code",
   "execution_count": 21,
   "outputs": [
    {
     "name": "stdout",
     "output_type": "stream",
     "text": [
      "importing Jupyter notebook from ../classic_la.ipynb\n",
      "Power_divergenceResult(statistic=3.5, pvalue=0.6233876277495822)\n",
      "(1.6224089635854342, 5, 0.10147376059733922)\n"
     ]
    }
   ],
   "source": [
    "from src.tools.nbloader import NotebookLoader\n",
    "nb = NotebookLoader([\"..\", \"..\"]).load_module(\"tvla.classic_la\")\n",
    "\n",
    "import scipy.stats as stats\n",
    "\n",
    "profiling = [16, 16, 16, 16, 16, 8]\n",
    "attack = [16, 18, 16, 14, 12, 12]\n",
    "\n",
    "print(stats.chisquare(attack, f_exp=profiling))\n",
    "print(nb.calc_chi([profiling, attack]))"
   ],
   "metadata": {
    "collapsed": false,
    "pycharm": {
     "name": "#%%\n"
    }
   }
  },
  {
   "cell_type": "code",
   "execution_count": null,
   "outputs": [],
   "source": [],
   "metadata": {
    "collapsed": false,
    "pycharm": {
     "name": "#%%\n"
    }
   }
  }
 ],
 "metadata": {
  "kernelspec": {
   "display_name": "Python 3",
   "language": "python",
   "name": "python3"
  },
  "language_info": {
   "codemirror_mode": {
    "name": "ipython",
    "version": 2
   },
   "file_extension": ".py",
   "mimetype": "text/x-python",
   "name": "python",
   "nbconvert_exporter": "python",
   "pygments_lexer": "ipython2",
   "version": "2.7.6"
  }
 },
 "nbformat": 4,
 "nbformat_minor": 0
}