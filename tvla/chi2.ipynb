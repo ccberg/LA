{
 "cells": [
  {
   "cell_type": "markdown",
   "source": [
    "# $\\chi^2$-test"
   ],
   "metadata": {
    "collapsed": false
   }
  },
  {
   "cell_type": "code",
   "execution_count": 21,
   "outputs": [],
   "source": [
    "import math\n",
    "from random import choices\n",
    "\n",
    "import numpy as np\n",
    "import seaborn as sns\n",
    "from numpy.testing import assert_almost_equal as almost_equal\n",
    "from scipy.integrate import quad"
   ],
   "metadata": {
    "collapsed": false,
    "pycharm": {
     "name": "#%%\n"
    }
   }
  },
  {
   "cell_type": "markdown",
   "source": [
    "### Bin counts"
   ],
   "metadata": {
    "collapsed": false,
    "pycharm": {
     "name": "#%% md\n"
    }
   }
  },
  {
   "cell_type": "code",
   "execution_count": 22,
   "metadata": {
    "collapsed": true
   },
   "outputs": [],
   "source": [
    "def count(traces, poi=None, trace_range=256, offset=-.5, max_bins=64):\n",
    "    pos_traces = traces + round(-trace_range * offset)\n",
    "\n",
    "    if poi is None:\n",
    "        poi = (0, traces.shape[1])\n",
    "\n",
    "    bin_count = np.sum(np.array([np.bincount(sample_pts[poi[0]:poi[1]], minlength=trace_range) for sample_pts in pos_traces]), axis=0)\n",
    "\n",
    "    res = np.zeros(max_bins)\n",
    "    step = round(trace_range / max_bins)\n",
    "\n",
    "    for ix in range(max_bins):\n",
    "        res[ix] = np.sum(bin_count[ix * step:(ix + 1) * step])\n",
    "\n",
    "    return res\n"
   ]
  },
  {
   "cell_type": "markdown",
   "source": [
    "### Test examples from paper\n",
    "Moriadi et al. (2018), page 214"
   ],
   "metadata": {
    "collapsed": false
   }
  },
  {
   "cell_type": "code",
   "execution_count": 23,
   "outputs": [],
   "source": [
    "# Example values from Moriadi et al. (2018), page 214\n",
    "MORIADI = {\n",
    "    'F_0': [24, 59, 28, 9],\n",
    "    'F_1': [23, 57, 20, 0],\n",
    "    'chi': 8.64,\n",
    "    'dof': 3,\n",
    "    'p': 0.0345,\n",
    "    'p_decimal': 3\n",
    "}"
   ],
   "metadata": {
    "collapsed": false,
    "pycharm": {
     "name": "#%%\n"
    }
   }
  },
  {
   "cell_type": "code",
   "execution_count": 24,
   "outputs": [],
   "source": [
    "DEN_CACHE, EXP_CACHE = {}, {}\n",
    "\n",
    "for i in range(1, 64 + 1):\n",
    "    DEN_CACHE[i] = 1 / (2 ** (i / 2) * math.gamma(i / 2))\n",
    "    EXP_CACHE[i] = ((i / 2) - 1)"
   ],
   "metadata": {
    "collapsed": false,
    "pycharm": {
     "name": "#%%\n"
    }
   }
  },
  {
   "cell_type": "code",
   "execution_count": 25,
   "outputs": [],
   "source": [
    "def make_f_chi(v):\n",
    "    def f_chi(x: float) -> float:\n",
    "        if x <= 0:\n",
    "            return 0.0\n",
    "\n",
    "        num = x ** EXP_CACHE[v] * math.e ** (x * -.5)\n",
    "        return num * DEN_CACHE[v]\n",
    "\n",
    "    return f_chi\n",
    "\n",
    "def p_chi(sum_chi, dof):\n",
    "    return quad(make_f_chi(dof), sum_chi, np.inf)[0]\n"
   ],
   "metadata": {
    "collapsed": false,
    "pycharm": {
     "name": "#%%\n"
    }
   }
  },
  {
   "cell_type": "code",
   "execution_count": 51,
   "outputs": [
    {
     "data": {
      "text/plain": "<Figure size 432x288 with 1 Axes>",
      "image/png": "[encoded data removed]"
     },
     "metadata": {
      "needs_background": "light"
     },
     "output_type": "display_data"
    }
   ],
   "source": [
    "def plot_chi():\n",
    "    chi_range = np.arange(0, 50, .1)\n",
    "    sns.lineplot(data=[p_chi(chi, 64) for chi in chi_range]).set(xlim=50)\n",
    "\n",
    "plot_chi()"
   ],
   "metadata": {
    "collapsed": false,
    "pycharm": {
     "name": "#%%\n"
    }
   }
  },
  {
   "cell_type": "code",
   "execution_count": 27,
   "outputs": [],
   "source": [
    "almost_equal(p_chi(MORIADI['chi'], MORIADI['dof']), MORIADI['p'], MORIADI['p_decimal'])"
   ],
   "metadata": {
    "collapsed": false,
    "pycharm": {
     "name": "#%%\n"
    }
   }
  },
  {
   "cell_type": "markdown",
   "source": [
    "### Implementation of $\\chi^2$-test"
   ],
   "metadata": {
    "collapsed": false,
    "pycharm": {
     "name": "#%% md\n"
    }
   }
  },
  {
   "cell_type": "markdown",
   "source": [
    "### Implementation based on paper\n",
    "Moriadi et al. (2018), page 213"
   ],
   "metadata": {
    "collapsed": false
   }
  },
  {
   "cell_type": "code",
   "execution_count": 28,
   "outputs": [],
   "source": [
    "def chi_squared_paper(observed, expected, balance=False):\n",
    "    categories = np.array([observed, expected])\n",
    "\n",
    "    # Expected frequency\n",
    "    sum_cat = np.sum(observed), np.sum(expected)\n",
    "\n",
    "    sum_oe = np.sum(categories, axis=0)\n",
    "\n",
    "    sum_all = np.sum(sum_oe)\n",
    "    nz_ixs = np.nonzero(sum_oe)[0]\n",
    "\n",
    "    chi_acc = 0.0\n",
    "    for cat in range(len(categories)):\n",
    "        for ix in nz_ixs:\n",
    "            # Expected frequency\n",
    "            ef = (sum_cat[cat] * sum_oe[ix]) / sum_all\n",
    "            # Accumulation of chi-squared value\n",
    "            chi_acc += (categories[cat][ix] - ef) ** 2 / ef\n",
    "\n",
    "    # Degrees of freedom.\n",
    "    dof = (len(nz_ixs) - 1) * (len(categories) - 1)\n",
    "\n",
    "    # return chi_acc, dof\n",
    "    return p_chi(chi_acc, dof)\n",
    "\n",
    "almost_equal(chi_squared_paper(MORIADI['F_0'], MORIADI['F_1']), MORIADI['p'], MORIADI['p_decimal'])"
   ],
   "metadata": {
    "collapsed": false,
    "pycharm": {
     "name": "#%%\n"
    }
   }
  },
  {
   "cell_type": "code",
   "execution_count": 29,
   "outputs": [
    {
     "data": {
      "text/plain": "0.034444325563512325"
     },
     "execution_count": 29,
     "metadata": {},
     "output_type": "execute_result"
    }
   ],
   "source": [
    "NUM_CATEGORIES = 2\n",
    "NUM_CAT_DOF = NUM_CATEGORIES - 1\n",
    "RANGE_CAT = range(NUM_CATEGORIES)\n",
    "\n",
    "def chi_squared_quick(observed, expected):\n",
    "    categories = np.array([observed, expected])\n",
    "\n",
    "    sum_categories = np.sum(categories, axis=0)\n",
    "    sum_counts = np.sum(observed), np.sum(expected)\n",
    "    sum_all = np.sum(sum_counts)\n",
    "\n",
    "    nonzero = sum_categories.astype(bool)\n",
    "    nonzero_cat_sum = sum_categories[nonzero]\n",
    "\n",
    "    expected_frequencies = (np.array(sum_counts) * nonzero_cat_sum.reshape(-1, 1)).T / sum_all\n",
    "\n",
    "    chi_acc = ((categories[:, nonzero] - expected_frequencies) ** 2 / expected_frequencies).sum()\n",
    "\n",
    "    # Degrees of freedom.\n",
    "    dof = (len(nonzero_cat_sum) - 1) * NUM_CAT_DOF\n",
    "\n",
    "    # return chi_acc, dof\n",
    "    return p_chi(chi_acc, dof)\n",
    "\n",
    "chi_squared_quick(MORIADI['F_0'], MORIADI['F_1'])\n",
    "# almost_equal(chi_squared_quick(MORIADI['F_0'], MORIADI['F_1']), MORIADI['p'], MORIADI['p_decimal'])"
   ],
   "metadata": {
    "collapsed": false,
    "pycharm": {
     "name": "#%%\n"
    }
   }
  },
  {
   "cell_type": "code",
   "execution_count": 30,
   "outputs": [
    {
     "data": {
      "text/plain": "(120, 120)"
     },
     "execution_count": 30,
     "metadata": {},
     "output_type": "execute_result"
    }
   ],
   "source": [
    "sum(MORIADI['F_0']), sum(MORIADI['F_1'])\n",
    "\n",
    "MORIADI['F_0'], MORIADI['F_1'] = np.array(MORIADI['F_0']), np.array(MORIADI['F_1'])\n",
    "\n",
    "cs = lambda w, k: choices(list(range(len(MORIADI['F_1']))), weights=w, k=k)\n",
    "np.add.at(MORIADI['F_1'], cs(MORIADI['F_1'], sum(MORIADI['F_0']) - sum(MORIADI['F_1'])), 1)\n",
    "\n",
    "sum(MORIADI['F_0']), sum(MORIADI['F_1'])"
   ],
   "metadata": {
    "collapsed": false,
    "pycharm": {
     "name": "#%%\n"
    }
   }
  },
  {
   "cell_type": "code",
   "execution_count": 31,
   "outputs": [],
   "source": [
    "def chi_squared_balanced(observed, expected):\n",
    "    categories = np.array([observed, expected])\n",
    "\n",
    "    # Bins where both categories are > 0\n",
    "    nz = categories.any(axis=0)\n",
    "\n",
    "    sum_oe = (np.array(observed) + np.array(expected))[nz]\n",
    "    ef = [sum_oe * .5] * 2\n",
    "    chi_acc = ((categories[:, nz] - ef) ** 2 / ef).sum()\n",
    "\n",
    "    # Degrees of freedom. Length of sum_oe is faster than summing nz.\n",
    "    dof = (len(sum_oe) - 1) * NUM_CAT_DOF\n",
    "\n",
    "    # return chi_acc, dof\n",
    "    return p_chi(chi_acc, dof)\n",
    "\n",
    "assert chi_squared_balanced([*MORIADI['F_0'], 0], [*MORIADI['F_1'], 0]) == chi_squared_quick(MORIADI['F_0'], MORIADI['F_1'])"
   ],
   "metadata": {
    "collapsed": false,
    "pycharm": {
     "name": "#%%\n"
    }
   }
  },
  {
   "cell_type": "code",
   "execution_count": 32,
   "outputs": [],
   "source": [
    "# F0 = [*MORIADI[\"F_0\"], *[0] * 20]\n",
    "# F1 = [*MORIADI[\"F_1\"], *[0] * 20]\n",
    "#\n",
    "# SUM_TIM = 0.0\n",
    "# for _ in tqdm(range(100)):\n",
    "#     SUM_TIM += timeit.timeit(lambda: chi_squared_quick(F0, F1), number=1000) - \\\n",
    "#     timeit.timeit(lambda: chi_squared_balanced(F0, F1), number=1000)\n",
    "#\n",
    "# SUM_TIM"
   ],
   "metadata": {
    "collapsed": false,
    "pycharm": {
     "name": "#%%\n"
    }
   }
  },
  {
   "cell_type": "code",
   "execution_count": 33,
   "outputs": [],
   "source": [
    "# timeit.timeit(lambda: chi_squared_balanced(MORIADI[\"F_0\"], MORIADI[\"F_1\"]), number=10000), timeit.timeit(lambda: chi_squared_quick(MORIADI[\"F_0\"], MORIADI[\"F_1\"]), number=10000)"
   ],
   "metadata": {
    "collapsed": false,
    "pycharm": {
     "name": "#%%\n"
    }
   }
  },
  {
   "cell_type": "code",
   "execution_count": 34,
   "outputs": [
    {
     "data": {
      "text/plain": "0.6451343500084477"
     },
     "execution_count": 34,
     "metadata": {},
     "output_type": "execute_result"
    }
   ],
   "source": [
    "0.6451343500084477"
   ],
   "metadata": {
    "collapsed": false,
    "pycharm": {
     "name": "#%%\n"
    }
   }
  }
 ],
 "metadata": {
  "kernelspec": {
   "display_name": "Python 3",
   "language": "python",
   "name": "python3"
  },
  "language_info": {
   "codemirror_mode": {
    "name": "ipython",
    "version": 2
   },
   "file_extension": ".py",
   "mimetype": "text/x-python",
   "name": "python",
   "nbconvert_exporter": "python",
   "pygments_lexer": "ipython2",
   "version": "2.7.6"
  }
 },
 "nbformat": 4,
 "nbformat_minor": 0
}