{
 "cells": [
  {
   "cell_type": "markdown",
   "metadata": {
    "collapsed": true,
    "pycharm": {
     "name": "#%% md\n"
    }
   },
   "source": [
    "# Normality tests on the ASCAD database."
   ]
  },
  {
   "cell_type": "code",
   "execution_count": 172,
   "outputs": [],
   "source": [
    "import numpy as np\n",
    "import seaborn as sns\n",
    "\n",
    "from statsmodels.stats.diagnostic import lilliefors\n",
    "from tqdm import tqdm\n",
    "\n",
    "from src.tools.traceloader import ASCAD, TraceCategory\n",
    "\n",
    "sns.set_style(\"whitegrid\")"
   ],
   "metadata": {
    "collapsed": false,
    "pycharm": {
     "name": "#%%\n"
    }
   }
  },
  {
   "cell_type": "code",
   "execution_count": 49,
   "outputs": [],
   "source": [
    "ascad = ASCAD()"
   ],
   "metadata": {
    "collapsed": false,
    "pycharm": {
     "name": "#%%\n"
    }
   }
  },
  {
   "cell_type": "code",
   "execution_count": 99,
   "outputs": [
    {
     "data": {
      "text/plain": "1400"
     },
     "execution_count": 99,
     "metadata": {},
     "output_type": "execute_result"
    }
   ],
   "source": [
    "a = ascad.default.profile.filter_traces(0) + 128\n",
    "\n",
    "a.shape[1]"
   ],
   "metadata": {
    "collapsed": false,
    "pycharm": {
     "name": "#%%\n"
    }
   }
  },
  {
   "cell_type": "markdown",
   "source": [
    "### Lilliefors test for normality\n",
    "\n",
    "If the p-value is lower than some threshold, e.g. 0.05, then we can reject the Null hypothesis that the sample comes\n",
    "from a normal distribution."
   ],
   "metadata": {
    "collapsed": false,
    "pycharm": {
     "name": "#%% md\n"
    }
   }
  },
  {
   "cell_type": "code",
   "execution_count": 173,
   "outputs": [
    {
     "name": "stderr",
     "output_type": "stream",
     "text": [
      "100%|██████████| 256/256 [02:49<00:00,  1.51it/s]\n"
     ]
    },
    {
     "data": {
      "text/plain": "<Figure size 432x288 with 1 Axes>",
      "image/png": "[encoded data removed]"
     },
     "metadata": {},
     "output_type": "display_data"
    }
   ],
   "source": [
    "LIL_P_VALUE = .05\n",
    "\n",
    "def normality(tc: TraceCategory):\n",
    "    res = []\n",
    "    for k in tqdm(range(256)):\n",
    "        key = np.moveaxis(tc.filter_traces(k), 0, -1) + 128\n",
    "\n",
    "        if k == 0:\n",
    "            # Plot the 50th sample point distribution of the first key.\n",
    "            sns.lineplot(data=np.bincount(key[50], minlength=256))\n",
    "\n",
    "        pvs = np.array([lilliefors(sp, dist='norm')[1] for sp in key])\n",
    "        res.append(np.sum(pvs > LIL_P_VALUE))\n",
    "\n",
    "    return res\n",
    "\n",
    "norm_ps = normality(ascad.default.profile)"
   ],
   "metadata": {
    "collapsed": false,
    "pycharm": {
     "name": "#%%\n"
    }
   }
  },
  {
   "cell_type": "code",
   "execution_count": 175,
   "outputs": [
    {
     "name": "stdout",
     "output_type": "stream",
     "text": [
      "59 out of 358400 datapoints are likely to be normally distributed.\n"
     ]
    }
   ],
   "source": [
    "print(f\"{sum(norm_ps)} out of {1400 * 256} datapoints are likely to be normally \"\n",
    "      f\"distributed.\")"
   ],
   "metadata": {
    "collapsed": false,
    "pycharm": {
     "name": "#%%\n"
    }
   }
  },
  {
   "cell_type": "markdown",
   "source": [
    "## Experiments\n",
    "### Normality and sliding window"
   ],
   "metadata": {
    "collapsed": false,
    "pycharm": {
     "name": "#%% md\n"
    }
   }
  },
  {
   "cell_type": "code",
   "execution_count": null,
   "outputs": [],
   "source": [
    "sw_size = 2\n",
    "sw = np.empty((a.shape[0], a.shape[1]))\n",
    "\n",
    "def pad_a(i, sliding_window_size):\n",
    "    return np.pad(a, ((0,0), (i, sliding_window_size - i - 1)), 'constant', constant_values=np.nan)\n",
    "\n",
    "pad_raw = np.array([pad_a(i, sw_size) for i in range(sw_size)])\n",
    "\n",
    "mv_a = np.moveaxis(a, 0, -1)\n",
    "mv_sw = np.moveaxis(pad_raw.reshape(-1, pad_raw.shape[-1]), 0, -1)"
   ],
   "metadata": {
    "collapsed": false,
    "pycharm": {
     "name": "#%%\n"
    }
   }
  },
  {
   "cell_type": "code",
   "execution_count": null,
   "outputs": [],
   "source": [
    "mv_sw.shape"
   ],
   "metadata": {
    "collapsed": false,
    "pycharm": {
     "name": "#%%\n"
    }
   }
  },
  {
   "cell_type": "code",
   "execution_count": null,
   "outputs": [],
   "source": [
    "sns.lineplot(data=np.bincount(mv_sw[5:1400][2], minlength=256))"
   ],
   "metadata": {
    "collapsed": false,
    "pycharm": {
     "name": "#%%\n"
    }
   }
  },
  {
   "cell_type": "code",
   "execution_count": null,
   "outputs": [],
   "source": [
    "sns.lineplot(data=np.array([lilliefors(sp, dist='norm')[1] for sp in mv_a]))"
   ],
   "metadata": {
    "collapsed": false,
    "pycharm": {
     "name": "#%%\n"
    }
   }
  }
 ],
 "metadata": {
  "kernelspec": {
   "display_name": "Python 3",
   "language": "python",
   "name": "python3"
  },
  "language_info": {
   "codemirror_mode": {
    "name": "ipython",
    "version": 2
   },
   "file_extension": ".py",
   "mimetype": "text/x-python",
   "name": "python",
   "nbconvert_exporter": "python",
   "pygments_lexer": "ipython2",
   "version": "2.7.6"
  }
 },
 "nbformat": 4,
 "nbformat_minor": 0
}