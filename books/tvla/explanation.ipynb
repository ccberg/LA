{
 "cells": [
  {
   "cell_type": "markdown",
   "metadata": {
    "collapsed": true,
    "pycharm": {
     "name": "#%% md\n"
    }
   },
   "source": [
    "# Test Vector Leakage Assessment\n",
    "\n",
    "An example."
   ]
  },
  {
   "cell_type": "markdown",
   "source": [
    "### 1. Generating examples\n",
    "\n",
    "In this example, there are two keys $k_a$ and $k_b$. For each of these 2 keys, there are $1000$ power traces (samples)\n",
    "available, each with a length of $1400$ sample points."
   ],
   "metadata": {
    "collapsed": false,
    "pycharm": {
     "name": "#%% md\n"
    }
   }
  },
  {
   "cell_type": "code",
   "execution_count": 2,
   "outputs": [],
   "source": [
    "from numpy.random._generator import default_rng\n",
    "from src.data.slices import make_slice\n",
    "from src.tvla.t import make_t_test\n",
    "from src.tvla.main import tvla\n",
    "\n",
    "samples = 1000\n",
    "sample_pts = 1400"
   ],
   "metadata": {
    "collapsed": false,
    "pycharm": {
     "name": "#%%\n"
    }
   }
  },
  {
   "cell_type": "markdown",
   "source": [
    "The samples for these imaginary traces will be simplified into normal distributions with mean $\\mu$.\n",
    "\n",
    "A first-order \"leakage\" will be simulated by taking $\\mu_a$ (for key $k_a$) slightly bigger than $\\mu_b$."
   ],
   "metadata": {
    "collapsed": false,
    "pycharm": {
     "name": "#%% md\n"
    }
   }
  },
  {
   "cell_type": "code",
   "source": [
    "mu_a = 42.2\n",
    "mu_b = 42"
   ],
   "metadata": {
    "collapsed": false,
    "pycharm": {
     "name": "#%%\n"
    }
   },
   "execution_count": 3,
   "outputs": []
  },
  {
   "cell_type": "code",
   "execution_count": 4,
   "outputs": [],
   "source": [
    "import numpy as np\n",
    "\n",
    "# Refer to section statistical properties of ASCAD in books/data/ascad_normality.\n",
    "sigma = .2\n",
    "\n",
    "traces_key_a = np.array([np.random.normal(size=samples, scale=sigma) + mu_a for _ in range(sample_pts)], dtype=int)\n",
    "traces_key_b = np.array([np.random.normal(size=samples, scale=sigma) + mu_b for _ in range(sample_pts)], dtype=int)"
   ],
   "metadata": {
    "collapsed": false,
    "pycharm": {
     "name": "#%%\n"
    }
   }
  },
  {
   "cell_type": "markdown",
   "source": [
    "### 2. Slicing the input\n",
    "\n",
    "The first step in TVLA is to split these samples into four disjoint slices, each with a length of $250$.\n",
    "\n",
    "The $n$-th slice for key $k_a$ will be denoted as $A_n$."
   ],
   "metadata": {
    "collapsed": false,
    "pycharm": {
     "name": "#%% md\n"
    }
   }
  },
  {
   "cell_type": "code",
   "execution_count": 5,
   "outputs": [],
   "source": [
    "A = make_slice(np.moveaxis(traces_key_a, 0, -1))\n",
    "B = make_slice(np.moveaxis(traces_key_b, 0, -1))"
   ],
   "metadata": {
    "collapsed": false,
    "pycharm": {
     "name": "#%%\n"
    }
   }
  },
  {
   "cell_type": "code",
   "execution_count": 6,
   "outputs": [
    {
     "data": {
      "text/plain": "(4, 250, 1400)"
     },
     "execution_count": 6,
     "metadata": {},
     "output_type": "execute_result"
    }
   ],
   "source": [
    "A.shape"
   ],
   "metadata": {
    "collapsed": false,
    "pycharm": {
     "name": "#%%\n"
    }
   }
  },
  {
   "cell_type": "markdown",
   "source": [
    "### 3. Preparing the data\n",
    "\n",
    "In this example, the t-test is used when performing TVLA. The t-test takes the sample mean, sample variance and some\n",
    "value for $p$. It tests the null hypothesis that 2 independent samples have identical average (expected) values, and\n",
    "returns whether the null hypotheses should be accepted.\n",
    "\n",
    "Therefore, $A$ and $B$ need to be transformed to fit the input parameters of the t-test."
   ],
   "metadata": {
    "collapsed": false,
    "pycharm": {
     "name": "#%% md\n"
    }
   }
  },
  {
   "cell_type": "code",
   "execution_count": 7,
   "outputs": [
    {
     "data": {
      "text/plain": "(4, 1400, 2)"
     },
     "execution_count": 7,
     "metadata": {},
     "output_type": "execute_result"
    }
   ],
   "source": [
    "A_mv = np.moveaxis(np.array((A.mean(axis=1), A.var(axis=1))), 0, -1)\n",
    "B_mv = np.moveaxis(np.array((B.mean(axis=1), B.var(axis=1))), 0, -1)\n",
    "\n",
    "A_mv.shape"
   ],
   "metadata": {
    "collapsed": false,
    "pycharm": {
     "name": "#%%\n"
    }
   }
  },
  {
   "cell_type": "markdown",
   "source": [
    "### 4. Applying TVLA\n",
    "\n",
    "Create the t-test, as it relies on the number of observations (not included with the mean and variance)."
   ],
   "metadata": {
    "collapsed": false,
    "pycharm": {
     "name": "#%% md\n"
    }
   }
  },
  {
   "cell_type": "code",
   "execution_count": 8,
   "outputs": [],
   "source": [
    "num_observations = A.shape[2]\n",
    "t_test = make_t_test(num_observations)"
   ],
   "metadata": {
    "collapsed": false,
    "pycharm": {
     "name": "#%%\n"
    }
   }
  },
  {
   "cell_type": "markdown",
   "source": [
    "Apply TVLA using Welch's t-test."
   ],
   "metadata": {
    "collapsed": false,
    "pycharm": {
     "name": "#%% md\n"
    }
   }
  },
  {
   "cell_type": "code",
   "execution_count": 9,
   "outputs": [
    {
     "data": {
      "text/plain": "(True, False)"
     },
     "execution_count": 9,
     "metadata": {},
     "output_type": "execute_result"
    }
   ],
   "source": [
    "tvla(test=t_test, left=A_mv, right=B_mv, p=5)"
   ],
   "metadata": {
    "collapsed": false,
    "pycharm": {
     "name": "#%%\n"
    }
   }
  },
  {
   "cell_type": "markdown",
   "source": [
    "# SMOTE the dataset"
   ],
   "metadata": {
    "collapsed": false,
    "pycharm": {
     "name": "#%% md\n"
    }
   }
  },
  {
   "cell_type": "code",
   "execution_count": 11,
   "outputs": [
    {
     "data": {
      "text/plain": "[(39.0, 45.0)]"
     },
     "execution_count": 11,
     "metadata": {},
     "output_type": "execute_result"
    },
    {
     "data": {
      "text/plain": "<Figure size 432x288 with 1 Axes>",
      "image/png": "[encoded data removed]"
     },
     "metadata": {
      "needs_background": "light"
     },
     "output_type": "display_data"
    }
   ],
   "source": [
    "def smote(samples_key, preferred_size=-1):\n",
    "    if preferred_size < 0:\n",
    "        preferred_size = max([len(sk) for sk in samples_key])\n",
    "\n",
    "    res_shape = list(samples_key.shape)\n",
    "    res_shape[1] = preferred_size\n",
    "\n",
    "    res = np.zeros(res_shape)\n",
    "\n",
    "    for ix, slice_key in enumerate(samples_key):\n",
    "        num_smote = preferred_size - len(slice_key)\n",
    "        assert num_smote >= 0\n",
    "\n",
    "        s_from = np.random.uniform(0, len(slice_key), num_smote).astype(int)\n",
    "        s_to = (s_from + np.random.uniform(1, len(slice_key), num_smote).astype(int)) % len(slice_key)\n",
    "\n",
    "        smote_d = slice_key[s_from] - slice_key[s_to]\n",
    "        smote_res = np.round(slice_key[s_to] + smote_d * np.random.uniform(size=smote_d.shape)).astype(int)\n",
    "\n",
    "        res[ix][:len(slice_key)] = slice_key\n",
    "        res[ix][len(slice_key):] = smote_res\n",
    "\n",
    "    return res\n",
    "\n",
    "sA = smote(A, 1000)\n",
    "\n",
    "import seaborn as sns\n",
    "\n",
    "sns.lineplot(data=np.bincount(np.moveaxis(A[0], 0, -1)[0], minlength=A.shape[2])).set(xlim=(39, 45))\n",
    "sns.lineplot(data=np.bincount(np.moveaxis(sA[0], 0, -1)[0].astype(int), minlength=A.shape[2])).set(xlim=(39, 45))"
   ],
   "metadata": {
    "collapsed": false,
    "pycharm": {
     "name": "#%%\n"
    }
   }
  },
  {
   "cell_type": "code",
   "execution_count": 12,
   "outputs": [
    {
     "data": {
      "text/plain": "(41.84155428571429, 41.84185446428572)"
     },
     "execution_count": 12,
     "metadata": {},
     "output_type": "execute_result"
    }
   ],
   "source": [
    "A.mean(), sA.mean()"
   ],
   "metadata": {
    "collapsed": false,
    "pycharm": {
     "name": "#%%\n"
    }
   }
  },
  {
   "cell_type": "code",
   "execution_count": 13,
   "outputs": [
    {
     "data": {
      "text/plain": "(0.1333949556244898, 0.13318409667649878)"
     },
     "execution_count": 13,
     "metadata": {},
     "output_type": "execute_result"
    }
   ],
   "source": [
    "A.var(), sA.var()"
   ],
   "metadata": {
    "collapsed": false,
    "pycharm": {
     "name": "#%%\n"
    }
   }
  }
 ],
 "metadata": {
  "kernelspec": {
   "display_name": "Python 3",
   "language": "python",
   "name": "python3"
  },
  "language_info": {
   "codemirror_mode": {
    "name": "ipython",
    "version": 2
   },
   "file_extension": ".py",
   "mimetype": "text/x-python",
   "name": "python",
   "nbconvert_exporter": "python",
   "pygments_lexer": "ipython2",
   "version": "2.7.6"
  }
 },
 "nbformat": 4,
 "nbformat_minor": 0
}