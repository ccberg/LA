{
 "cells": [
  {
   "cell_type": "markdown",
   "metadata": {
    "collapsed": true,
    "pycharm": {
     "name": "#%% md\n"
    }
   },
   "source": [
    "### Based on the paper from Goodwill et al."
   ]
  },
  {
   "cell_type": "code",
   "execution_count": 60,
   "outputs": [
    {
     "data": {
      "text/plain": "array([[127, 127, 126, ..., 125, 127, 129],\n       [126, 126, 127, ..., 128, 125, 128],\n       [127, 126, 127, ..., 125, 126, 126],\n       ...,\n       [128, 125, 126, ..., 127, 127, 128],\n       [126, 125, 128, ..., 126, 125, 128],\n       [126, 127, 127, ..., 126, 127, 125]], dtype=uint8)"
     },
     "execution_count": 60,
     "metadata": {},
     "output_type": "execute_result"
    }
   ],
   "source": [
    "import numpy as np\n",
    "from tqdm import tqdm\n",
    "import seaborn as sns\n",
    "import pandas as pd\n",
    "from tools.nbloader import NotebookLoader\n",
    "from scipy import stats\n",
    "\n",
    "trace_len = 50\n",
    "sample_size = 350\n",
    "\n",
    "def gen_trace(key=0, mu=128):\n",
    "    return np.array([np.random.normal(mu + (key/256 - 1), 1, trace_len) for _ in range(sample_size)], dtype=np.uint8)\n",
    "\n",
    "def gen_mask_trace(mu=128):\n",
    "    random_keys = np.random.uniform(0, 256, sample_size) / 256\n",
    "\n",
    "    return np.array([np.random.normal(mu + (rk - 1), 1, trace_len) for rk in random_keys], dtype=np.uint8)\n",
    "\n",
    "tg_a1 = gen_trace(0)\n",
    "tg_a2 = gen_trace(256)\n",
    "tg_b = gen_mask_trace()\n",
    "\n",
    "gen_mask_trace()"
   ],
   "metadata": {
    "collapsed": false,
    "pycharm": {
     "name": "#%%\n"
    }
   }
  },
  {
   "cell_type": "code",
   "execution_count": 61,
   "outputs": [],
   "source": [
    "def confidence_level(all_t_values, p=.95):\n",
    "    tvs_flat = abs(all_t_values.flatten())\n",
    "    n = round(len(tvs_flat) * p)\n",
    "\n",
    "    return sorted(tvs_flat)[n]\n",
    "\n",
    "def device_fails(ta: np.array, tb: np.array, c=2.5):\n",
    "    \"\"\"\n",
    "    @param ta should be a positive-valued array of t-test results from some power trace with given key.\n",
    "    @param tb should be a positive-valued array of t-test results from a different set of traces with the same key.\n",
    "    @param c should be the confidence value.\n",
    "    \"\"\"\n",
    "    return np.array((ta >= c) * (tb >= c)).any()\n",
    "\n",
    "def t_test(a, b):\n",
    "    num = a.mean(axis=0) - b.mean(axis=0)\n",
    "    den = (((a.var(axis=0) / len(a)) + (b.var(axis=0) / len(b))) ** .5)\n",
    "\n",
    "    return np.array(num / den)\n",
    "\n",
    "def stats_t_test(a, b):\n",
    "    return stats.ttest_ind(a, b, equal_var=False)[0]\n",
    "\n",
    "def gen_rvs(mean=5):\n",
    "    return lambda: np.array([stats.norm.rvs(loc=mean,scale=.1,size=50) for _ in range(50)])\n",
    "\n",
    "def tvla(test, lefts, rights):\n",
    "    a, b, c, d = lefts\n",
    "    x, y = rights\n",
    "\n",
    "    tk1 = abs(np.array(test(a, c)))\n",
    "    tk2 = abs(np.array(test(b, d)))\n",
    "    tm1 = abs(np.array(test(a, x)))\n",
    "    tm2 = abs(np.array(test(b, y)))\n",
    "\n",
    "    confidence = np.percentile(np.array([*tk1, *tk2, *tm1, *tm2]).flatten(), 95)\n",
    "\n",
    "    return device_fails(tk1, tk2, confidence), device_fails(tm1, tm2, confidence)\n",
    "\n",
    "def bench(test, gen_one, gen_two, total=100):\n",
    "    acc = np.array([(False, False)] * total)\n",
    "    for ix in tqdm(range(total)):\n",
    "        acc[ix] = tvla(test, [gen_one() for _ in range(4)], (gen_two(), gen_two()))\n",
    "\n",
    "    return np.array(acc).sum(axis=0)"
   ],
   "metadata": {
    "collapsed": false,
    "pycharm": {
     "name": "#%%\n"
    }
   }
  },
  {
   "cell_type": "code",
   "execution_count": 62,
   "outputs": [
    {
     "name": "stderr",
     "output_type": "stream",
     "text": [
      "100%|██████████| 100/100 [00:01<00:00, 84.76it/s]\n"
     ]
    },
    {
     "data": {
      "text/plain": "array([ 0, 36])"
     },
     "execution_count": 62,
     "metadata": {},
     "output_type": "execute_result"
    }
   ],
   "source": [
    "bench(t_test, gen_rvs(5), gen_rvs(6))"
   ],
   "metadata": {
    "collapsed": false,
    "pycharm": {
     "name": "#%%\n"
    }
   }
  },
  {
   "cell_type": "code",
   "execution_count": 63,
   "outputs": [
    {
     "name": "stderr",
     "output_type": "stream",
     "text": [
      "100%|██████████| 100/100 [00:01<00:00, 88.30it/s]\n"
     ]
    },
    {
     "data": {
      "text/plain": "array([ 0, 44])"
     },
     "execution_count": 63,
     "metadata": {},
     "output_type": "execute_result"
    }
   ],
   "source": [
    "bench(t_test, gen_trace, gen_mask_trace)"
   ],
   "metadata": {
    "collapsed": false,
    "pycharm": {
     "name": "#%%\n"
    }
   }
  },
  {
   "cell_type": "code",
   "execution_count": 66,
   "outputs": [
    {
     "name": "stdout",
     "output_type": "stream",
     "text": [
      "(127.67098, 5409.7362458396000005)\n"
     ]
    },
    {
     "data": {
      "text/plain": "(127.67098, 5409.736245839599)"
     },
     "execution_count": 66,
     "metadata": {},
     "output_type": "execute_result"
    }
   ],
   "source": [
    "trc = np.array([round(np.random.uniform(0, 255)) for _ in range(100000)])\n",
    "\n",
    "def ctable_mv(ctable: np.array, num_observations: int):\n",
    "    \"\"\"\n",
    "    Calculates the mean and variance from a contingency table with a corresponding number of observations.\n",
    "    \"\"\"\n",
    "    # Using 128-bit floats prevents some rounding errors when comparing with the np implementation of var and mean.\n",
    "    ixs = np.arange(0, len(ctable), dtype=np.float128)\n",
    "\n",
    "    mu = (ctable * ixs).sum() / num_observations\n",
    "    sigma2 = ((ctable * ixs ** 2).sum() / num_observations) - (mu ** 2)\n",
    "\n",
    "    return mu, sigma2\n",
    "\n",
    "print(ctable_mv(np.bincount(trc, minlength=256), len(trc)))\n",
    "\n",
    "# Actual mean and variance\n",
    "trc.mean(), trc.var()"
   ],
   "metadata": {
    "collapsed": false,
    "pycharm": {
     "name": "#%%\n"
    }
   }
  },
  {
   "cell_type": "code",
   "source": [
    "# Bench for CTable\n",
    "\n"
   ],
   "metadata": {
    "collapsed": false,
    "pycharm": {
     "name": "#%%\n"
    }
   },
   "execution_count": null,
   "outputs": []
  },
  {
   "cell_type": "code",
   "execution_count": null,
   "outputs": [],
   "source": [
    "def plot_longform(traces):\n",
    "    sns.set_style('whitegrid')\n",
    "\n",
    "    longform = []\n",
    "    for trace in traces:\n",
    "        for ix in range(len(trace)):\n",
    "            longform.append((ix, trace[ix]))\n",
    "\n",
    "    cols = [\"Sample point\", \"Power\"]\n",
    "    df = pd.DataFrame(longform, columns=cols)\n",
    "    sns.lineplot(data=df, x=cols[0], y=cols[1])"
   ],
   "metadata": {
    "collapsed": false,
    "pycharm": {
     "name": "#%%\n"
    }
   }
  },
  {
   "cell_type": "code",
   "execution_count": null,
   "outputs": [],
   "source": [
    "plot_longform(gen_trace(0))\n",
    "plot_longform(gen_mask_trace())\n",
    "plot_longform(gen_trace(256))"
   ],
   "metadata": {
    "collapsed": false,
    "pycharm": {
     "name": "#%%\n"
    }
   }
  }
 ],
 "metadata": {
  "kernelspec": {
   "display_name": "Python 3",
   "language": "python",
   "name": "python3"
  },
  "language_info": {
   "codemirror_mode": {
    "name": "ipython",
    "version": 2
   },
   "file_extension": ".py",
   "mimetype": "text/x-python",
   "name": "python",
   "nbconvert_exporter": "python",
   "pygments_lexer": "ipython2",
   "version": "2.7.6"
  }
 },
 "nbformat": 4,
 "nbformat_minor": 0
}