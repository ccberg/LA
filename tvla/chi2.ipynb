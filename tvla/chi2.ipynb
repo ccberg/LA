{
 "cells": [
  {
   "cell_type": "markdown",
   "source": [
    "# $\\chi^2$-test"
   ],
   "metadata": {
    "collapsed": false
   }
  },
  {
   "cell_type": "code",
   "execution_count": 6,
   "outputs": [],
   "source": [
    "import math\n",
    "\n",
    "import numpy as np\n",
    "from numpy.testing import assert_almost_equal as almost_equal\n",
    "from scipy.integrate import quad"
   ],
   "metadata": {
    "collapsed": false,
    "pycharm": {
     "name": "#%%\n"
    }
   }
  },
  {
   "cell_type": "markdown",
   "source": [
    "### Bin counts"
   ],
   "metadata": {
    "collapsed": false,
    "pycharm": {
     "name": "#%% md\n"
    }
   }
  },
  {
   "cell_type": "code",
   "execution_count": 7,
   "metadata": {
    "collapsed": true
   },
   "outputs": [],
   "source": [
    "def count(traces, poi=None, trace_range=256, offset=-.5, max_bins=64):\n",
    "    pos_traces = traces + round(-trace_range * offset)\n",
    "\n",
    "    if poi is None:\n",
    "        poi = (0, traces.shape[1])\n",
    "\n",
    "    bin_count = np.sum(np.array([np.bincount(sample_pts[poi[0]:poi[1]], minlength=trace_range) for sample_pts in pos_traces]), axis=0)\n",
    "\n",
    "    res = np.zeros(max_bins)\n",
    "    step = round(trace_range / max_bins)\n",
    "\n",
    "    for ix in range(max_bins):\n",
    "        res[ix] = np.sum(bin_count[ix * step:(ix + 1) * step])\n",
    "\n",
    "    return res\n"
   ]
  },
  {
   "cell_type": "markdown",
   "source": [
    "### Test examples from paper\n",
    "Moriadi et al. (2018), page 214\n"
   ],
   "metadata": {
    "collapsed": false
   }
  },
  {
   "cell_type": "code",
   "execution_count": 8,
   "outputs": [],
   "source": [
    "# Example values from Moriadi et al. (2018), page 214\n",
    "MORIADI = {\n",
    "    'F_0': [24, 59, 28, 9],\n",
    "    'F_1': [23, 57, 20, 0],\n",
    "    'chi': 8.64,\n",
    "    'dof': 3,\n",
    "    'p': 0.0345,\n",
    "    'p_decimal': 3\n",
    "}"
   ],
   "metadata": {
    "collapsed": false,
    "pycharm": {
     "name": "#%%\n"
    }
   }
  },
  {
   "cell_type": "markdown",
   "source": [
    "### Implementation based on paper\n",
    "Moriadi et al. (2018), page 213"
   ],
   "metadata": {
    "collapsed": false
   }
  },
  {
   "cell_type": "code",
   "execution_count": 9,
   "outputs": [],
   "source": [
    "def f_chi(x, v):\n",
    "    if x <= 0:\n",
    "        return 0\n",
    "\n",
    "    num = x ** ((v / 2) - 1) * math.e ** (-x / 2)\n",
    "    den = 2 ** (v / 2) * math.gamma(v / 2)\n",
    "    return num / den\n",
    "\n",
    "def p_chi(sum_chi, dof):\n",
    "    return quad(f_chi, sum_chi, np.inf, args=(dof, ))[0]"
   ],
   "metadata": {
    "collapsed": false,
    "pycharm": {
     "name": "#%%\n"
    }
   }
  },
  {
   "cell_type": "code",
   "execution_count": 10,
   "outputs": [],
   "source": [
    "almost_equal(p_chi(MORIADI['chi'], MORIADI['dof']), MORIADI['p'], MORIADI['p_decimal'])"
   ],
   "metadata": {
    "collapsed": false,
    "pycharm": {
     "name": "#%%\n"
    }
   }
  },
  {
   "cell_type": "markdown",
   "source": [
    "### Implementation of $\\chi^2$-test"
   ],
   "metadata": {
    "collapsed": false,
    "pycharm": {
     "name": "#%% md\n"
    }
   }
  },
  {
   "cell_type": "code",
   "execution_count": 11,
   "outputs": [],
   "source": [
    "def chi_squared(observed, expected, balance=False):\n",
    "    categories = np.array([observed, expected])\n",
    "\n",
    "    # Expected frequency\n",
    "    sum_cat = np.sum(observed), np.sum(expected)\n",
    "\n",
    "    sum_oe = np.sum(categories, axis=0)\n",
    "\n",
    "    sum_all = np.sum(sum_oe)\n",
    "    nz_ixs = np.nonzero(sum_oe)[0]\n",
    "\n",
    "    chi_acc = 0.0\n",
    "    for cat in range(len(categories)):\n",
    "        for ix in nz_ixs:\n",
    "            # Expected frequency\n",
    "            ef = (sum_cat[cat] * sum_oe[ix]) / sum_all\n",
    "            # Accumulation of chi-squared value\n",
    "            chi_acc += (categories[cat][ix] - ef) ** 2 / ef\n",
    "\n",
    "    # Degrees of freedom.\n",
    "    dof = (len(nz_ixs) - 1) * (len(categories) - 1)\n",
    "\n",
    "    # return chi_acc, dof\n",
    "    return p_chi(chi_acc, dof)"
   ],
   "metadata": {
    "collapsed": false,
    "pycharm": {
     "name": "#%%\n"
    }
   }
  },
  {
   "cell_type": "code",
   "execution_count": 12,
   "outputs": [],
   "source": [
    "almost_equal(chi_squared(MORIADI['F_0'], MORIADI['F_1']), MORIADI['p'], MORIADI['p_decimal'])"
   ],
   "metadata": {
    "collapsed": false,
    "pycharm": {
     "name": "#%%\n"
    }
   }
  }
 ],
 "metadata": {
  "kernelspec": {
   "display_name": "Python 3",
   "language": "python",
   "name": "python3"
  },
  "language_info": {
   "codemirror_mode": {
    "name": "ipython",
    "version": 2
   },
   "file_extension": ".py",
   "mimetype": "text/x-python",
   "name": "python",
   "nbconvert_exporter": "python",
   "pygments_lexer": "ipython2",
   "version": "2.7.6"
  }
 },
 "nbformat": 4,
 "nbformat_minor": 0
}