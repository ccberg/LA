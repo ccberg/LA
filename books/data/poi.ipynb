{
 "cells": [
  {
   "cell_type": "markdown",
   "source": [
    "# Finding Points of Interest"
   ],
   "metadata": {
    "collapsed": false
   }
  },
  {
   "cell_type": "code",
   "execution_count": 7,
   "outputs": [],
   "source": [
    "import numpy as np\n",
    "import seaborn as sns\n",
    "import pandas as pd\n",
    "import matplotlib.pyplot as plt\n",
    "from scipy import stats\n",
    "from src.tools.cache import cache_np\n",
    "\n",
    "from src.tools.traceloader import ASCAD, TraceGroup\n",
    "\n",
    "sns.set_style(\"whitegrid\")"
   ],
   "metadata": {
    "collapsed": false,
    "pycharm": {
     "name": "#%%\n"
    }
   }
  },
  {
   "cell_type": "code",
   "execution_count": 8,
   "outputs": [
    {
     "data": {
      "text/plain": "(200000, 1400)"
     },
     "execution_count": 8,
     "metadata": {},
     "output_type": "execute_result"
    }
   ],
   "source": [
    "ascad = ASCAD()\n",
    "ascad.default.profile.traces.shape"
   ],
   "metadata": {
    "collapsed": false,
    "pycharm": {
     "name": "#%%\n"
    }
   }
  },
  {
   "cell_type": "markdown",
   "source": [
    "### Order difference detection tool"
   ],
   "metadata": {
    "collapsed": false
   }
  },
  {
   "cell_type": "code",
   "execution_count": 12,
   "outputs": [],
   "source": [
    "def calc_moment_difference(tg: TraceGroup, moment=1, use_attack=False):\n",
    "    kr = range(ASCAD.key_size)\n",
    "    stat_moment = lambda a: stats.moment(a, moment=moment, axis=0, nan_policy='raise')\n",
    "\n",
    "    if use_attack:\n",
    "        traces_left = [stat_moment(tg.profile.filter_traces(k)) for k in kr]\n",
    "        traces_right = [stat_moment(tg.attack.filter_traces(k)) for k in kr]\n",
    "    else:\n",
    "        traces_left, traces_right = [], []\n",
    "        tc = tg.profile\n",
    "\n",
    "        for k in kr:\n",
    "            traces = tc.filter_traces(k)\n",
    "            mid = round(len(traces) / 2)\n",
    "            traces_left.append(stat_moment(traces[mid:]))\n",
    "            traces_right.append(stat_moment(traces[:mid]))\n",
    "\n",
    "    cross = []\n",
    "    for i in kr:\n",
    "        for j in kr:\n",
    "            if i != j:\n",
    "                cross.append(abs(traces_left[i] - traces_right[j]))\n",
    "\n",
    "    mean_diff_neq = np.mean(cross, axis=0)\n",
    "    mean_diff_eq = np.mean([abs(traces_left[i] - traces_right[i]) for i in kr], axis=0)\n",
    "\n",
    "    return mean_diff_neq - mean_diff_eq\n",
    "\n",
    "def get_moment_differences(db, use_attack=False, trace_size=ASCAD.trace_len, max_moment=3):\n",
    "    mdiff = [calc_moment_difference(db.default, i, use_attack) for i in range(1, max_moment + 1)]\n",
    "\n",
    "    return np.array([np.zeros(trace_size), *mdiff])\n",
    "\n",
    "MOMENT_DIFFERENCES = cache_np(\"moment_differences\", get_moment_differences, ascad, v=4)\n",
    "TRUE_MDIFF = cache_np(\"true_moment_differences\", get_moment_differences, ascad, True, v=4)\n",
    "\n",
    "# TODO try window = 100, strange result.\n",
    "def select_poi(moment_difference, n=5, window=15):\n",
    "    \"\"\"\n",
    "    Selects the top n most interesting points of interest, based on some statistical moment difference.\n",
    "    \"\"\"\n",
    "    diff = abs(moment_difference)\n",
    "    std = np.std(diff)\n",
    "    ts = [*(diff > std), *([False] * window)]\n",
    "\n",
    "    acc = []\n",
    "    counter, sum_diff, max_diff = 0, 0.0, 0.0\n",
    "    for ix in range(len(ts)):\n",
    "        if ts[ix]:\n",
    "            counter += 1\n",
    "            sum_diff += diff[ix]\n",
    "            max_diff = max(diff[ix], max_diff)\n",
    "\n",
    "        elif counter >= window:\n",
    "            avg_diff = sum_diff / counter\n",
    "            acc.append((ix - counter, ix, avg_diff))\n",
    "            counter, sum_diff, max_diff = 0, 0.0, 0.0\n",
    "\n",
    "    if len(acc) == 0:\n",
    "        return []\n",
    "\n",
    "    return pd.DataFrame(acc).sort_values(2, ascending=False).head(n)[[0,1]].values"
   ],
   "metadata": {
    "collapsed": false,
    "pycharm": {
     "name": "#%%\n"
    }
   }
  },
  {
   "cell_type": "code",
   "execution_count": 10,
   "outputs": [
    {
     "data": {
      "text/plain": "array([[669, 688],\n       [ 97, 116],\n       [464, 479],\n       [516, 531],\n       [255, 270]])"
     },
     "execution_count": 10,
     "metadata": {},
     "output_type": "execute_result"
    }
   ],
   "source": [
    "select_poi(MOMENT_DIFFERENCES[1])"
   ],
   "metadata": {
    "collapsed": false,
    "pycharm": {
     "name": "#%%\n"
    }
   }
  },
  {
   "cell_type": "code",
   "execution_count": 11,
   "outputs": [],
   "source": [
    "def plot_poi(mdiff, moment):\n",
    "    fig, ax = plt.subplots()\n",
    "    top_n = 5\n",
    "\n",
    "    title = f\"Difference in statistical moment ({moment}) between traces with\\ndifferent keys, \" \\\n",
    "            f\"top {top_n} Points of Interest are highlighted.\\n\"\n",
    "    sns.lineplot(data=mdiff[moment]).set_title(title)\n",
    "\n",
    "    for a, b in select_poi(mdiff[moment], top_n):\n",
    "        ax.axvspan(a, b, alpha=0.3, color='red')\n",
    "\n",
    "    plt.show()"
   ],
   "metadata": {
    "collapsed": false,
    "pycharm": {
     "name": "#%%\n"
    }
   }
  }
 ],
 "metadata": {
  "kernelspec": {
   "display_name": "Python 3",
   "language": "python",
   "name": "python3"
  },
  "language_info": {
   "codemirror_mode": {
    "name": "ipython",
    "version": 2
   },
   "file_extension": ".py",
   "mimetype": "text/x-python",
   "name": "python",
   "nbconvert_exporter": "python",
   "pygments_lexer": "ipython2",
   "version": "2.7.6"
  }
 },
 "nbformat": 4,
 "nbformat_minor": 0
}