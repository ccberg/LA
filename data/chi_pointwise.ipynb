{
 "cells": [
  {
   "cell_type": "markdown",
   "metadata": {},
   "source": [
    "### Application of $\\chi^2$ on ASCAD\n",
    "\n",
    "On a per-sample-point basis."
   ]
  },
  {
   "cell_type": "code",
   "execution_count": 1,
   "metadata": {
    "pycharm": {
     "name": "#%%\n"
    }
   },
   "outputs": [],
   "source": [
    "import math\n",
    "from random import choices\n",
    "\n",
    "import numpy as np\n",
    "import seaborn as sns\n",
    "from tqdm import tqdm\n",
    "\n",
    "from tools.cache import cache_np\n",
    "from tools.nbloader import NotebookLoader\n",
    "from tools.plotter import shadow_plot, line_plot_poi\n",
    "from tools.poi import select_poi\n",
    "from tools.traceloader import ASCAD, TraceGroup\n",
    "from IPython.display import Markdown as md\n",
    "\n",
    "sns.set_style(\"whitegrid\")"
   ]
  },
  {
   "cell_type": "code",
   "execution_count": 2,
   "metadata": {
    "pycharm": {
     "name": "#%%\n"
    }
   },
   "outputs": [
    {
     "data": {
      "text/plain": "(200000, 1400)"
     },
     "execution_count": 2,
     "metadata": {},
     "output_type": "execute_result"
    }
   ],
   "source": [
    "NUM_BINS = 64\n",
    "\n",
    "ascad = ASCAD()\n",
    "ascad.default.profile.traces.shape"
   ]
  },
  {
   "cell_type": "code",
   "execution_count": 3,
   "metadata": {
    "pycharm": {
     "name": "#%%\n"
    }
   },
   "outputs": [
    {
     "name": "stdout",
     "output_type": "stream",
     "text": [
      "importing Jupyter notebook from ../tvla/chi2.ipynb\n"
     ]
    }
   ],
   "source": [
    "chi_squared = NotebookLoader([\"../tvla\"]).load_module(\"chi2\").chi_squared_balanced"
   ]
  },
  {
   "cell_type": "code",
   "execution_count": 4,
   "metadata": {
    "pycharm": {
     "name": "#%%\n"
    }
   },
   "outputs": [],
   "source": [
    "def count_sample_point(traces: np.array):\n",
    "    \"\"\"\n",
    "    Simple bin count that counts occurrences of a power trace value ([0..256] for ASCAD) per sample point.\n",
    "    \"\"\"\n",
    "    return np.array([np.bincount(t, minlength=ASCAD.key_size) for t in np.moveaxis(traces, 0, -1) + (-ASCAD.offset)],\n",
    "                    dtype=np.uint32)"
   ]
  },
  {
   "cell_type": "code",
   "execution_count": 5,
   "metadata": {
    "pycharm": {
     "name": "#%%\n"
    }
   },
   "outputs": [],
   "source": [
    "def reduce_bin_count(bin_count: np.array, bins_from: int, bins_to: int):\n",
    "    \"\"\"\n",
    "    Reduces the number of bins from a bin count.\n",
    "    \"\"\"\n",
    "    res = np.zeros(bins_to, dtype=np.uint32)\n",
    "    step = round(bins_from / bins_to) # Should be divisible\n",
    "\n",
    "    for ix in range(bins_to):\n",
    "        res[ix] = np.sum(bin_count[ix * step:(ix + 1) * step])\n",
    "\n",
    "    return res\n",
    "\n",
    "def count(traces: np.array, window_size, bin_count=NUM_BINS):\n",
    "    \"\"\"\n",
    "    Extended bin count that counts the occurrences of a power trace value ([0..256] for ASCAD) per sliding window step.\n",
    "\n",
    "    @param traces: Array of traces.\n",
    "    @param window_size: The sliding window size. The window step is fixed to 1.\n",
    "    @param bin_count: The number of bins the bin count should be reduced to.\n",
    "    \"\"\"\n",
    "    ts = np.moveaxis(traces, 0, -1) + (-ASCAD.offset)\n",
    "    t_size = ts.shape[0]\n",
    "    res = np.array([np.zeros(bin_count)] * t_size, dtype=np.uint32)\n",
    "\n",
    "    max_win_ix = t_size - window_size + 1\n",
    "    win_range = range(max_win_ix)\n",
    "\n",
    "    for ix in win_range:\n",
    "        bc = np.zeros(ASCAD.key_size)\n",
    "        for t in ts[ix:ix + window_size]:\n",
    "            bc += np.array(np.bincount(t, minlength=ASCAD.key_size), dtype=np.uint32)\n",
    "        res[ix] = reduce_bin_count(bc, ASCAD.key_size, bin_count)\n",
    "\n",
    "    return res\n",
    "\n",
    "\n",
    "# The sum of bin counts with window = 1 should be equal to the sample-point bin count.\n",
    "assert count(ascad.default.profile.filter_traces(0), 1).sum() - \\\n",
    "       count_sample_point(ascad.default.profile.filter_traces(0)).sum() == 0"
   ]
  },
  {
   "cell_type": "code",
   "execution_count": 6,
   "metadata": {
    "pycharm": {
     "name": "#%%\n"
    }
   },
   "outputs": [],
   "source": [
    "def balance_count(traces, sw_size, max_len=None):\n",
    "    \"\"\"\n",
    "    Balances the bin count sum by randomly incrementing counters using the existing distribution from the bin count.\n",
    "    Useful when dealing with trace sets that are not of the same size.\n",
    "    \"\"\"\n",
    "    num_traces, trace_size = traces.shape\n",
    "\n",
    "    split = fill = round(num_traces / 2)\n",
    "    if max_len is None:\n",
    "        # If the trace length to matched is given.\n",
    "        fill = math.ceil(num_traces / 2)\n",
    "\n",
    "    cnt = lambda a: count(a, sw_size)\n",
    "    left, right = cnt(traces[split:]), cnt(traces[:split])\n",
    "\n",
    "    cs = lambda w, k: choices(list(range(left.shape[1])), weights=w, k=k)\n",
    "\n",
    "    # Get the number of draws per sliding window index.\n",
    "    draw_left = (fill - (num_traces - split)) * sw_size\n",
    "    draw_right = (fill - split) * sw_size\n",
    "\n",
    "    for sw_ix in range(trace_size - sw_size + 1):\n",
    "        # Pull from existing distribution...\n",
    "        c_left = cs(left[sw_ix], draw_left)\n",
    "        c_right = cs(right[sw_ix], draw_right)\n",
    "\n",
    "        # and add the pulled indexes to the trace counts.\n",
    "        np.add.at(left[sw_ix], c_left, 1)\n",
    "        np.add.at(right[sw_ix], c_right, 1)\n",
    "\n",
    "    return left, right\n",
    "\n",
    "TMP = [i.sum() for i in balance_count(ascad.default.profile.filter_traces(3), 10)]\n",
    "\n",
    "# Left and right should be balanced.\n",
    "assert TMP[1] - TMP[0] == 0"
   ]
  },
  {
   "cell_type": "code",
   "execution_count": 7,
   "metadata": {},
   "outputs": [
    {
     "name": "stderr",
     "output_type": "stream",
     "text": [
      "Calculating p-values:  69%|██████▉   | 45465/65536 [1:29:38<37:17,  8.97it/s]  "
     ]
    },
    {
     "ename": "KeyError",
     "evalue": "0",
     "output_type": "error",
     "traceback": [
      "\u001B[0;31m---------------------------------------------------------------------------\u001B[0m",
      "\u001B[0;31mKeyError\u001B[0m                                  Traceback (most recent call last)",
      "\u001B[0;32m<ipython-input-7-8852c9da7357>\u001B[0m in \u001B[0;36m<module>\u001B[0;34m\u001B[0m\n\u001B[1;32m     27\u001B[0m cache_chi2 = lambda tg, kb, win_size: cache_np(f\"chi2_k{kb}_w{win_size}_ks{NUM_KEYS}\",\n\u001B[1;32m     28\u001B[0m                                              chi2, tg, NUM_KEYS, win_size)\n\u001B[0;32m---> 29\u001B[0;31m \u001B[0mC2_K1_SP\u001B[0m \u001B[0;34m=\u001B[0m \u001B[0mcache_chi2\u001B[0m\u001B[0;34m(\u001B[0m\u001B[0mascad\u001B[0m\u001B[0;34m.\u001B[0m\u001B[0mdefault\u001B[0m\u001B[0;34m,\u001B[0m \u001B[0;36m1\u001B[0m\u001B[0;34m,\u001B[0m \u001B[0;36m1\u001B[0m\u001B[0;34m)\u001B[0m\u001B[0;34m\u001B[0m\u001B[0;34m\u001B[0m\u001B[0m\n\u001B[0m\u001B[1;32m     30\u001B[0m \u001B[0;34m\u001B[0m\u001B[0m\n\u001B[1;32m     31\u001B[0m \u001B[0mC2_K1_SW\u001B[0m \u001B[0;34m=\u001B[0m \u001B[0mcache_chi2\u001B[0m\u001B[0;34m(\u001B[0m\u001B[0mascad\u001B[0m\u001B[0;34m.\u001B[0m\u001B[0mdefault\u001B[0m\u001B[0;34m,\u001B[0m \u001B[0;36m1\u001B[0m\u001B[0;34m,\u001B[0m \u001B[0mSLIDING_WINDOW_SIZE\u001B[0m\u001B[0;34m)\u001B[0m\u001B[0;34m\u001B[0m\u001B[0;34m\u001B[0m\u001B[0m\n",
      "\u001B[0;32m<ipython-input-7-8852c9da7357>\u001B[0m in \u001B[0;36m<lambda>\u001B[0;34m(tg, kb, win_size)\u001B[0m\n\u001B[1;32m     25\u001B[0m \u001B[0mSLIDING_WINDOW_SIZE\u001B[0m \u001B[0;34m=\u001B[0m \u001B[0;36m10\u001B[0m\u001B[0;34m\u001B[0m\u001B[0;34m\u001B[0m\u001B[0m\n\u001B[1;32m     26\u001B[0m \u001B[0;34m\u001B[0m\u001B[0m\n\u001B[0;32m---> 27\u001B[0;31m cache_chi2 = lambda tg, kb, win_size: cache_np(f\"chi2_k{kb}_w{win_size}_ks{NUM_KEYS}\",\n\u001B[0m\u001B[1;32m     28\u001B[0m                                              chi2, tg, NUM_KEYS, win_size)\n\u001B[1;32m     29\u001B[0m \u001B[0mC2_K1_SP\u001B[0m \u001B[0;34m=\u001B[0m \u001B[0mcache_chi2\u001B[0m\u001B[0;34m(\u001B[0m\u001B[0mascad\u001B[0m\u001B[0;34m.\u001B[0m\u001B[0mdefault\u001B[0m\u001B[0;34m,\u001B[0m \u001B[0;36m1\u001B[0m\u001B[0;34m,\u001B[0m \u001B[0;36m1\u001B[0m\u001B[0;34m)\u001B[0m\u001B[0;34m\u001B[0m\u001B[0;34m\u001B[0m\u001B[0m\n",
      "\u001B[0;32m~/Documents/Afstudeer/LA/tools/cache.py\u001B[0m in \u001B[0;36mcache_np\u001B[0;34m(name, f, v, replace, *args)\u001B[0m\n\u001B[1;32m     14\u001B[0m         \u001B[0;31m# Only try to store the results of f(*args) if f is supplied.\u001B[0m\u001B[0;34m\u001B[0m\u001B[0;34m\u001B[0m\u001B[0;34m\u001B[0m\u001B[0m\n\u001B[1;32m     15\u001B[0m         \u001B[0;32mif\u001B[0m \u001B[0mreplace\u001B[0m \u001B[0;32mor\u001B[0m \u001B[0;32mnot\u001B[0m \u001B[0mos\u001B[0m\u001B[0;34m.\u001B[0m\u001B[0mpath\u001B[0m\u001B[0;34m.\u001B[0m\u001B[0mexists\u001B[0m\u001B[0;34m(\u001B[0m\u001B[0mf_name\u001B[0m\u001B[0;34m)\u001B[0m\u001B[0;34m:\u001B[0m\u001B[0;34m\u001B[0m\u001B[0;34m\u001B[0m\u001B[0m\n\u001B[0;32m---> 16\u001B[0;31m             \u001B[0mnp\u001B[0m\u001B[0;34m.\u001B[0m\u001B[0msavez_compressed\u001B[0m\u001B[0;34m(\u001B[0m\u001B[0mf_name\u001B[0m\u001B[0;34m,\u001B[0m \u001B[0mdata\u001B[0m\u001B[0;34m=\u001B[0m\u001B[0mf\u001B[0m\u001B[0;34m(\u001B[0m\u001B[0;34m*\u001B[0m\u001B[0margs\u001B[0m\u001B[0;34m)\u001B[0m\u001B[0;34m)\u001B[0m\u001B[0;34m\u001B[0m\u001B[0;34m\u001B[0m\u001B[0m\n\u001B[0m\u001B[1;32m     17\u001B[0m \u001B[0;34m\u001B[0m\u001B[0m\n\u001B[1;32m     18\u001B[0m     \u001B[0;32mwith\u001B[0m \u001B[0mnp\u001B[0m\u001B[0;34m.\u001B[0m\u001B[0mload\u001B[0m\u001B[0;34m(\u001B[0m\u001B[0mf_name\u001B[0m\u001B[0;34m,\u001B[0m \u001B[0mallow_pickle\u001B[0m\u001B[0;34m=\u001B[0m\u001B[0;32mTrue\u001B[0m\u001B[0;34m)\u001B[0m \u001B[0;32mas\u001B[0m \u001B[0mfile\u001B[0m\u001B[0;34m:\u001B[0m\u001B[0;34m\u001B[0m\u001B[0;34m\u001B[0m\u001B[0m\n",
      "\u001B[0;32m<ipython-input-7-8852c9da7357>\u001B[0m in \u001B[0;36mchi2\u001B[0;34m(tg, ks, sw_size)\u001B[0m\n\u001B[1;32m     13\u001B[0m             \u001B[0;32mfor\u001B[0m \u001B[0msp\u001B[0m \u001B[0;32min\u001B[0m \u001B[0mrange\u001B[0m\u001B[0;34m(\u001B[0m\u001B[0mmax_window\u001B[0m\u001B[0;34m)\u001B[0m\u001B[0;34m:\u001B[0m\u001B[0;34m\u001B[0m\u001B[0;34m\u001B[0m\u001B[0m\n\u001B[1;32m     14\u001B[0m                 \u001B[0;32mtry\u001B[0m\u001B[0;34m:\u001B[0m\u001B[0;34m\u001B[0m\u001B[0;34m\u001B[0m\u001B[0m\n\u001B[0;32m---> 15\u001B[0;31m                     \u001B[0mcsp\u001B[0m\u001B[0;34m[\u001B[0m\u001B[0mk1\u001B[0m\u001B[0;34m]\u001B[0m\u001B[0;34m[\u001B[0m\u001B[0mk2\u001B[0m\u001B[0;34m]\u001B[0m\u001B[0;34m[\u001B[0m\u001B[0msp\u001B[0m \u001B[0;34m+\u001B[0m \u001B[0moffset\u001B[0m\u001B[0;34m]\u001B[0m \u001B[0;34m=\u001B[0m \u001B[0mchi_squared\u001B[0m\u001B[0;34m(\u001B[0m\u001B[0mc_left\u001B[0m\u001B[0;34m[\u001B[0m\u001B[0mk1\u001B[0m\u001B[0;34m]\u001B[0m\u001B[0;34m[\u001B[0m\u001B[0msp\u001B[0m\u001B[0;34m]\u001B[0m\u001B[0;34m,\u001B[0m \u001B[0mc_right\u001B[0m\u001B[0;34m[\u001B[0m\u001B[0mk2\u001B[0m\u001B[0;34m]\u001B[0m\u001B[0;34m[\u001B[0m\u001B[0msp\u001B[0m\u001B[0;34m]\u001B[0m\u001B[0;34m)\u001B[0m\u001B[0;34m\u001B[0m\u001B[0;34m\u001B[0m\u001B[0m\n\u001B[0m\u001B[1;32m     16\u001B[0m                 \u001B[0;32mexcept\u001B[0m \u001B[0mValueError\u001B[0m \u001B[0;32mas\u001B[0m \u001B[0m_\u001B[0m\u001B[0;34m:\u001B[0m\u001B[0;34m\u001B[0m\u001B[0;34m\u001B[0m\u001B[0m\n\u001B[1;32m     17\u001B[0m                     \u001B[0mcsp\u001B[0m\u001B[0;34m[\u001B[0m\u001B[0mk1\u001B[0m\u001B[0;34m]\u001B[0m\u001B[0;34m[\u001B[0m\u001B[0mk2\u001B[0m\u001B[0;34m]\u001B[0m\u001B[0;34m[\u001B[0m\u001B[0msp\u001B[0m \u001B[0;34m+\u001B[0m \u001B[0moffset\u001B[0m\u001B[0;34m]\u001B[0m \u001B[0;34m=\u001B[0m \u001B[0;36m1\u001B[0m\u001B[0;34m\u001B[0m\u001B[0;34m\u001B[0m\u001B[0m\n",
      "\u001B[0;32m~/Documents/Afstudeer/LA/tvla/chi2.ipynb\u001B[0m in \u001B[0;36mchi_squared_balanced\u001B[0;34m(observed, expected)\u001B[0m\n",
      "\u001B[0;32m~/Documents/Afstudeer/LA/tvla/chi2.ipynb\u001B[0m in \u001B[0;36mp_chi\u001B[0;34m(sum_chi, dof)\u001B[0m\n",
      "\u001B[0;32m/usr/local/lib/python3.8/dist-packages/scipy-1.5.3-py3.8-linux-x86_64.egg/scipy/integrate/quadpack.py\u001B[0m in \u001B[0;36mquad\u001B[0;34m(func, a, b, args, full_output, epsabs, epsrel, limit, points, weight, wvar, wopts, maxp1, limlst)\u001B[0m\n\u001B[1;32m    349\u001B[0m \u001B[0;34m\u001B[0m\u001B[0m\n\u001B[1;32m    350\u001B[0m     \u001B[0;32mif\u001B[0m \u001B[0mweight\u001B[0m \u001B[0;32mis\u001B[0m \u001B[0;32mNone\u001B[0m\u001B[0;34m:\u001B[0m\u001B[0;34m\u001B[0m\u001B[0;34m\u001B[0m\u001B[0m\n\u001B[0;32m--> 351\u001B[0;31m         retval = _quad(func, a, b, args, full_output, epsabs, epsrel, limit,\n\u001B[0m\u001B[1;32m    352\u001B[0m                        points)\n\u001B[1;32m    353\u001B[0m     \u001B[0;32melse\u001B[0m\u001B[0;34m:\u001B[0m\u001B[0;34m\u001B[0m\u001B[0;34m\u001B[0m\u001B[0m\n",
      "\u001B[0;32m/usr/local/lib/python3.8/dist-packages/scipy-1.5.3-py3.8-linux-x86_64.egg/scipy/integrate/quadpack.py\u001B[0m in \u001B[0;36m_quad\u001B[0;34m(func, a, b, args, full_output, epsabs, epsrel, limit, points)\u001B[0m\n\u001B[1;32m    463\u001B[0m             \u001B[0;32mreturn\u001B[0m \u001B[0m_quadpack\u001B[0m\u001B[0;34m.\u001B[0m\u001B[0m_qagse\u001B[0m\u001B[0;34m(\u001B[0m\u001B[0mfunc\u001B[0m\u001B[0;34m,\u001B[0m\u001B[0ma\u001B[0m\u001B[0;34m,\u001B[0m\u001B[0mb\u001B[0m\u001B[0;34m,\u001B[0m\u001B[0margs\u001B[0m\u001B[0;34m,\u001B[0m\u001B[0mfull_output\u001B[0m\u001B[0;34m,\u001B[0m\u001B[0mepsabs\u001B[0m\u001B[0;34m,\u001B[0m\u001B[0mepsrel\u001B[0m\u001B[0;34m,\u001B[0m\u001B[0mlimit\u001B[0m\u001B[0;34m)\u001B[0m\u001B[0;34m\u001B[0m\u001B[0;34m\u001B[0m\u001B[0m\n\u001B[1;32m    464\u001B[0m         \u001B[0;32melse\u001B[0m\u001B[0;34m:\u001B[0m\u001B[0;34m\u001B[0m\u001B[0;34m\u001B[0m\u001B[0m\n\u001B[0;32m--> 465\u001B[0;31m             \u001B[0;32mreturn\u001B[0m \u001B[0m_quadpack\u001B[0m\u001B[0;34m.\u001B[0m\u001B[0m_qagie\u001B[0m\u001B[0;34m(\u001B[0m\u001B[0mfunc\u001B[0m\u001B[0;34m,\u001B[0m\u001B[0mbound\u001B[0m\u001B[0;34m,\u001B[0m\u001B[0minfbounds\u001B[0m\u001B[0;34m,\u001B[0m\u001B[0margs\u001B[0m\u001B[0;34m,\u001B[0m\u001B[0mfull_output\u001B[0m\u001B[0;34m,\u001B[0m\u001B[0mepsabs\u001B[0m\u001B[0;34m,\u001B[0m\u001B[0mepsrel\u001B[0m\u001B[0;34m,\u001B[0m\u001B[0mlimit\u001B[0m\u001B[0;34m)\u001B[0m\u001B[0;34m\u001B[0m\u001B[0;34m\u001B[0m\u001B[0m\n\u001B[0m\u001B[1;32m    466\u001B[0m     \u001B[0;32melse\u001B[0m\u001B[0;34m:\u001B[0m\u001B[0;34m\u001B[0m\u001B[0;34m\u001B[0m\u001B[0m\n\u001B[1;32m    467\u001B[0m         \u001B[0;32mif\u001B[0m \u001B[0minfbounds\u001B[0m \u001B[0;34m!=\u001B[0m \u001B[0;36m0\u001B[0m\u001B[0;34m:\u001B[0m\u001B[0;34m\u001B[0m\u001B[0;34m\u001B[0m\u001B[0m\n",
      "\u001B[0;32m~/Documents/Afstudeer/LA/tvla/chi2.ipynb\u001B[0m in \u001B[0;36mf_chi\u001B[0;34m(x)\u001B[0m\n",
      "\u001B[0;31mKeyError\u001B[0m: 0"
     ]
    }
   ],
   "source": [
    "def chi2(tg: TraceGroup, ks, sw_size):\n",
    "    max_traces = max([len(tg.profile.filter_traces(i)) for i in range(ks)])\n",
    "\n",
    "    c_left, c_right = zip(*[balance_count(tg.profile.filter_traces(k), sw_size, max_traces) for k in range(ks)])\n",
    "\n",
    "    max_window = ASCAD.trace_len - sw_size + 1\n",
    "    offset = round(sw_size / 2)\n",
    "\n",
    "    csp = np.array([[[np.nan] * ASCAD.trace_len] * ks] * ks)\n",
    "    progress = tqdm(total=(ks ** 2), desc=f\"Calculating p-values\")\n",
    "    for k1 in range(ks):\n",
    "        for k2 in range(ks):\n",
    "            for sp in range(max_window):\n",
    "                try:\n",
    "                    csp[k1][k2][sp + offset] = chi_squared(c_left[k1][sp], c_right[k2][sp])\n",
    "                except ValueError as _:\n",
    "                    csp[k1][k2][sp + offset] = 1\n",
    "\n",
    "            progress.update(1)\n",
    "\n",
    "    progress.close()\n",
    "    return csp\n",
    "\n",
    "NUM_KEYS = 256\n",
    "SLIDING_WINDOW_SIZE = 10\n",
    "\n",
    "cache_chi2 = lambda tg, kb, win_size: cache_np(f\"chi2_k{kb}_w{win_size}_ks{NUM_KEYS}\",\n",
    "                                             chi2, tg, NUM_KEYS, win_size)\n",
    "C2_K1_SP = cache_chi2(ascad.default, 1, 1)\n",
    "\n",
    "C2_K1_SW = cache_chi2(ascad.default, 1, SLIDING_WINDOW_SIZE)\n",
    "C2_K3_SW = cache_chi2(ascad.masked, 3, SLIDING_WINDOW_SIZE)"
   ]
  },
  {
   "cell_type": "code",
   "execution_count": null,
   "metadata": {
    "pycharm": {
     "name": "#%%\n"
    }
   },
   "outputs": [],
   "source": [
    "sns.lineplot(data=C2_K1_SW[0][0])"
   ]
  },
  {
   "cell_type": "code",
   "execution_count": null,
   "metadata": {
    "pycharm": {
     "name": "#%%\n"
    }
   },
   "outputs": [],
   "source": [
    "def p_value_mean(ps):\n",
    "    keys = range(len(ps))\n",
    "    ps_equal_key = np.array([ps[i][i] for i in keys]).mean(axis=0)\n",
    "    ps_different_key = np.array([ps[i][j] for i in keys for j in keys if i != j]).mean(axis=0)\n",
    "\n",
    "    return ps_equal_key, ps_different_key"
   ]
  },
  {
   "cell_type": "code",
   "execution_count": null,
   "outputs": [],
   "source": [
    "def pv_plot(chi2_results, mdiff):\n",
    "    pv_mean = p_value_mean(chi2_results)\n",
    "\n",
    "    shadow_plot({\n",
    "        \"Average p-value for equal keys\": pv_mean[0],\n",
    "        \"Average p-value for different keys\": pv_mean[1]\n",
    "    }, title=\"$p$-value for equal keys vs. $p$-value for different keys.\\n\")\n",
    "\n",
    "    line_plot_poi({\n",
    "        \"$p$-value mean difference\": np.array(pv_mean[0] - pv_mean[1]), # Equal keys - Different keys\n",
    "        \"Sample point mean difference\": mdiff[1] # 1st order moment difference\n",
    "    }, select_poi(mdiff[1]), poi_alpha=.1,\n",
    "        title=\"$p$-value difference vs. sample point difference.\\n\"\n",
    "              \"Points of Interest are highlighted.\\n\", xlim=(0, 700))\n",
    "\n",
    "    line_plot_poi({\n",
    "        \"$p$-value mean difference\": np.array(pv_mean[0] - pv_mean[1]), # Equal keys - Different keys\n",
    "        \"Sample point mean difference\": mdiff[1] # 1st order moment difference\n",
    "    }, select_poi(mdiff[1]), poi_alpha=.1,\n",
    "        title=\"$p$-value difference vs. sample point difference.\\n\"\n",
    "              \"Points of Interest are highlighted.\\n\", xlim=(30, 100))"
   ],
   "metadata": {
    "collapsed": false,
    "pycharm": {
     "name": "#%%\n"
    }
   }
  },
  {
   "cell_type": "markdown",
   "source": [
    "# $\\chi^2$-test $p$-value difference\n",
    "\n",
    "If there is a leakage, traces with equal keys should show dependence and\n",
    "traces that have different keys should show independence.\n",
    "\n",
    "Small $p$ values give evidence to reject the null hypothesis and conclude that the observations are not independent.\n",
    "\n",
    "### $p$-value difference per sample point"
   ],
   "metadata": {
    "collapsed": false,
    "pycharm": {
     "name": "#%% md\n"
    }
   }
  },
  {
   "cell_type": "code",
   "execution_count": null,
   "outputs": [],
   "source": [
    "pv_plot(C2_K1_SP, cache_np(\"mdiff_prof\", v=1))"
   ],
   "metadata": {
    "collapsed": false,
    "pycharm": {
     "name": "#%%\n"
    }
   }
  },
  {
   "cell_type": "code",
   "execution_count": null,
   "outputs": [],
   "source": [
    "cache_np(\"mdiff_prof\", v=1)[1].shape"
   ],
   "metadata": {
    "collapsed": false,
    "pycharm": {
     "name": "#%%\n"
    }
   }
  },
  {
   "cell_type": "markdown",
   "source": [
    "### $p$-value difference per sliding window"
   ],
   "metadata": {
    "collapsed": false,
    "pycharm": {
     "name": "#%% md\n"
    }
   }
  },
  {
   "cell_type": "code",
   "execution_count": null,
   "outputs": [],
   "source": [
    "md(f\"Sliding window size: ({SLIDING_WINDOW_SIZE}), Sliding window step: (1).\")"
   ],
   "metadata": {
    "collapsed": false,
    "pycharm": {
     "name": "#%%\n"
    }
   }
  },
  {
   "cell_type": "code",
   "execution_count": null,
   "outputs": [],
   "source": [
    "pv_plot(C2_K1_SW, cache_np(\"mdiff_prof\", v=1))"
   ],
   "metadata": {
    "collapsed": false,
    "pycharm": {
     "name": "#%%\n"
    }
   }
  },
  {
   "cell_type": "code",
   "execution_count": null,
   "outputs": [],
   "source": [
    "pv_plot(C2_K3_SW, cache_np(\"mdiff_mask\", v=1))"
   ],
   "metadata": {
    "collapsed": false,
    "pycharm": {
     "name": "#%%\n"
    }
   }
  }
 ],
 "metadata": {
  "kernelspec": {
   "display_name": "Python 3",
   "language": "python",
   "name": "python3"
  },
  "language_info": {
   "codemirror_mode": {
    "name": "ipython",
    "version": 3
   },
   "file_extension": ".py",
   "mimetype": "text/x-python",
   "name": "python",
   "nbconvert_exporter": "python",
   "pygments_lexer": "ipython3",
   "version": "3.8.5"
  }
 },
 "nbformat": 4,
 "nbformat_minor": 1
}