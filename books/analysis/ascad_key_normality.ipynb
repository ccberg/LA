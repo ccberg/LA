{
 "cells": [
  {
   "cell_type": "markdown",
   "metadata": {
    "collapsed": true,
    "pycharm": {
     "name": "#%% md\n"
    }
   },
   "source": [
    "# Statistical tests on the ASCAD Database\n",
    "\n",
    "Contains:\n",
    "- Normality tests\n",
    "- Mean and variance"
   ]
  },
  {
   "cell_type": "code",
   "execution_count": 13,
   "metadata": {
    "pycharm": {
     "name": "#%%\n"
    }
   },
   "outputs": [],
   "source": [
    "import numpy as np\n",
    "import seaborn as sns\n",
    "\n",
    "from statsmodels.stats.diagnostic import lilliefors\n",
    "from tqdm import tqdm\n",
    "\n",
    "from src.data.ascad import AscadRandomKey, TraceCategory\n",
    "from src.tools.cache import cache_np\n",
    "\n",
    "sns.set_style(\"whitegrid\")"
   ]
  },
  {
   "cell_type": "code",
   "execution_count": 14,
   "metadata": {
    "pycharm": {
     "name": "#%%\n"
    }
   },
   "outputs": [],
   "source": [
    "ascad = AscadRandomKey()"
   ]
  },
  {
   "cell_type": "code",
   "execution_count": 15,
   "metadata": {
    "pycharm": {
     "name": "#%%\n"
    }
   },
   "outputs": [
    {
     "data": {
      "text/plain": "1400"
     },
     "execution_count": 15,
     "metadata": {},
     "output_type": "execute_result"
    }
   ],
   "source": [
    "a = ascad.default.profile.filter_by_key(0) + 128\n",
    "\n",
    "a.shape[1]"
   ]
  },
  {
   "cell_type": "markdown",
   "metadata": {
    "pycharm": {
     "name": "#%% md\n"
    }
   },
   "source": [
    "### Lilliefors test for normality\n",
    "\n",
    "If the $p$-value is lower than some threshold, e.g. $0.05$, then we can reject the $H_0$: the sample points are normally\n",
    "distributed."
   ]
  },
  {
   "cell_type": "code",
   "execution_count": 16,
   "outputs": [],
   "source": [
    "# p-value for Lilliefors test\n",
    "LIL_P_VALUE = .05"
   ],
   "metadata": {
    "collapsed": false,
    "pycharm": {
     "name": "#%%\n"
    }
   }
  },
  {
   "cell_type": "code",
   "execution_count": 17,
   "metadata": {
    "pycharm": {
     "name": "#%%\n"
    }
   },
   "outputs": [
    {
     "name": "stderr",
     "output_type": "stream",
     "text": [
      "100%|██████████| 256/256 [02:51<00:00,  1.49it/s]\n"
     ]
    },
    {
     "data": {
      "text/plain": "<Figure size 432x288 with 1 Axes>",
      "image/png": "[encoded data removed]"
     },
     "metadata": {},
     "output_type": "display_data"
    }
   ],
   "source": [
    "def normality(tc: TraceCategory, p_value=LIL_P_VALUE):\n",
    "    \"\"\"\n",
    "    Tests the normality of all sample points from a TraceCategory for each first key byte.\n",
    "    \"\"\"\n",
    "    res = []\n",
    "    for k in tqdm(range(256)):\n",
    "        key = np.moveaxis(tc.filter_by_key(k), 0, -1) + 128\n",
    "\n",
    "        if k == 0:\n",
    "            # Plot the 50th sample point distribution of the first key.\n",
    "            g = sns.lineplot(data=np.bincount(key[50], minlength=256))\n",
    "\n",
    "        pvs = np.array([lilliefors(sp, dist='norm')[1] for sp in key])\n",
    "        res.append(np.sum(pvs > p_value))\n",
    "\n",
    "    return res\n",
    "\n",
    "norm_ps = cache_np(\"ascad_key/lil_norm\", normality, ascad.default.profile)"
   ]
  },
  {
   "cell_type": "code",
   "execution_count": 18,
   "metadata": {
    "pycharm": {
     "name": "#%%\n"
    }
   },
   "outputs": [
    {
     "name": "stdout",
     "output_type": "stream",
     "text": [
      "59 out of 358400 sample point distributions are likely to be normally distributed.\n"
     ]
    }
   ],
   "source": [
    "print(f\"{sum(norm_ps)} out of {1400 * 256} sample point distributions are likely to be normally \"\n",
    "      f\"distributed.\")"
   ]
  },
  {
   "cell_type": "markdown",
   "metadata": {
    "pycharm": {
     "name": "#%% md\n"
    }
   },
   "source": [
    "### Statistical properties of ASCAD\n",
    "\n",
    "Average mean for first key."
   ]
  },
  {
   "cell_type": "code",
   "execution_count": 19,
   "metadata": {
    "pycharm": {
     "name": "#%%\n"
    }
   },
   "outputs": [
    {
     "data": {
      "text/plain": "-63.59426973684211"
     },
     "execution_count": 19,
     "metadata": {},
     "output_type": "execute_result"
    }
   ],
   "source": [
    "ascad.default.profile.filter_by_key(0).mean(axis=0).mean()"
   ]
  },
  {
   "cell_type": "markdown",
   "metadata": {},
   "source": [
    "Average standard deviation for first key."
   ]
  },
  {
   "cell_type": "code",
   "execution_count": 20,
   "metadata": {
    "pycharm": {
     "name": "#%%\n"
    }
   },
   "outputs": [
    {
     "data": {
      "text/plain": "2.274456188645743"
     },
     "execution_count": 20,
     "metadata": {},
     "output_type": "execute_result"
    }
   ],
   "source": [
    "ascad.default.profile.filter_by_key(0).std(axis=0).mean()"
   ]
  },
  {
   "cell_type": "markdown",
   "metadata": {
    "pycharm": {
     "name": "#%% md\n"
    }
   },
   "source": [
    "## Experiments\n",
    "\n",
    "### Normality and sliding window\n",
    "\n",
    "Can we improve on normality by taking a sliding window over the sample points?"
   ]
  },
  {
   "cell_type": "code",
   "execution_count": 21,
   "metadata": {
    "pycharm": {
     "name": "#%%\n"
    }
   },
   "outputs": [],
   "source": [
    "sw_size = 2\n",
    "sw = np.empty((a.shape[0], a.shape[1]))\n",
    "\n",
    "def pad_a(i, sliding_window_size):\n",
    "    return np.pad(a, ((0,0), (i, sliding_window_size - i - 1)), 'constant', constant_values=np.nan)\n",
    "\n",
    "pad_raw = np.array([pad_a(i, sw_size) for i in range(sw_size)])\n",
    "\n",
    "mv_a = np.moveaxis(a, 0, -1)\n",
    "mv_sw = np.moveaxis(pad_raw.reshape(-1, pad_raw.shape[-1]), 0, -1)"
   ]
  },
  {
   "cell_type": "code",
   "execution_count": 22,
   "metadata": {
    "pycharm": {
     "name": "#%%\n"
    }
   },
   "outputs": [
    {
     "data": {
      "text/plain": "(1401, 1520)"
     },
     "execution_count": 22,
     "metadata": {},
     "output_type": "execute_result"
    }
   ],
   "source": [
    "mv_sw.shape"
   ]
  },
  {
   "cell_type": "markdown",
   "source": [
    "### Result after using a sliding window\n",
    "\n",
    "Slightly more normally distributed."
   ],
   "metadata": {
    "collapsed": false,
    "pycharm": {
     "name": "#%% md\n"
    }
   }
  },
  {
   "cell_type": "code",
   "execution_count": 23,
   "metadata": {
    "pycharm": {
     "name": "#%%\n"
    }
   },
   "outputs": [
    {
     "data": {
      "text/plain": "<AxesSubplot:>"
     },
     "execution_count": 23,
     "metadata": {},
     "output_type": "execute_result"
    },
    {
     "data": {
      "text/plain": "<Figure size 432x288 with 1 Axes>",
      "image/png": "[encoded data removed]"
     },
     "metadata": {},
     "output_type": "display_data"
    }
   ],
   "source": [
    "sns.lineplot(data=np.bincount(mv_sw[5:1400][2], minlength=256))"
   ]
  },
  {
   "cell_type": "code",
   "execution_count": null,
   "outputs": [],
   "source": [
    "sns.lineplot(data=np.array([lilliefors(sp, dist='norm')[1] for sp in mv_a]))"
   ],
   "metadata": {
    "collapsed": false,
    "pycharm": {
     "name": "#%%\n"
    }
   }
  }
 ],
 "metadata": {
  "kernelspec": {
   "display_name": "Python 3",
   "language": "python",
   "name": "python3"
  },
  "language_info": {
   "codemirror_mode": {
    "name": "ipython",
    "version": 3
   },
   "file_extension": ".py",
   "mimetype": "text/x-python",
   "name": "python",
   "nbconvert_exporter": "python",
   "pygments_lexer": "ipython3",
   "version": "3.8.5"
  }
 },
 "nbformat": 4,
 "nbformat_minor": 1
}