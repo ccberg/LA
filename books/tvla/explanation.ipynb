{
 "cells": [
  {
   "cell_type": "markdown",
   "metadata": {
    "collapsed": true,
    "pycharm": {
     "name": "#%% md\n"
    }
   },
   "source": [
    "# Test Vector Leakage Assessment\n",
    "\n",
    "Example showing usage of TVLA in this project."
   ]
  },
  {
   "cell_type": "markdown",
   "source": [
    "In this example, there are two keys $k_a$ and $k_b$. For key $k_a$ there are $803$ (samples) available, and for key\n",
    "$k_b$ there are $847$. Each sample has a length of $1400$ sample points."
   ],
   "metadata": {
    "collapsed": false,
    "pycharm": {
     "name": "#%% md\n"
    }
   }
  },
  {
   "cell_type": "code",
   "execution_count": 32,
   "outputs": [],
   "source": [
    "samples_a = 803\n",
    "samples_b = 847\n",
    "\n",
    "sample_pts = 1400"
   ],
   "metadata": {
    "collapsed": false,
    "pycharm": {
     "name": "#%%\n"
    }
   }
  },
  {
   "cell_type": "markdown",
   "source": [
    "The samples for these imaginary traces will be simplified into normal distributions with mean $\\mu$.\n",
    "\n",
    "A first-order \"leakage\" will be simulated by taking $\\mu_a$ (for key $k_a$) slightly bigger than $\\mu_b$."
   ],
   "metadata": {
    "collapsed": false,
    "pycharm": {
     "name": "#%% md\n"
    }
   }
  },
  {
   "cell_type": "code",
   "source": [
    "mu_a = 42.2\n",
    "mu_b = 42"
   ],
   "metadata": {
    "collapsed": false,
    "pycharm": {
     "name": "#%%\n"
    }
   },
   "execution_count": 33,
   "outputs": []
  },
  {
   "cell_type": "code",
   "execution_count": 34,
   "outputs": [],
   "source": [
    "import numpy as np\n",
    "\n",
    "# Refer to section statistical properties of ASCAD in books/data/ascad_normality.\n",
    "sigma = .2\n",
    "\n",
    "traces_key_a = np.round([np.random.normal(size=samples_a, scale=sigma) + mu_a for _ in range(sample_pts)]).astype(int)\n",
    "traces_key_b = np.round([np.random.normal(size=samples_b, scale=sigma) + mu_b for _ in range(sample_pts)]).astype(int)"
   ],
   "metadata": {
    "collapsed": false,
    "pycharm": {
     "name": "#%%\n"
    }
   }
  },
  {
   "cell_type": "markdown",
   "source": [
    "### Step 1. Slicing the input\n",
    "\n",
    "The first step in TVLA is to split these samples into $4$ disjoint slices of approximately equal length.\n",
    "\n",
    "The $n$-th slice for key $k_a$ will be denoted as $A_n$."
   ],
   "metadata": {
    "collapsed": false,
    "pycharm": {
     "name": "#%% md\n"
    }
   }
  },
  {
   "cell_type": "code",
   "execution_count": 35,
   "outputs": [],
   "source": [
    "from src.data.slices import make_slice\n",
    "\n",
    "A = make_slice(np.moveaxis(traces_key_a, 0, -1))\n",
    "B = make_slice(np.moveaxis(traces_key_b, 0, -1))"
   ],
   "metadata": {
    "collapsed": false,
    "pycharm": {
     "name": "#%%\n"
    }
   }
  },
  {
   "cell_type": "markdown",
   "source": [
    "### Step 2. Oversampling\n",
    "\n",
    "For the t-test to function properly, the slices in $A_n$ and $B_n$ should all have the same length. This is achieved by\n",
    "oversampling smaller slices using SMOTE."
   ],
   "metadata": {
    "collapsed": false
   }
  },
  {
   "cell_type": "code",
   "execution_count": 36,
   "outputs": [],
   "source": [
    "preferred_size = max([len(s) for s in [*A, *B]])"
   ],
   "metadata": {
    "collapsed": false,
    "pycharm": {
     "name": "#%%\n"
    }
   }
  },
  {
   "cell_type": "code",
   "execution_count": 37,
   "outputs": [
    {
     "data": {
      "text/plain": "(4, 212, 1400)"
     },
     "execution_count": 37,
     "metadata": {},
     "output_type": "execute_result"
    }
   ],
   "source": [
    "from src.data.smote import smote\n",
    "\n",
    "sA = smote(A, preferred_size)\n",
    "sB = smote(B, preferred_size)\n",
    "\n",
    "sA.shape"
   ],
   "metadata": {
    "collapsed": false,
    "pycharm": {
     "name": "#%%\n"
    }
   }
  },
  {
   "cell_type": "markdown",
   "source": [
    "### Step 3. Preparing the data\n",
    "\n",
    "In this example, the t-test is used when performing TVLA. The t-test takes the sample mean, sample variance and some\n",
    "value for $p$. It tests the null hypothesis that 2 independent samples have identical average (expected) values, and\n",
    "returns whether the null hypotheses should be accepted.\n",
    "\n",
    "Therefore, $A$ and $B$ need to be transformed to fit the input parameters of the t-test."
   ],
   "metadata": {
    "collapsed": false,
    "pycharm": {
     "name": "#%% md\n"
    }
   }
  },
  {
   "cell_type": "code",
   "execution_count": 38,
   "outputs": [
    {
     "data": {
      "text/plain": "(4, 1400, 2)"
     },
     "execution_count": 38,
     "metadata": {},
     "output_type": "execute_result"
    }
   ],
   "source": [
    "mvA = np.moveaxis(np.array((sA.mean(axis=1), sA.var(axis=1))), 0, -1)\n",
    "mvB = np.moveaxis(np.array((sB.mean(axis=1), sB.var(axis=1))), 0, -1)\n",
    "\n",
    "mvA.shape"
   ],
   "metadata": {
    "collapsed": false,
    "pycharm": {
     "name": "#%%\n"
    }
   }
  },
  {
   "cell_type": "markdown",
   "source": [
    "### Step 4. TVLA\n",
    "\n",
    "Create the t-test, as it relies on the number of observations (not included with the mean and variance)."
   ],
   "metadata": {
    "collapsed": false,
    "pycharm": {
     "name": "#%% md\n"
    }
   }
  },
  {
   "cell_type": "code",
   "execution_count": 39,
   "outputs": [],
   "source": [
    "from src.tvla.t import make_t_test\n",
    "\n",
    "t_test = make_t_test(sample_pts)"
   ],
   "metadata": {
    "collapsed": false,
    "pycharm": {
     "name": "#%%\n"
    }
   }
  },
  {
   "cell_type": "markdown",
   "source": [
    "Apply TVLA using Welch's t-test."
   ],
   "metadata": {
    "collapsed": false,
    "pycharm": {
     "name": "#%% md\n"
    }
   }
  },
  {
   "cell_type": "code",
   "execution_count": 64,
   "outputs": [
    {
     "data": {
      "text/plain": "[(False, False),\n (False, False),\n (False, False),\n (False, False),\n (True, False),\n (True, False),\n (True, False),\n (True, False),\n (True, False),\n (True, False),\n (True, False),\n (True, False),\n (True, False),\n (True, False),\n (True, False),\n (True, False),\n (True, False),\n (True, True),\n (True, True),\n (True, True),\n (True, True),\n (True, True),\n (True, True),\n (True, True),\n (True, True),\n (True, True),\n (True, True),\n (True, True),\n (True, True),\n (True, True)]"
     },
     "execution_count": 64,
     "metadata": {},
     "output_type": "execute_result"
    }
   ],
   "source": [
    "from src.tvla.main import tvla\n",
    "\n",
    "[tvla(test=t_test, left=mvA, right=mvB, p=p) for p in range(30)]"
   ],
   "metadata": {
    "collapsed": false,
    "pycharm": {
     "name": "#%%\n"
    }
   }
  },
  {
   "cell_type": "code",
   "execution_count": 65,
   "outputs": [
    {
     "data": {
      "text/plain": "[(False, False),\n (False, False),\n (False, False),\n (False, False),\n (False, False),\n (False, False),\n (False, False),\n (True, True),\n (True, True),\n (True, True),\n (True, True),\n (True, True),\n (True, True),\n (True, True),\n (True, True),\n (True, True),\n (True, True),\n (True, True),\n (True, True),\n (True, True),\n (True, True),\n (True, True),\n (True, True),\n (True, True),\n (True, True),\n (True, True),\n (True, True),\n (True, True),\n (True, True),\n (True, True)]"
     },
     "execution_count": 65,
     "metadata": {},
     "output_type": "execute_result"
    }
   ],
   "source": [
    "[tvla(test=t_test, left=mvA, right=mvA, p=p) for p in range(30)]"
   ],
   "metadata": {
    "collapsed": false,
    "pycharm": {
     "name": "#%%\n"
    }
   }
  }
 ],
 "metadata": {
  "kernelspec": {
   "display_name": "Python 3",
   "language": "python",
   "name": "python3"
  },
  "language_info": {
   "codemirror_mode": {
    "name": "ipython",
    "version": 2
   },
   "file_extension": ".py",
   "mimetype": "text/x-python",
   "name": "python",
   "nbconvert_exporter": "python",
   "pygments_lexer": "ipython2",
   "version": "2.7.6"
  }
 },
 "nbformat": 4,
 "nbformat_minor": 0
}