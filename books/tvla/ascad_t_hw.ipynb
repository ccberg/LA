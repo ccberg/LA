{
 "cells": [
  {
   "cell_type": "markdown",
   "metadata": {
    "collapsed": true,
    "pycharm": {
     "name": "#%% md\n"
    }
   },
   "source": [
    "# Applying Welch's t-test on ASCAD"
   ]
  },
  {
   "cell_type": "code",
   "execution_count": 1,
   "outputs": [],
   "source": [
    "from tqdm import tqdm\n",
    "from src.data.slices import make_slice\n",
    "from src.data.smote import smote\n",
    "from src.data.traceloader import AscadRandomKey\n",
    "import numpy as np\n",
    "from src.tvla.main import tvla\n",
    "from src.tvla.t import make_t_test"
   ],
   "metadata": {
    "collapsed": false,
    "pycharm": {
     "name": "#%%\n"
    }
   }
  },
  {
   "cell_type": "code",
   "execution_count": 2,
   "outputs": [
    {
     "name": "stdout",
     "output_type": "stream",
     "text": [
      "['labels', 'labels_hw0', 'labels_mask', 'metadata', 'traces']\n",
      "['labels', 'labels_hw0', 'labels_mask', 'metadata', 'traces']\n",
      "['labels', 'labels_hw0', 'labels_mask', 'metadata', 'traces']\n",
      "['labels', 'labels_hw0', 'labels_mask', 'metadata', 'traces']\n",
      "['labels', 'labels_hw0', 'labels_mask', 'metadata', 'traces']\n",
      "['labels', 'labels_hw0', 'labels_mask', 'metadata', 'traces']\n"
     ]
    }
   ],
   "source": [
    "ascad = AscadRandomKey()"
   ],
   "metadata": {
    "collapsed": false,
    "pycharm": {
     "name": "#%%\n"
    }
   }
  },
  {
   "cell_type": "code",
   "execution_count": 3,
   "outputs": [
    {
     "data": {
      "text/plain": "((72891, 1400), (760, 1400))"
     },
     "execution_count": 3,
     "metadata": {},
     "output_type": "execute_result"
    }
   ],
   "source": [
    "ascad.default.profile.filter_by_hw(False).shape, ascad.default.profile.filter_by_key(0).shape"
   ],
   "metadata": {
    "collapsed": false,
    "pycharm": {
     "name": "#%%\n"
    }
   }
  },
  {
   "cell_type": "code",
   "execution_count": 4,
   "outputs": [
    {
     "name": "stderr",
     "output_type": "stream",
     "text": [
      "/home/berg/Documents/Afstudeer/LA/src/data/slices.py:11: VisibleDeprecationWarning: Creating an ndarray from ragged nested sequences (which is a list-or-tuple of lists-or-tuples-or ndarrays with different lengths or shapes) is deprecated. If you meant to do this, you must specify 'dtype=object' when creating the ndarray\n",
      "  return np.array([traces[s] for s in np.array_split(select, 4)])\n"
     ]
    }
   ],
   "source": [
    "P_VALUE = 5\n",
    "PT_OF_INTEREST = (50, 80)\n",
    "\n",
    "def prepare(make_test, samples, p=P_VALUE, poi=PT_OF_INTEREST):\n",
    "    slc = [make_slice(samples.filter_by_key(i)) for i in range(ascad.key_size)]\n",
    "    max_slice_size = max([len(s[0]) for s in slc])\n",
    "\n",
    "    slc_smote = np.array([smote(s, max_slice_size) for s in slc])\n",
    "\n",
    "    slc_mv = np.moveaxis(np.array((slc_smote.mean(axis=2), slc_smote.var(axis=2))), 0, -1)\n",
    "\n",
    "    test = make_test(max_slice_size)\n",
    "\n",
    "    return test, slc_mv[:,:,poi[0]:poi[1]]\n",
    "\n",
    "# masked = prepare(make_t_test, ascad.masked.profile)\n",
    "\n",
    "default = prepare(make_t_test, ascad.default.profile)\n",
    "random = prepare(make_t_test, ascad.random.profile)"
   ],
   "metadata": {
    "collapsed": false,
    "pycharm": {
     "name": "#%%\n"
    }
   }
  },
  {
   "cell_type": "code",
   "execution_count": 5,
   "outputs": [
    {
     "data": {
      "text/plain": "(True, False)"
     },
     "execution_count": 5,
     "metadata": {},
     "output_type": "execute_result"
    }
   ],
   "source": [
    "tvla(test=default[0], left=default[1][0], right=default[1][208], p=0.01)"
   ],
   "metadata": {
    "collapsed": false,
    "pycharm": {
     "name": "#%%\n"
    }
   }
  },
  {
   "cell_type": "code",
   "execution_count": 6,
   "outputs": [
    {
     "data": {
      "text/plain": "(True, False)"
     },
     "execution_count": 6,
     "metadata": {},
     "output_type": "execute_result"
    }
   ],
   "source": [
    "tvla(test=random[0], left=random[1][0], right=random[1][208], p=0.01)"
   ],
   "metadata": {
    "collapsed": false,
    "pycharm": {
     "name": "#%%\n"
    }
   }
  },
  {
   "cell_type": "code",
   "execution_count": 7,
   "outputs": [
    {
     "name": "stderr",
     "output_type": "stream",
     "text": [
      "Total ([2, 1720, 2330, 57658]):  95%|█████████▍| 242/256 [00:12<00:00, 19.26it/s]"
     ]
    },
    {
     "ename": "KeyboardInterrupt",
     "evalue": "",
     "output_type": "error",
     "traceback": [
      "\u001B[0;31m---------------------------------------------------------------------------\u001B[0m",
      "\u001B[0;31mKeyboardInterrupt\u001B[0m                         Traceback (most recent call last)",
      "\u001B[0;32m<ipython-input-7-314d231d2410>\u001B[0m in \u001B[0;36m<module>\u001B[0;34m\u001B[0m\n\u001B[1;32m     26\u001B[0m \u001B[0;34m\u001B[0m\u001B[0m\n\u001B[1;32m     27\u001B[0m \u001B[0;34m\u001B[0m\u001B[0m\n\u001B[0;32m---> 28\u001B[0;31m \u001B[0mres_default\u001B[0m \u001B[0;34m=\u001B[0m \u001B[0mkey_tvla\u001B[0m\u001B[0;34m(\u001B[0m\u001B[0;34m*\u001B[0m\u001B[0mdefault\u001B[0m\u001B[0;34m)\u001B[0m\u001B[0;34m\u001B[0m\u001B[0;34m\u001B[0m\u001B[0m\n\u001B[0m\u001B[1;32m     29\u001B[0m \u001B[0mres_random\u001B[0m \u001B[0;34m=\u001B[0m \u001B[0mkey_tvla\u001B[0m\u001B[0;34m(\u001B[0m\u001B[0;34m*\u001B[0m\u001B[0mrandom\u001B[0m\u001B[0;34m)\u001B[0m\u001B[0;34m\u001B[0m\u001B[0;34m\u001B[0m\u001B[0m\n\u001B[1;32m     30\u001B[0m \u001B[0;34m\u001B[0m\u001B[0m\n",
      "\u001B[0;32m<ipython-input-7-314d231d2410>\u001B[0m in \u001B[0;36mkey_tvla\u001B[0;34m(test, slices, key_size)\u001B[0m\n\u001B[1;32m     12\u001B[0m                 \u001B[0mla\u001B[0m \u001B[0;34m=\u001B[0m \u001B[0mtvla\u001B[0m\u001B[0;34m(\u001B[0m\u001B[0mtest\u001B[0m\u001B[0;34m=\u001B[0m\u001B[0mtest\u001B[0m\u001B[0;34m,\u001B[0m \u001B[0mleft\u001B[0m\u001B[0;34m=\u001B[0m\u001B[0ma\u001B[0m\u001B[0;34m,\u001B[0m \u001B[0mright\u001B[0m\u001B[0;34m=\u001B[0m\u001B[0mb\u001B[0m\u001B[0;34m,\u001B[0m \u001B[0mp\u001B[0m\u001B[0;34m=\u001B[0m\u001B[0;36m5\u001B[0m\u001B[0;34m)\u001B[0m\u001B[0;34m\u001B[0m\u001B[0;34m\u001B[0m\u001B[0m\n\u001B[1;32m     13\u001B[0m                 \u001B[0menc\u001B[0m \u001B[0;34m=\u001B[0m \u001B[0;36m2\u001B[0m \u001B[0;34m*\u001B[0m \u001B[0mla\u001B[0m\u001B[0;34m[\u001B[0m\u001B[0;36m0\u001B[0m\u001B[0;34m]\u001B[0m \u001B[0;34m+\u001B[0m \u001B[0mla\u001B[0m\u001B[0;34m[\u001B[0m\u001B[0;36m1\u001B[0m\u001B[0;34m]\u001B[0m\u001B[0;34m\u001B[0m\u001B[0;34m\u001B[0m\u001B[0m\n\u001B[0;32m---> 14\u001B[0;31m                 \u001B[0mres\u001B[0m\u001B[0;34m[\u001B[0m\u001B[0mi\u001B[0m\u001B[0;34m]\u001B[0m\u001B[0;34m[\u001B[0m\u001B[0mj\u001B[0m\u001B[0;34m]\u001B[0m \u001B[0;34m=\u001B[0m \u001B[0menc\u001B[0m\u001B[0;34m\u001B[0m\u001B[0;34m\u001B[0m\u001B[0m\n\u001B[0m\u001B[1;32m     15\u001B[0m \u001B[0;34m\u001B[0m\u001B[0m\n\u001B[1;32m     16\u001B[0m                 \u001B[0mff\u001B[0m \u001B[0;34m+=\u001B[0m \u001B[0menc\u001B[0m \u001B[0;34m==\u001B[0m \u001B[0;36m0\u001B[0m\u001B[0;34m\u001B[0m\u001B[0;34m\u001B[0m\u001B[0m\n",
      "\u001B[0;31mKeyboardInterrupt\u001B[0m: "
     ]
    }
   ],
   "source": [
    "def key_tvla(test, slices: np.array, key_size=ascad.key_size):\n",
    "    res = np.array(np.zeros((key_size, key_size)), dtype=int)\n",
    "    progress = tqdm(total=key_size)\n",
    "    ff, tf, ft, tt = 0, 0, 0, 0\n",
    "\n",
    "    for i in range(key_size):\n",
    "        a = slices[i]\n",
    "        for j in range(key_size):\n",
    "            b = slices[j]\n",
    "\n",
    "            if i != j:\n",
    "                la = tvla(test=test, left=a, right=b, p=5)\n",
    "                enc = 2 * la[0] + la[1]\n",
    "                res[i][j] = enc\n",
    "\n",
    "                ff += enc == 0\n",
    "                ft += enc == 1\n",
    "                tf += enc == 2\n",
    "                tt += enc == 3\n",
    "\n",
    "        progress.set_description(f\"Total ({[ff, ft, tf, tt]})\")\n",
    "        progress.update()\n",
    "\n",
    "    progress.close()\n",
    "    return res\n",
    "\n",
    "\n",
    "res_default = key_tvla(*default)\n",
    "res_random = key_tvla(*random)"
   ],
   "metadata": {
    "collapsed": false,
    "pycharm": {
     "name": "#%%\n"
    }
   }
  },
  {
   "cell_type": "code",
   "execution_count": null,
   "outputs": [],
   "source": [
    "res_default.sum()\n",
    "\n"
   ],
   "metadata": {
    "collapsed": false,
    "pycharm": {
     "name": "#%%\n"
    }
   }
  }
 ],
 "metadata": {
  "kernelspec": {
   "display_name": "Python 3",
   "language": "python",
   "name": "python3"
  },
  "language_info": {
   "codemirror_mode": {
    "name": "ipython",
    "version": 2
   },
   "file_extension": ".py",
   "mimetype": "text/x-python",
   "name": "python",
   "nbconvert_exporter": "python",
   "pygments_lexer": "ipython2",
   "version": "2.7.6"
  }
 },
 "nbformat": 4,
 "nbformat_minor": 0
}