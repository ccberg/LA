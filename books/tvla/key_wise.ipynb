{
 "cells": [
  {
   "cell_type": "markdown",
   "metadata": {
    "collapsed": true,
    "pycharm": {
     "name": "#%% md\n"
    }
   },
   "source": [
    "### Based on the paper from Goodwill et al."
   ]
  },
  {
   "cell_type": "code",
   "execution_count": 13,
   "metadata": {
    "pycharm": {
     "name": "#%%\n"
    }
   },
   "outputs": [],
   "source": [
    "import h5py\n",
    "import numpy as np\n",
    "import pandas as pd\n",
    "import seaborn as sns\n",
    "from tqdm import tqdm\n",
    "from src.data.ctable import cache_cts\n",
    "from src.data.ascad import AscadRandomKey\n",
    "\n",
    "from src.tools.cache import NBCache"
   ]
  },
  {
   "cell_type": "code",
   "execution_count": null,
   "outputs": [],
   "source": [
    "sns.set_style(\"whitegrid\")"
   ],
   "metadata": {
    "collapsed": false,
    "pycharm": {
     "name": "#%%\n"
    }
   }
  },
  {
   "cell_type": "code",
   "execution_count": null,
   "metadata": {
    "pycharm": {
     "name": "#%%\n"
    }
   },
   "outputs": [],
   "source": [
    "SMOTE_LEVEL = 500\n",
    "cache = NBCache(\"tvla/t_test\", version=f\"smote_{SMOTE_LEVEL}\")"
   ]
  },
  {
   "cell_type": "markdown",
   "metadata": {
    "pycharm": {
     "name": "#%% md\n"
    }
   },
   "source": [
    "## Application of TVLA on ASCAD"
   ]
  },
  {
   "cell_type": "code",
   "execution_count": null,
   "metadata": {
    "pycharm": {
     "name": "#%%\n"
    }
   },
   "outputs": [],
   "source": [
    "ascad = AscadRandomKey()"
   ]
  },
  {
   "cell_type": "markdown",
   "metadata": {},
   "source": [
    "### Create contingency tables from traces."
   ]
  },
  {
   "cell_type": "code",
   "execution_count": null,
   "metadata": {
    "pycharm": {
     "name": "#%%\n"
    }
   },
   "outputs": [],
   "source": [
    "ct_default = cache_cts(cache, \"ascad_default\", ascad.default.profile, SMOTE_LEVEL)\n",
    "ct_random = cache_cts(cache, \"ascad_random\", ascad.random.profile, SMOTE_LEVEL)\n",
    "ct_mask = cache_cts(cache, \"ascad_mask\", ascad.masked.profile, SMOTE_LEVEL)"
   ]
  },
  {
   "cell_type": "markdown",
   "metadata": {},
   "source": [
    "### Retrieve mean and variance from contingency tables."
   ]
  },
  {
   "cell_type": "code",
   "execution_count": null,
   "metadata": {
    "pycharm": {
     "name": "#%%\n"
    }
   },
   "outputs": [],
   "source": [
    "def get_num_observations(f: h5py.File):\n",
    "    return f[\"key_000\"][\"cat_0\"][\"slice_0\"][0].sum()\n",
    "\n",
    "def get_trace_len(f: h5py.File):\n",
    "    return len(f[\"key_000\"][\"cat_0\"][\"slice_0\"])\n",
    "\n",
    "def get_mv(f: h5py.File):\n",
    "    num_obs = get_num_observations(f)\n",
    "    slice_len = get_trace_len(f)\n",
    "\n",
    "    def convert(sample_pts: np.array):\n",
    "        arr = np.array([np.zeros(2, dtype=np.float128)] * slice_len)\n",
    "        for sp, sample_pt in enumerate(sample_pts):\n",
    "            arr[sp] = np.array(ctable_mv(sample_pt, num_obs))\n",
    "\n",
    "        return arr\n",
    "\n",
    "    return np.array(\n",
    "        [np.array(\n",
    "            [np.array(\n",
    "                [convert(f[k][c][s]) for s in f[k][c]])\n",
    "            for c in f[k]])\n",
    "        for k in tqdm(f, \"Retrieving mean and variance\")])\n",
    "\n",
    "mv_default = cache.np(\"mv_default\", get_mv, ct_default)\n",
    "mv_random = cache.np(\"mv_random\", get_mv, ct_random)\n",
    "mv_masked = cache.np(\"mv_masked\", get_mv, ct_mask)"
   ]
  },
  {
   "cell_type": "code",
   "execution_count": null,
   "metadata": {
    "pycharm": {
     "name": "#%%\n"
    }
   },
   "outputs": [],
   "source": [
    "len(ct_default[\"key_000\"][\"cat_0\"][\"slice_0\"])"
   ]
  },
  {
   "cell_type": "code",
   "execution_count": null,
   "metadata": {
    "pycharm": {
     "name": "#%%\n"
    }
   },
   "outputs": [],
   "source": [
    "# Number of observations does not vary on the SMOTEd data.\n",
    "obs_default = get_num_observations(ct_default)\n",
    "obs_mask = get_num_observations(ct_mask)\n",
    "obs_random = get_num_observations(ct_random)"
   ]
  },
  {
   "cell_type": "code",
   "execution_count": null,
   "metadata": {
    "pycharm": {
     "name": "#%%\n"
    }
   },
   "outputs": [],
   "source": [
    "cts = CTableStore(ascad.masked.profile, SMOTE_LEVEL, 2)\n",
    "\n",
    "test_sample_pt = np.array([i[0] for i in cts.slices[0][0][0]])\n",
    "test_sample_pt_smote = np.array([i[0] for i in np.array(smote_slices(cts.slices[0], 400)[0][0])])\n",
    "\n",
    "assert min(test_sample_pt) == min(test_sample_pt_smote)\n",
    "assert max(test_sample_pt) == max(test_sample_pt_smote)\n",
    "\n",
    "bc_spt = np.bincount(test_sample_pt + 128)[-5:]\n",
    "bc_spt_s = np.bincount(test_sample_pt_smote)[-5:]\n",
    "\n",
    "sns.lineplot(data=pd.DataFrame(zip(bc_spt, bc_spt_s), columns=[\"Source\", \"Smoted result\"]))"
   ]
  },
  {
   "cell_type": "code",
   "execution_count": null,
   "metadata": {
    "pycharm": {
     "name": "#%%\n"
    }
   },
   "outputs": [],
   "source": [
    "g = sns.lineplot(data=pd.DataFrame(mv_default[0][0][0], columns=[\"Mean\", \"Variance\"]))\n",
    "g.set(title=\"Mean and variance of first key, category and slice.\\n\")"
   ]
  },
  {
   "cell_type": "code",
   "execution_count": null,
   "metadata": {
    "pycharm": {
     "name": "#%%\n"
    }
   },
   "outputs": [],
   "source": [
    "def make_left_right(stat_moments):\n",
    "    def get_left(k):\n",
    "        return stat_moments[k][1][0]\n",
    "\n",
    "    def get_right(k):\n",
    "        return stat_moments[k][1][1]\n",
    "\n",
    "    return get_left, get_right\n",
    "\n",
    "def get_diff(stat_moments, key_range=range(256)):\n",
    "    left, right = make_left_right(stat_moments)\n",
    "\n",
    "    kr = key_range\n",
    "\n",
    "    dist_neq = [abs(left(i) - right(j)) for i in kr for j in kr if i != j]\n",
    "    dist_eq = [abs(left(i) - right(i)) for i in kr]\n",
    "\n",
    "    return np.mean(dist_neq, axis=0) - np.mean(dist_eq, axis=0)\n",
    "\n",
    "def plot_highest_diff(mvs, heat, title):\n",
    "    key_selected = get_max_index(heat)\n",
    "\n",
    "    mv_diff = pd.DataFrame({\"Mean\": np.moveaxis(get_diff(mvs, key_selected), 0, -1)[0]})\n",
    "    line_plot(mv_diff, title=title)\n",
    "    line_plot(mv_diff, xlim=POI, title=f\"{title} at PoI {POI}\")"
   ]
  },
  {
   "cell_type": "markdown",
   "metadata": {},
   "source": [
    "### Investigate dataset."
   ]
  },
  {
   "cell_type": "code",
   "execution_count": null,
   "metadata": {
    "pycharm": {
     "name": "#%%\n"
    }
   },
   "outputs": [],
   "source": [
    "POI = 59, 85\n",
    "# POI = 800, 830\n",
    "\n",
    "def get_num_moments(stat_moments):\n",
    "    return len(stat_moments[0][0][0][0])\n",
    "\n",
    "def get_heatmap(stat_moments):\n",
    "    num_moments = get_num_moments(stat_moments)\n",
    "    num_keys = len(stat_moments)\n",
    "\n",
    "    res = np.zeros((num_keys, num_keys, num_moments), dtype=np.float128)\n",
    "    for i in tqdm(range(num_keys)):\n",
    "        for j in range(num_keys):\n",
    "            if i == j:\n",
    "                res[i][j] = np.array([0] * num_moments)\n",
    "            else:\n",
    "                diff = get_diff(mv_default, [i, j])\n",
    "                diff[np.less(diff, 0)] = 0\n",
    "                # Difference ratio over the rest of the trace\n",
    "                res[i][j] = diff[POI[0]:POI[1]].sum(axis=0) / diff.sum(axis=0)\n",
    "\n",
    "    return res"
   ]
  },
  {
   "cell_type": "code",
   "execution_count": null,
   "metadata": {
    "pycharm": {
     "name": "#%%\n"
    }
   },
   "outputs": [],
   "source": [
    "class Tvla:\n",
    "    default, masked, random = [None] * 3\n",
    "\n",
    "class Heat(Tvla):\n",
    "    default = cache.np(\"heat_default\", get_heatmap, mv_default)\n",
    "    masked = cache.np(\"heat_masked\", get_heatmap, mv_masked)\n",
    "    random = cache.np(\"heat_random\", get_heatmap, mv_random)"
   ]
  },
  {
   "cell_type": "code",
   "execution_count": null,
   "metadata": {
    "pycharm": {
     "name": "#%%\n"
    }
   },
   "outputs": [],
   "source": [
    "def get_heat_moment(heatmap, moment):\n",
    "    return np.moveaxis(heatmap, 2, 0)[moment]\n",
    "\n",
    "def plot_heatmap(heatmap, title):\n",
    "    mean = get_heat_moment(heatmap, 0)\n",
    "    mean_norm = mean / mean.max()\n",
    "    sns.heatmap(data=mean_norm).set(title=title)\n",
    "\n",
    "plot_heatmap(Heat.default, f\"Heatmap of default trace set at PoI {POI}\")"
   ]
  },
  {
   "cell_type": "code",
   "execution_count": null,
   "metadata": {
    "pycharm": {
     "name": "#%%\n"
    }
   },
   "outputs": [],
   "source": [
    "def get_max_index(heatmap, moment=0):\n",
    "    heat_moment = get_heat_moment(heatmap, moment)\n",
    "    return np.unravel_index(heat_moment.argmax(), heat_moment.shape)\n",
    "\n",
    "get_max_index(Heat.default)"
   ]
  },
  {
   "cell_type": "markdown",
   "metadata": {
    "pycharm": {
     "name": "#%% md\n"
    }
   },
   "source": [
    "## Problem statement\n",
    "\n",
    "1. There is a first-order moment leakage visible in the standard ASCAD random-keys database.\n",
    "2. This leakage is not visible in the masked-key and shuffled variants of this database.\n",
    "3. The performance in terms of TP/FP rate is better for the masked-key and shuffled variants than it is for the\n",
    "standard database.\n",
    "4. It does not matter where the Point of Interest is located, while I would suspect that the performance varies for the\n",
    "location of the PoI and that performance would be better in areas with a high moment difference.\n",
    "\n",
    "#### Possible solutions (in order of likelihood):\n",
    "1. There is a bug in the TVLA method.\n",
    "2. There is a bug in the T-Test.\n",
    "3. There is something fundamentally flawed with my understanding of the ASCAD database."
   ]
  },
  {
   "cell_type": "markdown",
   "metadata": {
    "pycharm": {
     "name": "#%% md\n"
    }
   },
   "source": [
    "### Moment differences for each dataset.\n",
    "\n",
    "The moment difference calculated as follows:\n",
    "- Take keys $k_a$ and $k_b$, and their mean (first-order statistical moment) $\\mu_a$ and $\\mu_b$ per sample point.\n",
    "- The euclidean distance between means from equal key $\\eta = $ dist($\\mu_{a}, \\mu_b$) where $a = b$\n",
    "- The euclidean distance between means from different key $\\delta = $ dist($\\mu_{a}, \\mu_b$) where $a \\neq b$\n",
    "- Then the moment difference is $\\eta - \\delta$.\n",
    "\n",
    "A positive moment difference reflects larger differences between equal keys and lower differences between different\n",
    "keys, possibly indicating a leakage in this order of statistical moment."
   ]
  },
  {
   "cell_type": "code",
   "execution_count": null,
   "metadata": {
    "pycharm": {
     "name": "#%%\n"
    }
   },
   "outputs": [],
   "source": [
    "plot_highest_diff(mv_default, Heat.default, f\"ASCAD random-key for key bytes {get_max_index(Heat.default)}\\n\")\n",
    "plot_highest_diff(mv_masked, Heat.masked, f\"ASCAD random-key for 3rd key bytes {get_max_index(Heat.masked)}\\n\")\n",
    "plot_highest_diff(mv_random, Heat.random, f\"ASCAD random-key shuffled for key bytes {get_max_index(Heat.masked)}\\n\")"
   ]
  },
  {
   "cell_type": "code",
   "execution_count": null,
   "metadata": {
    "pycharm": {
     "name": "#%%\n"
    }
   },
   "outputs": [],
   "source": [
    "def tvla_poi(test, mvs, key_left, key_right, poi=(None, None), p=.99):\n",
    "    def at_poi(ts):\n",
    "        return np.moveaxis(np.array([t[poi[0]:poi[1]] for t in ts]), 2, 1)\n",
    "\n",
    "    mvs_left, mvs_right = mvs[key_left], mvs[key_right]\n",
    "\n",
    "    a = at_poi(mvs_left[0])\n",
    "    b = at_poi(mvs_right[1])\n",
    "\n",
    "    return tvla(test, a, b, p)\n",
    "\n",
    "# TODO strange value for p, isn't it?\n",
    "p_max = .6\n",
    "\n",
    "t_test = make_t_test(obs_default)\n",
    "\n",
    "tvla_default = tvla_poi(t_test, mv_default, *get_max_index(Heat.default), POI, p_max)\n",
    "tvla_masked = tvla_poi(t_test, mv_masked, *get_max_index(Heat.masked), POI, p_max)\n",
    "tvla_random = tvla_poi(t_test, mv_random, *get_max_index(Heat.random), POI, p_max)\n",
    "\n",
    "print(f\"TVLA result for default trace set: {tvla_default}\")\n",
    "print(f\"TVLA result for masked trace set: {tvla_masked}\")\n",
    "print(f\"TVLA result for random trace set: {tvla_random}\")"
   ]
  },
  {
   "cell_type": "code",
   "execution_count": null,
   "metadata": {
    "pycharm": {
     "name": "#%%\n"
    }
   },
   "outputs": [],
   "source": [
    "def tvla_poi_keys(test, data, poi=(None, None), p=.95):\n",
    "    num_keys = len(data)\n",
    "    res = np.zeros((num_keys, num_keys, 2))\n",
    "\n",
    "    for i in tqdm(range(num_keys)):\n",
    "        for j in range(num_keys):\n",
    "            res[i][j] = tvla_poi(test, data, i, j, poi, p)\n",
    "\n",
    "    return res\n",
    "\n",
    "def tvla_keys(test, data, p=.95):\n",
    "    num_keys = len(data)\n",
    "    res = np.zeros((num_keys, num_keys, 2))\n",
    "\n",
    "    for i in tqdm(range(num_keys)):\n",
    "        for j in range(num_keys):\n",
    "            res[i][j] = tvla(test, data[i][0], data[j][1], p)\n",
    "\n",
    "    return res"
   ]
  },
  {
   "cell_type": "code",
   "execution_count": null,
   "metadata": {
    "pycharm": {
     "name": "#%%\n"
    }
   },
   "outputs": [],
   "source": [
    "len(cts.tables)"
   ]
  },
  {
   "cell_type": "code",
   "execution_count": null,
   "metadata": {
    "pycharm": {
     "name": "#%%\n"
    }
   },
   "outputs": [],
   "source": [
    "def tables_at_poi(ctables, poi):\n",
    "    \"\"\"\n",
    "    Loading ctables for each key into memory uses ~16GiB of mem\n",
    "    \"\"\"\n",
    "    res = {}\n",
    "    for k, key in tqdm(enumerate(ctables), total=len(ctables)):\n",
    "        res[k] = {}\n",
    "        for c, cat in enumerate(ctables[key]):\n",
    "            res[k][c] = {}\n",
    "\n",
    "            res[k][c] = np.zeros((len(ctables[key][cat]), poi[1] - poi[0], ctables[key][cat][\"slice_0\"].shape[1]), dtype=int)\n",
    "            for s, slc in enumerate(ctables[key][cat]):\n",
    "                res[k][c][s] = np.array(ctables[key][cat][slc][poi[0]:poi[1]])\n",
    "    return res\n",
    "\n",
    "tap_default = tables_at_poi(ct_default, POI)\n",
    "tap_masked = tables_at_poi(ct_mask, POI)\n",
    "tap_random = tables_at_poi(ct_random, POI)\n",
    "\n",
    "# TODO tap to tvla for chi2"
   ]
  },
  {
   "cell_type": "code",
   "execution_count": null,
   "metadata": {
    "pycharm": {
     "name": "#%%\n"
    }
   },
   "outputs": [],
   "source": [
    "tvla(chi2, np.array(tap_default[0][0]), np.array(tap_default[208][1]), p=.99, debug=True)"
   ]
  },
  {
   "cell_type": "code",
   "execution_count": null,
   "metadata": {
    "pycharm": {
     "name": "#%%\n"
    }
   },
   "outputs": [],
   "source": [
    "sns.lineplot(data=tap_default[0][0][0][0:50].sum(axis=0))"
   ]
  },
  {
   "cell_type": "code",
   "execution_count": null,
   "metadata": {
    "pycharm": {
     "name": "#%%\n"
    }
   },
   "outputs": [],
   "source": [
    "PV_TVLA = .95\n",
    "PV_CHI2 = .99\n",
    "\n",
    "class TTest(Tvla):\n",
    "    default = cache.np(f\"tvla_default_{int(PV_TVLA*100)}\", tvla_poi_keys, t_test, mv_default, POI, PV_TVLA)\n",
    "    masked = cache.np(f\"tvla_masked_{int(PV_TVLA*100)}\", tvla_poi_keys, t_test, mv_masked, POI, PV_TVLA)\n",
    "    random = cache.np(f\"tvla_random_{int(PV_TVLA*100)}\", tvla_poi_keys, t_test, mv_random, POI, PV_TVLA)\n",
    "\n",
    "class Chi2(Tvla):\n",
    "    default = cache.np(f\"chi2_default_{int(PV_CHI2*100)}\", tvla_keys, chi2, tap_default, PV_CHI2)\n",
    "    masked = cache.np(f\"chi2_masked_{int(PV_CHI2*100)}\", tvla_keys, chi2, tap_masked, PV_CHI2)\n",
    "    random = cache.np(f\"chi2_random_{int(PV_CHI2*100)}\", tvla_keys, chi2, tap_random, PV_CHI2)"
   ]
  },
  {
   "cell_type": "code",
   "execution_count": null,
   "metadata": {
    "pycharm": {
     "name": "#%%\n"
    }
   },
   "outputs": [],
   "source": [
    "def analyse_tvla(tres: Tvla, heat: Tvla):\n",
    "    for a in get_custom_attributes(Tvla):\n",
    "        sums = np.zeros(7)\n",
    "        total = 0\n",
    "\n",
    "        result = getattr(tres, a)\n",
    "        heatmap = getattr(heat, a)\n",
    "\n",
    "        for k1, key_1 in enumerate(result):\n",
    "            for k2, key_2 in enumerate(key_1):\n",
    "                h = heatmap[k1][k2][0]\n",
    "                l, r = key_2\n",
    "\n",
    "                tp = l * (not r)\n",
    "                fp = r * (not l)\n",
    "                tph = h * tp\n",
    "                fph = h * fp\n",
    "\n",
    "                sums += np.array([*key_2, tp, fp, tph, fph, h])\n",
    "                total += 1\n",
    "\n",
    "        total = len(result) ** 2\n",
    "\n",
    "        title = f\" TVLA for {a} keys \"\n",
    "        print(f\"\\n{'=' * len(title)}\")\n",
    "        print(title)\n",
    "        print(f\"{'=' * len(title)}\\n\")\n",
    "\n",
    "        print(f\"For a total of {total} key combinations: \\n\")\n",
    "\n",
    "        print(f\"Left fails  {int(sums[0])} times.\")\n",
    "        print(f\"Right fails {int(sums[1])} times. \\n\")\n",
    "\n",
    "        print(f\"True positives:  {int(sums[2])}\")\n",
    "        print(f\"False positives: {int(sums[3])} \\n\")\n",
    "\n",
    "        print(f\"Average mean diff: {sums[6] / total:.4f}\")\n",
    "        print(f\"Average mean diff for True positives:  {sums[4] / sums[0]:.4f}\")\n",
    "        print(f\"Average mean diff for False positives: {sums[5] / (total - sums[0]):.4f} \\n\")"
   ]
  },
  {
   "cell_type": "markdown",
   "metadata": {
    "pycharm": {
     "name": "#%% md\n"
    }
   },
   "source": [
    "## $t$-test analysis on ASCAD"
   ]
  },
  {
   "cell_type": "code",
   "execution_count": null,
   "metadata": {
    "pycharm": {
     "name": "#%%\n"
    }
   },
   "outputs": [],
   "source": [
    "analyse_tvla(TTest, Heat)"
   ]
  },
  {
   "cell_type": "markdown",
   "metadata": {},
   "source": [
    "## $\\chi^2$-test analysis on ASCAD"
   ]
  },
  {
   "cell_type": "code",
   "execution_count": null,
   "metadata": {
    "pycharm": {
     "name": "#%%\n"
    }
   },
   "outputs": [],
   "source": [
    "analyse_tvla(Chi2, Heat)"
   ]
  },
  {
   "cell_type": "markdown",
   "metadata": {
    "pycharm": {
     "name": "#%% md\n"
    }
   },
   "source": [
    "## Next step\n",
    "\n",
    "Use mean difference in TVLA evaluation."
   ]
  },
  {
   "cell_type": "code",
   "execution_count": null,
   "metadata": {
    "pycharm": {
     "name": "#%%\n"
    }
   },
   "outputs": [],
   "source": [
    "def tvla_hot(mvs, heat, top_n=256, poi=POI):\n",
    "    heat = np.moveaxis(heat, 2, 0)[0]\n",
    "    hf = heat.flatten()\n",
    "    ixs = np.argpartition(hf, -top_n)[-top_n:]\n",
    "    sort_ixs = ixs[np.argsort(hf[ixs])]\n",
    "\n",
    "    acc = np.zeros((top_n, 2))\n",
    "    for ix_acc, ix_heat in enumerate(sort_ixs):\n",
    "        pt = np.unravel_index(ix_heat, heat.shape)\n",
    "        acc[ix_acc] = tvla_poi(t_test, mvs, *pt, poi, .95)\n",
    "\n",
    "    acc = np.moveaxis(acc, 0, 1)\n",
    "    dec = acc[0] - acc[1]\n",
    "\n",
    "    tp = (dec > 0).sum()\n",
    "    fp = (dec < 0).sum()\n",
    "\n",
    "    return tp, fp\n",
    "\n",
    "tvla_hot(mv_default, Heat.default)"
   ]
  },
  {
   "cell_type": "markdown",
   "metadata": {
    "pycharm": {
     "name": "#%% md\n"
    }
   },
   "source": [
    "TODO heat:\n",
    "- Use mean and variance from old PoI finder for quick heatmap generation.\n",
    "- Generate a heatmap for every sliding window step\n",
    "- Generate TVLA results by using a sliding window"
   ]
  }
 ],
 "metadata": {
  "kernelspec": {
   "display_name": "Python 3",
   "language": "python",
   "name": "python3"
  },
  "language_info": {
   "codemirror_mode": {
    "name": "ipython",
    "version": 3
   },
   "file_extension": ".py",
   "mimetype": "text/x-python",
   "name": "python",
   "nbconvert_exporter": "python",
   "pygments_lexer": "ipython3",
   "version": "3.8.5"
  }
 },
 "nbformat": 4,
 "nbformat_minor": 1
}